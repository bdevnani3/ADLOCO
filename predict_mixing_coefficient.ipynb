{
 "cells": [
  {
   "cell_type": "code",
   "execution_count": 2,
   "id": "13aa62de",
   "metadata": {},
   "outputs": [],
   "source": [
    "import pickle\n",
    "import numpy as np\n",
    "import torch\n",
    "from utils import *\n",
    "from tqdm.notebook import trange, tqdm\n",
    "import random\n",
    "import json\n",
    "import seaborn as sns\n",
    "from sklearn.metrics import top_k_accuracy_score, confusion_matrix\n",
    "import pandas as pd\n",
    "from classes_synsets import SYNS"
   ]
  },
  {
   "cell_type": "code",
   "execution_count": 3,
   "id": "e86caa3f",
   "metadata": {},
   "outputs": [],
   "source": [
    "torch.manual_seed(0)\n",
    "random.seed(0)\n",
    "np.random.seed(0)\n"
   ]
  },
  {
   "cell_type": "code",
   "execution_count": 4,
   "id": "3b1d6a0c",
   "metadata": {},
   "outputs": [],
   "source": [
    "# Load Test Data\n",
    "\n",
    "image_embeddings = torch.load(\"/nethome/bdevnani3/flash1/long_tail_lang/embedding_datasets/clip/LT_Dataset_test/image_embeddings.pt\").cpu()\n",
    "labels = torch.load(\"/nethome/bdevnani3/flash1/long_tail_lang/embedding_datasets/clip/LT_Dataset_test/labels.pt\").cpu()\n",
    "\n",
    "image_embeddings_val = torch.load(\"/nethome/bdevnani3/flash1/long_tail_lang/embedding_datasets/clip/LT_Dataset_val/image_embeddings.pt\").cpu()\n",
    "labels_val = torch.load(\"/nethome/bdevnani3/flash1/long_tail_lang/embedding_datasets/clip/LT_Dataset_val/labels.pt\").cpu()\n",
    "\n",
    "image_embeddings_train = torch.load(\"/nethome/bdevnani3/flash1/long_tail_lang/embedding_datasets/clip/LT_Dataset_train/image_embeddings.pt\").cpu()\n",
    "labels_train = torch.load(\"/nethome/bdevnani3/flash1/long_tail_lang/embedding_datasets/clip/LT_Dataset_train/labels.pt\").cpu()\n"
   ]
  },
  {
   "cell_type": "code",
   "execution_count": 5,
   "id": "38361006",
   "metadata": {},
   "outputs": [
    {
     "name": "stdout",
     "output_type": "stream",
     "text": [
      "torch.Size([10000, 1024]) torch.Size([10000])\n"
     ]
    }
   ],
   "source": [
    "inds = np.array(random.choices(range(50000), k=10000))\n",
    "\n",
    "small_ie = image_embeddings[inds]\n",
    "small_labels = labels[inds]\n",
    "print(small_ie.shape, small_labels.shape)"
   ]
  },
  {
   "cell_type": "code",
   "execution_count": 6,
   "id": "0f98fe9b",
   "metadata": {},
   "outputs": [],
   "source": [
    "# Load Model\n",
    "\n",
    "clf = pickle.load(open(\"results_sklearn/config_convex_comb_1/13-Sep-2022-00-50-56/final_model.sav\", 'rb'))"
   ]
  },
  {
   "cell_type": "code",
   "execution_count": 7,
   "id": "eaa2e5c5",
   "metadata": {},
   "outputs": [],
   "source": [
    "from classes import CLASSES, GENERIC_PROMPT_COLLECTIONS\n",
    "import torch.nn as nn\n",
    "from clip import clip\n",
    "import os\n",
    "import torch\n",
    "\n",
    "\n",
    "# Initialize CLIP models \n",
    "class TextEncoder(nn.Module):\n",
    "    def __init__(self, clip_model):\n",
    "        super().__init__()\n",
    "        self.transformer = clip_model.transformer\n",
    "        self.positional_embedding = clip_model.positional_embedding\n",
    "        self.ln_final = clip_model.ln_final\n",
    "        self.text_projection = clip_model.text_projection\n",
    "        self.dtype = clip_model.dtype\n",
    "        self.token_embedding = clip_model.token_embedding\n",
    "\n",
    "    def forward(self, text):\n",
    "        x = self.token_embedding(text).type(self.dtype)  # [batch_size, n_ctx, d_model]\n",
    "\n",
    "        x = x + self.positional_embedding.type(self.dtype)\n",
    "        x = x.permute(1, 0, 2)  # NLD -> LND\n",
    "        x = self.transformer(x)\n",
    "        x = x.permute(1, 0, 2)  # LND -> NLD\n",
    "        x = self.ln_final(x).type(self.dtype)\n",
    "        x = x[torch.arange(x.shape[0]), text.argmax(dim=-1)] @ self.text_projection\n",
    "\n",
    "        return x\n",
    "\n",
    "def load_clip_to_cpu(visual_backbone):\n",
    "    backbone_name = visual_backbone\n",
    "    url = clip._MODELS[backbone_name]\n",
    "    model_path = clip._download(url, os.path.expanduser(\"~/.cache/clip\"))\n",
    "\n",
    "    try:\n",
    "        # loading JIT archive\n",
    "        model = torch.jit.load(model_path, map_location=\"cpu\").eval()\n",
    "        state_dict = None\n",
    "\n",
    "    except RuntimeError:\n",
    "        state_dict = torch.load(model_path, map_location=\"cpu\")\n",
    "\n",
    "    model = clip.build_model(state_dict or model.state_dict())\n",
    "\n",
    "    return model\n",
    "\n",
    "clip_model = load_clip_to_cpu(\"RN50\")\n",
    "\n",
    "visual_model = torch.nn.DataParallel(clip_model.visual).cuda()\n",
    "\n",
    "text_model = TextEncoder(clip_model)\n",
    "text_model = torch.nn.DataParallel(text_model).cuda()"
   ]
  },
  {
   "cell_type": "code",
   "execution_count": 8,
   "id": "753857d5",
   "metadata": {},
   "outputs": [
    {
     "data": {
      "application/vnd.jupyter.widget-view+json": {
       "model_id": "8ab9fca4eeec4fada0c8c7af54b8e7a7",
       "version_major": 2,
       "version_minor": 0
      },
      "text/plain": [
       "  0%|          | 0/1000 [00:00<?, ?it/s]"
      ]
     },
     "metadata": {},
     "output_type": "display_data"
    }
   ],
   "source": [
    "all_labels_text = {}\n",
    "text_embs = []\n",
    "text_labels = []\n",
    "with torch.no_grad():\n",
    "    for label in tqdm(range(1000)):\n",
    "        all_labels_text[label] = []\n",
    "\n",
    "        templates = [\"a photo of a {}.\"]\n",
    "        c = np.array(CLASSES)[label]\n",
    "            \n",
    "        texts = clip.tokenize([template.format(c) for template in templates]) \n",
    "        texts = texts.cuda()\n",
    "        zeroshot_weights = clip_model.encode_text(texts).float()\n",
    "        zeroshot_weights = zeroshot_weights / zeroshot_weights.norm(\n",
    "            dim=-1, keepdim=True\n",
    "        )\n",
    "        all_labels_text[label].append(zeroshot_weights)\n",
    "        text_embs.append(zeroshot_weights)\n",
    "        for i in range(len(templates)):\n",
    "            text_labels.append(label)\n",
    "        \n",
    "text_embs = torch.cat(text_embs)"
   ]
  },
  {
   "cell_type": "code",
   "execution_count": 9,
   "id": "71073625",
   "metadata": {},
   "outputs": [
    {
     "data": {
      "text/plain": [
       "torch.Size([1000, 1024])"
      ]
     },
     "execution_count": 9,
     "metadata": {},
     "output_type": "execute_result"
    }
   ],
   "source": [
    "text_embs.shape"
   ]
  },
  {
   "cell_type": "code",
   "execution_count": 10,
   "id": "0c305f91",
   "metadata": {},
   "outputs": [],
   "source": [
    "# Class frequencies\n",
    "\n",
    "freqs = json.load(open(\"/nethome/bdevnani3/flash1/long_tail_lang/embedding_datasets/class_frequencies.json\"))\n",
    "freqs = {int(k):v for k,v in freqs.items()}"
   ]
  },
  {
   "cell_type": "code",
   "execution_count": 11,
   "id": "4e8b3cd7",
   "metadata": {},
   "outputs": [
    {
     "data": {
      "text/plain": [
       "{91: 81,\n",
       " 129: 161,\n",
       " 683: 77,\n",
       " 830: 343,\n",
       " 450: 48,\n",
       " 593: 292,\n",
       " 566: 1173,\n",
       " 600: 169,\n",
       " 86: 1280,\n",
       " 559: 310,\n",
       " 83: 135,\n",
       " 104: 61,\n",
       " 466: 152,\n",
       " 335: 109,\n",
       " 367: 128,\n",
       " 773: 175,\n",
       " 52: 189,\n",
       " 3: 352,\n",
       " 347: 198,\n",
       " 616: 354,\n",
       " 387: 231,\n",
       " 658: 253,\n",
       " 486: 127,\n",
       " 984: 714,\n",
       " 947: 284,\n",
       " 571: 340,\n",
       " 907: 216,\n",
       " 262: 102,\n",
       " 828: 229,\n",
       " 684: 42,\n",
       " 417: 1053,\n",
       " 490: 652,\n",
       " 601: 683,\n",
       " 879: 134,\n",
       " 309: 306,\n",
       " 81: 93,\n",
       " 585: 101,\n",
       " 236: 29,\n",
       " 31: 83,\n",
       " 770: 129,\n",
       " 987: 233,\n",
       " 191: 244,\n",
       " 395: 26,\n",
       " 637: 100,\n",
       " 870: 642,\n",
       " 715: 194,\n",
       " 112: 393,\n",
       " 2: 516,\n",
       " 363: 169,\n",
       " 388: 171,\n",
       " 97: 819,\n",
       " 737: 472,\n",
       " 899: 272,\n",
       " 929: 534,\n",
       " 844: 175,\n",
       " 922: 284,\n",
       " 375: 232,\n",
       " 979: 98,\n",
       " 23: 171,\n",
       " 499: 22,\n",
       " 319: 290,\n",
       " 209: 43,\n",
       " 228: 41,\n",
       " 765: 290,\n",
       " 913: 215,\n",
       " 725: 454,\n",
       " 291: 53,\n",
       " 33: 56,\n",
       " 787: 271,\n",
       " 318: 611,\n",
       " 783: 229,\n",
       " 970: 72,\n",
       " 680: 61,\n",
       " 875: 459,\n",
       " 464: 224,\n",
       " 365: 158,\n",
       " 934: 141,\n",
       " 628: 140,\n",
       " 631: 57,\n",
       " 554: 382,\n",
       " 30: 287,\n",
       " 451: 137,\n",
       " 956: 80,\n",
       " 134: 285,\n",
       " 638: 90,\n",
       " 107: 133,\n",
       " 449: 236,\n",
       " 194: 106,\n",
       " 578: 252,\n",
       " 75: 58,\n",
       " 744: 56,\n",
       " 978: 217,\n",
       " 687: 264,\n",
       " 976: 625,\n",
       " 662: 104,\n",
       " 788: 221,\n",
       " 886: 274,\n",
       " 150: 126,\n",
       " 891: 104,\n",
       " 89: 502,\n",
       " 674: 1246,\n",
       " 838: 64,\n",
       " 475: 186,\n",
       " 99: 24,\n",
       " 498: 6,\n",
       " 820: 166,\n",
       " 46: 346,\n",
       " 205: 125,\n",
       " 580: 239,\n",
       " 958: 113,\n",
       " 923: 172,\n",
       " 920: 323,\n",
       " 549: 168,\n",
       " 372: 349,\n",
       " 480: 288,\n",
       " 965: 124,\n",
       " 460: 333,\n",
       " 24: 114,\n",
       " 819: 188,\n",
       " 444: 480,\n",
       " 148: 189,\n",
       " 402: 679,\n",
       " 164: 81,\n",
       " 973: 95,\n",
       " 340: 283,\n",
       " 757: 137,\n",
       " 640: 88,\n",
       " 847: 134,\n",
       " 624: 310,\n",
       " 552: 70,\n",
       " 20: 87,\n",
       " 933: 418,\n",
       " 858: 157,\n",
       " 454: 511,\n",
       " 591: 253,\n",
       " 80: 126,\n",
       " 247: 163,\n",
       " 577: 46,\n",
       " 173: 469,\n",
       " 362: 145,\n",
       " 60: 34,\n",
       " 924: 398,\n",
       " 802: 134,\n",
       " 520: 162,\n",
       " 991: 150,\n",
       " 503: 105,\n",
       " 408: 275,\n",
       " 536: 110,\n",
       " 545: 422,\n",
       " 497: 45,\n",
       " 587: 278,\n",
       " 672: 138,\n",
       " 627: 119,\n",
       " 551: 83,\n",
       " 345: 134,\n",
       " 831: 95,\n",
       " 128: 79,\n",
       " 586: 130,\n",
       " 834: 285,\n",
       " 390: 108,\n",
       " 280: 241,\n",
       " 531: 100,\n",
       " 346: 167,\n",
       " 413: 411,\n",
       " 930: 43,\n",
       " 72: 428,\n",
       " 404: 257,\n",
       " 108: 128,\n",
       " 442: 165,\n",
       " 553: 47,\n",
       " 803: 211,\n",
       " 597: 305,\n",
       " 613: 413,\n",
       " 304: 566,\n",
       " 981: 34,\n",
       " 882: 456,\n",
       " 197: 59,\n",
       " 357: 127,\n",
       " 338: 174,\n",
       " 755: 787,\n",
       " 989: 63,\n",
       " 509: 220,\n",
       " 386: 85,\n",
       " 391: 96,\n",
       " 942: 80,\n",
       " 21: 181,\n",
       " 26: 134,\n",
       " 775: 775,\n",
       " 176: 199,\n",
       " 589: 220,\n",
       " 235: 281,\n",
       " 222: 56,\n",
       " 272: 167,\n",
       " 271: 81,\n",
       " 64: 31,\n",
       " 106: 116,\n",
       " 177: 137,\n",
       " 630: 63,\n",
       " 938: 20,\n",
       " 371: 391,\n",
       " 411: 47,\n",
       " 289: 96,\n",
       " 85: 281,\n",
       " 931: 38,\n",
       " 655: 115,\n",
       " 801: 85,\n",
       " 361: 143,\n",
       " 728: 66,\n",
       " 754: 80,\n",
       " 488: 123,\n",
       " 519: 619,\n",
       " 779: 137,\n",
       " 457: 33,\n",
       " 286: 12,\n",
       " 564: 268,\n",
       " 348: 149,\n",
       " 555: 148,\n",
       " 885: 102,\n",
       " 752: 194,\n",
       " 117: 604,\n",
       " 6: 47,\n",
       " 476: 188,\n",
       " 633: 10,\n",
       " 603: 376,\n",
       " 102: 14,\n",
       " 253: 167,\n",
       " 605: 39,\n",
       " 207: 119,\n",
       " 341: 140,\n",
       " 273: 28,\n",
       " 807: 205,\n",
       " 968: 258,\n",
       " 699: 165,\n",
       " 182: 367,\n",
       " 988: 119,\n",
       " 760: 133,\n",
       " 872: 107,\n",
       " 892: 112,\n",
       " 352: 194,\n",
       " 713: 297,\n",
       " 565: 202,\n",
       " 774: 43,\n",
       " 37: 39,\n",
       " 898: 173,\n",
       " 50: 376,\n",
       " 469: 114,\n",
       " 990: 236,\n",
       " 227: 100,\n",
       " 850: 46,\n",
       " 818: 242,\n",
       " 414: 159,\n",
       " 270: 303,\n",
       " 219: 496,\n",
       " 296: 330,\n",
       " 269: 132,\n",
       " 639: 64,\n",
       " 22: 177,\n",
       " 257: 282,\n",
       " 537: 191,\n",
       " 420: 68,\n",
       " 652: 204,\n",
       " 914: 85,\n",
       " 824: 189,\n",
       " 940: 45,\n",
       " 28: 279,\n",
       " 889: 50,\n",
       " 54: 69,\n",
       " 76: 80,\n",
       " 821: 105,\n",
       " 68: 349,\n",
       " 485: 346,\n",
       " 517: 38,\n",
       " 264: 60,\n",
       " 962: 17,\n",
       " 178: 69,\n",
       " 950: 175,\n",
       " 679: 167,\n",
       " 333: 1121,\n",
       " 878: 31,\n",
       " 688: 59,\n",
       " 330: 42,\n",
       " 548: 507,\n",
       " 71: 36,\n",
       " 896: 170,\n",
       " 761: 34,\n",
       " 618: 72,\n",
       " 694: 481,\n",
       " 895: 182,\n",
       " 583: 112,\n",
       " 709: 182,\n",
       " 966: 23,\n",
       " 84: 226,\n",
       " 515: 142,\n",
       " 657: 72,\n",
       " 649: 29,\n",
       " 374: 123,\n",
       " 557: 164,\n",
       " 109: 66,\n",
       " 746: 392,\n",
       " 794: 197,\n",
       " 732: 131,\n",
       " 419: 184,\n",
       " 212: 114,\n",
       " 336: 133,\n",
       " 595: 179,\n",
       " 103: 111,\n",
       " 213: 171,\n",
       " 690: 49,\n",
       " 18: 392,\n",
       " 496: 178,\n",
       " 495: 66,\n",
       " 93: 222,\n",
       " 471: 82,\n",
       " 894: 28,\n",
       " 278: 310,\n",
       " 837: 84,\n",
       " 846: 60,\n",
       " 126: 246,\n",
       " 156: 245,\n",
       " 560: 381,\n",
       " 903: 138,\n",
       " 530: 94,\n",
       " 862: 192,\n",
       " 25: 56,\n",
       " 57: 173,\n",
       " 327: 332,\n",
       " 805: 328,\n",
       " 208: 85,\n",
       " 919: 66,\n",
       " 254: 45,\n",
       " 36: 68,\n",
       " 644: 85,\n",
       " 642: 90,\n",
       " 206: 110,\n",
       " 743: 299,\n",
       " 789: 27,\n",
       " 113: 47,\n",
       " 816: 218,\n",
       " 137: 178,\n",
       " 98: 74,\n",
       " 753: 81,\n",
       " 281: 123,\n",
       " 518: 231,\n",
       " 329: 446,\n",
       " 569: 125,\n",
       " 244: 172,\n",
       " 897: 76,\n",
       " 645: 82,\n",
       " 602: 98,\n",
       " 768: 164,\n",
       " 149: 37,\n",
       " 546: 92,\n",
       " 550: 104,\n",
       " 201: 214,\n",
       " 183: 49,\n",
       " 302: 208,\n",
       " 836: 60,\n",
       " 944: 151,\n",
       " 312: 50,\n",
       " 604: 125,\n",
       " 762: 174,\n",
       " 827: 247,\n",
       " 131: 370,\n",
       " 953: 99,\n",
       " 145: 87,\n",
       " 324: 81,\n",
       " 945: 94,\n",
       " 928: 53,\n",
       " 314: 87,\n",
       " 786: 126,\n",
       " 487: 232,\n",
       " 763: 315,\n",
       " 473: 155,\n",
       " 453: 147,\n",
       " 723: 63,\n",
       " 599: 65,\n",
       " 795: 82,\n",
       " 172: 272,\n",
       " 881: 25,\n",
       " 799: 130,\n",
       " 171: 35,\n",
       " 804: 21,\n",
       " 561: 174,\n",
       " 608: 298,\n",
       " 951: 472,\n",
       " 398: 372,\n",
       " 880: 252,\n",
       " 856: 114,\n",
       " 643: 36,\n",
       " 8: 150,\n",
       " 501: 102,\n",
       " 323: 79,\n",
       " 685: 113,\n",
       " 540: 153,\n",
       " 493: 203,\n",
       " 275: 72,\n",
       " 175: 100,\n",
       " 443: 112,\n",
       " 806: 302,\n",
       " 261: 137,\n",
       " 295: 43,\n",
       " 910: 116,\n",
       " 456: 86,\n",
       " 532: 330,\n",
       " 541: 84,\n",
       " 232: 50,\n",
       " 378: 137,\n",
       " 29: 248,\n",
       " 121: 148,\n",
       " 399: 34,\n",
       " 977: 73,\n",
       " 326: 77,\n",
       " 132: 197,\n",
       " 871: 31,\n",
       " 315: 143,\n",
       " 810: 102,\n",
       " 310: 67,\n",
       " 410: 22,\n",
       " 961: 172,\n",
       " 423: 150,\n",
       " 957: 32,\n",
       " 832: 146,\n",
       " 350: 122,\n",
       " 677: 75,\n",
       " 308: 58,\n",
       " 292: 53,\n",
       " 749: 31,\n",
       " 491: 6,\n",
       " 793: 85,\n",
       " 733: 137,\n",
       " 874: 69,\n",
       " 706: 73,\n",
       " 468: 186,\n",
       " 767: 263,\n",
       " 343: 15,\n",
       " 611: 69,\n",
       " 678: 108,\n",
       " 855: 143,\n",
       " 781: 87,\n",
       " 441: 152,\n",
       " 667: 128,\n",
       " 217: 39,\n",
       " 817: 128,\n",
       " 663: 38,\n",
       " 288: 71,\n",
       " 163: 47,\n",
       " 943: 67,\n",
       " 435: 157,\n",
       " 160: 69,\n",
       " 995: 167,\n",
       " 418: 111,\n",
       " 516: 82,\n",
       " 316: 37,\n",
       " 946: 103,\n",
       " 439: 58,\n",
       " 668: 170,\n",
       " 675: 107,\n",
       " 890: 140,\n",
       " 648: 86,\n",
       " 462: 48,\n",
       " 215: 54,\n",
       " 265: 14,\n",
       " 492: 154,\n",
       " 67: 297,\n",
       " 229: 138,\n",
       " 412: 118,\n",
       " 665: 296,\n",
       " 424: 10,\n",
       " 373: 83,\n",
       " 739: 183,\n",
       " 740: 32,\n",
       " 146: 86,\n",
       " 769: 86,\n",
       " 906: 110,\n",
       " 9: 50,\n",
       " 722: 82,\n",
       " 380: 73,\n",
       " 751: 83,\n",
       " 750: 32,\n",
       " 980: 45,\n",
       " 711: 283,\n",
       " 693: 33,\n",
       " 133: 155,\n",
       " 198: 90,\n",
       " 861: 75,\n",
       " 203: 50,\n",
       " 220: 91,\n",
       " 422: 41,\n",
       " 477: 134,\n",
       " 161: 119,\n",
       " 392: 101,\n",
       " 527: 55,\n",
       " 446: 43,\n",
       " 225: 48,\n",
       " 90: 186,\n",
       " 14: 121,\n",
       " 154: 77,\n",
       " 101: 93,\n",
       " 811: 93,\n",
       " 284: 186,\n",
       " 508: 122,\n",
       " 430: 38,\n",
       " 632: 10,\n",
       " 542: 16,\n",
       " 614: 19,\n",
       " 320: 170,\n",
       " 53: 96,\n",
       " 325: 128,\n",
       " 506: 42,\n",
       " 528: 116,\n",
       " 839: 28,\n",
       " 524: 71,\n",
       " 353: 149,\n",
       " 368: 96,\n",
       " 691: 29,\n",
       " 224: 117,\n",
       " 415: 124,\n",
       " 73: 10,\n",
       " 704: 62,\n",
       " 724: 103,\n",
       " 300: 43,\n",
       " 276: 187,\n",
       " 241: 127,\n",
       " 983: 39,\n",
       " 396: 165,\n",
       " 311: 119,\n",
       " 465: 108,\n",
       " 65: 8,\n",
       " 623: 102,\n",
       " 62: 57,\n",
       " 354: 23,\n",
       " 911: 16,\n",
       " 394: 122,\n",
       " 507: 20,\n",
       " 42: 236,\n",
       " 1: 250,\n",
       " 187: 75,\n",
       " 445: 91,\n",
       " 952: 133,\n",
       " 857: 101,\n",
       " 406: 83,\n",
       " 686: 103,\n",
       " 796: 76,\n",
       " 233: 51,\n",
       " 969: 108,\n",
       " 16: 232,\n",
       " 594: 317,\n",
       " 884: 80,\n",
       " 925: 110,\n",
       " 258: 71,\n",
       " 95: 28,\n",
       " 204: 18,\n",
       " 4: 143,\n",
       " 716: 26,\n",
       " 798: 63,\n",
       " 669: 15,\n",
       " 61: 150,\n",
       " 32: 65,\n",
       " 972: 165,\n",
       " 218: 86,\n",
       " 671: 130,\n",
       " 833: 57,\n",
       " 543: 55,\n",
       " 277: 20,\n",
       " 226: 62,\n",
       " 513: 75,\n",
       " 168: 112,\n",
       " 570: 51,\n",
       " 581: 58,\n",
       " 982: 41,\n",
       " 696: 45,\n",
       " 360: 49,\n",
       " 522: 134,\n",
       " 216: 87,\n",
       " 700: 82,\n",
       " 195: 77,\n",
       " 202: 43,\n",
       " 636: 54,\n",
       " 955: 67,\n",
       " 692: 33,\n",
       " 135: 59,\n",
       " 960: 57,\n",
       " 440: 25,\n",
       " 51: 27,\n",
       " 905: 116,\n",
       " 294: 62,\n",
       " 908: 42,\n",
       " 165: 100,\n",
       " 864: 65,\n",
       " 901: 102,\n",
       " 790: 28,\n",
       " 609: 132,\n",
       " 122: 26,\n",
       " 481: 39,\n",
       " 240: 126,\n",
       " 859: 70,\n",
       " 926: 56,\n",
       " 452: 48,\n",
       " 742: 43,\n",
       " 88: 38,\n",
       " 437: 141,\n",
       " 843: 39,\n",
       " 158: 100,\n",
       " 221: 52,\n",
       " 915: 155,\n",
       " 355: 156,\n",
       " 246: 90,\n",
       " 40: 80,\n",
       " 967: 55,\n",
       " 48: 201,\n",
       " 251: 81,\n",
       " 647: 64,\n",
       " 59: 34,\n",
       " 654: 209,\n",
       " 250: 181,\n",
       " 718: 14,\n",
       " 100: 10,\n",
       " 479: 121,\n",
       " 114: 179,\n",
       " 710: 99,\n",
       " 245: 119,\n",
       " 698: 38,\n",
       " 279: 137,\n",
       " 584: 22,\n",
       " 489: 81,\n",
       " 196: 10,\n",
       " 426: 109,\n",
       " 243: 56,\n",
       " 331: 122,\n",
       " 547: 25,\n",
       " 138: 43,\n",
       " 567: 110,\n",
       " 140: 11,\n",
       " 266: 66,\n",
       " 151: 53,\n",
       " 592: 39,\n",
       " 629: 75,\n",
       " 69: 72,\n",
       " 447: 113,\n",
       " 916: 19,\n",
       " 622: 72,\n",
       " 119: 240,\n",
       " 118: 72,\n",
       " 70: 35,\n",
       " 785: 161,\n",
       " 166: 25,\n",
       " 120: 22,\n",
       " 167: 35,\n",
       " 918: 36,\n",
       " 776: 11,\n",
       " 313: 51,\n",
       " 159: 37,\n",
       " 290: 71,\n",
       " 529: 35,\n",
       " 534: 87,\n",
       " 641: 34,\n",
       " 344: 30,\n",
       " 729: 93,\n",
       " 868: 31,\n",
       " 876: 238,\n",
       " 705: 72,\n",
       " 936: 36,\n",
       " 974: 52,\n",
       " 612: 80,\n",
       " 263: 97,\n",
       " 717: 141,\n",
       " 130: 78,\n",
       " 179: 42,\n",
       " 735: 66,\n",
       " 193: 23,\n",
       " 66: 44,\n",
       " 562: 92,\n",
       " 653: 27,\n",
       " 407: 23,\n",
       " 400: 31,\n",
       " 721: 67,\n",
       " 619: 86,\n",
       " 141: 23,\n",
       " 433: 82,\n",
       " 573: 209,\n",
       " 483: 32,\n",
       " 401: 63,\n",
       " 814: 41,\n",
       " 504: 44,\n",
       " 741: 14,\n",
       " 849: 54,\n",
       " 986: 141,\n",
       " 500: 85,\n",
       " 941: 18,\n",
       " 383: 65,\n",
       " 660: 10,\n",
       " 777: 54,\n",
       " 377: 51,\n",
       " 185: 38,\n",
       " 812: 111,\n",
       " 625: 21,\n",
       " 299: 42,\n",
       " 184: 73,\n",
       " 322: 19,\n",
       " 116: 79,\n",
       " 74: 137,\n",
       " 617: 120,\n",
       " 745: 40,\n",
       " 533: 54,\n",
       " 791: 36,\n",
       " 260: 12,\n",
       " 620: 50,\n",
       " 948: 180,\n",
       " 429: 34,\n",
       " 661: 33,\n",
       " 535: 143,\n",
       " 139: 75,\n",
       " 502: 44,\n",
       " 147: 105,\n",
       " 416: 45,\n",
       " 186: 56,\n",
       " 49: 29,\n",
       " 115: 124,\n",
       " 55: 157,\n",
       " 576: 14,\n",
       " 670: 66,\n",
       " 526: 86,\n",
       " 998: 21,\n",
       " 867: 9,\n",
       " 321: 114,\n",
       " 784: 96,\n",
       " 111: 50,\n",
       " 43: 103,\n",
       " 985: 143,\n",
       " 192: 305,\n",
       " 188: 89,\n",
       " 558: 30,\n",
       " 366: 87,\n",
       " 389: 28,\n",
       " 298: 11,\n",
       " 845: 25,\n",
       " 397: 10,\n",
       " 621: 76,\n",
       " 370: 49,\n",
       " 381: 32,\n",
       " 904: 150,\n",
       " 676: 63,\n",
       " 954: 71,\n",
       " 681: 26,\n",
       " 712: 101,\n",
       " 19: 157,\n",
       " 470: 31,\n",
       " 822: 46,\n",
       " 521: 62,\n",
       " 157: 30,\n",
       " 285: 12,\n",
       " 63: 78,\n",
       " 152: 10,\n",
       " 332: 86,\n",
       " 682: 83,\n",
       " 45: 54,\n",
       " 510: 82,\n",
       " 393: 32,\n",
       " 123: 64,\n",
       " 797: 15,\n",
       " 902: 30,\n",
       " 255: 37,\n",
       " 714: 28,\n",
       " 143: 74,\n",
       " 727: 22,\n",
       " 459: 36,\n",
       " 77: 44,\n",
       " 651: 30,\n",
       " 734: 40,\n",
       " 949: 23,\n",
       " 11: 55,\n",
       " 778: 12,\n",
       " 282: 27,\n",
       " 701: 36,\n",
       " 935: 7,\n",
       " 659: 55,\n",
       " 826: 73,\n",
       " 267: 14,\n",
       " 893: 133,\n",
       " 96: 55,\n",
       " 356: 5,\n",
       " 5: 92,\n",
       " 237: 13,\n",
       " 860: 6,\n",
       " 829: 35,\n",
       " 41: 15,\n",
       " 349: 16,\n",
       " 634: 31,\n",
       " 78: 30,\n",
       " 283: 19,\n",
       " 297: 41,\n",
       " 959: 17,\n",
       " 242: 59,\n",
       " 252: 63,\n",
       " 317: 16,\n",
       " 421: 52,\n",
       " 162: 26,\n",
       " 249: 53,\n",
       " 927: 25,\n",
       " 409: 13,\n",
       " 405: 27,\n",
       " 626: 26,\n",
       " 939: 63,\n",
       " 39: 96,\n",
       " 909: 39,\n",
       " 556: 10,\n",
       " 94: 15,\n",
       " 771: 20,\n",
       " 842: 18,\n",
       " 863: 64,\n",
       " 484: 41,\n",
       " 606: 8,\n",
       " 937: 55,\n",
       " 136: 59,\n",
       " 610: 43,\n",
       " 125: 23,\n",
       " 181: 20,\n",
       " 369: 65,\n",
       " 505: 54,\n",
       " 38: 14,\n",
       " 472: 125,\n",
       " 303: 18,\n",
       " 174: 150,\n",
       " 514: 8,\n",
       " 10: 34,\n",
       " 458: 44,\n",
       " 301: 22,\n",
       " 574: 71,\n",
       " 992: 19,\n",
       " 999: 21,\n",
       " 238: 36,\n",
       " 719: 78,\n",
       " 427: 32,\n",
       " 35: 43,\n",
       " 840: 17,\n",
       " 809: 53,\n",
       " 189: 24,\n",
       " 869: 15,\n",
       " 223: 11,\n",
       " 13: 35,\n",
       " 230: 22,\n",
       " 44: 64,\n",
       " 656: 24,\n",
       " 379: 31,\n",
       " 964: 93,\n",
       " 428: 69,\n",
       " 523: 8,\n",
       " 736: 25,\n",
       " 124: 20,\n",
       " 997: 25,\n",
       " 467: 16,\n",
       " 478: 25,\n",
       " 359: 31,\n",
       " 334: 48,\n",
       " 511: 44,\n",
       " 190: 35,\n",
       " 56: 16,\n",
       " 305: 46,\n",
       " 823: 7,\n",
       " 664: 46,\n",
       " 579: 14,\n",
       " 887: 6,\n",
       " 342: 27,\n",
       " 92: 61,\n",
       " 993: 15,\n",
       " 702: 15,\n",
       " 403: 34,\n",
       " 673: 28,\n",
       " 256: 39,\n",
       " 82: 34,\n",
       " 854: 9,\n",
       " 382: 41,\n",
       " 900: 20,\n",
       " 199: 33,\n",
       " 703: 60,\n",
       " 79: 15,\n",
       " 474: 59,\n",
       " 27: 56,\n",
       " 582: 22,\n",
       " 259: 32,\n",
       " 835: 43,\n",
       " 463: 15,\n",
       " 590: 21,\n",
       " 438: 10,\n",
       " 351: 23,\n",
       " 851: 31,\n",
       " 239: 75,\n",
       " 34: 118,\n",
       " 756: 7,\n",
       " 764: 35,\n",
       " 772: 53,\n",
       " 425: 47,\n",
       " 539: 48,\n",
       " 707: 25,\n",
       " 697: 24,\n",
       " 607: 28,\n",
       " 635: 106,\n",
       " 211: 11,\n",
       " 666: 26,\n",
       " 328: 8,\n",
       " 877: 19,\n",
       " 0: 50,\n",
       " 572: 37,\n",
       " 996: 19,\n",
       " 287: 42,\n",
       " 825: 20,\n",
       " 494: 48,\n",
       " 689: 16,\n",
       " 563: 87,\n",
       " 432: 30,\n",
       " 738: 9,\n",
       " 646: 6,\n",
       " 105: 32,\n",
       " 47: 32,\n",
       " 525: 41,\n",
       " 17: 13,\n",
       " 921: 22,\n",
       " 720: 13,\n",
       " 731: 11,\n",
       " 748: 20,\n",
       " 615: 25,\n",
       " 214: 24,\n",
       " 766: 9,\n",
       " 971: 33,\n",
       " 144: 27,\n",
       " 293: 19,\n",
       " 963: 19,\n",
       " 15: 7,\n",
       " 153: 30,\n",
       " 841: 44,\n",
       " 364: 20,\n",
       " 782: 32,\n",
       " 758: 50,\n",
       " 339: 17,\n",
       " 912: 13,\n",
       " 588: 18,\n",
       " 568: 8,\n",
       " 808: 21,\n",
       " 12: 25,\n",
       " 110: 35,\n",
       " 544: 10,\n",
       " 169: 35,\n",
       " 231: 7,\n",
       " 461: 19,\n",
       " 434: 16,\n",
       " 575: 14,\n",
       " 142: 16,\n",
       " 455: 17,\n",
       " 512: 43,\n",
       " 975: 45,\n",
       " 248: 17,\n",
       " 306: 19,\n",
       " 210: 11,\n",
       " 853: 10,\n",
       " 596: 36,\n",
       " 800: 11,\n",
       " 888: 32,\n",
       " 448: 22,\n",
       " 200: 26,\n",
       " 87: 19,\n",
       " 274: 15,\n",
       " 7: 45,\n",
       " 848: 8,\n",
       " 994: 35,\n",
       " 883: 15,\n",
       " 852: 17,\n",
       " 917: 7,\n",
       " 358: 11,\n",
       " 436: 14,\n",
       " 376: 12,\n",
       " 780: 31,\n",
       " 695: 29,\n",
       " 747: 5,\n",
       " 170: 7,\n",
       " 431: 10,\n",
       " 127: 11,\n",
       " 815: 17,\n",
       " 598: 32,\n",
       " 180: 10,\n",
       " 650: 6,\n",
       " 866: 8,\n",
       " 792: 14,\n",
       " 813: 19,\n",
       " 726: 6,\n",
       " 482: 8,\n",
       " 932: 26,\n",
       " 268: 6,\n",
       " 384: 6,\n",
       " 708: 8,\n",
       " 873: 11,\n",
       " 730: 8,\n",
       " 538: 6,\n",
       " 865: 5,\n",
       " 385: 6,\n",
       " 759: 9,\n",
       " 155: 5,\n",
       " 234: 6,\n",
       " 58: 5,\n",
       " 337: 7,\n",
       " 307: 10}"
      ]
     },
     "execution_count": 11,
     "metadata": {},
     "output_type": "execute_result"
    }
   ],
   "source": [
    "freqs"
   ]
  },
  {
   "cell_type": "code",
   "execution_count": 12,
   "id": "ec87b395",
   "metadata": {},
   "outputs": [
    {
     "data": {
      "application/vnd.jupyter.widget-view+json": {
       "model_id": "784c0f3729b943049cd6b1086f811edd",
       "version_major": 2,
       "version_minor": 0
      },
      "text/plain": [
       "  0%|          | 0/50000 [00:00<?, ?it/s]"
      ]
     },
     "metadata": {},
     "output_type": "display_data"
    }
   ],
   "source": [
    "many_labels = []\n",
    "many_embs = []\n",
    "many_inds = []\n",
    "med_labels = []\n",
    "med_embs = []\n",
    "med_inds = []\n",
    "few_labels = []\n",
    "few_embs = []\n",
    "few_inds = []\n",
    "\n",
    "for i in tqdm(range(image_embeddings.shape[0])):\n",
    "    if freqs[labels[i].item()] >= 100:\n",
    "        many_labels.append(labels[i])\n",
    "        many_embs.append(image_embeddings[i, :])\n",
    "        many_inds.append(i)\n",
    "    elif freqs[labels[i].item()] >= 20:\n",
    "        med_labels.append(labels[i])\n",
    "        med_embs.append(image_embeddings[i, :])\n",
    "        med_inds.append(i)\n",
    "    else:\n",
    "        few_labels.append(labels[i])\n",
    "        few_embs.append(image_embeddings[i, :])\n",
    "        few_inds.append(i)\n",
    "        \n",
    "many_embs = torch.stack(many_embs)\n",
    "med_embs = torch.stack(med_embs)\n",
    "few_embs = torch.stack(few_embs)\n",
    "\n",
    "many_inds = np.array(many_inds)\n",
    "med_inds = np.array(med_inds)\n",
    "few_inds = np.array(few_inds)\n"
   ]
  },
  {
   "cell_type": "code",
   "execution_count": 13,
   "id": "8259d491",
   "metadata": {},
   "outputs": [
    {
     "data": {
      "application/vnd.jupyter.widget-view+json": {
       "model_id": "b80d97c45f134723a03aed82cbc488c6",
       "version_major": 2,
       "version_minor": 0
      },
      "text/plain": [
       "  0%|          | 0/20000 [00:00<?, ?it/s]"
      ]
     },
     "metadata": {},
     "output_type": "display_data"
    },
    {
     "name": "stdout",
     "output_type": "stream",
     "text": [
      "20000\n"
     ]
    },
    {
     "data": {
      "text/plain": [
       "[100, 1040, 880, 900, 1580, 1680, 2560, 3560, 3340, 4360]"
      ]
     },
     "execution_count": 13,
     "metadata": {},
     "output_type": "execute_result"
    }
   ],
   "source": [
    "fg_buckets = [5, 10, 15, 20, 30, 40, 60, 100, 160, 10000]\n",
    "\n",
    "fg_indices_val = {k: [] for k in fg_buckets}\n",
    "\n",
    "seen = set()\n",
    "\n",
    "for i in tqdm(range(image_embeddings_val.shape[0])):\n",
    "    for k in fg_buckets:\n",
    "        if freqs[labels_val[i].item()] <= k and i not in seen:\n",
    "            seen.add(i)\n",
    "            fg_indices_val[k].append(i)\n",
    "print(len([i for k in fg_indices_val for i in fg_indices_val[k]]))\n",
    "[len(fg_indices_val[k]) for k in fg_indices_val]"
   ]
  },
  {
   "cell_type": "code",
   "execution_count": 14,
   "id": "20e96a33",
   "metadata": {},
   "outputs": [
    {
     "data": {
      "application/vnd.jupyter.widget-view+json": {
       "model_id": "e36b3cc631364c3c9d91f8ef8440e4b8",
       "version_major": 2,
       "version_minor": 0
      },
      "text/plain": [
       "  0%|          | 0/50000 [00:00<?, ?it/s]"
      ]
     },
     "metadata": {},
     "output_type": "display_data"
    },
    {
     "name": "stdout",
     "output_type": "stream",
     "text": [
      "50000\n"
     ]
    },
    {
     "data": {
      "text/plain": [
       "[250, 2600, 2200, 2250, 3950, 4200, 6400, 8900, 8350, 10900]"
      ]
     },
     "execution_count": 14,
     "metadata": {},
     "output_type": "execute_result"
    }
   ],
   "source": [
    "\n",
    "\n",
    "fg_indices = {k: [] for k in fg_buckets}\n",
    "\n",
    "seen = set()\n",
    "\n",
    "for i in tqdm(range(image_embeddings.shape[0])):\n",
    "    for k in fg_buckets:\n",
    "        if freqs[labels[i].item()] <= k and i not in seen:\n",
    "            seen.add(i)\n",
    "            fg_indices[k].append(i)\n",
    "print(len([i for k in fg_indices for i in fg_indices[k]]))\n",
    "[len(fg_indices[k]) for k in fg_indices]"
   ]
  },
  {
   "cell_type": "code",
   "execution_count": 15,
   "id": "c843c407",
   "metadata": {},
   "outputs": [],
   "source": [
    "def bucket_indices(l):\n",
    "    seen = set()\n",
    "    out = []\n",
    "    for i in tqdm(range(len(l))):\n",
    "        for k,kk in enumerate(fg_buckets):\n",
    "            if freqs[l[i].item()] <= kk and i not in seen:\n",
    "                seen.add(i)\n",
    "                out.append(k)\n",
    "    return out"
   ]
  },
  {
   "cell_type": "code",
   "execution_count": 16,
   "id": "a3816fd3",
   "metadata": {},
   "outputs": [],
   "source": [
    "import seaborn as sns\n",
    "plt.rcParams[\"figure.figsize\"] = (10,10)"
   ]
  },
  {
   "cell_type": "markdown",
   "id": "7d040fef",
   "metadata": {},
   "source": [
    "### Alternate Train(?) scheme: Only FT on Image and only FT on Text"
   ]
  },
  {
   "cell_type": "code",
   "execution_count": 17,
   "id": "b890a863",
   "metadata": {},
   "outputs": [],
   "source": [
    "def all_accs(model):\n",
    "    preds = model.predict(image_embeddings)\n",
    "    l = labels.numpy()\n",
    "    avg_acc = mic_acc_cal(preds, l)\n",
    "    many = mic_acc_cal(preds[many_inds], many_labels)\n",
    "    med = mic_acc_cal(preds[med_inds], med_labels)\n",
    "    few = mic_acc_cal(preds[few_inds], few_labels)\n",
    "    print(f\"{avg_acc:.3f}/{many:.3f}/{med:.3f}/{few:.3f}\")\n",
    "    return [avg_acc, many, med, few]"
   ]
  },
  {
   "cell_type": "code",
   "execution_count": 18,
   "id": "d984a768",
   "metadata": {},
   "outputs": [],
   "source": [
    "def all_accs_p(preds):\n",
    "    l = labels.numpy()\n",
    "    avg_acc = mic_acc_cal(preds, l)\n",
    "    many = mic_acc_cal(preds[many_inds], many_labels)\n",
    "    med = mic_acc_cal(preds[med_inds], med_labels)\n",
    "    few = mic_acc_cal(preds[few_inds], few_labels)\n",
    "    print(f\"{avg_acc:.3f}/{many:.3f}/{med:.3f}/{few:.3f}\")\n",
    "    return [avg_acc, many, med, few]"
   ]
  },
  {
   "cell_type": "code",
   "execution_count": 19,
   "id": "3bb16756",
   "metadata": {},
   "outputs": [],
   "source": [
    "def all_accs_fg(preds, ls, fg_indices):\n",
    "    avg_acc = mic_acc_cal(preds, ls)\n",
    "    out_accs = [avg_acc]\n",
    "    for k in fg_indices:\n",
    "        indices = np.array(fg_indices[k])\n",
    "        acc = mic_acc_cal(preds[indices], ls[indices])\n",
    "        out_accs.append(acc)\n",
    "    print([f\"{k:.5f}\" for k in out_accs])\n",
    "    return out_accs"
   ]
  },
  {
   "cell_type": "code",
   "execution_count": 22,
   "id": "838552da",
   "metadata": {},
   "outputs": [],
   "source": [
    "conv_comb_0_8_clf = pickle.load(open(\"results_sklearn/config_convex_comb_1/class_balanced/13-Sep-2022-13-41-17/final_model.sav\", 'rb'))\n",
    "\n",
    "# text_only_balanced_clf = pickle.load(open(\"results_sklearn/config_text_only_0/29-Sep-2022-01-32-28/final_model.sav\", 'rb'))\n",
    "text_only_balanced_clf = pickle.load(open(\"results_sklearn/config_text_only_liblinear/06-Nov-2022-01-47-08/final_model.sav\", 'rb'))\n",
    "text_only_balanced_cupl = pickle.load(open(\"results_sklearn/config_text_only_clip_and_cupl_liblinear/07-Nov-2022-12-41-14/final_model.sav\", 'rb'))\n",
    "\n",
    "\n",
    "image_only_clf = pickle.load(open(\"results_sklearn/config_image_linear_probe_0/class_balanced/13-Sep-2022-01-35-07/final_model.sav\", 'rb'))\n",
    "image_only_clf_2 = pickle.load(open(\"results_sklearn/config_image_linear_probe_0/balanced/29-Sep-2022-01-38-27/final_model.sav\", 'rb'))\n",
    "image_only_clf_3 = pickle.load(open(\"results_sklearn/config_image_linear_probe_0/balanced/07-Nov-2022-18-27-46/final_model.sav\", 'rb'))\n",
    "image_only_clf_4 = pickle.load(open(\"results_sklearn/config_image_linear_probe_0/balanced/11-Nov-2022-16-23-33/final_model.sav\", 'rb'))\n",
    "\n",
    "image_only_clf_oversampled = pickle.load(open(\"results_sklearn/config_image_linear_probe_oversampled_auto/class_balanced/07-Nov-2022-20-13-26/final_model.sav\", 'rb'))\n",
    "# image_only_clf_oversampled_500 = pickle.load(open(\"results_sklearn/config_image_linear_probe_0/balanced/11-Nov-2022-16-23-33/final_model.sav\", 'rb'))\n",
    "\n",
    "image_only_clf_undersampled_500 = pickle.load(open(\"results_sklearn/config_image_linear_probe_undersampled_0-5/12-Nov-2022-12-17-52/final_model.sav\", 'rb'))\n",
    "image_only_clf_undersampled = pickle.load(open(\"results_sklearn/config_image_linear_probe_undersampled_auto/class_balanced/07-Nov-2022-20-18-24/final_model.sav\", 'rb'))\n",
    "\n",
    "image_only_clf_oversampled = pickle.load(open(\"results_sklearn/config_image_linear_probe_0/c_10/13-Nov-2022-20-07-26/final_model.sav\", 'rb'))\n",
    "# image_only_clf_oversampled = pickle.load(open(\"results_sklearn/config_image_linear_probe_nojitter/01-Dec-2022-22-31-07/final_model.sav\", 'rb'))\n",
    "\n",
    "conv_comb_0_8_clf_oversampled = pickle.load(open(\"/nethome/bdevnani3/flash1/long_tail_lang/results_sklearn/config_convex_comb_oversampled_auto/02-Dec-2022-05-42-24/final_model.sav\", 'rb'))\n",
    "\n",
    "\n"
   ]
  },
  {
   "cell_type": "code",
   "execution_count": 23,
   "id": "073b304c",
   "metadata": {},
   "outputs": [
    {
     "name": "stdout",
     "output_type": "stream",
     "text": [
      "Mixing coeff: 0.00\n",
      "['0.63438', '0.30000', '0.47423', '0.55636', '0.60756', '0.59165', '0.63976', '0.64031', '0.63528', '0.66036', '0.69083']\n",
      "Mixing coeff: 0.05\n",
      "['0.63530', '0.30800', '0.47692', '0.55864', '0.60622', '0.59266', '0.64071', '0.64141', '0.63685', '0.65976', '0.69183']\n",
      "Mixing coeff: 0.10\n",
      "['0.63656', '0.31200', '0.47846', '0.55818', '0.60756', '0.59519', '0.64143', '0.64438', '0.63798', '0.66072', '0.69239']\n",
      "Mixing coeff: 0.15\n",
      "['0.63728', '0.30800', '0.48231', '0.55955', '0.60844', '0.59747', '0.64214', '0.64594', '0.63820', '0.66084', '0.69211']\n",
      "Mixing coeff: 0.20\n",
      "['0.63806', '0.31600', '0.48769', '0.56000', '0.61156', '0.59823', '0.64238', '0.64781', '0.63730', '0.66156', '0.69220']\n",
      "Mixing coeff: 0.25\n",
      "['0.63862', '0.31600', '0.48885', '0.56455', '0.60978', '0.59899', '0.64405', '0.64812', '0.63820', '0.66204', '0.69174']\n",
      "Mixing coeff: 0.30\n",
      "['0.63952', '0.32000', '0.49346', '0.56500', '0.61111', '0.59975', '0.64500', '0.64953', '0.63831', '0.66228', '0.69257']\n",
      "Mixing coeff: 0.35\n",
      "['0.63994', '0.32400', '0.49654', '0.56636', '0.61022', '0.60177', '0.64667', '0.65094', '0.63865', '0.66156', '0.69165']\n",
      "Mixing coeff: 0.40\n",
      "['0.64018', '0.32400', '0.49692', '0.56818', '0.61289', '0.60354', '0.64905', '0.65156', '0.63831', '0.66144', '0.69018']\n",
      "Mixing coeff: 0.45\n",
      "['0.63972', '0.31600', '0.49846', '0.56682', '0.61111', '0.60304', '0.64881', '0.65234', '0.63663', '0.66228', '0.68908']\n",
      "Mixing coeff: 0.50\n",
      "['0.63902', '0.32000', '0.50154', '0.56591', '0.61244', '0.60506', '0.64762', '0.65328', '0.63742', '0.65988', '0.68532']\n",
      "Mixing coeff: 0.55\n",
      "['0.63786', '0.31600', '0.50731', '0.56500', '0.60978', '0.60456', '0.64881', '0.65234', '0.63551', '0.65808', '0.68266']\n",
      "Mixing coeff: 0.60\n",
      "['0.63596', '0.32000', '0.51115', '0.56682', '0.61289', '0.60380', '0.64786', '0.64844', '0.63337', '0.65377', '0.67991']\n",
      "Mixing coeff: 0.65\n",
      "['0.63418', '0.31200', '0.51885', '0.57045', '0.61067', '0.60582', '0.64667', '0.64516', '0.63124', '0.64982', '0.67624']\n",
      "Mixing coeff: 0.70\n",
      "['0.63142', '0.31200', '0.52308', '0.56818', '0.60978', '0.60557', '0.64381', '0.64359', '0.62742', '0.64635', '0.67110']\n",
      "Mixing coeff: 0.75\n",
      "['0.62576', '0.32000', '0.52269', '0.56955', '0.60400', '0.60253', '0.63929', '0.63922', '0.61809', '0.64036', '0.66358']\n",
      "Mixing coeff: 0.80\n",
      "['0.61862', '0.32400', '0.52462', '0.56545', '0.60089', '0.59696', '0.62952', '0.63172', '0.60899', '0.63329', '0.65477']\n",
      "Mixing coeff: 0.85\n",
      "['0.60830', '0.31200', '0.52423', '0.55864', '0.59644', '0.58835', '0.61690', '0.62141', '0.59809', '0.62251', '0.64128']\n",
      "Mixing coeff: 0.90\n",
      "['0.59312', '0.32800', '0.52346', '0.54500', '0.58711', '0.57468', '0.60286', '0.60344', '0.58202', '0.60599', '0.62284']\n",
      "Mixing coeff: 0.95\n",
      "['0.57276', '0.33200', '0.51846', '0.53182', '0.56444', '0.55873', '0.58571', '0.57969', '0.56101', '0.58335', '0.59872']\n",
      "Mixing coeff: 1.00\n",
      "['0.54418', '0.33600', '0.50962', '0.50727', '0.54089', '0.53620', '0.56143', '0.54078', '0.53225', '0.55186', '0.56743']\n"
     ]
    }
   ],
   "source": [
    "mixed_clf = pickle.load(open(\"results_sklearn/config_convex_comb_1/13-Sep-2022-00-50-56/final_model.sav\", 'rb'))\n",
    "all_accs = []\n",
    "for i in range(0, 21):\n",
    "    i = i/20.0\n",
    "    print(f\"Mixing coeff: {i:.2f}\")\n",
    "    mixed_clf.coef_ = i*text_only_balanced_clf.coef_ + (1-i)*conv_comb_0_8_clf_oversampled.coef_\n",
    "    mixed_clf.intercept_ = i*text_only_balanced_clf.intercept_ + (1-i)*conv_comb_0_8_clf_oversampled.intercept_\n",
    "    preds = mixed_clf.predict(image_embeddings)\n",
    "    temp_acc = all_accs_fg(preds, labels.numpy(), fg_indices)\n",
    "    all_accs.append(temp_acc)"
   ]
  },
  {
   "cell_type": "code",
   "execution_count": 23,
   "id": "56b90916",
   "metadata": {
    "scrolled": true
   },
   "outputs": [
    {
     "name": "stdout",
     "output_type": "stream",
     "text": [
      "Mixing coeff: 0.00\n",
      "['0.63425', '0.15000', '0.28942', '0.41250', '0.54111', '0.56266', '0.59464', '0.61133', '0.66376', '0.73473', '0.74518']\n",
      "Mixing coeff: 0.05\n",
      "['0.63675', '0.15000', '0.29615', '0.41932', '0.54556', '0.56582', '0.59940', '0.61328', '0.66573', '0.73593', '0.74610']\n",
      "Mixing coeff: 0.10\n",
      "['0.63865', '0.16000', '0.29808', '0.42159', '0.54889', '0.56899', '0.60119', '0.61602', '0.66713', '0.73653', '0.74794']\n",
      "Mixing coeff: 0.15\n",
      "['0.64080', '0.16000', '0.30288', '0.42727', '0.55444', '0.57405', '0.60595', '0.62070', '0.66798', '0.73593', '0.74771']\n",
      "Mixing coeff: 0.20\n",
      "['0.64265', '0.16000', '0.30673', '0.43068', '0.55222', '0.57975', '0.60952', '0.62148', '0.67107', '0.73443', '0.74977']\n",
      "Mixing coeff: 0.25\n",
      "['0.64435', '0.15000', '0.31346', '0.43750', '0.56111', '0.58228', '0.61131', '0.62109', '0.67247', '0.73503', '0.75000']\n",
      "Mixing coeff: 0.30\n",
      "['0.64615', '0.15000', '0.32308', '0.43977', '0.56333', '0.58861', '0.61310', '0.62539', '0.67416', '0.73144', '0.75092']\n",
      "Mixing coeff: 0.35\n",
      "['0.64840', '0.16000', '0.32981', '0.44773', '0.56778', '0.59367', '0.61607', '0.62734', '0.67753', '0.73054', '0.75069']\n",
      "Mixing coeff: 0.40\n",
      "['0.65150', '0.17000', '0.34038', '0.45568', '0.57111', '0.59620', '0.62024', '0.63203', '0.67921', '0.73323', '0.75115']\n",
      "Mixing coeff: 0.45\n",
      "['0.65280', '0.17000', '0.35000', '0.46250', '0.57333', '0.60253', '0.62560', '0.63281', '0.67921', '0.73323', '0.74817']\n",
      "Mixing coeff: 0.50\n",
      "['0.65510', '0.19000', '0.36538', '0.46932', '0.58111', '0.60316', '0.63036', '0.63594', '0.67865', '0.73353', '0.74794']\n",
      "Mixing coeff: 0.55\n",
      "['0.65635', '0.19000', '0.37404', '0.47727', '0.58111', '0.60886', '0.63333', '0.63984', '0.67865', '0.73323', '0.74472']\n",
      "Mixing coeff: 0.60\n",
      "['0.65700', '0.22000', '0.38654', '0.49091', '0.59000', '0.61392', '0.63452', '0.64180', '0.67753', '0.72814', '0.74083']\n",
      "Mixing coeff: 0.65\n",
      "['0.65785', '0.23000', '0.40865', '0.49545', '0.59556', '0.61329', '0.63393', '0.64453', '0.67500', '0.72665', '0.73922']\n",
      "Mixing coeff: 0.70\n",
      "['0.65670', '0.23000', '0.41538', '0.50455', '0.59778', '0.61962', '0.63631', '0.64687', '0.67022', '0.72515', '0.73050']\n",
      "Mixing coeff: 0.75\n",
      "['0.65345', '0.24000', '0.42596', '0.51136', '0.59444', '0.61835', '0.63571', '0.64531', '0.66320', '0.71766', '0.72523']\n",
      "Mixing coeff: 0.80\n",
      "['0.64775', '0.27000', '0.45000', '0.52727', '0.59556', '0.62278', '0.62857', '0.63984', '0.65393', '0.70389', '0.71170']\n",
      "Mixing coeff: 0.85\n",
      "['0.64060', '0.32000', '0.46827', '0.53636', '0.59222', '0.62278', '0.62738', '0.63320', '0.64101', '0.69132', '0.69679']\n",
      "Mixing coeff: 0.90\n",
      "['0.62425', '0.39000', '0.47596', '0.53523', '0.58889', '0.61582', '0.62024', '0.61328', '0.61910', '0.66617', '0.67339']\n",
      "Mixing coeff: 0.95\n",
      "['0.59745', '0.39000', '0.49231', '0.53750', '0.57778', '0.59873', '0.59226', '0.58281', '0.59326', '0.62575', '0.63532']\n",
      "Mixing coeff: 1.00\n",
      "['0.55145', '0.39000', '0.49231', '0.50909', '0.56333', '0.56899', '0.55000', '0.53008', '0.54522', '0.56497', '0.57683']\n"
     ]
    }
   ],
   "source": [
    "mixed_clf = pickle.load(open(\"results_sklearn/config_convex_comb_1/13-Sep-2022-00-50-56/final_model.sav\", 'rb'))\n",
    "all_accs_val = []\n",
    "for i in range(0, 21):\n",
    "    i = i/20.0\n",
    "    print(f\"Mixing coeff: {i:.2f}\")\n",
    "    mixed_clf.coef_ = i*text_only_balanced_clf.coef_ + (1-i)*image_only_clf_oversampled.coef_\n",
    "    mixed_clf.intercept_ = i*text_only_balanced_clf.intercept_ + (1-i)*image_only_clf_oversampled.intercept_\n",
    "    preds = mixed_clf.predict(image_embeddings_val)\n",
    "    temp_acc = all_accs_fg(preds, labels_val.numpy(), fg_indices_val)\n",
    "    all_accs_val.append(temp_acc)"
   ]
  },
  {
   "cell_type": "code",
   "execution_count": 29,
   "id": "5b2f210b",
   "metadata": {
    "scrolled": false
   },
   "outputs": [
    {
     "name": "stdout",
     "output_type": "stream",
     "text": [
      "(21, 10)\n",
      "[18 19 19 14 16 14 14  8  2  8]\n",
      "(21, 10)\n"
     ]
    },
    {
     "name": "stderr",
     "output_type": "stream",
     "text": [
      "/nethome/bdevnani3/flash1/miniconda3/envs/ltr/lib/python3.9/site-packages/seaborn/_decorators.py:36: FutureWarning: Pass the following variable as a keyword arg: x. From version 0.12, the only valid positional argument will be `data`, and passing other arguments without an explicit keyword will result in an error or misinterpretation.\n",
      "  warnings.warn(\n"
     ]
    },
    {
     "data": {
      "image/png": "[encoded data removed]",
      "text/plain": [
       "<Figure size 720x720 with 1 Axes>"
      ]
     },
     "metadata": {
      "needs_background": "light"
     },
     "output_type": "display_data"
    }
   ],
   "source": [
    "import seaborn as sns\n",
    "plt.rcParams[\"figure.figsize\"] = (10,10)\n",
    "x = np.array([i/20.0 for i in range(0, 21)])\n",
    "\n",
    "aa = np.array(all_accs_val)[:, 1:]\n",
    "print(aa.shape)\n",
    "m = np.argmax(aa, axis=0)\n",
    "y = []\n",
    "print(m)\n",
    "print(aa.shape)\n",
    "for i in range(len(fg_buckets)):\n",
    "    y.append(aa[m[i], i])\n",
    "xx = x[m]\n",
    "sns.scatterplot(xx, y = y, marker='o', s=50)\n",
    "for i in range(len(fg_indices_val)):\n",
    "    y = [j[i] for j in aa]\n",
    "    ax = sns.lineplot(x = x, y = y, label=fg_buckets[i])\n",
    "ax.set(xlabel='Mixing coef', ylabel='Acc')\n",
    "plt.show()\n",
    "\n"
   ]
  },
  {
   "cell_type": "code",
   "execution_count": 247,
   "id": "3d36f146",
   "metadata": {},
   "outputs": [
    {
     "name": "stdout",
     "output_type": "stream",
     "text": [
      "Mixing coeff: 0.00\n",
      "['0.62514', '0.14400', '0.28731', '0.43636', '0.53556', '0.50810', '0.59357', '0.61734', '0.65764', '0.70503', '0.74477']\n",
      "Mixing coeff: 0.05\n",
      "['0.62884', '0.15600', '0.29615', '0.44318', '0.54267', '0.51899', '0.59929', '0.62094', '0.65888', '0.70731', '0.74550']\n",
      "Mixing coeff: 0.10\n",
      "['0.63196', '0.16400', '0.30346', '0.45409', '0.55022', '0.52734', '0.60405', '0.62203', '0.66180', '0.70790', '0.74578']\n",
      "Mixing coeff: 0.15\n",
      "['0.63508', '0.16000', '0.31692', '0.46409', '0.55689', '0.53367', '0.60929', '0.62516', '0.66371', '0.70814', '0.74569']\n",
      "Mixing coeff: 0.20\n",
      "['0.63770', '0.16800', '0.32615', '0.47227', '0.56133', '0.54329', '0.61357', '0.63031', '0.66494', '0.70719', '0.74431']\n",
      "Mixing coeff: 0.25\n",
      "['0.63974', '0.16800', '0.33385', '0.47682', '0.57022', '0.54987', '0.61929', '0.63438', '0.66596', '0.70659', '0.74174']\n",
      "Mixing coeff: 0.30\n",
      "['0.64150', '0.17200', '0.34346', '0.48500', '0.57156', '0.55418', '0.62381', '0.63844', '0.66640', '0.70623', '0.73972']\n",
      "Mixing coeff: 0.35\n",
      "['0.64324', '0.18000', '0.35538', '0.49227', '0.57200', '0.55873', '0.62786', '0.64281', '0.66663', '0.70539', '0.73780']\n",
      "Mixing coeff: 0.40\n",
      "['0.64496', '0.18800', '0.36615', '0.49545', '0.57600', '0.56658', '0.63238', '0.64484', '0.66697', '0.70599', '0.73495']\n",
      "Mixing coeff: 0.45\n",
      "['0.64532', '0.18400', '0.37423', '0.50091', '0.58089', '0.57013', '0.63548', '0.64625', '0.66607', '0.70347', '0.73202']\n",
      "Mixing coeff: 0.50\n",
      "['0.64580', '0.18800', '0.38077', '0.50545', '0.58756', '0.57367', '0.63738', '0.64828', '0.66506', '0.70072', '0.73000']\n",
      "Mixing coeff: 0.55\n",
      "['0.64626', '0.18800', '0.39231', '0.50864', '0.59111', '0.57595', '0.63952', '0.64797', '0.66551', '0.69964', '0.72697']\n",
      "Mixing coeff: 0.60\n",
      "['0.64670', '0.19200', '0.40385', '0.51591', '0.59600', '0.58177', '0.64190', '0.64797', '0.66404', '0.69737', '0.72358']\n",
      "Mixing coeff: 0.65\n",
      "['0.64708', '0.19600', '0.41115', '0.52182', '0.60222', '0.58734', '0.64262', '0.64969', '0.66236', '0.69617', '0.72000']\n",
      "Mixing coeff: 0.70\n",
      "['0.64650', '0.20800', '0.42269', '0.52773', '0.60400', '0.59139', '0.64286', '0.64984', '0.65989', '0.69210', '0.71624']\n",
      "Mixing coeff: 0.75\n",
      "['0.64636', '0.21200', '0.43346', '0.53773', '0.60756', '0.59443', '0.64548', '0.64953', '0.65809', '0.68790', '0.71294']\n",
      "Mixing coeff: 0.80\n",
      "['0.64474', '0.23200', '0.43731', '0.54455', '0.60889', '0.59671', '0.64738', '0.64766', '0.65517', '0.68263', '0.70844']\n",
      "Mixing coeff: 0.85\n",
      "['0.64378', '0.25200', '0.44538', '0.54818', '0.61200', '0.60025', '0.64952', '0.64672', '0.65326', '0.67892', '0.70312']\n",
      "Mixing coeff: 0.90\n",
      "['0.64238', '0.26800', '0.45115', '0.55227', '0.61244', '0.60278', '0.65024', '0.64484', '0.65034', '0.67665', '0.69807']\n",
      "Mixing coeff: 0.95\n",
      "['0.64054', '0.27600', '0.45808', '0.55591', '0.61511', '0.60405', '0.65000', '0.64391', '0.64719', '0.67293', '0.69211']\n",
      "Mixing coeff: 1.00\n",
      "['0.63788', '0.28400', '0.46462', '0.55727', '0.61600', '0.60278', '0.64976', '0.64234', '0.64404', '0.66802', '0.68550']\n"
     ]
    }
   ],
   "source": [
    "# normalize model weights\n",
    "mixed_clf = pickle.load(open(\"results_sklearn/config_convex_comb_1/13-Sep-2022-00-50-56/final_model.sav\", 'rb'))\n",
    "all_accs_test = []\n",
    "for i in range(0, 21):\n",
    "    i = i/20.0\n",
    "    print(f\"Mixing coeff: {i:.2f}\")\n",
    "    mixed_clf.coef_ = i*conv_comb_0_8_clf.coef_ + (1-i)*image_only_clf_oversampled.coef_\n",
    "    mixed_clf.intercept_ = i*conv_comb_0_8_clf.intercept_ + (1-i)*image_only_clf_oversampled.intercept_\n",
    "    preds = mixed_clf.predict(image_embeddings)\n",
    "    temp_acc = all_accs_fg(preds, labels.numpy(), fg_indices)\n",
    "    all_accs_test.append(temp_acc)"
   ]
  },
  {
   "cell_type": "code",
   "execution_count": 26,
   "id": "ca9b4511",
   "metadata": {},
   "outputs": [
    {
     "name": "stdout",
     "output_type": "stream",
     "text": [
      "Mixing coeff: 0.00\n",
      "['0.62354', '0.12000', '0.29385', '0.41682', '0.52356', '0.51823', '0.58667', '0.61516', '0.65674', '0.70251', '0.74578']\n",
      "Mixing coeff: 0.05\n",
      "['0.62600', '0.12800', '0.29923', '0.42409', '0.52667', '0.52127', '0.59000', '0.61766', '0.66022', '0.70323', '0.74624']\n",
      "Mixing coeff: 0.10\n",
      "['0.62804', '0.13200', '0.30308', '0.42818', '0.52978', '0.52481', '0.59452', '0.62031', '0.66135', '0.70455', '0.74661']\n",
      "Mixing coeff: 0.15\n",
      "['0.63046', '0.14000', '0.30769', '0.43091', '0.53467', '0.52987', '0.59833', '0.62156', '0.66404', '0.70611', '0.74743']\n",
      "Mixing coeff: 0.20\n",
      "['0.63208', '0.14800', '0.31269', '0.43500', '0.53689', '0.53291', '0.60286', '0.62359', '0.66539', '0.70551', '0.74752']\n",
      "Mixing coeff: 0.25\n",
      "['0.63414', '0.15200', '0.32038', '0.44000', '0.54044', '0.53696', '0.60714', '0.62562', '0.66685', '0.70623', '0.74725']\n",
      "Mixing coeff: 0.30\n",
      "['0.63622', '0.15600', '0.32769', '0.44364', '0.54489', '0.54203', '0.60976', '0.62844', '0.66787', '0.70790', '0.74670']\n",
      "Mixing coeff: 0.35\n",
      "['0.63840', '0.16000', '0.33462', '0.44818', '0.54933', '0.54532', '0.61429', '0.63172', '0.66787', '0.70874', '0.74761']\n",
      "Mixing coeff: 0.40\n",
      "['0.64044', '0.16400', '0.33846', '0.45318', '0.55600', '0.54759', '0.61976', '0.63562', '0.67000', '0.70886', '0.74651']\n",
      "Mixing coeff: 0.45\n",
      "['0.64244', '0.17600', '0.35115', '0.46182', '0.56444', '0.55114', '0.62429', '0.63813', '0.66944', '0.70862', '0.74505']\n",
      "Mixing coeff: 0.50\n",
      "['0.64412', '0.18400', '0.36154', '0.46773', '0.56800', '0.55544', '0.62619', '0.64266', '0.66899', '0.70814', '0.74394']\n",
      "Mixing coeff: 0.55\n",
      "['0.64592', '0.19600', '0.37000', '0.47500', '0.57511', '0.56127', '0.62976', '0.64594', '0.66865', '0.70790', '0.74202']\n",
      "Mixing coeff: 0.60\n",
      "['0.64610', '0.21200', '0.38115', '0.48182', '0.58089', '0.56380', '0.63214', '0.64844', '0.66573', '0.70563', '0.73807']\n",
      "Mixing coeff: 0.65\n",
      "['0.64580', '0.21600', '0.39885', '0.48545', '0.58178', '0.56684', '0.63429', '0.64922', '0.66416', '0.70036', '0.73440']\n",
      "Mixing coeff: 0.70\n",
      "['0.64408', '0.21200', '0.41115', '0.49591', '0.58578', '0.57139', '0.63500', '0.64859', '0.65764', '0.69569', '0.72807']\n",
      "Mixing coeff: 0.75\n",
      "['0.64206', '0.22400', '0.43269', '0.51045', '0.58533', '0.57747', '0.63381', '0.64766', '0.65449', '0.68707', '0.71853']\n",
      "Mixing coeff: 0.80\n",
      "['0.63778', '0.25600', '0.45654', '0.52318', '0.58400', '0.58810', '0.62857', '0.64547', '0.64438', '0.67892', '0.70413']\n",
      "Mixing coeff: 0.85\n",
      "['0.62790', '0.27200', '0.47115', '0.52955', '0.58311', '0.58405', '0.62429', '0.63687', '0.63022', '0.66251', '0.68615']\n",
      "Mixing coeff: 0.90\n",
      "['0.61158', '0.29600', '0.49000', '0.53045', '0.58044', '0.57722', '0.61405', '0.62141', '0.60843', '0.63892', '0.65798']\n",
      "Mixing coeff: 0.95\n",
      "['0.58480', '0.32000', '0.50346', '0.52545', '0.56356', '0.56253', '0.59095', '0.59234', '0.57663', '0.60299', '0.62064']\n",
      "Mixing coeff: 1.00\n",
      "['0.54418', '0.33600', '0.50962', '0.50727', '0.54089', '0.53620', '0.56143', '0.54078', '0.53225', '0.55186', '0.56743']\n"
     ]
    }
   ],
   "source": [
    "mixed_clf = pickle.load(open(\"results_sklearn/config_convex_comb_1/13-Sep-2022-00-50-56/final_model.sav\", 'rb'))\n",
    "all_accs_test = []\n",
    "for i in range(0, 21):\n",
    "    i = i/20.0\n",
    "    print(f\"Mixing coeff: {i:.2f}\")\n",
    "    mixed_clf.coef_ = i*text_only_balanced_clf.coef_ + (1-i)*image_only_clf_oversampled.coef_\n",
    "    mixed_clf.intercept_ = i*text_only_balanced_clf.intercept_ + (1-i)*image_only_clf_oversampled.intercept_\n",
    "    preds = mixed_clf.predict(image_embeddings)\n",
    "    temp_acc = all_accs_fg(preds, labels.numpy(), fg_indices)\n",
    "    all_accs_test.append(temp_acc)"
   ]
  },
  {
   "cell_type": "code",
   "execution_count": 28,
   "id": "e0ced925",
   "metadata": {},
   "outputs": [
    {
     "name": "stdout",
     "output_type": "stream",
     "text": [
      "(21, 10)\n",
      "[20 20 18 14 16 14 13  8  8  7]\n",
      "(21, 10)\n"
     ]
    },
    {
     "name": "stderr",
     "output_type": "stream",
     "text": [
      "/nethome/bdevnani3/flash1/miniconda3/envs/ltr/lib/python3.9/site-packages/seaborn/_decorators.py:36: FutureWarning: Pass the following variable as a keyword arg: x. From version 0.12, the only valid positional argument will be `data`, and passing other arguments without an explicit keyword will result in an error or misinterpretation.\n",
      "  warnings.warn(\n"
     ]
    },
    {
     "data": {
      "image/png": "[encoded data removed]",
      "text/plain": [
       "<Figure size 720x720 with 1 Axes>"
      ]
     },
     "metadata": {
      "needs_background": "light"
     },
     "output_type": "display_data"
    }
   ],
   "source": [
    "import seaborn as sns\n",
    "plt.rcParams[\"figure.figsize\"] = (10,10)\n",
    "x = np.array([i/20.0 for i in range(0, 21)])\n",
    "\n",
    "aa = np.array(all_accs_test)[:, 1:]\n",
    "print(aa.shape)\n",
    "m = np.argmax(aa, axis=0)\n",
    "y = []\n",
    "print(m)\n",
    "print(aa.shape)\n",
    "for i in range(len(fg_buckets)):\n",
    "    y.append(aa[m[i], i])\n",
    "xx = x[m]\n",
    "sns.scatterplot(xx, y = y, marker='o', s=50)\n",
    "for i in range(len(fg_indices_val)):\n",
    "    y = [j[i] for j in aa]\n",
    "    ax = sns.lineplot(x = x, y = y, label=fg_buckets[i])\n",
    "ax.set(xlabel='Mixing coef', ylabel='Acc')\n",
    "plt.show()"
   ]
  },
  {
   "cell_type": "code",
   "execution_count": 47,
   "id": "61d2b1e5",
   "metadata": {},
   "outputs": [
    {
     "data": {
      "text/plain": [
       "array([0.65, 0.9 , 0.95, 0.95, 0.7 , 0.8 , 0.7 , 0.7 , 0.4 , 0.1 , 0.4 ])"
      ]
     },
     "execution_count": 47,
     "metadata": {},
     "output_type": "execute_result"
    }
   ],
   "source": [
    "best_mixing_coefs_val = np.argmax(all_accs_val, axis=0)\n",
    "x = np.array([i/20.0 for i in range(0, 21)])\n",
    "x[best_mixing_coefs_val]"
   ]
  },
  {
   "cell_type": "code",
   "execution_count": 48,
   "id": "a229dba0",
   "metadata": {},
   "outputs": [
    {
     "data": {
      "text/plain": [
       "array([0.6 , 1.  , 1.  , 0.9 , 0.7 , 0.8 , 0.7 , 0.65, 0.4 , 0.4 , 0.35])"
      ]
     },
     "execution_count": 48,
     "metadata": {},
     "output_type": "execute_result"
    }
   ],
   "source": [
    "best_mixing_coefs_test = np.argmax(all_accs_test, axis=0)\n",
    "x = np.array([i/20.0 for i in range(0, 21)])\n",
    "x[best_mixing_coefs_test]"
   ]
  },
  {
   "cell_type": "code",
   "execution_count": 103,
   "id": "c470487b",
   "metadata": {},
   "outputs": [],
   "source": [
    "def class_wise_accuracy(preds, labels):\n",
    "    accs = np.zeros(1000)\n",
    "    corr = preds == labels\n",
    "    for i in range(len(labels)):\n",
    "        if corr[i] == True:\n",
    "            accs[labels[i]] +=1\n",
    "    accs /= (len(labels)/1000)\n",
    "    return accs"
   ]
  },
  {
   "cell_type": "code",
   "execution_count": 50,
   "id": "8d7262a9",
   "metadata": {},
   "outputs": [
    {
     "data": {
      "application/vnd.jupyter.widget-view+json": {
       "model_id": "deaf731e2a8d4fe8a0761017c4ae1f7a",
       "version_major": 2,
       "version_minor": 0
      },
      "text/plain": [
       "  0%|          | 0/21 [00:00<?, ?it/s]"
      ]
     },
     "metadata": {},
     "output_type": "display_data"
    },
    {
     "data": {
      "text/plain": [
       "<AxesSubplot:xlabel='freqs_per_class', ylabel='best_coefs_per_class'>"
      ]
     },
     "execution_count": 50,
     "metadata": {},
     "output_type": "execute_result"
    },
    {
     "data": {
      "image/png": "[encoded data removed]",
      "text/plain": [
       "<Figure size 720x720 with 1 Axes>"
      ]
     },
     "metadata": {
      "needs_background": "light"
     },
     "output_type": "display_data"
    }
   ],
   "source": [
    "# Assess best coefficient per class\n",
    "\n",
    "coefs = []\n",
    "val_instance_preds = []\n",
    "class_wise_accs = []\n",
    "mixed_clf = pickle.load(open(\"results_sklearn/config_convex_comb_1/13-Sep-2022-00-50-56/final_model.sav\", 'rb'))\n",
    "for i in tqdm(range(0, 21)):\n",
    "    i = i/20.0\n",
    "    mixed_clf.coef_ = i*text_only_balanced_clf.coef_ + (1-i)*image_only_clf_oversampled.coef_\n",
    "    mixed_clf.intercept_ = i*text_only_balanced_clf.intercept_ + (1-i)*image_only_clf_oversampled.intercept_\n",
    "    preds = mixed_clf.predict(image_embeddings_val)\n",
    "    cwa = class_wise_accuracy(preds, labels_val.numpy())\n",
    "    class_wise_accs.append(cwa)\n",
    "    val_instance_preds.append(preds)\n",
    "    \n",
    "coefs = np.array([i/20.0 for i in range(0, 21)])\n",
    "indices_of_best_coefs = np.argmax(np.array(class_wise_accs), axis=0)\n",
    "\n",
    "acc_per_class = np.max(np.array(class_wise_accs), axis=0)\n",
    "best_coefs_per_class = np.array(coefs)[np.argmax(np.array(class_wise_accs), axis=0)]\n",
    "freqs_per_class = np.log([freqs[i] for i in range(1000)])\n",
    "\n",
    "df = pd.DataFrame(list(zip(best_coefs_per_class, freqs_per_class, acc_per_class)),\n",
    "               columns =['best_coefs_per_class', 'freqs_per_class',  'acc_per_class'])\n",
    "\n",
    "sns.scatterplot(data=df, x = 'freqs_per_class', y = 'best_coefs_per_class', hue='acc_per_class', size='acc_per_class', alpha=0.3)\n",
    "sns.regplot(data=df, x = 'freqs_per_class', y = 'best_coefs_per_class', scatter=False)"
   ]
  },
  {
   "cell_type": "code",
   "execution_count": 51,
   "id": "375db136",
   "metadata": {},
   "outputs": [
    {
     "data": {
      "text/plain": [
       "0.7215499999999999"
      ]
     },
     "execution_count": 51,
     "metadata": {},
     "output_type": "execute_result"
    }
   ],
   "source": [
    "np.mean(np.max(np.array(class_wise_accs), axis=0))"
   ]
  },
  {
   "cell_type": "code",
   "execution_count": 105,
   "id": "58e5620b",
   "metadata": {},
   "outputs": [
    {
     "data": {
      "application/vnd.jupyter.widget-view+json": {
       "model_id": "e2c047f3893d42d1855bf5e7ab2b985a",
       "version_major": 2,
       "version_minor": 0
      },
      "text/plain": [
       "  0%|          | 0/21 [00:00<?, ?it/s]"
      ]
     },
     "metadata": {},
     "output_type": "display_data"
    },
    {
     "data": {
      "text/plain": [
       "<AxesSubplot:xlabel='freqs_per_class', ylabel='best_coefs_per_class'>"
      ]
     },
     "execution_count": 105,
     "metadata": {},
     "output_type": "execute_result"
    },
    {
     "data": {
      "image/png": "[encoded data removed]",
      "text/plain": [
       "<Figure size 432x288 with 1 Axes>"
      ]
     },
     "metadata": {
      "needs_background": "light"
     },
     "output_type": "display_data"
    }
   ],
   "source": [
    "# Assess best coefficient per class\n",
    "\n",
    "coefs = []\n",
    "test_instance_preds = []\n",
    "class_wise_accs_test = []\n",
    "mixed_clf = pickle.load(open(\"results_sklearn/config_convex_comb_1/13-Sep-2022-00-50-56/final_model.sav\", 'rb'))\n",
    "for i in tqdm(range(0, 21)):\n",
    "    i = i/20.0\n",
    "    mixed_clf.coef_ = i*text_only_balanced_clf.coef_ + (1-i)*image_only_clf_oversampled.coef_\n",
    "    mixed_clf.intercept_ = i*text_only_balanced_clf.intercept_ + (1-i)*image_only_clf_oversampled.intercept_\n",
    "    preds = mixed_clf.predict(image_embeddings)\n",
    "    cwa = class_wise_accuracy(preds, labels.numpy())\n",
    "    class_wise_accs_test.append(cwa)\n",
    "    test_instance_preds.append(preds)\n",
    "    \n",
    "coefs = np.array([i/20.0 for i in range(0, 21)])\n",
    "indices_of_best_coefs = np.argmax(np.array(class_wise_accs_test), axis=0)\n",
    "\n",
    "acc_per_class = np.max(np.array(class_wise_accs_test), axis=0)\n",
    "best_coefs_per_class = np.array(coefs)[np.argmax(np.array(class_wise_accs_test), axis=0)]\n",
    "freqs_per_class = np.log([freqs[i] for i in range(1000)])\n",
    "\n",
    "df = pd.DataFrame(list(zip(best_coefs_per_class, freqs_per_class, acc_per_class)),\n",
    "               columns =['best_coefs_per_class', 'freqs_per_class',  'acc_per_class'])\n",
    "\n",
    "sns.scatterplot(data=df, x = 'freqs_per_class', y = 'best_coefs_per_class', hue='acc_per_class', size='acc_per_class', alpha=0.3)\n",
    "sns.regplot(data=df, x = 'freqs_per_class', y = 'best_coefs_per_class', scatter=False)"
   ]
  },
  {
   "cell_type": "code",
   "execution_count": null,
   "id": "efa33d88",
   "metadata": {},
   "outputs": [],
   "source": [
    "np.mean(np.max(np.array(class_wise_accs_test), axis=0))"
   ]
  },
  {
   "cell_type": "code",
   "execution_count": 54,
   "id": "f0c7d581",
   "metadata": {},
   "outputs": [
    {
     "data": {
      "text/plain": [
       "0.6381244"
      ]
     },
     "execution_count": 54,
     "metadata": {},
     "output_type": "execute_result"
    }
   ],
   "source": [
    "class_wise_accs_test = class_wise_accs\n",
    "\n",
    "out = []\n",
    "for i in range(1000):\n",
    "    for j in indices_of_best_coefs:\n",
    "        out.append(class_wise_accs_test[j][i])\n",
    "        \n",
    "np.mean(out)"
   ]
  },
  {
   "cell_type": "code",
   "execution_count": 21,
   "id": "85af139e",
   "metadata": {},
   "outputs": [
    {
     "data": {
      "application/vnd.jupyter.widget-view+json": {
       "model_id": "f8ff5ff282194243b8c41ec75db4b3b9",
       "version_major": 2,
       "version_minor": 0
      },
      "text/plain": [
       "  0%|          | 0/50000 [00:00<?, ?it/s]"
      ]
     },
     "metadata": {},
     "output_type": "display_data"
    },
    {
     "name": "stdout",
     "output_type": "stream",
     "text": [
      "0.65644\n"
     ]
    }
   ],
   "source": [
    "### Adaptively choose mixing coefficient using val set\n",
    "\n",
    "# explore the confidence of prediction across the various mixtures\n",
    "\n",
    "# Best Many:\n",
    "i = 0.45\n",
    "many_clf = pickle.load(open(\"results_sklearn/config_convex_comb_1/13-Sep-2022-00-50-56/final_model.sav\", 'rb'))\n",
    "many_clf.coef_ = i*text_only_balanced_clf.coef_ + (1-i)*image_only_clf_oversampled.coef_\n",
    "many_clf.intercept_ = i*text_only_balanced_clf.intercept_ + (1-i)*image_only_clf_oversampled.intercept_\n",
    "\n",
    "# Best Med:\n",
    "i = 0.65\n",
    "med_clf = pickle.load(open(\"results_sklearn/config_convex_comb_1/13-Sep-2022-00-50-56/final_model.sav\", 'rb'))\n",
    "med_clf.coef_ = i*text_only_balanced_clf.coef_ + (1-i)*image_only_clf_oversampled.coef_\n",
    "med_clf.intercept_ = i*text_only_balanced_clf.intercept_ + (1-i)*image_only_clf_oversampled.intercept_\n",
    "\n",
    "# Best Few:\n",
    "i = 0.95\n",
    "few_clf = pickle.load(open(\"results_sklearn/config_convex_comb_1/13-Sep-2022-00-50-56/final_model.sav\", 'rb'))\n",
    "few_clf.coef_ = i*text_only_balanced_clf.coef_ + (1-i)*image_only_clf_oversampled.coef_\n",
    "few_clf.intercept_ = i*text_only_balanced_clf.intercept_ + (1-i)*image_only_clf_oversampled.intercept_\n",
    "\n",
    "acc = 0\n",
    "for i in tqdm(range(50000)):\n",
    "    if freqs[labels[i].item()] >= 100:\n",
    "        pred = many_clf.predict(image_embeddings[i,:].unsqueeze(0))\n",
    "    elif freqs[labels[i].item()] >= 20:\n",
    "        pred = med_clf.predict(image_embeddings[i,:].unsqueeze(0))\n",
    "    else:\n",
    "        pred = few_clf.predict(image_embeddings[i,:].unsqueeze(0))\n",
    "    if pred[0] == labels[i].item():\n",
    "        acc+=1\n",
    "        \n",
    "print(acc/50000)"
   ]
  },
  {
   "cell_type": "code",
   "execution_count": 22,
   "id": "3842002e",
   "metadata": {},
   "outputs": [
    {
     "ename": "NameError",
     "evalue": "name 'best_possible_acc' is not defined",
     "output_type": "error",
     "traceback": [
      "\u001b[0;31m---------------------------------------------------------------------------\u001b[0m",
      "\u001b[0;31mNameError\u001b[0m                                 Traceback (most recent call last)",
      "Input \u001b[0;32mIn [22]\u001b[0m, in \u001b[0;36m<cell line: 1>\u001b[0;34m()\u001b[0m\n\u001b[0;32m----> 1\u001b[0m \u001b[43mbest_possible_acc\u001b[49m\u001b[38;5;241m/\u001b[39m\u001b[38;5;241m50000.0\u001b[39m\n",
      "\u001b[0;31mNameError\u001b[0m: name 'best_possible_acc' is not defined"
     ]
    }
   ],
   "source": [
    "best_possible_acc/50000.0"
   ]
  },
  {
   "cell_type": "code",
   "execution_count": 100,
   "id": "1a93d2a7",
   "metadata": {},
   "outputs": [
    {
     "name": "stdout",
     "output_type": "stream",
     "text": [
      "0.740/0.791/0.731/0.623\n"
     ]
    },
    {
     "data": {
      "text/plain": [
       "[0.73978, 0.7909462915601023, 0.7311205073995771, 0.6227941176470588]"
      ]
     },
     "execution_count": 100,
     "metadata": {},
     "output_type": "execute_result"
    }
   ],
   "source": [
    "all_accs_p(np.array(acc_preds))"
   ]
  },
  {
   "cell_type": "code",
   "execution_count": null,
   "id": "b429f6ad",
   "metadata": {},
   "outputs": [],
   "source": [
    "graph = sns.pointplot(data=df_corr_det, x = \"num dsgrmnts\", y = \"correct_coefs\", alpha = 0.1)\n",
    "\n",
    "graph = sns.scatterplot(data=df_corr_det, x = \"num dsgrmnts\", y = \"correct_coefs\", alpha = 0.1)\n",
    "blah = df_corr_det\n",
    "# graph = sns.kdeplot(data=blah, x = \"num dsgrmnts\", y = \"correct_coefs\", fill=True, common_norm=False, palette=\"crest\", alpha=.5)\n",
    "\n",
    "plt.xlim([-1, 10])\n",
    "plt.ylim([-1, 1])"
   ]
  },
  {
   "cell_type": "code",
   "execution_count": 249,
   "id": "83209a77",
   "metadata": {},
   "outputs": [
    {
     "data": {
      "text/html": [
       "<div>\n",
       "<style scoped>\n",
       "    .dataframe tbody tr th:only-of-type {\n",
       "        vertical-align: middle;\n",
       "    }\n",
       "\n",
       "    .dataframe tbody tr th {\n",
       "        vertical-align: top;\n",
       "    }\n",
       "\n",
       "    .dataframe thead th {\n",
       "        text-align: right;\n",
       "    }\n",
       "</style>\n",
       "<table border=\"1\" class=\"dataframe\">\n",
       "  <thead>\n",
       "    <tr style=\"text-align: right;\">\n",
       "      <th></th>\n",
       "      <th>correct_coefs</th>\n",
       "      <th>freq</th>\n",
       "      <th>num dsgrmnts</th>\n",
       "    </tr>\n",
       "  </thead>\n",
       "  <tbody>\n",
       "  </tbody>\n",
       "</table>\n",
       "</div>"
      ],
      "text/plain": [
       "Empty DataFrame\n",
       "Columns: [correct_coefs, freq, num dsgrmnts]\n",
       "Index: []"
      ]
     },
     "execution_count": 249,
     "metadata": {},
     "output_type": "execute_result"
    }
   ],
   "source": [
    "df_corr_det[df_corr_det[\"num dsgrmnts\"] == 10]"
   ]
  },
  {
   "cell_type": "code",
   "execution_count": 274,
   "id": "5d8ece95",
   "metadata": {},
   "outputs": [
    {
     "name": "stdout",
     "output_type": "stream",
     "text": [
      "50000\n",
      "20000\n"
     ]
    }
   ],
   "source": [
    "disagreement_test = []\n",
    "for preds in zip(*pred_list):\n",
    "    disagreement_test.append(len(np.unique(preds)))\n",
    "print(len(disagreement_test))\n",
    "\n",
    "disagreement_val = []\n",
    "for preds in zip(*pred_list_val):\n",
    "    disagreement_val.append(len(np.unique(preds)))\n",
    "print(len(disagreement_val))"
   ]
  },
  {
   "cell_type": "markdown",
   "id": "68f455e4",
   "metadata": {},
   "source": [
    "### Train a Linear layer to predict mixing coefficients "
   ]
  },
  {
   "cell_type": "code",
   "execution_count": 23,
   "id": "263579af",
   "metadata": {},
   "outputs": [],
   "source": [
    "from sklearn.linear_model import LinearRegression"
   ]
  },
  {
   "cell_type": "markdown",
   "id": "3da789d8",
   "metadata": {},
   "source": [
    "### (i) Just image and text scores"
   ]
  },
  {
   "cell_type": "code",
   "execution_count": 41,
   "id": "652a61b3",
   "metadata": {},
   "outputs": [
    {
     "name": "stdout",
     "output_type": "stream",
     "text": [
      "Image Classification Scores:  (20000, 1000)\n",
      "Text Classification Scores:  (20000, 1000)\n",
      "Combined input Features: (20000, 2000)\n"
     ]
    },
    {
     "data": {
      "application/vnd.jupyter.widget-view+json": {
       "model_id": "9b1ac3988a9845de8f240d1f4830d613",
       "version_major": 2,
       "version_minor": 0
      },
      "text/plain": [
       "0it [00:00, ?it/s]"
      ]
     },
     "metadata": {},
     "output_type": "display_data"
    },
    {
     "name": "stdout",
     "output_type": "stream",
     "text": [
      "Size of viable data: 15009 20000\n",
      "Train/Val split: 16000 4000\n",
      "16000 12011\n",
      "Viable train data: 16000 12011\n",
      "Train Dims\n",
      "torch.Size([12011, 1024])\n",
      "torch.Size([12011])\n",
      "(12011, 2)\n",
      "(12011, 2000)\n",
      "Val Dims\n",
      "torch.Size([4000, 1024])\n",
      "torch.Size([4000])\n",
      "(4000, 2000)\n",
      "(4000, 2)\n"
     ]
    }
   ],
   "source": [
    "# TRAIN/VAL SET\n",
    "\n",
    "# image classification scores\n",
    "\n",
    "scores = image_only_clf_oversampled.predict_proba(image_embeddings_val)\n",
    "print(\"Image Classification Scores: \", scores.shape)\n",
    "\n",
    "# text classification scores\n",
    "\n",
    "text_scores_val = text_only_balanced_clf.predict_proba(image_embeddings_val)\n",
    "print(\"Text Classification Scores: \", text_scores_val.shape)\n",
    "\n",
    "# combine\n",
    "input_features = np.concatenate((scores, text_scores_val), axis=-1)\n",
    "print(\"Combined input Features:\", input_features.shape)\n",
    "\n",
    "# Get correct coefficients for correctly classified samples from val set\n",
    "\n",
    "indices = [] # indices corresponding to coefs\n",
    "corr_coefs = [] # coefs corresponding to input\n",
    "\n",
    "coefs = np.array([i/20.0 for i in range(0, 21)])\n",
    "remove_from_train = []\n",
    "for i, z in tqdm(enumerate(zip(*val_instance_preds))):\n",
    "    z = np.array(z)\n",
    "    inds = np.where(z == labels_val[i].item())[0]\n",
    "    if len(inds) > 0 :\n",
    "        correct_coefs = coefs[inds]\n",
    "        indices.append(i)\n",
    "        corr_coefs.append([np.mean(correct_coefs), np.max(correct_coefs)-np.mean(correct_coefs)])\n",
    "    else:\n",
    "        remove_from_train.append(i)\n",
    "        corr_coefs.append([-1, -1])\n",
    "        \n",
    "indices = np.array(indices)\n",
    "corr_coefs = np.array(corr_coefs)\n",
    "\n",
    "print(\"Size of viable data:\", len(indices), len(corr_coefs))\n",
    "\n",
    "\n",
    "from sklearn.model_selection import train_test_split\n",
    "split_inds = np.array(range(image_embeddings_val.shape[0]))\n",
    "X_train, X_val, _, _ = train_test_split(split_inds, split_inds, test_size=0.20, random_state=0)\n",
    "\n",
    "print(\"Train/Val split:\", len(X_train), len(X_val))\n",
    "\n",
    "X_train_filt = []\n",
    "for x in X_train:\n",
    "    if x not in remove_from_train:\n",
    "        X_train_filt.append(x)\n",
    "        \n",
    "print(len(X_train), len(X_train_filt))\n",
    "\n",
    "print(\"Viable train data:\", len(X_train), len(X_train_filt))\n",
    "\n",
    "ie_train = image_embeddings_val[X_train_filt]\n",
    "vlabels_train = labels_val[X_train_filt]\n",
    "corr_coefs_train = corr_coefs[X_train_filt]\n",
    "input_features_train = input_features[X_train_filt]\n",
    "\n",
    "print(\"Train Dims\")\n",
    "print(ie_train.shape)\n",
    "print(vlabels_train.shape)\n",
    "print(corr_coefs_train.shape)\n",
    "print(input_features_train.shape)\n",
    "\n",
    "ie_val = image_embeddings_val[X_val]\n",
    "input_features_val = input_features[X_val]\n",
    "vlabels_val = labels_val[X_val]\n",
    "corr_coefs_val = corr_coefs[X_val]\n",
    "\n",
    "print(\"Val Dims\")\n",
    "print(ie_val.shape)\n",
    "print(vlabels_val.shape)\n",
    "print(input_features_val.shape)\n",
    "print(corr_coefs_val.shape)\n"
   ]
  },
  {
   "cell_type": "code",
   "execution_count": 26,
   "id": "d718e9f6",
   "metadata": {},
   "outputs": [
    {
     "data": {
      "application/vnd.jupyter.widget-view+json": {
       "model_id": "a13e0ef5ba92414f8d8d8ec9b691612e",
       "version_major": 2,
       "version_minor": 0
      },
      "text/plain": [
       "0it [00:00, ?it/s]"
      ]
     },
     "metadata": {},
     "output_type": "display_data"
    },
    {
     "name": "stdout",
     "output_type": "stream",
     "text": [
      "(36989, 2000)\n",
      "(36989, 2)\n",
      "(50000, 2000)\n"
     ]
    }
   ],
   "source": [
    "## TEST SET\n",
    "\n",
    "# Get correct coefficients for correctly classified samples from test set\n",
    "\n",
    "test_indices = [] # indices corresponding to coefs\n",
    "corr_coefs_test = [] # coefs corresponding to input\n",
    "\n",
    "coefs = np.array([i/20.0 for i in range(0, 21)])\n",
    "\n",
    "for i, z in tqdm(enumerate(zip(*test_instance_preds))):\n",
    "    z = np.array(z)\n",
    "    inds = np.where(z == labels[i].item())[0]\n",
    "    if len(inds) > 0 :\n",
    "        correct_coefs = coefs[inds]\n",
    "        test_indices.append(i)\n",
    "        corr_coefs_test.append([np.mean(correct_coefs), np.max(correct_coefs)-np.mean(correct_coefs)])\n",
    "        \n",
    "test_indices = np.array(test_indices)\n",
    "test_targets = np.array(corr_coefs_test)\n",
    "\n",
    "# Image scores\n",
    "test_scores = image_only_clf_oversampled.predict_proba(image_embeddings)\n",
    "\n",
    "# Text scores\n",
    "text_scores_test = text_only_balanced_clf.predict_proba(image_embeddings)\n",
    "\n",
    "# Combine\n",
    "input_features_test = np.concatenate((test_scores, text_scores_test), axis=-1)\n",
    "\n",
    "# Align\n",
    "test_inputs = input_features_test[test_indices, :]\n",
    "corr_coefs_test = np.array(corr_coefs_test)\n",
    "\n",
    "print(test_inputs.shape)\n",
    "print(corr_coefs_test.shape)\n",
    "print(input_features_test.shape)"
   ]
  },
  {
   "cell_type": "code",
   "execution_count": 489,
   "id": "f1b69ac1",
   "metadata": {},
   "outputs": [
    {
     "name": "stdout",
     "output_type": "stream",
     "text": [
      "Stored 'test_indices' (ndarray)\n",
      "Stored 'test_targets' (ndarray)\n"
     ]
    }
   ],
   "source": [
    "%store test_indices\n",
    "%store test_targets"
   ]
  },
  {
   "cell_type": "code",
   "execution_count": null,
   "id": "670d4a03",
   "metadata": {
    "scrolled": true
   },
   "outputs": [],
   "source": [
    "import torch\n",
    "import torch.nn as nn\n",
    "import copy \n",
    "\n",
    "class LinearRegressionModel(nn.Module):\n",
    "    def __init__(self, input_dim, output_dim):\n",
    "        super(LinearRegressionModel, self).__init__()\n",
    "        self.linear = nn.Linear(input_dim, output_dim)\n",
    "#         self.bn = nn.LayerNorm(100)\n",
    "#         self.do = nn.Dropout(p=0.05)\n",
    "#         self.linear2 = nn.Linear(100, output_dim)\n",
    "        self.m = nn.Sigmoid()\n",
    "        self.mse = nn.MSELoss()\n",
    "\n",
    "    def forward(self, x):\n",
    "        x = self.linear(x)\n",
    "#         x = self.bn(x)\n",
    "#         x = self.linear2(x)\n",
    "        out = self.m(x)\n",
    "        return out\n",
    "\n",
    "def loss_fn(output, target):\n",
    "    mse = nn.MSELoss()\n",
    "    loss1 = mse(output,target)\n",
    "    return loss1\n",
    "\n",
    "epochs = 5000\n",
    "model = LinearRegressionModel(2000, 2)\n",
    "learning_rate = 0.01\n",
    "optimizer = torch.optim.AdamW(model.parameters(), lr=learning_rate)\n",
    "# optimizer = torch.optim.SGD(model.parameters(), lr=0.001, momentum=0.9)\n",
    "sched = torch.optim.lr_scheduler.CosineAnnealingLR(optimizer, T_max= epochs)\n",
    "best_model = model\n",
    "best_acc = 0\n",
    "\n",
    "for epoch in range(epochs):\n",
    "    model.train()\n",
    "    # Convert numpy array to torch Variable\n",
    "    inputs = torch.from_numpy(input_features_train).float().requires_grad_()\n",
    "    targets = torch.from_numpy(corr_coefs_train).float()\n",
    "\n",
    "    # Clear gradients w.r.t. parameters\n",
    "    optimizer.zero_grad() \n",
    "\n",
    "    # Forward to get output\n",
    "    outputs = model(inputs)\n",
    "\n",
    "    # Calculate Loss\n",
    "    loss = loss_fn(outputs, targets)\n",
    "\n",
    "    # Getting gradients w.r.t. parameters\n",
    "    loss.backward()\n",
    "\n",
    "    # Updating parameters\n",
    "    optimizer.step()\n",
    "    sched.step()\n",
    "\n",
    "    if epoch%100 == 0:\n",
    "        model.eval()\n",
    "        val_coef_preds = model(torch.from_numpy(input_features_val).float())\n",
    "        val_acc = evaluate_acc(val_coef_preds, vlabels_val, ie_val)\n",
    "        if val_acc > best_acc:\n",
    "            print(\"Updating best model\")\n",
    "            best_acc = val_acc\n",
    "            best_model = copy.deepcopy(model)\n",
    "        print(f'epoch {epoch}, loss {loss.item():.5f}, v_acc {val_acc:.3f}')"
   ]
  },
  {
   "cell_type": "code",
   "execution_count": 113,
   "id": "7734113a",
   "metadata": {},
   "outputs": [
    {
     "name": "stdout",
     "output_type": "stream",
     "text": [
      "torch.Size([12760, 2])\n",
      "torch.Size([3000, 2])\n",
      "torch.Size([50000, 2])\n"
     ]
    }
   ],
   "source": [
    "model.eval()\n",
    "with torch.no_grad():\n",
    "    train_coef_preds = best_model(torch.from_numpy(input_features_train).float())\n",
    "    print(train_coef_preds.shape)        \n",
    "    val_coef_preds = best_model(torch.from_numpy(input_features_val).float())\n",
    "    print(val_coef_preds.shape)  \n",
    "    test_coef_preds = best_model(torch.from_numpy(input_features_test).float())\n",
    "    print(test_coef_preds.shape)        "
   ]
  },
  {
   "cell_type": "code",
   "execution_count": 30,
   "id": "c9369775",
   "metadata": {},
   "outputs": [],
   "source": [
    "def evaluate_acc(coef_preds, labels, ie, v = False, test=False):\n",
    "    mixed_clf = pickle.load(open(\"results_sklearn/config_convex_comb_1/13-Sep-2022-00-50-56/final_model.sav\", 'rb'))\n",
    "    acc = 0\n",
    "    preds = []\n",
    "    for j in tqdm(range(coef_preds.shape[0])):\n",
    "        i = coef_preds[j][0].item() \n",
    "        mixed_clf.coef_ = i*text_only_balanced_clf.coef_ + (1-i)*image_only_clf_oversampled.coef_\n",
    "        mixed_clf.intercept_ = i*text_only_balanced_clf.intercept_ + (1-i)*image_only_clf_oversampled.intercept_\n",
    "        pred = mixed_clf.predict(ie[j].reshape(1, -1))\n",
    "        preds.append(pred[0])\n",
    "        if pred[0] == labels[j].item():\n",
    "            acc+=1\n",
    "        if j>0 and j%1000== 0 and v:\n",
    "            blah = acc*100/j\n",
    "            print(f\"{blah:.3f}, {j}\")\n",
    "    if test:\n",
    "        all_accs_p(np.array(preds))\n",
    "    return acc*100/j"
   ]
  },
  {
   "cell_type": "code",
   "execution_count": 115,
   "id": "0e24294f",
   "metadata": {
    "scrolled": true
   },
   "outputs": [
    {
     "data": {
      "application/vnd.jupyter.widget-view+json": {
       "model_id": "054dfb816899439e9611e768b6e30e05",
       "version_major": 2,
       "version_minor": 0
      },
      "text/plain": [
       "  0%|          | 0/12760 [00:00<?, ?it/s]"
      ]
     },
     "metadata": {},
     "output_type": "display_data"
    },
    {
     "name": "stdout",
     "output_type": "stream",
     "text": [
      "88.10251587114978\n"
     ]
    },
    {
     "data": {
      "application/vnd.jupyter.widget-view+json": {
       "model_id": "8ccbc0fb824d43ecb8f18d3f63da7fd5",
       "version_major": 2,
       "version_minor": 0
      },
      "text/plain": [
       "  0%|          | 0/3000 [00:00<?, ?it/s]"
      ]
     },
     "metadata": {},
     "output_type": "display_data"
    },
    {
     "name": "stdout",
     "output_type": "stream",
     "text": [
      "66.08869623207735\n"
     ]
    },
    {
     "data": {
      "application/vnd.jupyter.widget-view+json": {
       "model_id": "5a797ea1c323430ab20bc14f507026fd",
       "version_major": 2,
       "version_minor": 0
      },
      "text/plain": [
       "  0%|          | 0/50000 [00:00<?, ?it/s]"
      ]
     },
     "metadata": {},
     "output_type": "display_data"
    },
    {
     "name": "stdout",
     "output_type": "stream",
     "text": [
      "0.646/0.725/0.634/0.457\n",
      "64.57729154583092\n"
     ]
    }
   ],
   "source": [
    "print(evaluate_acc(train_coef_preds, vlabels_train, ie_train))\n",
    "print(evaluate_acc(val_coef_preds, vlabels_val, ie_val))\n",
    "print(evaluate_acc(test_coef_preds, labels.numpy(), image_embeddings, test = True))"
   ]
  },
  {
   "cell_type": "markdown",
   "id": "31019642",
   "metadata": {},
   "source": [
    "### (ii) Optimizer variant"
   ]
  },
  {
   "cell_type": "code",
   "execution_count": 116,
   "id": "51de38cb",
   "metadata": {},
   "outputs": [
    {
     "data": {
      "application/vnd.jupyter.widget-view+json": {
       "model_id": "867e2bd7969d4e278a67c2f48c83bd7c",
       "version_major": 2,
       "version_minor": 0
      },
      "text/plain": [
       "  0%|          | 0/3000 [00:00<?, ?it/s]"
      ]
     },
     "metadata": {},
     "output_type": "display_data"
    },
    {
     "name": "stdout",
     "output_type": "stream",
     "text": [
      "Updating best model\n",
      "epoch 0, loss 0.02430, v_acc 65.522\n"
     ]
    },
    {
     "data": {
      "application/vnd.jupyter.widget-view+json": {
       "model_id": "dd2e1ee733cb413f90bc5c488e542459",
       "version_major": 2,
       "version_minor": 0
      },
      "text/plain": [
       "  0%|          | 0/3000 [00:00<?, ?it/s]"
      ]
     },
     "metadata": {},
     "output_type": "display_data"
    },
    {
     "name": "stdout",
     "output_type": "stream",
     "text": [
      "Updating best model\n",
      "epoch 100, loss 0.02270, v_acc 65.589\n"
     ]
    },
    {
     "data": {
      "application/vnd.jupyter.widget-view+json": {
       "model_id": "6a4999a819814b669fe13cf8019c6d88",
       "version_major": 2,
       "version_minor": 0
      },
      "text/plain": [
       "  0%|          | 0/3000 [00:00<?, ?it/s]"
      ]
     },
     "metadata": {},
     "output_type": "display_data"
    },
    {
     "name": "stdout",
     "output_type": "stream",
     "text": [
      "Updating best model\n",
      "epoch 200, loss 0.02175, v_acc 65.622\n"
     ]
    },
    {
     "data": {
      "application/vnd.jupyter.widget-view+json": {
       "model_id": "cbe67adc66534fe0b904f723325b4471",
       "version_major": 2,
       "version_minor": 0
      },
      "text/plain": [
       "  0%|          | 0/3000 [00:00<?, ?it/s]"
      ]
     },
     "metadata": {},
     "output_type": "display_data"
    },
    {
     "name": "stdout",
     "output_type": "stream",
     "text": [
      "epoch 300, loss 0.02125, v_acc 65.589\n"
     ]
    },
    {
     "data": {
      "application/vnd.jupyter.widget-view+json": {
       "model_id": "74ae818f0d1a4d4b837658a6cdeee9d3",
       "version_major": 2,
       "version_minor": 0
      },
      "text/plain": [
       "  0%|          | 0/3000 [00:00<?, ?it/s]"
      ]
     },
     "metadata": {},
     "output_type": "display_data"
    },
    {
     "name": "stdout",
     "output_type": "stream",
     "text": [
      "epoch 400, loss 0.02099, v_acc 65.622\n"
     ]
    },
    {
     "data": {
      "application/vnd.jupyter.widget-view+json": {
       "model_id": "743ef0b8581f4cde970cee57465c5760",
       "version_major": 2,
       "version_minor": 0
      },
      "text/plain": [
       "  0%|          | 0/3000 [00:00<?, ?it/s]"
      ]
     },
     "metadata": {},
     "output_type": "display_data"
    },
    {
     "name": "stdout",
     "output_type": "stream",
     "text": [
      "epoch 500, loss 0.02085, v_acc 65.622\n"
     ]
    },
    {
     "data": {
      "application/vnd.jupyter.widget-view+json": {
       "model_id": "773c50f6cd054051bf62c3fff4764be7",
       "version_major": 2,
       "version_minor": 0
      },
      "text/plain": [
       "  0%|          | 0/3000 [00:00<?, ?it/s]"
      ]
     },
     "metadata": {},
     "output_type": "display_data"
    },
    {
     "name": "stdout",
     "output_type": "stream",
     "text": [
      "epoch 600, loss 0.02077, v_acc 65.622\n"
     ]
    },
    {
     "data": {
      "application/vnd.jupyter.widget-view+json": {
       "model_id": "69000272c94045c19078a83e31046b06",
       "version_major": 2,
       "version_minor": 0
      },
      "text/plain": [
       "  0%|          | 0/3000 [00:00<?, ?it/s]"
      ]
     },
     "metadata": {},
     "output_type": "display_data"
    },
    {
     "name": "stdout",
     "output_type": "stream",
     "text": [
      "Updating best model\n",
      "epoch 700, loss 0.02073, v_acc 65.655\n"
     ]
    },
    {
     "data": {
      "application/vnd.jupyter.widget-view+json": {
       "model_id": "37807874b5094b70877236c7604937ab",
       "version_major": 2,
       "version_minor": 0
      },
      "text/plain": [
       "  0%|          | 0/3000 [00:00<?, ?it/s]"
      ]
     },
     "metadata": {},
     "output_type": "display_data"
    },
    {
     "name": "stdout",
     "output_type": "stream",
     "text": [
      "epoch 800, loss 0.02071, v_acc 65.655\n"
     ]
    },
    {
     "data": {
      "application/vnd.jupyter.widget-view+json": {
       "model_id": "9ac418e288b848699f823a02a40489a5",
       "version_major": 2,
       "version_minor": 0
      },
      "text/plain": [
       "  0%|          | 0/3000 [00:00<?, ?it/s]"
      ]
     },
     "metadata": {},
     "output_type": "display_data"
    },
    {
     "name": "stdout",
     "output_type": "stream",
     "text": [
      "epoch 900, loss 0.02070, v_acc 65.622\n"
     ]
    },
    {
     "data": {
      "application/vnd.jupyter.widget-view+json": {
       "model_id": "5ab601e61a154f93b2e0b0eca424c895",
       "version_major": 2,
       "version_minor": 0
      },
      "text/plain": [
       "  0%|          | 0/3000 [00:00<?, ?it/s]"
      ]
     },
     "metadata": {},
     "output_type": "display_data"
    },
    {
     "name": "stdout",
     "output_type": "stream",
     "text": [
      "epoch 1000, loss 0.02069, v_acc 65.622\n"
     ]
    },
    {
     "data": {
      "application/vnd.jupyter.widget-view+json": {
       "model_id": "cac43cd065d84236951524eac76c4bab",
       "version_major": 2,
       "version_minor": 0
      },
      "text/plain": [
       "  0%|          | 0/3000 [00:00<?, ?it/s]"
      ]
     },
     "metadata": {},
     "output_type": "display_data"
    },
    {
     "name": "stdout",
     "output_type": "stream",
     "text": [
      "epoch 1100, loss 0.02069, v_acc 65.622\n"
     ]
    },
    {
     "data": {
      "application/vnd.jupyter.widget-view+json": {
       "model_id": "e6f128fec6204caa9109db13f27d7df6",
       "version_major": 2,
       "version_minor": 0
      },
      "text/plain": [
       "  0%|          | 0/3000 [00:00<?, ?it/s]"
      ]
     },
     "metadata": {},
     "output_type": "display_data"
    },
    {
     "name": "stdout",
     "output_type": "stream",
     "text": [
      "epoch 1200, loss 0.02068, v_acc 65.589\n"
     ]
    },
    {
     "data": {
      "application/vnd.jupyter.widget-view+json": {
       "model_id": "8fc1d3ae0c5e40f2a6ecc48ab15fcbb4",
       "version_major": 2,
       "version_minor": 0
      },
      "text/plain": [
       "  0%|          | 0/3000 [00:00<?, ?it/s]"
      ]
     },
     "metadata": {},
     "output_type": "display_data"
    },
    {
     "name": "stdout",
     "output_type": "stream",
     "text": [
      "epoch 1300, loss 0.02068, v_acc 65.589\n"
     ]
    },
    {
     "data": {
      "application/vnd.jupyter.widget-view+json": {
       "model_id": "34b3d3b395cf4f9fa87301aad26f3135",
       "version_major": 2,
       "version_minor": 0
      },
      "text/plain": [
       "  0%|          | 0/3000 [00:00<?, ?it/s]"
      ]
     },
     "metadata": {},
     "output_type": "display_data"
    },
    {
     "name": "stdout",
     "output_type": "stream",
     "text": [
      "epoch 1400, loss 0.02068, v_acc 65.589\n"
     ]
    },
    {
     "data": {
      "application/vnd.jupyter.widget-view+json": {
       "model_id": "aeab88df364144fba74044604903e25c",
       "version_major": 2,
       "version_minor": 0
      },
      "text/plain": [
       "  0%|          | 0/3000 [00:00<?, ?it/s]"
      ]
     },
     "metadata": {},
     "output_type": "display_data"
    },
    {
     "name": "stdout",
     "output_type": "stream",
     "text": [
      "epoch 1500, loss 0.02068, v_acc 65.589\n"
     ]
    },
    {
     "data": {
      "application/vnd.jupyter.widget-view+json": {
       "model_id": "5a8d6da27f1a4c818b84f13efe708f8a",
       "version_major": 2,
       "version_minor": 0
      },
      "text/plain": [
       "  0%|          | 0/3000 [00:00<?, ?it/s]"
      ]
     },
     "metadata": {},
     "output_type": "display_data"
    },
    {
     "name": "stdout",
     "output_type": "stream",
     "text": [
      "epoch 1600, loss 0.02068, v_acc 65.589\n"
     ]
    },
    {
     "data": {
      "application/vnd.jupyter.widget-view+json": {
       "model_id": "7c2cc58f4b3a4dd388117d645d4deb8e",
       "version_major": 2,
       "version_minor": 0
      },
      "text/plain": [
       "  0%|          | 0/3000 [00:00<?, ?it/s]"
      ]
     },
     "metadata": {},
     "output_type": "display_data"
    },
    {
     "name": "stdout",
     "output_type": "stream",
     "text": [
      "epoch 1700, loss 0.02068, v_acc 65.589\n"
     ]
    },
    {
     "data": {
      "application/vnd.jupyter.widget-view+json": {
       "model_id": "73114c704fb943da865454c361c443aa",
       "version_major": 2,
       "version_minor": 0
      },
      "text/plain": [
       "  0%|          | 0/3000 [00:00<?, ?it/s]"
      ]
     },
     "metadata": {},
     "output_type": "display_data"
    },
    {
     "name": "stdout",
     "output_type": "stream",
     "text": [
      "epoch 1800, loss 0.02068, v_acc 65.589\n"
     ]
    },
    {
     "data": {
      "application/vnd.jupyter.widget-view+json": {
       "model_id": "bbc6529aafd842918248c577d8964ba0",
       "version_major": 2,
       "version_minor": 0
      },
      "text/plain": [
       "  0%|          | 0/3000 [00:00<?, ?it/s]"
      ]
     },
     "metadata": {},
     "output_type": "display_data"
    },
    {
     "name": "stdout",
     "output_type": "stream",
     "text": [
      "epoch 1900, loss 0.02068, v_acc 65.589\n"
     ]
    },
    {
     "data": {
      "application/vnd.jupyter.widget-view+json": {
       "model_id": "4ec769376c714d138821ff2fefe80159",
       "version_major": 2,
       "version_minor": 0
      },
      "text/plain": [
       "  0%|          | 0/3000 [00:00<?, ?it/s]"
      ]
     },
     "metadata": {},
     "output_type": "display_data"
    },
    {
     "name": "stdout",
     "output_type": "stream",
     "text": [
      "epoch 2000, loss 0.02068, v_acc 65.589\n"
     ]
    },
    {
     "data": {
      "application/vnd.jupyter.widget-view+json": {
       "model_id": "d687702b20104185ac779c69f4862c6c",
       "version_major": 2,
       "version_minor": 0
      },
      "text/plain": [
       "  0%|          | 0/3000 [00:00<?, ?it/s]"
      ]
     },
     "metadata": {},
     "output_type": "display_data"
    },
    {
     "name": "stdout",
     "output_type": "stream",
     "text": [
      "epoch 2100, loss 0.02067, v_acc 65.589\n"
     ]
    },
    {
     "data": {
      "application/vnd.jupyter.widget-view+json": {
       "model_id": "7272744bed6145edae9c2800a07e636f",
       "version_major": 2,
       "version_minor": 0
      },
      "text/plain": [
       "  0%|          | 0/3000 [00:00<?, ?it/s]"
      ]
     },
     "metadata": {},
     "output_type": "display_data"
    },
    {
     "name": "stdout",
     "output_type": "stream",
     "text": [
      "epoch 2200, loss 0.02067, v_acc 65.589\n"
     ]
    },
    {
     "data": {
      "application/vnd.jupyter.widget-view+json": {
       "model_id": "20811c5bb8d04e5d932638d81bbf3469",
       "version_major": 2,
       "version_minor": 0
      },
      "text/plain": [
       "  0%|          | 0/3000 [00:00<?, ?it/s]"
      ]
     },
     "metadata": {},
     "output_type": "display_data"
    },
    {
     "name": "stdout",
     "output_type": "stream",
     "text": [
      "epoch 2300, loss 0.02067, v_acc 65.589\n"
     ]
    },
    {
     "data": {
      "application/vnd.jupyter.widget-view+json": {
       "model_id": "6e178731f5984f9cb47a88a99a756f43",
       "version_major": 2,
       "version_minor": 0
      },
      "text/plain": [
       "  0%|          | 0/3000 [00:00<?, ?it/s]"
      ]
     },
     "metadata": {},
     "output_type": "display_data"
    },
    {
     "name": "stdout",
     "output_type": "stream",
     "text": [
      "epoch 2400, loss 0.02067, v_acc 65.589\n"
     ]
    },
    {
     "data": {
      "application/vnd.jupyter.widget-view+json": {
       "model_id": "e4fe4acb320d4690abd43dc40a91ab5a",
       "version_major": 2,
       "version_minor": 0
      },
      "text/plain": [
       "  0%|          | 0/3000 [00:00<?, ?it/s]"
      ]
     },
     "metadata": {},
     "output_type": "display_data"
    },
    {
     "name": "stdout",
     "output_type": "stream",
     "text": [
      "epoch 2500, loss 0.02067, v_acc 65.589\n"
     ]
    },
    {
     "data": {
      "application/vnd.jupyter.widget-view+json": {
       "model_id": "753735a1c5f844a096849dacda396da4",
       "version_major": 2,
       "version_minor": 0
      },
      "text/plain": [
       "  0%|          | 0/3000 [00:00<?, ?it/s]"
      ]
     },
     "metadata": {},
     "output_type": "display_data"
    },
    {
     "name": "stdout",
     "output_type": "stream",
     "text": [
      "epoch 2600, loss 0.02067, v_acc 65.589\n"
     ]
    },
    {
     "data": {
      "application/vnd.jupyter.widget-view+json": {
       "model_id": "6334ccd988e649649f4639a8ebf4dbda",
       "version_major": 2,
       "version_minor": 0
      },
      "text/plain": [
       "  0%|          | 0/3000 [00:00<?, ?it/s]"
      ]
     },
     "metadata": {},
     "output_type": "display_data"
    },
    {
     "name": "stdout",
     "output_type": "stream",
     "text": [
      "epoch 2700, loss 0.02067, v_acc 65.589\n"
     ]
    },
    {
     "data": {
      "application/vnd.jupyter.widget-view+json": {
       "model_id": "f3012fc09e5b4617994e85ea55b5d9ba",
       "version_major": 2,
       "version_minor": 0
      },
      "text/plain": [
       "  0%|          | 0/3000 [00:00<?, ?it/s]"
      ]
     },
     "metadata": {},
     "output_type": "display_data"
    },
    {
     "name": "stdout",
     "output_type": "stream",
     "text": [
      "epoch 2800, loss 0.02067, v_acc 65.589\n"
     ]
    },
    {
     "data": {
      "application/vnd.jupyter.widget-view+json": {
       "model_id": "a5c6ca8a619747559fd2930e52f4b284",
       "version_major": 2,
       "version_minor": 0
      },
      "text/plain": [
       "  0%|          | 0/3000 [00:00<?, ?it/s]"
      ]
     },
     "metadata": {},
     "output_type": "display_data"
    },
    {
     "name": "stdout",
     "output_type": "stream",
     "text": [
      "epoch 2900, loss 0.02067, v_acc 65.589\n"
     ]
    },
    {
     "data": {
      "application/vnd.jupyter.widget-view+json": {
       "model_id": "07edafe0f02444aa9945b6d1452918bb",
       "version_major": 2,
       "version_minor": 0
      },
      "text/plain": [
       "  0%|          | 0/3000 [00:00<?, ?it/s]"
      ]
     },
     "metadata": {},
     "output_type": "display_data"
    },
    {
     "name": "stdout",
     "output_type": "stream",
     "text": [
      "epoch 3000, loss 0.02067, v_acc 65.589\n"
     ]
    },
    {
     "data": {
      "application/vnd.jupyter.widget-view+json": {
       "model_id": "40ecaabbf6fa43538954651d74fd6ca1",
       "version_major": 2,
       "version_minor": 0
      },
      "text/plain": [
       "  0%|          | 0/3000 [00:00<?, ?it/s]"
      ]
     },
     "metadata": {},
     "output_type": "display_data"
    },
    {
     "name": "stdout",
     "output_type": "stream",
     "text": [
      "epoch 3100, loss 0.02067, v_acc 65.589\n"
     ]
    },
    {
     "data": {
      "application/vnd.jupyter.widget-view+json": {
       "model_id": "39a2e781c627465e87b0178406f35146",
       "version_major": 2,
       "version_minor": 0
      },
      "text/plain": [
       "  0%|          | 0/3000 [00:00<?, ?it/s]"
      ]
     },
     "metadata": {},
     "output_type": "display_data"
    },
    {
     "name": "stdout",
     "output_type": "stream",
     "text": [
      "epoch 3200, loss 0.02067, v_acc 65.589\n"
     ]
    },
    {
     "data": {
      "application/vnd.jupyter.widget-view+json": {
       "model_id": "3a1a553542a34f2abf12b5f4be4b136e",
       "version_major": 2,
       "version_minor": 0
      },
      "text/plain": [
       "  0%|          | 0/3000 [00:00<?, ?it/s]"
      ]
     },
     "metadata": {},
     "output_type": "display_data"
    },
    {
     "name": "stdout",
     "output_type": "stream",
     "text": [
      "epoch 3300, loss 0.02067, v_acc 65.589\n"
     ]
    },
    {
     "data": {
      "application/vnd.jupyter.widget-view+json": {
       "model_id": "85c6207dce134a73826a9b448caead8a",
       "version_major": 2,
       "version_minor": 0
      },
      "text/plain": [
       "  0%|          | 0/3000 [00:00<?, ?it/s]"
      ]
     },
     "metadata": {},
     "output_type": "display_data"
    },
    {
     "name": "stdout",
     "output_type": "stream",
     "text": [
      "epoch 3400, loss 0.02067, v_acc 65.589\n"
     ]
    },
    {
     "data": {
      "application/vnd.jupyter.widget-view+json": {
       "model_id": "f7fa46637b9e4f7588aa51edeb6e13f0",
       "version_major": 2,
       "version_minor": 0
      },
      "text/plain": [
       "  0%|          | 0/3000 [00:00<?, ?it/s]"
      ]
     },
     "metadata": {},
     "output_type": "display_data"
    },
    {
     "name": "stdout",
     "output_type": "stream",
     "text": [
      "epoch 3500, loss 0.02067, v_acc 65.589\n"
     ]
    },
    {
     "data": {
      "application/vnd.jupyter.widget-view+json": {
       "model_id": "45593efc9eb9444788625faf1a730414",
       "version_major": 2,
       "version_minor": 0
      },
      "text/plain": [
       "  0%|          | 0/3000 [00:00<?, ?it/s]"
      ]
     },
     "metadata": {},
     "output_type": "display_data"
    },
    {
     "name": "stdout",
     "output_type": "stream",
     "text": [
      "epoch 3600, loss 0.02067, v_acc 65.589\n"
     ]
    },
    {
     "data": {
      "application/vnd.jupyter.widget-view+json": {
       "model_id": "36d36aaa3ad14214ba6bf3b6efcfb82b",
       "version_major": 2,
       "version_minor": 0
      },
      "text/plain": [
       "  0%|          | 0/3000 [00:00<?, ?it/s]"
      ]
     },
     "metadata": {},
     "output_type": "display_data"
    },
    {
     "name": "stdout",
     "output_type": "stream",
     "text": [
      "epoch 3700, loss 0.02067, v_acc 65.589\n"
     ]
    },
    {
     "data": {
      "application/vnd.jupyter.widget-view+json": {
       "model_id": "c50e5b9a63df46208d84fffca9131603",
       "version_major": 2,
       "version_minor": 0
      },
      "text/plain": [
       "  0%|          | 0/3000 [00:00<?, ?it/s]"
      ]
     },
     "metadata": {},
     "output_type": "display_data"
    },
    {
     "name": "stdout",
     "output_type": "stream",
     "text": [
      "epoch 3800, loss 0.02067, v_acc 65.589\n"
     ]
    },
    {
     "data": {
      "application/vnd.jupyter.widget-view+json": {
       "model_id": "7be464090fee4c02b43b70a500b6ab78",
       "version_major": 2,
       "version_minor": 0
      },
      "text/plain": [
       "  0%|          | 0/3000 [00:00<?, ?it/s]"
      ]
     },
     "metadata": {},
     "output_type": "display_data"
    },
    {
     "name": "stdout",
     "output_type": "stream",
     "text": [
      "epoch 3900, loss 0.02067, v_acc 65.589\n"
     ]
    },
    {
     "data": {
      "application/vnd.jupyter.widget-view+json": {
       "model_id": "02d4f95a38ab473dbf404fef6b3b9526",
       "version_major": 2,
       "version_minor": 0
      },
      "text/plain": [
       "  0%|          | 0/3000 [00:00<?, ?it/s]"
      ]
     },
     "metadata": {},
     "output_type": "display_data"
    },
    {
     "name": "stdout",
     "output_type": "stream",
     "text": [
      "epoch 4000, loss 0.02067, v_acc 65.589\n"
     ]
    },
    {
     "data": {
      "application/vnd.jupyter.widget-view+json": {
       "model_id": "d9c897e94b3e4543b55bd7f867fe1008",
       "version_major": 2,
       "version_minor": 0
      },
      "text/plain": [
       "  0%|          | 0/3000 [00:00<?, ?it/s]"
      ]
     },
     "metadata": {},
     "output_type": "display_data"
    },
    {
     "name": "stdout",
     "output_type": "stream",
     "text": [
      "epoch 4100, loss 0.02067, v_acc 65.589\n"
     ]
    },
    {
     "data": {
      "application/vnd.jupyter.widget-view+json": {
       "model_id": "c142fdce97384551b942bda6f2bfcef1",
       "version_major": 2,
       "version_minor": 0
      },
      "text/plain": [
       "  0%|          | 0/3000 [00:00<?, ?it/s]"
      ]
     },
     "metadata": {},
     "output_type": "display_data"
    },
    {
     "name": "stdout",
     "output_type": "stream",
     "text": [
      "epoch 4200, loss 0.02067, v_acc 65.589\n"
     ]
    },
    {
     "data": {
      "application/vnd.jupyter.widget-view+json": {
       "model_id": "eb55a2518ef645e3a8e09308295a79ec",
       "version_major": 2,
       "version_minor": 0
      },
      "text/plain": [
       "  0%|          | 0/3000 [00:00<?, ?it/s]"
      ]
     },
     "metadata": {},
     "output_type": "display_data"
    },
    {
     "name": "stdout",
     "output_type": "stream",
     "text": [
      "epoch 4300, loss 0.02067, v_acc 65.589\n"
     ]
    },
    {
     "data": {
      "application/vnd.jupyter.widget-view+json": {
       "model_id": "be0883c673844af0909a12a56120c917",
       "version_major": 2,
       "version_minor": 0
      },
      "text/plain": [
       "  0%|          | 0/3000 [00:00<?, ?it/s]"
      ]
     },
     "metadata": {},
     "output_type": "display_data"
    },
    {
     "name": "stdout",
     "output_type": "stream",
     "text": [
      "epoch 4400, loss 0.02067, v_acc 65.589\n"
     ]
    },
    {
     "data": {
      "application/vnd.jupyter.widget-view+json": {
       "model_id": "cda07f6ae4504c1ea82fff48d1135f45",
       "version_major": 2,
       "version_minor": 0
      },
      "text/plain": [
       "  0%|          | 0/3000 [00:00<?, ?it/s]"
      ]
     },
     "metadata": {},
     "output_type": "display_data"
    },
    {
     "name": "stdout",
     "output_type": "stream",
     "text": [
      "epoch 4500, loss 0.02067, v_acc 65.589\n"
     ]
    },
    {
     "data": {
      "application/vnd.jupyter.widget-view+json": {
       "model_id": "454fe6df237645a0b9b5d1971c76c8b1",
       "version_major": 2,
       "version_minor": 0
      },
      "text/plain": [
       "  0%|          | 0/3000 [00:00<?, ?it/s]"
      ]
     },
     "metadata": {},
     "output_type": "display_data"
    },
    {
     "name": "stdout",
     "output_type": "stream",
     "text": [
      "epoch 4600, loss 0.02067, v_acc 65.589\n"
     ]
    },
    {
     "data": {
      "application/vnd.jupyter.widget-view+json": {
       "model_id": "51e1d81e01be40b9ae6195db4e24529d",
       "version_major": 2,
       "version_minor": 0
      },
      "text/plain": [
       "  0%|          | 0/3000 [00:00<?, ?it/s]"
      ]
     },
     "metadata": {},
     "output_type": "display_data"
    },
    {
     "name": "stdout",
     "output_type": "stream",
     "text": [
      "epoch 4700, loss 0.02067, v_acc 65.589\n"
     ]
    },
    {
     "data": {
      "application/vnd.jupyter.widget-view+json": {
       "model_id": "e760a16a19f84b48a0d16871077be423",
       "version_major": 2,
       "version_minor": 0
      },
      "text/plain": [
       "  0%|          | 0/3000 [00:00<?, ?it/s]"
      ]
     },
     "metadata": {},
     "output_type": "display_data"
    },
    {
     "name": "stdout",
     "output_type": "stream",
     "text": [
      "epoch 4800, loss 0.02067, v_acc 65.589\n"
     ]
    },
    {
     "data": {
      "application/vnd.jupyter.widget-view+json": {
       "model_id": "5c14040d19e94da88b21a906ace27180",
       "version_major": 2,
       "version_minor": 0
      },
      "text/plain": [
       "  0%|          | 0/3000 [00:00<?, ?it/s]"
      ]
     },
     "metadata": {},
     "output_type": "display_data"
    },
    {
     "name": "stdout",
     "output_type": "stream",
     "text": [
      "epoch 4900, loss 0.02067, v_acc 65.589\n",
      "torch.Size([12760, 2])\n",
      "torch.Size([3000, 2])\n",
      "torch.Size([50000, 2])\n"
     ]
    }
   ],
   "source": [
    "import torch\n",
    "import torch.nn as nn\n",
    "\n",
    "epochs = 5000\n",
    "model = LinearRegressionModel(2000, 2)\n",
    "learning_rate = 0.005\n",
    "# optimizer = torch.optim.Adam(model.parameters(), lr=learning_rate)\n",
    "optimizer = torch.optim.SGD(model.parameters(), lr=0.005, momentum=0.9)\n",
    "sched = torch.optim.lr_scheduler.CosineAnnealingLR(optimizer, T_max= epochs)\n",
    "best_model = model\n",
    "best_acc = 0\n",
    "\n",
    "def loss_fn(output, target):\n",
    "    mse = nn.MSELoss()\n",
    "    loss1 = mse(output,target)\n",
    "    return loss1\n",
    "\n",
    "for epoch in range(epochs):\n",
    "    model.train()\n",
    "    # Convert numpy array to torch Variable\n",
    "    inputs = torch.from_numpy(input_features_train).float().requires_grad_()\n",
    "    targets = torch.from_numpy(corr_coefs_train).float()\n",
    "\n",
    "    # Clear gradients w.r.t. parameters\n",
    "    optimizer.zero_grad() \n",
    "\n",
    "    # Forward to get output\n",
    "    outputs = model(inputs)\n",
    "\n",
    "    # Calculate Loss\n",
    "    loss = loss_fn(outputs, targets)\n",
    "\n",
    "    # Getting gradients w.r.t. parameters\n",
    "    loss.backward()\n",
    "\n",
    "    # Updating parameters\n",
    "    optimizer.step()\n",
    "    sched.step()\n",
    "\n",
    "    if epoch%100 == 0:\n",
    "        model.eval()\n",
    "        val_coef_preds = model(torch.from_numpy(input_features_val).float())\n",
    "        val_acc = evaluate_acc(val_coef_preds, vlabels_val, ie_val)\n",
    "        if val_acc > best_acc:\n",
    "            print(\"Updating best model\")\n",
    "            best_acc = val_acc\n",
    "            best_model = copy.deepcopy(model)\n",
    "        print(f'epoch {epoch}, loss {loss.item():.5f}, v_acc {val_acc:.3f}')\n",
    "        \n",
    "model.eval()\n",
    "with torch.no_grad():\n",
    "    train_coef_preds = best_model(torch.from_numpy(input_features_train).float())\n",
    "    print(train_coef_preds.shape)        \n",
    "    val_coef_preds = best_model(torch.from_numpy(input_features_val).float())\n",
    "    print(val_coef_preds.shape)  \n",
    "    test_coef_preds = best_model(torch.from_numpy(input_features_test).float())\n",
    "    print(test_coef_preds.shape)    "
   ]
  },
  {
   "cell_type": "code",
   "execution_count": 117,
   "id": "0f079146",
   "metadata": {},
   "outputs": [
    {
     "data": {
      "application/vnd.jupyter.widget-view+json": {
       "model_id": "32b47ef486d04d98826fb0d0c7f28769",
       "version_major": 2,
       "version_minor": 0
      },
      "text/plain": [
       "  0%|          | 0/12760 [00:00<?, ?it/s]"
      ]
     },
     "metadata": {},
     "output_type": "display_data"
    },
    {
     "name": "stdout",
     "output_type": "stream",
     "text": [
      "87.35010580766517\n"
     ]
    },
    {
     "data": {
      "application/vnd.jupyter.widget-view+json": {
       "model_id": "61e2430aaeba4340830c5a6974b16af3",
       "version_major": 2,
       "version_minor": 0
      },
      "text/plain": [
       "  0%|          | 0/3000 [00:00<?, ?it/s]"
      ]
     },
     "metadata": {},
     "output_type": "display_data"
    },
    {
     "name": "stdout",
     "output_type": "stream",
     "text": [
      "65.65521840613538\n"
     ]
    },
    {
     "data": {
      "application/vnd.jupyter.widget-view+json": {
       "model_id": "ef12f3155eb74398a5ebcb78ac504295",
       "version_major": 2,
       "version_minor": 0
      },
      "text/plain": [
       "  0%|          | 0/50000 [00:00<?, ?it/s]"
      ]
     },
     "metadata": {},
     "output_type": "display_data"
    },
    {
     "name": "stdout",
     "output_type": "stream",
     "text": [
      "0.644/0.725/0.634/0.444\n",
      "64.37728754575092\n"
     ]
    }
   ],
   "source": [
    "print(evaluate_acc(train_coef_preds, vlabels_train, ie_train))\n",
    "print(evaluate_acc(val_coef_preds, vlabels_val, ie_val))\n",
    "print(evaluate_acc(test_coef_preds, labels.numpy(), image_embeddings, test = True))"
   ]
  },
  {
   "cell_type": "markdown",
   "id": "db9bb52c",
   "metadata": {},
   "source": [
    "### (iii) Loss fn variant"
   ]
  },
  {
   "cell_type": "code",
   "execution_count": 118,
   "id": "01e2761e",
   "metadata": {},
   "outputs": [
    {
     "data": {
      "application/vnd.jupyter.widget-view+json": {
       "model_id": "99e68d9d60a04494b8e974f4adcee1ce",
       "version_major": 2,
       "version_minor": 0
      },
      "text/plain": [
       "  0%|          | 0/3000 [00:00<?, ?it/s]"
      ]
     },
     "metadata": {},
     "output_type": "display_data"
    },
    {
     "name": "stdout",
     "output_type": "stream",
     "text": [
      "Updating best model\n",
      "epoch 0, loss 6.36713, v_acc 65.622\n"
     ]
    },
    {
     "data": {
      "application/vnd.jupyter.widget-view+json": {
       "model_id": "3c316c02f0fd4f35977745cc6f549669",
       "version_major": 2,
       "version_minor": 0
      },
      "text/plain": [
       "  0%|          | 0/3000 [00:00<?, ?it/s]"
      ]
     },
     "metadata": {},
     "output_type": "display_data"
    },
    {
     "name": "stdout",
     "output_type": "stream",
     "text": [
      "Updating best model\n",
      "epoch 100, loss 5.07095, v_acc 66.155\n"
     ]
    },
    {
     "data": {
      "application/vnd.jupyter.widget-view+json": {
       "model_id": "eb19b4ecf0b249d79471166ddd755efa",
       "version_major": 2,
       "version_minor": 0
      },
      "text/plain": [
       "  0%|          | 0/3000 [00:00<?, ?it/s]"
      ]
     },
     "metadata": {},
     "output_type": "display_data"
    },
    {
     "name": "stdout",
     "output_type": "stream",
     "text": [
      "Updating best model\n",
      "epoch 200, loss 4.24767, v_acc 66.422\n"
     ]
    },
    {
     "data": {
      "application/vnd.jupyter.widget-view+json": {
       "model_id": "a3681eb65a544f909cd4b4822d983849",
       "version_major": 2,
       "version_minor": 0
      },
      "text/plain": [
       "  0%|          | 0/3000 [00:00<?, ?it/s]"
      ]
     },
     "metadata": {},
     "output_type": "display_data"
    },
    {
     "name": "stdout",
     "output_type": "stream",
     "text": [
      "Updating best model\n",
      "epoch 300, loss 3.73697, v_acc 66.556\n"
     ]
    },
    {
     "data": {
      "application/vnd.jupyter.widget-view+json": {
       "model_id": "64d9c1be752647a3add562273c7e77d7",
       "version_major": 2,
       "version_minor": 0
      },
      "text/plain": [
       "  0%|          | 0/3000 [00:00<?, ?it/s]"
      ]
     },
     "metadata": {},
     "output_type": "display_data"
    },
    {
     "name": "stdout",
     "output_type": "stream",
     "text": [
      "epoch 400, loss 3.40890, v_acc 66.322\n"
     ]
    },
    {
     "data": {
      "application/vnd.jupyter.widget-view+json": {
       "model_id": "af9c91203790422297681df22eaeb029",
       "version_major": 2,
       "version_minor": 0
      },
      "text/plain": [
       "  0%|          | 0/3000 [00:00<?, ?it/s]"
      ]
     },
     "metadata": {},
     "output_type": "display_data"
    },
    {
     "name": "stdout",
     "output_type": "stream",
     "text": [
      "epoch 500, loss 3.18344, v_acc 66.255\n"
     ]
    },
    {
     "data": {
      "application/vnd.jupyter.widget-view+json": {
       "model_id": "8ae6738dbd1e454091a262e37276db88",
       "version_major": 2,
       "version_minor": 0
      },
      "text/plain": [
       "  0%|          | 0/3000 [00:00<?, ?it/s]"
      ]
     },
     "metadata": {},
     "output_type": "display_data"
    },
    {
     "name": "stdout",
     "output_type": "stream",
     "text": [
      "epoch 600, loss 3.01598, v_acc 66.055\n"
     ]
    },
    {
     "data": {
      "application/vnd.jupyter.widget-view+json": {
       "model_id": "ffb968edab8943b49d64929f821760fe",
       "version_major": 2,
       "version_minor": 0
      },
      "text/plain": [
       "  0%|          | 0/3000 [00:00<?, ?it/s]"
      ]
     },
     "metadata": {},
     "output_type": "display_data"
    },
    {
     "name": "stdout",
     "output_type": "stream",
     "text": [
      "epoch 700, loss 2.88267, v_acc 65.889\n"
     ]
    },
    {
     "data": {
      "application/vnd.jupyter.widget-view+json": {
       "model_id": "d92fcbf475724a36baca0b23b5dc3985",
       "version_major": 2,
       "version_minor": 0
      },
      "text/plain": [
       "  0%|          | 0/3000 [00:00<?, ?it/s]"
      ]
     },
     "metadata": {},
     "output_type": "display_data"
    },
    {
     "name": "stdout",
     "output_type": "stream",
     "text": [
      "epoch 800, loss 2.77094, v_acc 65.789\n"
     ]
    },
    {
     "data": {
      "application/vnd.jupyter.widget-view+json": {
       "model_id": "addf11dd00784b99bbef468ada58abb4",
       "version_major": 2,
       "version_minor": 0
      },
      "text/plain": [
       "  0%|          | 0/3000 [00:00<?, ?it/s]"
      ]
     },
     "metadata": {},
     "output_type": "display_data"
    },
    {
     "name": "stdout",
     "output_type": "stream",
     "text": [
      "epoch 900, loss 2.67406, v_acc 65.755\n"
     ]
    },
    {
     "data": {
      "application/vnd.jupyter.widget-view+json": {
       "model_id": "be46afa7a63842799fd4e2365e9d5a66",
       "version_major": 2,
       "version_minor": 0
      },
      "text/plain": [
       "  0%|          | 0/3000 [00:00<?, ?it/s]"
      ]
     },
     "metadata": {},
     "output_type": "display_data"
    },
    {
     "name": "stdout",
     "output_type": "stream",
     "text": [
      "epoch 1000, loss 2.58834, v_acc 65.655\n"
     ]
    },
    {
     "data": {
      "application/vnd.jupyter.widget-view+json": {
       "model_id": "44037a80f6554dc4a5349ee64056d66b",
       "version_major": 2,
       "version_minor": 0
      },
      "text/plain": [
       "  0%|          | 0/3000 [00:00<?, ?it/s]"
      ]
     },
     "metadata": {},
     "output_type": "display_data"
    },
    {
     "name": "stdout",
     "output_type": "stream",
     "text": [
      "epoch 1100, loss 2.51158, v_acc 65.622\n"
     ]
    },
    {
     "data": {
      "application/vnd.jupyter.widget-view+json": {
       "model_id": "bd348ee24b7b4dc99bde0c0104d22610",
       "version_major": 2,
       "version_minor": 0
      },
      "text/plain": [
       "  0%|          | 0/3000 [00:00<?, ?it/s]"
      ]
     },
     "metadata": {},
     "output_type": "display_data"
    },
    {
     "name": "stdout",
     "output_type": "stream",
     "text": [
      "epoch 1200, loss 2.44236, v_acc 65.589\n"
     ]
    },
    {
     "data": {
      "application/vnd.jupyter.widget-view+json": {
       "model_id": "1a2120da9e094b4f8854699a2ac2202f",
       "version_major": 2,
       "version_minor": 0
      },
      "text/plain": [
       "  0%|          | 0/3000 [00:00<?, ?it/s]"
      ]
     },
     "metadata": {},
     "output_type": "display_data"
    },
    {
     "name": "stdout",
     "output_type": "stream",
     "text": [
      "epoch 1300, loss 2.37964, v_acc 65.555\n"
     ]
    },
    {
     "data": {
      "application/vnd.jupyter.widget-view+json": {
       "model_id": "9224de9685a54a23831c66b524c2c3bd",
       "version_major": 2,
       "version_minor": 0
      },
      "text/plain": [
       "  0%|          | 0/3000 [00:00<?, ?it/s]"
      ]
     },
     "metadata": {},
     "output_type": "display_data"
    },
    {
     "name": "stdout",
     "output_type": "stream",
     "text": [
      "epoch 1400, loss 2.32263, v_acc 65.488\n"
     ]
    },
    {
     "data": {
      "application/vnd.jupyter.widget-view+json": {
       "model_id": "54ce13b98edd4944b65059a8484f2df3",
       "version_major": 2,
       "version_minor": 0
      },
      "text/plain": [
       "  0%|          | 0/3000 [00:00<?, ?it/s]"
      ]
     },
     "metadata": {},
     "output_type": "display_data"
    },
    {
     "name": "stdout",
     "output_type": "stream",
     "text": [
      "epoch 1500, loss 2.27066, v_acc 65.488\n"
     ]
    },
    {
     "data": {
      "application/vnd.jupyter.widget-view+json": {
       "model_id": "76cb3748b55c4bc994c95efcab04402c",
       "version_major": 2,
       "version_minor": 0
      },
      "text/plain": [
       "  0%|          | 0/3000 [00:00<?, ?it/s]"
      ]
     },
     "metadata": {},
     "output_type": "display_data"
    },
    {
     "name": "stdout",
     "output_type": "stream",
     "text": [
      "epoch 1600, loss 2.22319, v_acc 65.655\n"
     ]
    },
    {
     "data": {
      "application/vnd.jupyter.widget-view+json": {
       "model_id": "6f7f07413cc34798beadfb68112ac136",
       "version_major": 2,
       "version_minor": 0
      },
      "text/plain": [
       "  0%|          | 0/3000 [00:00<?, ?it/s]"
      ]
     },
     "metadata": {},
     "output_type": "display_data"
    },
    {
     "name": "stdout",
     "output_type": "stream",
     "text": [
      "epoch 1700, loss 2.17975, v_acc 65.722\n"
     ]
    },
    {
     "data": {
      "application/vnd.jupyter.widget-view+json": {
       "model_id": "4a5537ecf8b6494eb8bd392779f66805",
       "version_major": 2,
       "version_minor": 0
      },
      "text/plain": [
       "  0%|          | 0/3000 [00:00<?, ?it/s]"
      ]
     },
     "metadata": {},
     "output_type": "display_data"
    },
    {
     "name": "stdout",
     "output_type": "stream",
     "text": [
      "epoch 1800, loss 2.13995, v_acc 65.689\n"
     ]
    },
    {
     "data": {
      "application/vnd.jupyter.widget-view+json": {
       "model_id": "a80739732bc04a55a6140dd2438ae082",
       "version_major": 2,
       "version_minor": 0
      },
      "text/plain": [
       "  0%|          | 0/3000 [00:00<?, ?it/s]"
      ]
     },
     "metadata": {},
     "output_type": "display_data"
    },
    {
     "name": "stdout",
     "output_type": "stream",
     "text": [
      "epoch 1900, loss 2.10343, v_acc 65.655\n"
     ]
    },
    {
     "data": {
      "application/vnd.jupyter.widget-view+json": {
       "model_id": "36a3895ee9e24c52a5b2845182daa49a",
       "version_major": 2,
       "version_minor": 0
      },
      "text/plain": [
       "  0%|          | 0/3000 [00:00<?, ?it/s]"
      ]
     },
     "metadata": {},
     "output_type": "display_data"
    },
    {
     "name": "stdout",
     "output_type": "stream",
     "text": [
      "epoch 2000, loss 2.06989, v_acc 65.655\n"
     ]
    },
    {
     "data": {
      "application/vnd.jupyter.widget-view+json": {
       "model_id": "dcf03b9200804c29a9154bd2ed0153c2",
       "version_major": 2,
       "version_minor": 0
      },
      "text/plain": [
       "  0%|          | 0/3000 [00:00<?, ?it/s]"
      ]
     },
     "metadata": {},
     "output_type": "display_data"
    },
    {
     "name": "stdout",
     "output_type": "stream",
     "text": [
      "epoch 2100, loss 2.03908, v_acc 65.655\n"
     ]
    },
    {
     "data": {
      "application/vnd.jupyter.widget-view+json": {
       "model_id": "8d39d32c83bc4e16a3931ebc3a635060",
       "version_major": 2,
       "version_minor": 0
      },
      "text/plain": [
       "  0%|          | 0/3000 [00:00<?, ?it/s]"
      ]
     },
     "metadata": {},
     "output_type": "display_data"
    },
    {
     "name": "stdout",
     "output_type": "stream",
     "text": [
      "epoch 2200, loss 2.01076, v_acc 65.622\n"
     ]
    },
    {
     "data": {
      "application/vnd.jupyter.widget-view+json": {
       "model_id": "a264ad7ba8c9492f953255a9a2c39a50",
       "version_major": 2,
       "version_minor": 0
      },
      "text/plain": [
       "  0%|          | 0/3000 [00:00<?, ?it/s]"
      ]
     },
     "metadata": {},
     "output_type": "display_data"
    },
    {
     "name": "stdout",
     "output_type": "stream",
     "text": [
      "epoch 2300, loss 1.98473, v_acc 65.689\n"
     ]
    },
    {
     "data": {
      "application/vnd.jupyter.widget-view+json": {
       "model_id": "506057e96a1b412695916fa9466fa172",
       "version_major": 2,
       "version_minor": 0
      },
      "text/plain": [
       "  0%|          | 0/3000 [00:00<?, ?it/s]"
      ]
     },
     "metadata": {},
     "output_type": "display_data"
    },
    {
     "name": "stdout",
     "output_type": "stream",
     "text": [
      "epoch 2400, loss 1.96080, v_acc 65.555\n"
     ]
    },
    {
     "data": {
      "application/vnd.jupyter.widget-view+json": {
       "model_id": "b47c0d69a49c4dd0800d3cbdac01d4ce",
       "version_major": 2,
       "version_minor": 0
      },
      "text/plain": [
       "  0%|          | 0/3000 [00:00<?, ?it/s]"
      ]
     },
     "metadata": {},
     "output_type": "display_data"
    },
    {
     "name": "stdout",
     "output_type": "stream",
     "text": [
      "epoch 2500, loss 1.93883, v_acc 65.622\n"
     ]
    },
    {
     "data": {
      "application/vnd.jupyter.widget-view+json": {
       "model_id": "5e6eb22c1c0a43ad945a41124eaf5347",
       "version_major": 2,
       "version_minor": 0
      },
      "text/plain": [
       "  0%|          | 0/3000 [00:00<?, ?it/s]"
      ]
     },
     "metadata": {},
     "output_type": "display_data"
    },
    {
     "name": "stdout",
     "output_type": "stream",
     "text": [
      "epoch 2600, loss 1.91867, v_acc 65.622\n"
     ]
    },
    {
     "data": {
      "application/vnd.jupyter.widget-view+json": {
       "model_id": "0a5221f2400f438c8468dfe6ca230dc3",
       "version_major": 2,
       "version_minor": 0
      },
      "text/plain": [
       "  0%|          | 0/3000 [00:00<?, ?it/s]"
      ]
     },
     "metadata": {},
     "output_type": "display_data"
    },
    {
     "name": "stdout",
     "output_type": "stream",
     "text": [
      "epoch 2700, loss 1.90019, v_acc 65.622\n"
     ]
    },
    {
     "data": {
      "application/vnd.jupyter.widget-view+json": {
       "model_id": "c901f23e1fb947549a1a31fe29a0ca79",
       "version_major": 2,
       "version_minor": 0
      },
      "text/plain": [
       "  0%|          | 0/3000 [00:00<?, ?it/s]"
      ]
     },
     "metadata": {},
     "output_type": "display_data"
    },
    {
     "name": "stdout",
     "output_type": "stream",
     "text": [
      "epoch 2800, loss 1.88328, v_acc 65.655\n"
     ]
    },
    {
     "data": {
      "application/vnd.jupyter.widget-view+json": {
       "model_id": "ed6fbf33a3bd40e7ab9e0e4c55a2907f",
       "version_major": 2,
       "version_minor": 0
      },
      "text/plain": [
       "  0%|          | 0/3000 [00:00<?, ?it/s]"
      ]
     },
     "metadata": {},
     "output_type": "display_data"
    },
    {
     "name": "stdout",
     "output_type": "stream",
     "text": [
      "epoch 2900, loss 1.86783, v_acc 65.622\n"
     ]
    },
    {
     "data": {
      "application/vnd.jupyter.widget-view+json": {
       "model_id": "7302fa1df8164c249458a9a18555f59a",
       "version_major": 2,
       "version_minor": 0
      },
      "text/plain": [
       "  0%|          | 0/3000 [00:00<?, ?it/s]"
      ]
     },
     "metadata": {},
     "output_type": "display_data"
    },
    {
     "name": "stdout",
     "output_type": "stream",
     "text": [
      "epoch 3000, loss 1.85376, v_acc 65.589\n"
     ]
    },
    {
     "data": {
      "application/vnd.jupyter.widget-view+json": {
       "model_id": "1598043e9d704d628980278a0c53aefb",
       "version_major": 2,
       "version_minor": 0
      },
      "text/plain": [
       "  0%|          | 0/3000 [00:00<?, ?it/s]"
      ]
     },
     "metadata": {},
     "output_type": "display_data"
    },
    {
     "name": "stdout",
     "output_type": "stream",
     "text": [
      "epoch 3100, loss 1.84098, v_acc 65.555\n"
     ]
    },
    {
     "data": {
      "application/vnd.jupyter.widget-view+json": {
       "model_id": "77899531b7d6475099213415eac3aff4",
       "version_major": 2,
       "version_minor": 0
      },
      "text/plain": [
       "  0%|          | 0/3000 [00:00<?, ?it/s]"
      ]
     },
     "metadata": {},
     "output_type": "display_data"
    },
    {
     "name": "stdout",
     "output_type": "stream",
     "text": [
      "epoch 3200, loss 1.82941, v_acc 65.555\n"
     ]
    },
    {
     "data": {
      "application/vnd.jupyter.widget-view+json": {
       "model_id": "73839af010e34b55b02b694a9d9a5797",
       "version_major": 2,
       "version_minor": 0
      },
      "text/plain": [
       "  0%|          | 0/3000 [00:00<?, ?it/s]"
      ]
     },
     "metadata": {},
     "output_type": "display_data"
    },
    {
     "name": "stdout",
     "output_type": "stream",
     "text": [
      "epoch 3300, loss 1.81899, v_acc 65.555\n"
     ]
    },
    {
     "data": {
      "application/vnd.jupyter.widget-view+json": {
       "model_id": "db3c5cb486054c38a2630af7f032ff49",
       "version_major": 2,
       "version_minor": 0
      },
      "text/plain": [
       "  0%|          | 0/3000 [00:00<?, ?it/s]"
      ]
     },
     "metadata": {},
     "output_type": "display_data"
    },
    {
     "name": "stdout",
     "output_type": "stream",
     "text": [
      "epoch 3400, loss 1.80964, v_acc 65.522\n"
     ]
    },
    {
     "data": {
      "application/vnd.jupyter.widget-view+json": {
       "model_id": "a969efd751524379aadbe31efe764ddc",
       "version_major": 2,
       "version_minor": 0
      },
      "text/plain": [
       "  0%|          | 0/3000 [00:00<?, ?it/s]"
      ]
     },
     "metadata": {},
     "output_type": "display_data"
    },
    {
     "name": "stdout",
     "output_type": "stream",
     "text": [
      "epoch 3500, loss 1.80131, v_acc 65.522\n"
     ]
    },
    {
     "data": {
      "application/vnd.jupyter.widget-view+json": {
       "model_id": "bf4d5159c7e44fdf9b87a0831d368cf2",
       "version_major": 2,
       "version_minor": 0
      },
      "text/plain": [
       "  0%|          | 0/3000 [00:00<?, ?it/s]"
      ]
     },
     "metadata": {},
     "output_type": "display_data"
    },
    {
     "name": "stdout",
     "output_type": "stream",
     "text": [
      "epoch 3600, loss 1.79393, v_acc 65.555\n"
     ]
    },
    {
     "data": {
      "application/vnd.jupyter.widget-view+json": {
       "model_id": "be2ffb91eadc48faa483b30f3b95c49a",
       "version_major": 2,
       "version_minor": 0
      },
      "text/plain": [
       "  0%|          | 0/3000 [00:00<?, ?it/s]"
      ]
     },
     "metadata": {},
     "output_type": "display_data"
    },
    {
     "name": "stdout",
     "output_type": "stream",
     "text": [
      "epoch 3700, loss 1.78746, v_acc 65.622\n"
     ]
    },
    {
     "data": {
      "application/vnd.jupyter.widget-view+json": {
       "model_id": "cb81009dd2d345fab66b13e32fb7faff",
       "version_major": 2,
       "version_minor": 0
      },
      "text/plain": [
       "  0%|          | 0/3000 [00:00<?, ?it/s]"
      ]
     },
     "metadata": {},
     "output_type": "display_data"
    },
    {
     "name": "stdout",
     "output_type": "stream",
     "text": [
      "epoch 3800, loss 1.78183, v_acc 65.622\n"
     ]
    },
    {
     "data": {
      "application/vnd.jupyter.widget-view+json": {
       "model_id": "5b003cd689b14c898c3f3371274837bb",
       "version_major": 2,
       "version_minor": 0
      },
      "text/plain": [
       "  0%|          | 0/3000 [00:00<?, ?it/s]"
      ]
     },
     "metadata": {},
     "output_type": "display_data"
    },
    {
     "name": "stdout",
     "output_type": "stream",
     "text": [
      "epoch 3900, loss 1.77700, v_acc 65.555\n"
     ]
    },
    {
     "data": {
      "application/vnd.jupyter.widget-view+json": {
       "model_id": "c6ac27fa125c43cd9649ed265a3a894d",
       "version_major": 2,
       "version_minor": 0
      },
      "text/plain": [
       "  0%|          | 0/3000 [00:00<?, ?it/s]"
      ]
     },
     "metadata": {},
     "output_type": "display_data"
    },
    {
     "name": "stdout",
     "output_type": "stream",
     "text": [
      "epoch 4000, loss 1.77291, v_acc 65.555\n"
     ]
    },
    {
     "data": {
      "application/vnd.jupyter.widget-view+json": {
       "model_id": "95170be86026418c810678985794f3de",
       "version_major": 2,
       "version_minor": 0
      },
      "text/plain": [
       "  0%|          | 0/3000 [00:00<?, ?it/s]"
      ]
     },
     "metadata": {},
     "output_type": "display_data"
    },
    {
     "name": "stdout",
     "output_type": "stream",
     "text": [
      "epoch 4100, loss 1.76950, v_acc 65.522\n"
     ]
    },
    {
     "data": {
      "application/vnd.jupyter.widget-view+json": {
       "model_id": "f8c57566f9f1461cad3171b209de3995",
       "version_major": 2,
       "version_minor": 0
      },
      "text/plain": [
       "  0%|          | 0/3000 [00:00<?, ?it/s]"
      ]
     },
     "metadata": {},
     "output_type": "display_data"
    },
    {
     "name": "stdout",
     "output_type": "stream",
     "text": [
      "epoch 4200, loss 1.76673, v_acc 65.555\n"
     ]
    },
    {
     "data": {
      "application/vnd.jupyter.widget-view+json": {
       "model_id": "2c5d557fb0264d2b8d6a5a8c023a9095",
       "version_major": 2,
       "version_minor": 0
      },
      "text/plain": [
       "  0%|          | 0/3000 [00:00<?, ?it/s]"
      ]
     },
     "metadata": {},
     "output_type": "display_data"
    },
    {
     "name": "stdout",
     "output_type": "stream",
     "text": [
      "epoch 4300, loss 1.76453, v_acc 65.555\n"
     ]
    },
    {
     "data": {
      "application/vnd.jupyter.widget-view+json": {
       "model_id": "7833b9d5c66847cba0dd25e8c42613e1",
       "version_major": 2,
       "version_minor": 0
      },
      "text/plain": [
       "  0%|          | 0/3000 [00:00<?, ?it/s]"
      ]
     },
     "metadata": {},
     "output_type": "display_data"
    },
    {
     "name": "stdout",
     "output_type": "stream",
     "text": [
      "epoch 4400, loss 1.76285, v_acc 65.555\n"
     ]
    },
    {
     "data": {
      "application/vnd.jupyter.widget-view+json": {
       "model_id": "80da3639823849dda1f17e7be497e20b",
       "version_major": 2,
       "version_minor": 0
      },
      "text/plain": [
       "  0%|          | 0/3000 [00:00<?, ?it/s]"
      ]
     },
     "metadata": {},
     "output_type": "display_data"
    },
    {
     "name": "stdout",
     "output_type": "stream",
     "text": [
      "epoch 4500, loss 1.76162, v_acc 65.522\n"
     ]
    },
    {
     "data": {
      "application/vnd.jupyter.widget-view+json": {
       "model_id": "e4a4d114316e4c1f9f5f62ac23059f15",
       "version_major": 2,
       "version_minor": 0
      },
      "text/plain": [
       "  0%|          | 0/3000 [00:00<?, ?it/s]"
      ]
     },
     "metadata": {},
     "output_type": "display_data"
    },
    {
     "name": "stdout",
     "output_type": "stream",
     "text": [
      "epoch 4600, loss 1.76078, v_acc 65.522\n"
     ]
    },
    {
     "data": {
      "application/vnd.jupyter.widget-view+json": {
       "model_id": "12fa7b47b67f459aaa1531412bad5cac",
       "version_major": 2,
       "version_minor": 0
      },
      "text/plain": [
       "  0%|          | 0/3000 [00:00<?, ?it/s]"
      ]
     },
     "metadata": {},
     "output_type": "display_data"
    },
    {
     "name": "stdout",
     "output_type": "stream",
     "text": [
      "epoch 4700, loss 1.76027, v_acc 65.522\n"
     ]
    },
    {
     "data": {
      "application/vnd.jupyter.widget-view+json": {
       "model_id": "eae46fd841824e5aaa2cc7d337d63d55",
       "version_major": 2,
       "version_minor": 0
      },
      "text/plain": [
       "  0%|          | 0/3000 [00:00<?, ?it/s]"
      ]
     },
     "metadata": {},
     "output_type": "display_data"
    },
    {
     "name": "stdout",
     "output_type": "stream",
     "text": [
      "epoch 4800, loss 1.76000, v_acc 65.522\n"
     ]
    },
    {
     "data": {
      "application/vnd.jupyter.widget-view+json": {
       "model_id": "86c6174860c24d278bd4891e30863c40",
       "version_major": 2,
       "version_minor": 0
      },
      "text/plain": [
       "  0%|          | 0/3000 [00:00<?, ?it/s]"
      ]
     },
     "metadata": {},
     "output_type": "display_data"
    },
    {
     "name": "stdout",
     "output_type": "stream",
     "text": [
      "epoch 4900, loss 1.75990, v_acc 65.488\n"
     ]
    }
   ],
   "source": [
    "import torch\n",
    "import torch.nn as nn\n",
    "\n",
    "def loss_fn(output, target):\n",
    "    weight = 1/(target[:,1]**2)\n",
    "    weight[target[:,1] == 0] = 1\n",
    "    loss1 = torch.mean(weight*((output[:,0]-target[:,0]) ** 2))\n",
    "    return loss1\n",
    "\n",
    "epochs = 5000\n",
    "model = LinearRegressionModel(2000, 2)\n",
    "learning_rate = 0.001\n",
    "optimizer = torch.optim.AdamW(model.parameters(), lr=learning_rate)\n",
    "# optimizer = torch.optim.SGD(model.parameters(), lr=0.001, momentum=0.9)\n",
    "sched = torch.optim.lr_scheduler.CosineAnnealingLR(optimizer, T_max= epochs)\n",
    "best_model = model\n",
    "best_acc = 0\n",
    "\n",
    "for epoch in range(epochs):\n",
    "    model.train()\n",
    "    # Convert numpy array to torch Variable\n",
    "    inputs = torch.from_numpy(input_features_train).float().requires_grad_()\n",
    "    targets = torch.from_numpy(corr_coefs_train).float()\n",
    "\n",
    "    # Clear gradients w.r.t. parameters\n",
    "    optimizer.zero_grad() \n",
    "\n",
    "    # Forward to get output\n",
    "    outputs = model(inputs)\n",
    "\n",
    "    # Calculate Loss\n",
    "    loss = loss_fn(outputs, targets)\n",
    "\n",
    "    # Getting gradients w.r.t. parameters\n",
    "    loss.backward()\n",
    "\n",
    "    # Updating parameters\n",
    "    optimizer.step()\n",
    "    sched.step()\n",
    "\n",
    "    if epoch%100 == 0:\n",
    "        model.eval()\n",
    "        val_coef_preds = model(torch.from_numpy(input_features_val).float())\n",
    "        val_acc = evaluate_acc(val_coef_preds, vlabels_val, ie_val)\n",
    "        if val_acc > best_acc:\n",
    "            print(\"Updating best model\")\n",
    "            best_acc = val_acc\n",
    "            best_model = copy.deepcopy(model)\n",
    "        print(f'epoch {epoch}, loss {loss.item():.5f}, v_acc {val_acc:.3f}')\n",
    "        \n"
   ]
  },
  {
   "cell_type": "code",
   "execution_count": 119,
   "id": "7199b4f6",
   "metadata": {},
   "outputs": [
    {
     "name": "stdout",
     "output_type": "stream",
     "text": [
      "torch.Size([12760, 2])\n",
      "torch.Size([3000, 2])\n",
      "torch.Size([50000, 2])\n"
     ]
    },
    {
     "data": {
      "application/vnd.jupyter.widget-view+json": {
       "model_id": "1541489eefbe4eb7be0917b5cc0a38f5",
       "version_major": 2,
       "version_minor": 0
      },
      "text/plain": [
       "  0%|          | 0/12760 [00:00<?, ?it/s]"
      ]
     },
     "metadata": {},
     "output_type": "display_data"
    },
    {
     "name": "stdout",
     "output_type": "stream",
     "text": [
      "87.64009718629987\n"
     ]
    },
    {
     "data": {
      "application/vnd.jupyter.widget-view+json": {
       "model_id": "1013bd661b984addb7622f699617c8bf",
       "version_major": 2,
       "version_minor": 0
      },
      "text/plain": [
       "  0%|          | 0/3000 [00:00<?, ?it/s]"
      ]
     },
     "metadata": {},
     "output_type": "display_data"
    },
    {
     "name": "stdout",
     "output_type": "stream",
     "text": [
      "66.55551850616872\n"
     ]
    },
    {
     "data": {
      "application/vnd.jupyter.widget-view+json": {
       "model_id": "7e6639bfb61f4ea280121d693ad87186",
       "version_major": 2,
       "version_minor": 0
      },
      "text/plain": [
       "  0%|          | 0/50000 [00:00<?, ?it/s]"
      ]
     },
     "metadata": {},
     "output_type": "display_data"
    },
    {
     "name": "stdout",
     "output_type": "stream",
     "text": [
      "0.646/0.717/0.638/0.471\n",
      "64.59729194583892\n"
     ]
    }
   ],
   "source": [
    "model.eval()\n",
    "with torch.no_grad():\n",
    "    train_coef_preds = best_model(torch.from_numpy(input_features_train).float())\n",
    "    print(train_coef_preds.shape)        \n",
    "    val_coef_preds = best_model(torch.from_numpy(input_features_val).float())\n",
    "    print(val_coef_preds.shape)  \n",
    "    test_coef_preds = best_model(torch.from_numpy(input_features_test).float())\n",
    "    print(test_coef_preds.shape)    \n",
    "print(evaluate_acc(train_coef_preds, vlabels_train, ie_train))\n",
    "print(evaluate_acc(val_coef_preds, vlabels_val, ie_val))\n",
    "print(evaluate_acc(test_coef_preds, labels.numpy(), image_embeddings, test = True))"
   ]
  },
  {
   "cell_type": "markdown",
   "id": "8804053d",
   "metadata": {},
   "source": [
    "### (iv) Loss fn variant"
   ]
  },
  {
   "cell_type": "code",
   "execution_count": 120,
   "id": "0d61f3d4",
   "metadata": {},
   "outputs": [
    {
     "data": {
      "application/vnd.jupyter.widget-view+json": {
       "model_id": "633d87b822dd4c2db0cd466e492fc541",
       "version_major": 2,
       "version_minor": 0
      },
      "text/plain": [
       "  0%|          | 0/3000 [00:00<?, ?it/s]"
      ]
     },
     "metadata": {},
     "output_type": "display_data"
    },
    {
     "name": "stdout",
     "output_type": "stream",
     "text": [
      "Updating best model\n",
      "epoch 0, loss 0.69373, v_acc 65.555\n"
     ]
    },
    {
     "data": {
      "application/vnd.jupyter.widget-view+json": {
       "model_id": "fd28de9d2a184a07ad6f5b562ab11ba5",
       "version_major": 2,
       "version_minor": 0
      },
      "text/plain": [
       "  0%|          | 0/3000 [00:00<?, ?it/s]"
      ]
     },
     "metadata": {},
     "output_type": "display_data"
    },
    {
     "name": "stdout",
     "output_type": "stream",
     "text": [
      "Updating best model\n",
      "epoch 100, loss 0.68140, v_acc 65.589\n"
     ]
    },
    {
     "data": {
      "application/vnd.jupyter.widget-view+json": {
       "model_id": "da6a20fc5361483a95884188c1213a38",
       "version_major": 2,
       "version_minor": 0
      },
      "text/plain": [
       "  0%|          | 0/3000 [00:00<?, ?it/s]"
      ]
     },
     "metadata": {},
     "output_type": "display_data"
    },
    {
     "name": "stdout",
     "output_type": "stream",
     "text": [
      "Updating best model\n",
      "epoch 200, loss 0.67047, v_acc 65.889\n"
     ]
    },
    {
     "data": {
      "application/vnd.jupyter.widget-view+json": {
       "model_id": "8dedb65def004edba4076951145ab685",
       "version_major": 2,
       "version_minor": 0
      },
      "text/plain": [
       "  0%|          | 0/3000 [00:00<?, ?it/s]"
      ]
     },
     "metadata": {},
     "output_type": "display_data"
    },
    {
     "name": "stdout",
     "output_type": "stream",
     "text": [
      "Updating best model\n",
      "epoch 300, loss 0.65973, v_acc 65.922\n"
     ]
    },
    {
     "data": {
      "application/vnd.jupyter.widget-view+json": {
       "model_id": "cbc350d7d07d4c8282c622295478bbcf",
       "version_major": 2,
       "version_minor": 0
      },
      "text/plain": [
       "  0%|          | 0/3000 [00:00<?, ?it/s]"
      ]
     },
     "metadata": {},
     "output_type": "display_data"
    },
    {
     "name": "stdout",
     "output_type": "stream",
     "text": [
      "Updating best model\n",
      "epoch 400, loss 0.64965, v_acc 65.955\n"
     ]
    },
    {
     "data": {
      "application/vnd.jupyter.widget-view+json": {
       "model_id": "2cda143a2cb84f4b9b29931e37769aa6",
       "version_major": 2,
       "version_minor": 0
      },
      "text/plain": [
       "  0%|          | 0/3000 [00:00<?, ?it/s]"
      ]
     },
     "metadata": {},
     "output_type": "display_data"
    },
    {
     "name": "stdout",
     "output_type": "stream",
     "text": [
      "Updating best model\n",
      "epoch 500, loss 0.64033, v_acc 65.989\n"
     ]
    },
    {
     "data": {
      "application/vnd.jupyter.widget-view+json": {
       "model_id": "45f261ea942048d496f6e72c43dbf156",
       "version_major": 2,
       "version_minor": 0
      },
      "text/plain": [
       "  0%|          | 0/3000 [00:00<?, ?it/s]"
      ]
     },
     "metadata": {},
     "output_type": "display_data"
    },
    {
     "name": "stdout",
     "output_type": "stream",
     "text": [
      "Updating best model\n",
      "epoch 600, loss 0.63181, v_acc 66.089\n"
     ]
    },
    {
     "data": {
      "application/vnd.jupyter.widget-view+json": {
       "model_id": "d9e3b0bf08ec4917bedb3b2b57b86882",
       "version_major": 2,
       "version_minor": 0
      },
      "text/plain": [
       "  0%|          | 0/3000 [00:00<?, ?it/s]"
      ]
     },
     "metadata": {},
     "output_type": "display_data"
    },
    {
     "name": "stdout",
     "output_type": "stream",
     "text": [
      "Updating best model\n",
      "epoch 700, loss 0.62408, v_acc 66.155\n"
     ]
    },
    {
     "data": {
      "application/vnd.jupyter.widget-view+json": {
       "model_id": "637dc980987e470184addbc80011d6b2",
       "version_major": 2,
       "version_minor": 0
      },
      "text/plain": [
       "  0%|          | 0/3000 [00:00<?, ?it/s]"
      ]
     },
     "metadata": {},
     "output_type": "display_data"
    },
    {
     "name": "stdout",
     "output_type": "stream",
     "text": [
      "epoch 800, loss 0.61714, v_acc 65.989\n"
     ]
    },
    {
     "data": {
      "application/vnd.jupyter.widget-view+json": {
       "model_id": "1df90c35252f4f45a54e98d2efeb3289",
       "version_major": 2,
       "version_minor": 0
      },
      "text/plain": [
       "  0%|          | 0/3000 [00:00<?, ?it/s]"
      ]
     },
     "metadata": {},
     "output_type": "display_data"
    },
    {
     "name": "stdout",
     "output_type": "stream",
     "text": [
      "epoch 900, loss 0.61085, v_acc 65.955\n"
     ]
    },
    {
     "data": {
      "application/vnd.jupyter.widget-view+json": {
       "model_id": "d056b82574974348b7e1eb4f04e115c7",
       "version_major": 2,
       "version_minor": 0
      },
      "text/plain": [
       "  0%|          | 0/3000 [00:00<?, ?it/s]"
      ]
     },
     "metadata": {},
     "output_type": "display_data"
    },
    {
     "name": "stdout",
     "output_type": "stream",
     "text": [
      "epoch 1000, loss 0.60522, v_acc 65.989\n"
     ]
    },
    {
     "data": {
      "application/vnd.jupyter.widget-view+json": {
       "model_id": "6934c177d0e64c278b0fd6d278bae8df",
       "version_major": 2,
       "version_minor": 0
      },
      "text/plain": [
       "  0%|          | 0/3000 [00:00<?, ?it/s]"
      ]
     },
     "metadata": {},
     "output_type": "display_data"
    },
    {
     "name": "stdout",
     "output_type": "stream",
     "text": [
      "epoch 1100, loss 0.60027, v_acc 65.955\n"
     ]
    },
    {
     "data": {
      "application/vnd.jupyter.widget-view+json": {
       "model_id": "c81c43dc38204e6b8fab9e403a2dcf52",
       "version_major": 2,
       "version_minor": 0
      },
      "text/plain": [
       "  0%|          | 0/3000 [00:00<?, ?it/s]"
      ]
     },
     "metadata": {},
     "output_type": "display_data"
    },
    {
     "name": "stdout",
     "output_type": "stream",
     "text": [
      "epoch 1200, loss 0.59587, v_acc 65.955\n"
     ]
    },
    {
     "data": {
      "application/vnd.jupyter.widget-view+json": {
       "model_id": "54255d21ca514c5a95cf8351db638823",
       "version_major": 2,
       "version_minor": 0
      },
      "text/plain": [
       "  0%|          | 0/3000 [00:00<?, ?it/s]"
      ]
     },
     "metadata": {},
     "output_type": "display_data"
    },
    {
     "name": "stdout",
     "output_type": "stream",
     "text": [
      "epoch 1300, loss 0.59194, v_acc 65.989\n"
     ]
    },
    {
     "data": {
      "application/vnd.jupyter.widget-view+json": {
       "model_id": "d42ed3550b6346dabb54c8676055bee2",
       "version_major": 2,
       "version_minor": 0
      },
      "text/plain": [
       "  0%|          | 0/3000 [00:00<?, ?it/s]"
      ]
     },
     "metadata": {},
     "output_type": "display_data"
    },
    {
     "name": "stdout",
     "output_type": "stream",
     "text": [
      "epoch 1400, loss 0.58844, v_acc 65.955\n"
     ]
    },
    {
     "data": {
      "application/vnd.jupyter.widget-view+json": {
       "model_id": "cdffaaf413b1421e98a210872ddd05c4",
       "version_major": 2,
       "version_minor": 0
      },
      "text/plain": [
       "  0%|          | 0/3000 [00:00<?, ?it/s]"
      ]
     },
     "metadata": {},
     "output_type": "display_data"
    },
    {
     "name": "stdout",
     "output_type": "stream",
     "text": [
      "epoch 1500, loss 0.58532, v_acc 65.989\n"
     ]
    },
    {
     "data": {
      "application/vnd.jupyter.widget-view+json": {
       "model_id": "98f9f32f4948430fa79ff5d8db3d4fb7",
       "version_major": 2,
       "version_minor": 0
      },
      "text/plain": [
       "  0%|          | 0/3000 [00:00<?, ?it/s]"
      ]
     },
     "metadata": {},
     "output_type": "display_data"
    },
    {
     "name": "stdout",
     "output_type": "stream",
     "text": [
      "epoch 1600, loss 0.58252, v_acc 66.022\n"
     ]
    },
    {
     "data": {
      "application/vnd.jupyter.widget-view+json": {
       "model_id": "9b29397bb5aa41419fadf8161f70a8e1",
       "version_major": 2,
       "version_minor": 0
      },
      "text/plain": [
       "  0%|          | 0/3000 [00:00<?, ?it/s]"
      ]
     },
     "metadata": {},
     "output_type": "display_data"
    },
    {
     "name": "stdout",
     "output_type": "stream",
     "text": [
      "epoch 1700, loss 0.58002, v_acc 66.022\n"
     ]
    },
    {
     "data": {
      "application/vnd.jupyter.widget-view+json": {
       "model_id": "bd1fe838158e450fbab5ee5539bf7dd2",
       "version_major": 2,
       "version_minor": 0
      },
      "text/plain": [
       "  0%|          | 0/3000 [00:00<?, ?it/s]"
      ]
     },
     "metadata": {},
     "output_type": "display_data"
    },
    {
     "name": "stdout",
     "output_type": "stream",
     "text": [
      "epoch 1800, loss 0.57776, v_acc 65.855\n"
     ]
    },
    {
     "data": {
      "application/vnd.jupyter.widget-view+json": {
       "model_id": "461a9613802f49f8888353203ff8935d",
       "version_major": 2,
       "version_minor": 0
      },
      "text/plain": [
       "  0%|          | 0/3000 [00:00<?, ?it/s]"
      ]
     },
     "metadata": {},
     "output_type": "display_data"
    },
    {
     "name": "stdout",
     "output_type": "stream",
     "text": [
      "epoch 1900, loss 0.57572, v_acc 65.822\n"
     ]
    },
    {
     "data": {
      "application/vnd.jupyter.widget-view+json": {
       "model_id": "dba3a3ff135348f493479c96c302e17f",
       "version_major": 2,
       "version_minor": 0
      },
      "text/plain": [
       "  0%|          | 0/3000 [00:00<?, ?it/s]"
      ]
     },
     "metadata": {},
     "output_type": "display_data"
    },
    {
     "name": "stdout",
     "output_type": "stream",
     "text": [
      "epoch 2000, loss 0.57385, v_acc 65.789\n"
     ]
    },
    {
     "data": {
      "application/vnd.jupyter.widget-view+json": {
       "model_id": "78416e3de89c43e2ab18b062ce0804db",
       "version_major": 2,
       "version_minor": 0
      },
      "text/plain": [
       "  0%|          | 0/3000 [00:00<?, ?it/s]"
      ]
     },
     "metadata": {},
     "output_type": "display_data"
    },
    {
     "name": "stdout",
     "output_type": "stream",
     "text": [
      "epoch 2100, loss 0.57217, v_acc 65.755\n"
     ]
    },
    {
     "data": {
      "application/vnd.jupyter.widget-view+json": {
       "model_id": "5b69b752550b4026a6b338a0550e37b2",
       "version_major": 2,
       "version_minor": 0
      },
      "text/plain": [
       "  0%|          | 0/3000 [00:00<?, ?it/s]"
      ]
     },
     "metadata": {},
     "output_type": "display_data"
    },
    {
     "name": "stdout",
     "output_type": "stream",
     "text": [
      "epoch 2200, loss 0.57064, v_acc 65.789\n"
     ]
    },
    {
     "data": {
      "application/vnd.jupyter.widget-view+json": {
       "model_id": "52cc8b9c265b4728b95339fef83adc96",
       "version_major": 2,
       "version_minor": 0
      },
      "text/plain": [
       "  0%|          | 0/3000 [00:00<?, ?it/s]"
      ]
     },
     "metadata": {},
     "output_type": "display_data"
    },
    {
     "name": "stdout",
     "output_type": "stream",
     "text": [
      "epoch 2300, loss 0.56925, v_acc 65.822\n"
     ]
    },
    {
     "data": {
      "application/vnd.jupyter.widget-view+json": {
       "model_id": "965408c4d2c149d7bc7909539ae5320c",
       "version_major": 2,
       "version_minor": 0
      },
      "text/plain": [
       "  0%|          | 0/3000 [00:00<?, ?it/s]"
      ]
     },
     "metadata": {},
     "output_type": "display_data"
    },
    {
     "name": "stdout",
     "output_type": "stream",
     "text": [
      "epoch 2400, loss 0.56798, v_acc 65.655\n"
     ]
    },
    {
     "data": {
      "application/vnd.jupyter.widget-view+json": {
       "model_id": "4071ce3725c74621816871f0e8bed7c5",
       "version_major": 2,
       "version_minor": 0
      },
      "text/plain": [
       "  0%|          | 0/3000 [00:00<?, ?it/s]"
      ]
     },
     "metadata": {},
     "output_type": "display_data"
    },
    {
     "name": "stdout",
     "output_type": "stream",
     "text": [
      "epoch 2500, loss 0.56684, v_acc 65.655\n"
     ]
    },
    {
     "data": {
      "application/vnd.jupyter.widget-view+json": {
       "model_id": "695663b6a14e4604b0c7cb74335f1d0d",
       "version_major": 2,
       "version_minor": 0
      },
      "text/plain": [
       "  0%|          | 0/3000 [00:00<?, ?it/s]"
      ]
     },
     "metadata": {},
     "output_type": "display_data"
    },
    {
     "name": "stdout",
     "output_type": "stream",
     "text": [
      "epoch 2600, loss 0.56581, v_acc 65.655\n"
     ]
    },
    {
     "data": {
      "application/vnd.jupyter.widget-view+json": {
       "model_id": "2f21a098793a4ee980aedb9d9b19efaf",
       "version_major": 2,
       "version_minor": 0
      },
      "text/plain": [
       "  0%|          | 0/3000 [00:00<?, ?it/s]"
      ]
     },
     "metadata": {},
     "output_type": "display_data"
    },
    {
     "name": "stdout",
     "output_type": "stream",
     "text": [
      "epoch 2700, loss 0.56488, v_acc 65.655\n"
     ]
    },
    {
     "data": {
      "application/vnd.jupyter.widget-view+json": {
       "model_id": "19fe5e685a7b473db24acc31a5efb0a7",
       "version_major": 2,
       "version_minor": 0
      },
      "text/plain": [
       "  0%|          | 0/3000 [00:00<?, ?it/s]"
      ]
     },
     "metadata": {},
     "output_type": "display_data"
    },
    {
     "name": "stdout",
     "output_type": "stream",
     "text": [
      "epoch 2800, loss 0.56404, v_acc 65.622\n"
     ]
    },
    {
     "data": {
      "application/vnd.jupyter.widget-view+json": {
       "model_id": "29803e36fe6f44a1829b39dd50bce6f7",
       "version_major": 2,
       "version_minor": 0
      },
      "text/plain": [
       "  0%|          | 0/3000 [00:00<?, ?it/s]"
      ]
     },
     "metadata": {},
     "output_type": "display_data"
    },
    {
     "name": "stdout",
     "output_type": "stream",
     "text": [
      "epoch 2900, loss 0.56327, v_acc 65.589\n"
     ]
    },
    {
     "data": {
      "application/vnd.jupyter.widget-view+json": {
       "model_id": "f10f95dd8da347979fc0c7741d409996",
       "version_major": 2,
       "version_minor": 0
      },
      "text/plain": [
       "  0%|          | 0/3000 [00:00<?, ?it/s]"
      ]
     },
     "metadata": {},
     "output_type": "display_data"
    },
    {
     "name": "stdout",
     "output_type": "stream",
     "text": [
      "epoch 3000, loss 0.56257, v_acc 65.555\n"
     ]
    },
    {
     "data": {
      "application/vnd.jupyter.widget-view+json": {
       "model_id": "95c2db5151144fc4a5c63a3df6af921b",
       "version_major": 2,
       "version_minor": 0
      },
      "text/plain": [
       "  0%|          | 0/3000 [00:00<?, ?it/s]"
      ]
     },
     "metadata": {},
     "output_type": "display_data"
    },
    {
     "name": "stdout",
     "output_type": "stream",
     "text": [
      "epoch 3100, loss 0.56194, v_acc 65.589\n"
     ]
    },
    {
     "data": {
      "application/vnd.jupyter.widget-view+json": {
       "model_id": "8aac670608fb465da40a0ddecc46ed8a",
       "version_major": 2,
       "version_minor": 0
      },
      "text/plain": [
       "  0%|          | 0/3000 [00:00<?, ?it/s]"
      ]
     },
     "metadata": {},
     "output_type": "display_data"
    },
    {
     "name": "stdout",
     "output_type": "stream",
     "text": [
      "epoch 3200, loss 0.56136, v_acc 65.555\n"
     ]
    },
    {
     "data": {
      "application/vnd.jupyter.widget-view+json": {
       "model_id": "50a88496d05c458ba8c81dce4e128242",
       "version_major": 2,
       "version_minor": 0
      },
      "text/plain": [
       "  0%|          | 0/3000 [00:00<?, ?it/s]"
      ]
     },
     "metadata": {},
     "output_type": "display_data"
    },
    {
     "name": "stdout",
     "output_type": "stream",
     "text": [
      "epoch 3300, loss 0.56086, v_acc 65.555\n"
     ]
    },
    {
     "data": {
      "application/vnd.jupyter.widget-view+json": {
       "model_id": "1bc1bacd492d404c84cfa26aa33886ac",
       "version_major": 2,
       "version_minor": 0
      },
      "text/plain": [
       "  0%|          | 0/3000 [00:00<?, ?it/s]"
      ]
     },
     "metadata": {},
     "output_type": "display_data"
    },
    {
     "name": "stdout",
     "output_type": "stream",
     "text": [
      "epoch 3400, loss 0.56041, v_acc 65.555\n"
     ]
    },
    {
     "data": {
      "application/vnd.jupyter.widget-view+json": {
       "model_id": "d34ee9e83b6b44b99144930c44fff985",
       "version_major": 2,
       "version_minor": 0
      },
      "text/plain": [
       "  0%|          | 0/3000 [00:00<?, ?it/s]"
      ]
     },
     "metadata": {},
     "output_type": "display_data"
    },
    {
     "name": "stdout",
     "output_type": "stream",
     "text": [
      "epoch 3500, loss 0.56001, v_acc 65.522\n"
     ]
    },
    {
     "data": {
      "application/vnd.jupyter.widget-view+json": {
       "model_id": "3323b7de793f43c5b939ecf3fc1cb9bc",
       "version_major": 2,
       "version_minor": 0
      },
      "text/plain": [
       "  0%|          | 0/3000 [00:00<?, ?it/s]"
      ]
     },
     "metadata": {},
     "output_type": "display_data"
    },
    {
     "name": "stdout",
     "output_type": "stream",
     "text": [
      "epoch 3600, loss 0.55967, v_acc 65.455\n"
     ]
    },
    {
     "data": {
      "application/vnd.jupyter.widget-view+json": {
       "model_id": "8ce458cce982405ea4146ab447ac601c",
       "version_major": 2,
       "version_minor": 0
      },
      "text/plain": [
       "  0%|          | 0/3000 [00:00<?, ?it/s]"
      ]
     },
     "metadata": {},
     "output_type": "display_data"
    },
    {
     "name": "stdout",
     "output_type": "stream",
     "text": [
      "epoch 3700, loss 0.55937, v_acc 65.455\n"
     ]
    },
    {
     "data": {
      "application/vnd.jupyter.widget-view+json": {
       "model_id": "251e9dc465ee403c815bb9219ff2c236",
       "version_major": 2,
       "version_minor": 0
      },
      "text/plain": [
       "  0%|          | 0/3000 [00:00<?, ?it/s]"
      ]
     },
     "metadata": {},
     "output_type": "display_data"
    },
    {
     "name": "stdout",
     "output_type": "stream",
     "text": [
      "epoch 3800, loss 0.55911, v_acc 65.455\n"
     ]
    },
    {
     "data": {
      "application/vnd.jupyter.widget-view+json": {
       "model_id": "30ff614d29d2444282865ab44a90d022",
       "version_major": 2,
       "version_minor": 0
      },
      "text/plain": [
       "  0%|          | 0/3000 [00:00<?, ?it/s]"
      ]
     },
     "metadata": {},
     "output_type": "display_data"
    },
    {
     "name": "stdout",
     "output_type": "stream",
     "text": [
      "epoch 3900, loss 0.55889, v_acc 65.455\n"
     ]
    },
    {
     "data": {
      "application/vnd.jupyter.widget-view+json": {
       "model_id": "d9a30507b8b644508df491a2e0bba690",
       "version_major": 2,
       "version_minor": 0
      },
      "text/plain": [
       "  0%|          | 0/3000 [00:00<?, ?it/s]"
      ]
     },
     "metadata": {},
     "output_type": "display_data"
    },
    {
     "name": "stdout",
     "output_type": "stream",
     "text": [
      "epoch 4000, loss 0.55871, v_acc 65.388\n"
     ]
    },
    {
     "data": {
      "application/vnd.jupyter.widget-view+json": {
       "model_id": "7d1299253c93428e8190894f0083c9bf",
       "version_major": 2,
       "version_minor": 0
      },
      "text/plain": [
       "  0%|          | 0/3000 [00:00<?, ?it/s]"
      ]
     },
     "metadata": {},
     "output_type": "display_data"
    },
    {
     "name": "stdout",
     "output_type": "stream",
     "text": [
      "epoch 4100, loss 0.55856, v_acc 65.388\n"
     ]
    },
    {
     "data": {
      "application/vnd.jupyter.widget-view+json": {
       "model_id": "84b2cdda0e734cf4b252ba98302a05aa",
       "version_major": 2,
       "version_minor": 0
      },
      "text/plain": [
       "  0%|          | 0/3000 [00:00<?, ?it/s]"
      ]
     },
     "metadata": {},
     "output_type": "display_data"
    },
    {
     "name": "stdout",
     "output_type": "stream",
     "text": [
      "epoch 4200, loss 0.55844, v_acc 65.355\n"
     ]
    },
    {
     "data": {
      "application/vnd.jupyter.widget-view+json": {
       "model_id": "fe6eabc0eca04db1a9acfd38a5973e44",
       "version_major": 2,
       "version_minor": 0
      },
      "text/plain": [
       "  0%|          | 0/3000 [00:00<?, ?it/s]"
      ]
     },
     "metadata": {},
     "output_type": "display_data"
    },
    {
     "name": "stdout",
     "output_type": "stream",
     "text": [
      "epoch 4300, loss 0.55834, v_acc 65.355\n"
     ]
    },
    {
     "data": {
      "application/vnd.jupyter.widget-view+json": {
       "model_id": "f3c406eb7fcf40958ac613bffb4d9fde",
       "version_major": 2,
       "version_minor": 0
      },
      "text/plain": [
       "  0%|          | 0/3000 [00:00<?, ?it/s]"
      ]
     },
     "metadata": {},
     "output_type": "display_data"
    },
    {
     "name": "stdout",
     "output_type": "stream",
     "text": [
      "epoch 4400, loss 0.55827, v_acc 65.355\n"
     ]
    },
    {
     "data": {
      "application/vnd.jupyter.widget-view+json": {
       "model_id": "361a484764de4889854a709ad2eb2c5b",
       "version_major": 2,
       "version_minor": 0
      },
      "text/plain": [
       "  0%|          | 0/3000 [00:00<?, ?it/s]"
      ]
     },
     "metadata": {},
     "output_type": "display_data"
    },
    {
     "name": "stdout",
     "output_type": "stream",
     "text": [
      "epoch 4500, loss 0.55822, v_acc 65.355\n"
     ]
    },
    {
     "data": {
      "application/vnd.jupyter.widget-view+json": {
       "model_id": "1f6196f1f1b4453b874901e9267dd740",
       "version_major": 2,
       "version_minor": 0
      },
      "text/plain": [
       "  0%|          | 0/3000 [00:00<?, ?it/s]"
      ]
     },
     "metadata": {},
     "output_type": "display_data"
    },
    {
     "name": "stdout",
     "output_type": "stream",
     "text": [
      "epoch 4600, loss 0.55818, v_acc 65.355\n"
     ]
    },
    {
     "data": {
      "application/vnd.jupyter.widget-view+json": {
       "model_id": "a62bf25e853048dd82e820874d738562",
       "version_major": 2,
       "version_minor": 0
      },
      "text/plain": [
       "  0%|          | 0/3000 [00:00<?, ?it/s]"
      ]
     },
     "metadata": {},
     "output_type": "display_data"
    },
    {
     "name": "stdout",
     "output_type": "stream",
     "text": [
      "epoch 4700, loss 0.55816, v_acc 65.355\n"
     ]
    },
    {
     "data": {
      "application/vnd.jupyter.widget-view+json": {
       "model_id": "35cf449f864449b296dc8db862272fc4",
       "version_major": 2,
       "version_minor": 0
      },
      "text/plain": [
       "  0%|          | 0/3000 [00:00<?, ?it/s]"
      ]
     },
     "metadata": {},
     "output_type": "display_data"
    },
    {
     "name": "stdout",
     "output_type": "stream",
     "text": [
      "epoch 4800, loss 0.55815, v_acc 65.355\n"
     ]
    },
    {
     "data": {
      "application/vnd.jupyter.widget-view+json": {
       "model_id": "7683b10a161f4fb69a9a867e43b0ba62",
       "version_major": 2,
       "version_minor": 0
      },
      "text/plain": [
       "  0%|          | 0/3000 [00:00<?, ?it/s]"
      ]
     },
     "metadata": {},
     "output_type": "display_data"
    },
    {
     "name": "stdout",
     "output_type": "stream",
     "text": [
      "epoch 4900, loss 0.55814, v_acc 65.355\n"
     ]
    }
   ],
   "source": [
    "import torch\n",
    "import torch.nn as nn\n",
    "\n",
    "def loss_fn(output, target):\n",
    "    weight = 1/torch.abs(target[:,1])\n",
    "    weight[target[:,1] == 0] = 1\n",
    "    loss1 = torch.mean(weight*(torch.abs(output[:,0]-target[:,0])))\n",
    "    return loss1\n",
    "\n",
    "epochs = 5000\n",
    "model = LinearRegressionModel(2000, 2)\n",
    "learning_rate = 0.001\n",
    "optimizer = torch.optim.Adam(model.parameters(), lr=learning_rate)\n",
    "# optimizer = torch.optim.SGD(model.parameters(), lr=0.001, momentum=0.9)\n",
    "sched = torch.optim.lr_scheduler.CosineAnnealingLR(optimizer, T_max= epochs)\n",
    "best_model = model\n",
    "best_acc = 0\n",
    "\n",
    "for epoch in range(epochs):\n",
    "    model.train()\n",
    "    # Convert numpy array to torch Variable\n",
    "    inputs = torch.from_numpy(input_features_train).float().requires_grad_()\n",
    "    targets = torch.from_numpy(corr_coefs_train).float()\n",
    "\n",
    "    # Clear gradients w.r.t. parameters\n",
    "    optimizer.zero_grad() \n",
    "\n",
    "    # Forward to get output\n",
    "    outputs = model(inputs)\n",
    "\n",
    "    # Calculate Loss\n",
    "    loss = loss_fn(outputs, targets)\n",
    "\n",
    "    # Getting gradients w.r.t. parameters\n",
    "    loss.backward()\n",
    "\n",
    "    # Updating parameters\n",
    "    optimizer.step()\n",
    "    sched.step()\n",
    "\n",
    "    if epoch%100 == 0:\n",
    "        model.eval()\n",
    "        val_coef_preds = model(torch.from_numpy(input_features_val).float())\n",
    "        val_acc = evaluate_acc(val_coef_preds, vlabels_val, ie_val)\n",
    "        if val_acc > best_acc:\n",
    "            print(\"Updating best model\")\n",
    "            best_acc = val_acc\n",
    "            best_model = copy.deepcopy(model)\n",
    "        print(f'epoch {epoch}, loss {loss.item():.5f}, v_acc {val_acc:.3f}')\n",
    "        "
   ]
  },
  {
   "cell_type": "code",
   "execution_count": 121,
   "id": "4db4eb65",
   "metadata": {},
   "outputs": [
    {
     "name": "stdout",
     "output_type": "stream",
     "text": [
      "torch.Size([12760, 2])\n",
      "torch.Size([3000, 2])\n",
      "torch.Size([50000, 2])\n"
     ]
    },
    {
     "data": {
      "application/vnd.jupyter.widget-view+json": {
       "model_id": "55e09cb1e83647dfb0537d56c86c0586",
       "version_major": 2,
       "version_minor": 0
      },
      "text/plain": [
       "  0%|          | 0/12760 [00:00<?, ?it/s]"
      ]
     },
     "metadata": {},
     "output_type": "display_data"
    },
    {
     "name": "stdout",
     "output_type": "stream",
     "text": [
      "87.84387491182694\n"
     ]
    },
    {
     "data": {
      "application/vnd.jupyter.widget-view+json": {
       "model_id": "c9c98e17069f4e8fa64acfa3f8793f34",
       "version_major": 2,
       "version_minor": 0
      },
      "text/plain": [
       "  0%|          | 0/3000 [00:00<?, ?it/s]"
      ]
     },
     "metadata": {},
     "output_type": "display_data"
    },
    {
     "name": "stdout",
     "output_type": "stream",
     "text": [
      "66.15538512837612\n"
     ]
    },
    {
     "data": {
      "application/vnd.jupyter.widget-view+json": {
       "model_id": "20c789f2fbc4490da9161556133dfaae",
       "version_major": 2,
       "version_minor": 0
      },
      "text/plain": [
       "  0%|          | 0/50000 [00:00<?, ?it/s]"
      ]
     },
     "metadata": {},
     "output_type": "display_data"
    },
    {
     "name": "stdout",
     "output_type": "stream",
     "text": [
      "0.646/0.722/0.637/0.461\n",
      "64.60129202584052\n"
     ]
    }
   ],
   "source": [
    "model.eval()\n",
    "with torch.no_grad():\n",
    "    train_coef_preds = best_model(torch.from_numpy(input_features_train).float())\n",
    "    print(train_coef_preds.shape)        \n",
    "    val_coef_preds = best_model(torch.from_numpy(input_features_val).float())\n",
    "    print(val_coef_preds.shape)  \n",
    "    test_coef_preds = best_model(torch.from_numpy(input_features_test).float())\n",
    "    print(test_coef_preds.shape)    \n",
    "print(evaluate_acc(train_coef_preds, vlabels_train, ie_train))\n",
    "print(evaluate_acc(val_coef_preds, vlabels_val, ie_val))\n",
    "print(evaluate_acc(test_coef_preds, labels.numpy(), image_embeddings, test = True))\n",
    "\n"
   ]
  },
  {
   "cell_type": "markdown",
   "id": "4983bf7b",
   "metadata": {},
   "source": [
    "### (v) Architecture Variant"
   ]
  },
  {
   "cell_type": "code",
   "execution_count": 43,
   "id": "b420cbfa",
   "metadata": {
    "scrolled": true
   },
   "outputs": [
    {
     "data": {
      "application/vnd.jupyter.widget-view+json": {
       "model_id": "8b9569a43dcb44c097c0638612c95cee",
       "version_major": 2,
       "version_minor": 0
      },
      "text/plain": [
       "  0%|          | 0/4000 [00:00<?, ?it/s]"
      ]
     },
     "metadata": {},
     "output_type": "display_data"
    },
    {
     "name": "stdout",
     "output_type": "stream",
     "text": [
      "Updating best model\n",
      "epoch 0, loss 0.78101, v_acc 66.317, best_v_acc 66.317\n"
     ]
    },
    {
     "data": {
      "application/vnd.jupyter.widget-view+json": {
       "model_id": "38339f184c9b4541a58067f48dc3285f",
       "version_major": 2,
       "version_minor": 0
      },
      "text/plain": [
       "  0%|          | 0/4000 [00:00<?, ?it/s]"
      ]
     },
     "metadata": {},
     "output_type": "display_data"
    },
    {
     "name": "stdout",
     "output_type": "stream",
     "text": [
      "epoch 100, loss 0.43219, v_acc 65.416, best_v_acc 66.317\n"
     ]
    },
    {
     "data": {
      "application/vnd.jupyter.widget-view+json": {
       "model_id": "8a2434de1c724de7a089afe1ebe374c7",
       "version_major": 2,
       "version_minor": 0
      },
      "text/plain": [
       "  0%|          | 0/4000 [00:00<?, ?it/s]"
      ]
     },
     "metadata": {},
     "output_type": "display_data"
    },
    {
     "name": "stdout",
     "output_type": "stream",
     "text": [
      "epoch 200, loss 0.34593, v_acc 65.841, best_v_acc 66.317\n"
     ]
    },
    {
     "data": {
      "application/vnd.jupyter.widget-view+json": {
       "model_id": "9f676867e4ff4eae8fc82041c8a190d8",
       "version_major": 2,
       "version_minor": 0
      },
      "text/plain": [
       "  0%|          | 0/4000 [00:00<?, ?it/s]"
      ]
     },
     "metadata": {},
     "output_type": "display_data"
    },
    {
     "name": "stdout",
     "output_type": "stream",
     "text": [
      "epoch 300, loss 0.31217, v_acc 66.067, best_v_acc 66.317\n"
     ]
    },
    {
     "data": {
      "application/vnd.jupyter.widget-view+json": {
       "model_id": "fc26d45dae554ae48a8752eb93a839e1",
       "version_major": 2,
       "version_minor": 0
      },
      "text/plain": [
       "  0%|          | 0/4000 [00:00<?, ?it/s]"
      ]
     },
     "metadata": {},
     "output_type": "display_data"
    },
    {
     "name": "stdout",
     "output_type": "stream",
     "text": [
      "epoch 400, loss 0.29164, v_acc 66.042, best_v_acc 66.317\n"
     ]
    },
    {
     "data": {
      "application/vnd.jupyter.widget-view+json": {
       "model_id": "02a0f70578344298b72811b8efa84601",
       "version_major": 2,
       "version_minor": 0
      },
      "text/plain": [
       "  0%|          | 0/4000 [00:00<?, ?it/s]"
      ]
     },
     "metadata": {},
     "output_type": "display_data"
    },
    {
     "name": "stdout",
     "output_type": "stream",
     "text": [
      "epoch 500, loss 0.27599, v_acc 66.217, best_v_acc 66.317\n"
     ]
    },
    {
     "data": {
      "application/vnd.jupyter.widget-view+json": {
       "model_id": "adbb267409794230ab4757695f84df93",
       "version_major": 2,
       "version_minor": 0
      },
      "text/plain": [
       "  0%|          | 0/4000 [00:00<?, ?it/s]"
      ]
     },
     "metadata": {},
     "output_type": "display_data"
    },
    {
     "name": "stdout",
     "output_type": "stream",
     "text": [
      "epoch 600, loss 0.26566, v_acc 66.217, best_v_acc 66.317\n"
     ]
    },
    {
     "data": {
      "application/vnd.jupyter.widget-view+json": {
       "model_id": "21bc2e6f9d5c4fc8a5a4d58f550885a9",
       "version_major": 2,
       "version_minor": 0
      },
      "text/plain": [
       "  0%|          | 0/4000 [00:00<?, ?it/s]"
      ]
     },
     "metadata": {},
     "output_type": "display_data"
    },
    {
     "name": "stdout",
     "output_type": "stream",
     "text": [
      "epoch 700, loss 0.25815, v_acc 66.167, best_v_acc 66.317\n"
     ]
    },
    {
     "data": {
      "application/vnd.jupyter.widget-view+json": {
       "model_id": "da7ac7e3e2434710b6f0be7030148868",
       "version_major": 2,
       "version_minor": 0
      },
      "text/plain": [
       "  0%|          | 0/4000 [00:00<?, ?it/s]"
      ]
     },
     "metadata": {},
     "output_type": "display_data"
    },
    {
     "name": "stdout",
     "output_type": "stream",
     "text": [
      "epoch 800, loss 0.25380, v_acc 66.267, best_v_acc 66.317\n"
     ]
    },
    {
     "data": {
      "application/vnd.jupyter.widget-view+json": {
       "model_id": "894310f8a34c46abb6d3090a088e6b5b",
       "version_major": 2,
       "version_minor": 0
      },
      "text/plain": [
       "  0%|          | 0/4000 [00:00<?, ?it/s]"
      ]
     },
     "metadata": {},
     "output_type": "display_data"
    },
    {
     "name": "stdout",
     "output_type": "stream",
     "text": [
      "epoch 900, loss 0.24777, v_acc 66.067, best_v_acc 66.317\n"
     ]
    },
    {
     "data": {
      "application/vnd.jupyter.widget-view+json": {
       "model_id": "65c315a68f184682b8fd9e0b346ecb24",
       "version_major": 2,
       "version_minor": 0
      },
      "text/plain": [
       "  0%|          | 0/4000 [00:00<?, ?it/s]"
      ]
     },
     "metadata": {},
     "output_type": "display_data"
    },
    {
     "name": "stdout",
     "output_type": "stream",
     "text": [
      "epoch 1000, loss 0.24284, v_acc 66.167, best_v_acc 66.317\n"
     ]
    },
    {
     "data": {
      "application/vnd.jupyter.widget-view+json": {
       "model_id": "54238b7b84534cdeaf2b254c9e687970",
       "version_major": 2,
       "version_minor": 0
      },
      "text/plain": [
       "  0%|          | 0/4000 [00:00<?, ?it/s]"
      ]
     },
     "metadata": {},
     "output_type": "display_data"
    },
    {
     "name": "stdout",
     "output_type": "stream",
     "text": [
      "epoch 1100, loss 0.23892, v_acc 66.167, best_v_acc 66.317\n"
     ]
    },
    {
     "data": {
      "application/vnd.jupyter.widget-view+json": {
       "model_id": "0e732edf956a40dabe36f517ecdb87e8",
       "version_major": 2,
       "version_minor": 0
      },
      "text/plain": [
       "  0%|          | 0/4000 [00:00<?, ?it/s]"
      ]
     },
     "metadata": {},
     "output_type": "display_data"
    },
    {
     "name": "stdout",
     "output_type": "stream",
     "text": [
      "epoch 1200, loss 0.23473, v_acc 66.117, best_v_acc 66.317\n"
     ]
    },
    {
     "data": {
      "application/vnd.jupyter.widget-view+json": {
       "model_id": "66f73a93cbb24076b5818c72b675225d",
       "version_major": 2,
       "version_minor": 0
      },
      "text/plain": [
       "  0%|          | 0/4000 [00:00<?, ?it/s]"
      ]
     },
     "metadata": {},
     "output_type": "display_data"
    },
    {
     "name": "stdout",
     "output_type": "stream",
     "text": [
      "epoch 1300, loss 0.23349, v_acc 66.217, best_v_acc 66.317\n"
     ]
    },
    {
     "data": {
      "application/vnd.jupyter.widget-view+json": {
       "model_id": "c2eaf779f8dd45d680ee4330c35ea6c3",
       "version_major": 2,
       "version_minor": 0
      },
      "text/plain": [
       "  0%|          | 0/4000 [00:00<?, ?it/s]"
      ]
     },
     "metadata": {},
     "output_type": "display_data"
    },
    {
     "name": "stdout",
     "output_type": "stream",
     "text": [
      "epoch 1400, loss 0.23140, v_acc 66.142, best_v_acc 66.317\n"
     ]
    },
    {
     "data": {
      "application/vnd.jupyter.widget-view+json": {
       "model_id": "5ce7866ffae94156a67df40d61e9cd9d",
       "version_major": 2,
       "version_minor": 0
      },
      "text/plain": [
       "  0%|          | 0/4000 [00:00<?, ?it/s]"
      ]
     },
     "metadata": {},
     "output_type": "display_data"
    },
    {
     "name": "stdout",
     "output_type": "stream",
     "text": [
      "epoch 1500, loss 0.22760, v_acc 66.167, best_v_acc 66.317\n"
     ]
    },
    {
     "data": {
      "application/vnd.jupyter.widget-view+json": {
       "model_id": "2413d142904d44d68fe9db3fb4604666",
       "version_major": 2,
       "version_minor": 0
      },
      "text/plain": [
       "  0%|          | 0/4000 [00:00<?, ?it/s]"
      ]
     },
     "metadata": {},
     "output_type": "display_data"
    },
    {
     "name": "stdout",
     "output_type": "stream",
     "text": [
      "epoch 1600, loss 0.22465, v_acc 66.017, best_v_acc 66.317\n"
     ]
    },
    {
     "data": {
      "application/vnd.jupyter.widget-view+json": {
       "model_id": "6e2543322a494e1298a152d55e831d63",
       "version_major": 2,
       "version_minor": 0
      },
      "text/plain": [
       "  0%|          | 0/4000 [00:00<?, ?it/s]"
      ]
     },
     "metadata": {},
     "output_type": "display_data"
    },
    {
     "name": "stdout",
     "output_type": "stream",
     "text": [
      "epoch 1700, loss 0.22338, v_acc 66.092, best_v_acc 66.317\n"
     ]
    },
    {
     "data": {
      "application/vnd.jupyter.widget-view+json": {
       "model_id": "9bc744a358f741c1b55d0747281bb49f",
       "version_major": 2,
       "version_minor": 0
      },
      "text/plain": [
       "  0%|          | 0/4000 [00:00<?, ?it/s]"
      ]
     },
     "metadata": {},
     "output_type": "display_data"
    },
    {
     "name": "stdout",
     "output_type": "stream",
     "text": [
      "epoch 1800, loss 0.22321, v_acc 65.841, best_v_acc 66.317\n"
     ]
    },
    {
     "data": {
      "application/vnd.jupyter.widget-view+json": {
       "model_id": "fd1f55c1a7b84fc2ab44ed5ff5970e7a",
       "version_major": 2,
       "version_minor": 0
      },
      "text/plain": [
       "  0%|          | 0/4000 [00:00<?, ?it/s]"
      ]
     },
     "metadata": {},
     "output_type": "display_data"
    },
    {
     "name": "stdout",
     "output_type": "stream",
     "text": [
      "epoch 1900, loss 0.21932, v_acc 66.142, best_v_acc 66.317\n"
     ]
    },
    {
     "data": {
      "application/vnd.jupyter.widget-view+json": {
       "model_id": "f00d060a082d4b44967f42ec1674310d",
       "version_major": 2,
       "version_minor": 0
      },
      "text/plain": [
       "  0%|          | 0/4000 [00:00<?, ?it/s]"
      ]
     },
     "metadata": {},
     "output_type": "display_data"
    },
    {
     "name": "stdout",
     "output_type": "stream",
     "text": [
      "epoch 2000, loss 0.21824, v_acc 66.067, best_v_acc 66.317\n"
     ]
    },
    {
     "data": {
      "application/vnd.jupyter.widget-view+json": {
       "model_id": "d02819c89cf54afda6100d86d7145914",
       "version_major": 2,
       "version_minor": 0
      },
      "text/plain": [
       "  0%|          | 0/4000 [00:00<?, ?it/s]"
      ]
     },
     "metadata": {},
     "output_type": "display_data"
    },
    {
     "name": "stdout",
     "output_type": "stream",
     "text": [
      "epoch 2100, loss 0.21737, v_acc 66.192, best_v_acc 66.317\n"
     ]
    },
    {
     "data": {
      "application/vnd.jupyter.widget-view+json": {
       "model_id": "49b5ab9c9e11432b8c4fbccf76fa4bc0",
       "version_major": 2,
       "version_minor": 0
      },
      "text/plain": [
       "  0%|          | 0/4000 [00:00<?, ?it/s]"
      ]
     },
     "metadata": {},
     "output_type": "display_data"
    },
    {
     "name": "stdout",
     "output_type": "stream",
     "text": [
      "epoch 2200, loss 0.21503, v_acc 66.042, best_v_acc 66.317\n"
     ]
    },
    {
     "data": {
      "application/vnd.jupyter.widget-view+json": {
       "model_id": "da78e42586024a9ba1fba178ca086793",
       "version_major": 2,
       "version_minor": 0
      },
      "text/plain": [
       "  0%|          | 0/4000 [00:00<?, ?it/s]"
      ]
     },
     "metadata": {},
     "output_type": "display_data"
    },
    {
     "name": "stdout",
     "output_type": "stream",
     "text": [
      "epoch 2300, loss 0.21346, v_acc 66.017, best_v_acc 66.317\n"
     ]
    },
    {
     "data": {
      "application/vnd.jupyter.widget-view+json": {
       "model_id": "efc5c9ca9cd84db0a6a64759cbdaf18e",
       "version_major": 2,
       "version_minor": 0
      },
      "text/plain": [
       "  0%|          | 0/4000 [00:00<?, ?it/s]"
      ]
     },
     "metadata": {},
     "output_type": "display_data"
    },
    {
     "name": "stdout",
     "output_type": "stream",
     "text": [
      "epoch 2400, loss 0.21281, v_acc 66.092, best_v_acc 66.317\n"
     ]
    },
    {
     "data": {
      "application/vnd.jupyter.widget-view+json": {
       "model_id": "8f1784b35f134de2993e720f1e892811",
       "version_major": 2,
       "version_minor": 0
      },
      "text/plain": [
       "  0%|          | 0/4000 [00:00<?, ?it/s]"
      ]
     },
     "metadata": {},
     "output_type": "display_data"
    },
    {
     "name": "stdout",
     "output_type": "stream",
     "text": [
      "epoch 2500, loss 0.21061, v_acc 66.067, best_v_acc 66.317\n"
     ]
    },
    {
     "data": {
      "application/vnd.jupyter.widget-view+json": {
       "model_id": "776bcd9b6bc14892ba6ccb4d576be347",
       "version_major": 2,
       "version_minor": 0
      },
      "text/plain": [
       "  0%|          | 0/4000 [00:00<?, ?it/s]"
      ]
     },
     "metadata": {},
     "output_type": "display_data"
    },
    {
     "name": "stdout",
     "output_type": "stream",
     "text": [
      "epoch 2600, loss 0.21106, v_acc 66.017, best_v_acc 66.317\n"
     ]
    },
    {
     "data": {
      "application/vnd.jupyter.widget-view+json": {
       "model_id": "473589898d774573a35596a7c19a0a69",
       "version_major": 2,
       "version_minor": 0
      },
      "text/plain": [
       "  0%|          | 0/4000 [00:00<?, ?it/s]"
      ]
     },
     "metadata": {},
     "output_type": "display_data"
    },
    {
     "name": "stdout",
     "output_type": "stream",
     "text": [
      "epoch 2700, loss 0.21013, v_acc 66.117, best_v_acc 66.317\n"
     ]
    },
    {
     "data": {
      "application/vnd.jupyter.widget-view+json": {
       "model_id": "a1552cea895f4143aba2b48f75fef3bc",
       "version_major": 2,
       "version_minor": 0
      },
      "text/plain": [
       "  0%|          | 0/4000 [00:00<?, ?it/s]"
      ]
     },
     "metadata": {},
     "output_type": "display_data"
    },
    {
     "name": "stdout",
     "output_type": "stream",
     "text": [
      "epoch 2800, loss 0.20805, v_acc 66.017, best_v_acc 66.317\n"
     ]
    },
    {
     "data": {
      "application/vnd.jupyter.widget-view+json": {
       "model_id": "19fe1c3c8e3e4c5e8cf31c88f6bd48d7",
       "version_major": 2,
       "version_minor": 0
      },
      "text/plain": [
       "  0%|          | 0/4000 [00:00<?, ?it/s]"
      ]
     },
     "metadata": {},
     "output_type": "display_data"
    },
    {
     "name": "stdout",
     "output_type": "stream",
     "text": [
      "epoch 2900, loss 0.20726, v_acc 65.966, best_v_acc 66.317\n"
     ]
    },
    {
     "data": {
      "application/vnd.jupyter.widget-view+json": {
       "model_id": "6ae5dc6cc4ef4c18b80fdf2adc7987e4",
       "version_major": 2,
       "version_minor": 0
      },
      "text/plain": [
       "  0%|          | 0/4000 [00:00<?, ?it/s]"
      ]
     },
     "metadata": {},
     "output_type": "display_data"
    },
    {
     "name": "stdout",
     "output_type": "stream",
     "text": [
      "epoch 3000, loss 0.20579, v_acc 66.017, best_v_acc 66.317\n"
     ]
    },
    {
     "data": {
      "application/vnd.jupyter.widget-view+json": {
       "model_id": "53a8d635f7c044df8714fe9cf32f7d1a",
       "version_major": 2,
       "version_minor": 0
      },
      "text/plain": [
       "  0%|          | 0/4000 [00:00<?, ?it/s]"
      ]
     },
     "metadata": {},
     "output_type": "display_data"
    },
    {
     "name": "stdout",
     "output_type": "stream",
     "text": [
      "epoch 3100, loss 0.20486, v_acc 65.966, best_v_acc 66.317\n"
     ]
    },
    {
     "data": {
      "application/vnd.jupyter.widget-view+json": {
       "model_id": "b4f8b46ff21740c4b9afb90f83b7588e",
       "version_major": 2,
       "version_minor": 0
      },
      "text/plain": [
       "  0%|          | 0/4000 [00:00<?, ?it/s]"
      ]
     },
     "metadata": {},
     "output_type": "display_data"
    },
    {
     "name": "stdout",
     "output_type": "stream",
     "text": [
      "epoch 3200, loss 0.20432, v_acc 66.067, best_v_acc 66.317\n"
     ]
    },
    {
     "data": {
      "application/vnd.jupyter.widget-view+json": {
       "model_id": "b9024e987bac49299d83e784d98db3fa",
       "version_major": 2,
       "version_minor": 0
      },
      "text/plain": [
       "  0%|          | 0/4000 [00:00<?, ?it/s]"
      ]
     },
     "metadata": {},
     "output_type": "display_data"
    },
    {
     "name": "stdout",
     "output_type": "stream",
     "text": [
      "epoch 3300, loss 0.20319, v_acc 65.991, best_v_acc 66.317\n"
     ]
    },
    {
     "data": {
      "application/vnd.jupyter.widget-view+json": {
       "model_id": "825544ec91e9454c88f3de731aae8360",
       "version_major": 2,
       "version_minor": 0
      },
      "text/plain": [
       "  0%|          | 0/4000 [00:00<?, ?it/s]"
      ]
     },
     "metadata": {},
     "output_type": "display_data"
    },
    {
     "name": "stdout",
     "output_type": "stream",
     "text": [
      "epoch 3400, loss 0.20239, v_acc 66.042, best_v_acc 66.317\n"
     ]
    },
    {
     "data": {
      "application/vnd.jupyter.widget-view+json": {
       "model_id": "e14a87e8390449f1ab2e7beff0fcb4ec",
       "version_major": 2,
       "version_minor": 0
      },
      "text/plain": [
       "  0%|          | 0/4000 [00:00<?, ?it/s]"
      ]
     },
     "metadata": {},
     "output_type": "display_data"
    },
    {
     "name": "stdout",
     "output_type": "stream",
     "text": [
      "epoch 3500, loss 0.20221, v_acc 66.067, best_v_acc 66.317\n"
     ]
    },
    {
     "data": {
      "application/vnd.jupyter.widget-view+json": {
       "model_id": "92cc3771ee2f4e3fa31aaf2492f03912",
       "version_major": 2,
       "version_minor": 0
      },
      "text/plain": [
       "  0%|          | 0/4000 [00:00<?, ?it/s]"
      ]
     },
     "metadata": {},
     "output_type": "display_data"
    },
    {
     "name": "stdout",
     "output_type": "stream",
     "text": [
      "epoch 3600, loss 0.20241, v_acc 66.017, best_v_acc 66.317\n"
     ]
    },
    {
     "data": {
      "application/vnd.jupyter.widget-view+json": {
       "model_id": "809eac8ba59d48c3912b43c5db94b450",
       "version_major": 2,
       "version_minor": 0
      },
      "text/plain": [
       "  0%|          | 0/4000 [00:00<?, ?it/s]"
      ]
     },
     "metadata": {},
     "output_type": "display_data"
    },
    {
     "name": "stdout",
     "output_type": "stream",
     "text": [
      "epoch 3700, loss 0.20131, v_acc 66.042, best_v_acc 66.317\n"
     ]
    },
    {
     "data": {
      "application/vnd.jupyter.widget-view+json": {
       "model_id": "dbb475dcd49d416f9c2f34cd0f0fc9d7",
       "version_major": 2,
       "version_minor": 0
      },
      "text/plain": [
       "  0%|          | 0/4000 [00:00<?, ?it/s]"
      ]
     },
     "metadata": {},
     "output_type": "display_data"
    },
    {
     "name": "stdout",
     "output_type": "stream",
     "text": [
      "epoch 3800, loss 0.20085, v_acc 66.017, best_v_acc 66.317\n"
     ]
    },
    {
     "data": {
      "application/vnd.jupyter.widget-view+json": {
       "model_id": "d5695e1208374860b11450c7454f23ba",
       "version_major": 2,
       "version_minor": 0
      },
      "text/plain": [
       "  0%|          | 0/4000 [00:00<?, ?it/s]"
      ]
     },
     "metadata": {},
     "output_type": "display_data"
    },
    {
     "name": "stdout",
     "output_type": "stream",
     "text": [
      "epoch 3900, loss 0.19974, v_acc 66.042, best_v_acc 66.317\n"
     ]
    },
    {
     "data": {
      "application/vnd.jupyter.widget-view+json": {
       "model_id": "bd011fac4ec446599d3189f38660b024",
       "version_major": 2,
       "version_minor": 0
      },
      "text/plain": [
       "  0%|          | 0/4000 [00:00<?, ?it/s]"
      ]
     },
     "metadata": {},
     "output_type": "display_data"
    },
    {
     "name": "stdout",
     "output_type": "stream",
     "text": [
      "epoch 4000, loss 0.19971, v_acc 66.017, best_v_acc 66.317\n"
     ]
    },
    {
     "data": {
      "application/vnd.jupyter.widget-view+json": {
       "model_id": "d332348c74dc4512b46738aea91e9cdf",
       "version_major": 2,
       "version_minor": 0
      },
      "text/plain": [
       "  0%|          | 0/4000 [00:00<?, ?it/s]"
      ]
     },
     "metadata": {},
     "output_type": "display_data"
    },
    {
     "name": "stdout",
     "output_type": "stream",
     "text": [
      "epoch 4100, loss 0.19948, v_acc 66.067, best_v_acc 66.317\n"
     ]
    },
    {
     "data": {
      "application/vnd.jupyter.widget-view+json": {
       "model_id": "d3c8f9a87c374a5d9d16592eb9718521",
       "version_major": 2,
       "version_minor": 0
      },
      "text/plain": [
       "  0%|          | 0/4000 [00:00<?, ?it/s]"
      ]
     },
     "metadata": {},
     "output_type": "display_data"
    },
    {
     "name": "stdout",
     "output_type": "stream",
     "text": [
      "epoch 4200, loss 0.19932, v_acc 66.042, best_v_acc 66.317\n"
     ]
    },
    {
     "data": {
      "application/vnd.jupyter.widget-view+json": {
       "model_id": "bf071cb1d8a54213bfa7c40147cb4e64",
       "version_major": 2,
       "version_minor": 0
      },
      "text/plain": [
       "  0%|          | 0/4000 [00:00<?, ?it/s]"
      ]
     },
     "metadata": {},
     "output_type": "display_data"
    },
    {
     "name": "stdout",
     "output_type": "stream",
     "text": [
      "epoch 4300, loss 0.19879, v_acc 66.042, best_v_acc 66.317\n"
     ]
    },
    {
     "data": {
      "application/vnd.jupyter.widget-view+json": {
       "model_id": "b8ee71d92d9645c69c218f3aa5d2581e",
       "version_major": 2,
       "version_minor": 0
      },
      "text/plain": [
       "  0%|          | 0/4000 [00:00<?, ?it/s]"
      ]
     },
     "metadata": {},
     "output_type": "display_data"
    },
    {
     "name": "stdout",
     "output_type": "stream",
     "text": [
      "epoch 4400, loss 0.19801, v_acc 66.067, best_v_acc 66.317\n"
     ]
    },
    {
     "data": {
      "application/vnd.jupyter.widget-view+json": {
       "model_id": "2ee93729125244199f2d2535652d315b",
       "version_major": 2,
       "version_minor": 0
      },
      "text/plain": [
       "  0%|          | 0/4000 [00:00<?, ?it/s]"
      ]
     },
     "metadata": {},
     "output_type": "display_data"
    },
    {
     "name": "stdout",
     "output_type": "stream",
     "text": [
      "epoch 4500, loss 0.19753, v_acc 66.067, best_v_acc 66.317\n"
     ]
    },
    {
     "data": {
      "application/vnd.jupyter.widget-view+json": {
       "model_id": "99bc632d59f84e15a254836f40d44eb5",
       "version_major": 2,
       "version_minor": 0
      },
      "text/plain": [
       "  0%|          | 0/4000 [00:00<?, ?it/s]"
      ]
     },
     "metadata": {},
     "output_type": "display_data"
    },
    {
     "name": "stdout",
     "output_type": "stream",
     "text": [
      "epoch 4600, loss 0.19763, v_acc 66.042, best_v_acc 66.317\n"
     ]
    },
    {
     "data": {
      "application/vnd.jupyter.widget-view+json": {
       "model_id": "4cf8294c431f499eab83307567a8cad6",
       "version_major": 2,
       "version_minor": 0
      },
      "text/plain": [
       "  0%|          | 0/4000 [00:00<?, ?it/s]"
      ]
     },
     "metadata": {},
     "output_type": "display_data"
    },
    {
     "name": "stdout",
     "output_type": "stream",
     "text": [
      "epoch 4700, loss 0.19716, v_acc 66.067, best_v_acc 66.317\n"
     ]
    },
    {
     "data": {
      "application/vnd.jupyter.widget-view+json": {
       "model_id": "cd44396d99ef4ac7869675765b3b42b5",
       "version_major": 2,
       "version_minor": 0
      },
      "text/plain": [
       "  0%|          | 0/4000 [00:00<?, ?it/s]"
      ]
     },
     "metadata": {},
     "output_type": "display_data"
    },
    {
     "name": "stdout",
     "output_type": "stream",
     "text": [
      "epoch 4800, loss 0.19768, v_acc 66.067, best_v_acc 66.317\n"
     ]
    },
    {
     "data": {
      "application/vnd.jupyter.widget-view+json": {
       "model_id": "834736181c4e4e47b1b6ed8061b530c6",
       "version_major": 2,
       "version_minor": 0
      },
      "text/plain": [
       "  0%|          | 0/4000 [00:00<?, ?it/s]"
      ]
     },
     "metadata": {},
     "output_type": "display_data"
    },
    {
     "name": "stdout",
     "output_type": "stream",
     "text": [
      "epoch 4900, loss 0.19823, v_acc 66.067, best_v_acc 66.317\n"
     ]
    }
   ],
   "source": [
    "import torch\n",
    "import torch.nn as nn\n",
    "import copy\n",
    "\n",
    "class LinearRegressionModel(nn.Module):\n",
    "    def __init__(self, input_dim, output_dim):\n",
    "        super(LinearRegressionModel, self).__init__()\n",
    "        self.linear = nn.Linear(input_dim, 100)\n",
    "        self.bn = nn.LayerNorm(100)\n",
    "        self.do = nn.Dropout(p=0.2)\n",
    "        self.linear2 = nn.Linear(100, output_dim)\n",
    "        self.m = nn.Sigmoid()\n",
    "        self.mse = nn.MSELoss()\n",
    "\n",
    "    def forward(self, x):\n",
    "        x = self.linear(x)\n",
    "        x = self.bn(x)\n",
    "        x = self.do(x)\n",
    "        x = self.linear2(x)\n",
    "        out = self.m(x)\n",
    "        return out\n",
    "\n",
    "def loss_fn(output, target):\n",
    "    weight = 1/torch.abs(target[:,1])\n",
    "    weight[target[:,1] == 0] = 1\n",
    "    loss1 = torch.mean(weight*(torch.abs(output[:,0]-target[:,0])))\n",
    "    return loss1\n",
    "\n",
    "epochs = 5000\n",
    "model = LinearRegressionModel(2000, 2)\n",
    "learning_rate = 0.001\n",
    "optimizer = torch.optim.Adam(model.parameters(), lr=learning_rate)\n",
    "# optimizer = torch.optim.SGD(model.parameters(), lr=0.001, momentum=0.9)\n",
    "sched = torch.optim.lr_scheduler.CosineAnnealingLR(optimizer, T_max= epochs)\n",
    "best_model = model\n",
    "best_acc = 0\n",
    "\n",
    "for epoch in range(epochs):\n",
    "    model.train()\n",
    "    # Convert numpy array to torch Variable\n",
    "    inputs = torch.from_numpy(input_features_train).float().requires_grad_()\n",
    "    targets = torch.from_numpy(corr_coefs_train).float()\n",
    "\n",
    "    # Clear gradients w.r.t. parameters\n",
    "    optimizer.zero_grad() \n",
    "\n",
    "    # Forward to get output\n",
    "    outputs = model(inputs)\n",
    "\n",
    "    # Calculate Loss\n",
    "    loss = loss_fn(outputs, targets)\n",
    "\n",
    "    # Getting gradients w.r.t. parameters\n",
    "    loss.backward()\n",
    "\n",
    "    # Updating parameters\n",
    "    optimizer.step()\n",
    "    sched.step()\n",
    "\n",
    "    if epoch%100 == 0:\n",
    "        model.eval()\n",
    "        val_coef_preds = model(torch.from_numpy(input_features_val).float())\n",
    "        val_acc = evaluate_acc(val_coef_preds, vlabels_val, ie_val)\n",
    "        if val_acc > best_acc:\n",
    "            print(\"Updating best model\")\n",
    "            best_acc = val_acc\n",
    "            best_model = copy.deepcopy(model)\n",
    "        print(f'epoch {epoch}, loss {loss.item():.5f}, v_acc {val_acc:.3f}, best_v_acc {best_acc:.3f}')\n",
    "        "
   ]
  },
  {
   "cell_type": "code",
   "execution_count": 44,
   "id": "f4f4d3d6",
   "metadata": {},
   "outputs": [
    {
     "name": "stdout",
     "output_type": "stream",
     "text": [
      "torch.Size([12011, 2])\n",
      "torch.Size([4000, 2])\n",
      "torch.Size([50000, 2])\n"
     ]
    },
    {
     "data": {
      "application/vnd.jupyter.widget-view+json": {
       "model_id": "7d7e2a5309784d478355ed11049fac95",
       "version_major": 2,
       "version_minor": 0
      },
      "text/plain": [
       "  0%|          | 0/12011 [00:00<?, ?it/s]"
      ]
     },
     "metadata": {},
     "output_type": "display_data"
    },
    {
     "data": {
      "application/vnd.jupyter.widget-view+json": {
       "model_id": "7fa5338a4e5e4a3b872d05df43f66275",
       "version_major": 2,
       "version_minor": 0
      },
      "text/plain": [
       "  0%|          | 0/4000 [00:00<?, ?it/s]"
      ]
     },
     "metadata": {},
     "output_type": "display_data"
    },
    {
     "data": {
      "application/vnd.jupyter.widget-view+json": {
       "model_id": "c1058aff48604eea93496f7a69613018",
       "version_major": 2,
       "version_minor": 0
      },
      "text/plain": [
       "  0%|          | 0/50000 [00:00<?, ?it/s]"
      ]
     },
     "metadata": {},
     "output_type": "display_data"
    },
    {
     "name": "stdout",
     "output_type": "stream",
     "text": [
      "0.646/0.712/0.639/0.481\n",
      "87.5270607826811 66.3165791447862 64.59929198583971\n"
     ]
    }
   ],
   "source": [
    "model.eval()\n",
    "with torch.no_grad():\n",
    "    train_coef_preds = best_model(torch.from_numpy(input_features_train).float())\n",
    "    print(train_coef_preds.shape)        \n",
    "    val_coef_preds = best_model(torch.from_numpy(input_features_val).float())\n",
    "    print(val_coef_preds.shape)  \n",
    "    test_coef_preds = best_model(torch.from_numpy(input_features_test).float())\n",
    "    print(test_coef_preds.shape)    \n",
    "a1 = evaluate_acc(train_coef_preds, vlabels_train, ie_train)\n",
    "a2 = evaluate_acc(val_coef_preds, vlabels_val, ie_val)\n",
    "a3 = evaluate_acc(test_coef_preds, labels.numpy(), image_embeddings, test = True)\n",
    "\n",
    "print(a1, a2, a3)"
   ]
  },
  {
   "cell_type": "markdown",
   "id": "dabf3932",
   "metadata": {},
   "source": [
    "### LBFGS Variant"
   ]
  },
  {
   "cell_type": "code",
   "execution_count": 51,
   "id": "4dd1fd00",
   "metadata": {
    "scrolled": true
   },
   "outputs": [
    {
     "data": {
      "application/vnd.jupyter.widget-view+json": {
       "model_id": "251184cb83754ac5aaa70a7ed135b2df",
       "version_major": 2,
       "version_minor": 0
      },
      "text/plain": [
       "  0%|          | 0/4000 [00:00<?, ?it/s]"
      ]
     },
     "metadata": {},
     "output_type": "display_data"
    },
    {
     "name": "stdout",
     "output_type": "stream",
     "text": [
      "Updating best model\n",
      "epoch 0, loss 0.02441, v_acc 65.491\n"
     ]
    },
    {
     "data": {
      "application/vnd.jupyter.widget-view+json": {
       "model_id": "0b2dcf561928466da9578d6297a1ff4f",
       "version_major": 2,
       "version_minor": 0
      },
      "text/plain": [
       "  0%|          | 0/4000 [00:00<?, ?it/s]"
      ]
     },
     "metadata": {},
     "output_type": "display_data"
    },
    {
     "name": "stdout",
     "output_type": "stream",
     "text": [
      "Updating best model\n",
      "epoch 200, loss 0.01773, v_acc 65.666\n"
     ]
    },
    {
     "data": {
      "application/vnd.jupyter.widget-view+json": {
       "model_id": "a1cec41f57514512a40c0ea351f1d529",
       "version_major": 2,
       "version_minor": 0
      },
      "text/plain": [
       "  0%|          | 0/4000 [00:00<?, ?it/s]"
      ]
     },
     "metadata": {},
     "output_type": "display_data"
    },
    {
     "name": "stdout",
     "output_type": "stream",
     "text": [
      "Updating best model\n",
      "epoch 400, loss 0.01744, v_acc 65.716\n"
     ]
    },
    {
     "data": {
      "application/vnd.jupyter.widget-view+json": {
       "model_id": "e6ffaac0a9cf45d4bebe23a9297f862c",
       "version_major": 2,
       "version_minor": 0
      },
      "text/plain": [
       "  0%|          | 0/4000 [00:00<?, ?it/s]"
      ]
     },
     "metadata": {},
     "output_type": "display_data"
    },
    {
     "name": "stdout",
     "output_type": "stream",
     "text": [
      "Updating best model\n",
      "epoch 600, loss 0.01723, v_acc 65.816\n"
     ]
    },
    {
     "data": {
      "application/vnd.jupyter.widget-view+json": {
       "model_id": "7f9b426c1d0d46bcbf9f628064202aba",
       "version_major": 2,
       "version_minor": 0
      },
      "text/plain": [
       "  0%|          | 0/4000 [00:00<?, ?it/s]"
      ]
     },
     "metadata": {},
     "output_type": "display_data"
    },
    {
     "name": "stdout",
     "output_type": "stream",
     "text": [
      "epoch 800, loss 0.01702, v_acc 65.816\n"
     ]
    },
    {
     "data": {
      "application/vnd.jupyter.widget-view+json": {
       "model_id": "52395f664478482ab15a394c2a430d21",
       "version_major": 2,
       "version_minor": 0
      },
      "text/plain": [
       "  0%|          | 0/4000 [00:00<?, ?it/s]"
      ]
     },
     "metadata": {},
     "output_type": "display_data"
    },
    {
     "name": "stdout",
     "output_type": "stream",
     "text": [
      "Updating best model\n",
      "epoch 1000, loss 0.01687, v_acc 65.891\n"
     ]
    },
    {
     "data": {
      "application/vnd.jupyter.widget-view+json": {
       "model_id": "2c5df926c93d4fac9ea68fb0fe083e48",
       "version_major": 2,
       "version_minor": 0
      },
      "text/plain": [
       "  0%|          | 0/4000 [00:00<?, ?it/s]"
      ]
     },
     "metadata": {},
     "output_type": "display_data"
    },
    {
     "name": "stdout",
     "output_type": "stream",
     "text": [
      "Updating best model\n",
      "epoch 1200, loss 0.01681, v_acc 65.916\n"
     ]
    },
    {
     "data": {
      "application/vnd.jupyter.widget-view+json": {
       "model_id": "26921e9e3b4b46efa3e8d121e6f96bb5",
       "version_major": 2,
       "version_minor": 0
      },
      "text/plain": [
       "  0%|          | 0/4000 [00:00<?, ?it/s]"
      ]
     },
     "metadata": {},
     "output_type": "display_data"
    },
    {
     "name": "stdout",
     "output_type": "stream",
     "text": [
      "Updating best model\n",
      "epoch 1400, loss 0.01678, v_acc 65.941\n"
     ]
    },
    {
     "data": {
      "application/vnd.jupyter.widget-view+json": {
       "model_id": "4f26a126447d46f6871ac21255461984",
       "version_major": 2,
       "version_minor": 0
      },
      "text/plain": [
       "  0%|          | 0/4000 [00:00<?, ?it/s]"
      ]
     },
     "metadata": {},
     "output_type": "display_data"
    },
    {
     "name": "stdout",
     "output_type": "stream",
     "text": [
      "epoch 1600, loss 0.01675, v_acc 65.891\n"
     ]
    },
    {
     "data": {
      "application/vnd.jupyter.widget-view+json": {
       "model_id": "fff545ce45ed465c87ac99aa987f7f2f",
       "version_major": 2,
       "version_minor": 0
      },
      "text/plain": [
       "  0%|          | 0/4000 [00:00<?, ?it/s]"
      ]
     },
     "metadata": {},
     "output_type": "display_data"
    },
    {
     "name": "stdout",
     "output_type": "stream",
     "text": [
      "Updating best model\n",
      "epoch 1800, loss 0.01658, v_acc 65.991\n"
     ]
    },
    {
     "data": {
      "application/vnd.jupyter.widget-view+json": {
       "model_id": "82cbf435b85e4cb2881a060f01f2915b",
       "version_major": 2,
       "version_minor": 0
      },
      "text/plain": [
       "  0%|          | 0/4000 [00:00<?, ?it/s]"
      ]
     },
     "metadata": {},
     "output_type": "display_data"
    },
    {
     "name": "stdout",
     "output_type": "stream",
     "text": [
      "Updating best model\n",
      "epoch 2000, loss 0.01654, v_acc 66.017\n"
     ]
    },
    {
     "data": {
      "application/vnd.jupyter.widget-view+json": {
       "model_id": "6ce40446de004d2494b2f5718537b4f8",
       "version_major": 2,
       "version_minor": 0
      },
      "text/plain": [
       "  0%|          | 0/4000 [00:00<?, ?it/s]"
      ]
     },
     "metadata": {},
     "output_type": "display_data"
    },
    {
     "name": "stdout",
     "output_type": "stream",
     "text": [
      "epoch 2200, loss 0.01652, v_acc 66.017\n"
     ]
    },
    {
     "data": {
      "application/vnd.jupyter.widget-view+json": {
       "model_id": "fc19e5b8f1644cbea34891e7361ec1e1",
       "version_major": 2,
       "version_minor": 0
      },
      "text/plain": [
       "  0%|          | 0/4000 [00:00<?, ?it/s]"
      ]
     },
     "metadata": {},
     "output_type": "display_data"
    },
    {
     "name": "stdout",
     "output_type": "stream",
     "text": [
      "epoch 2400, loss 0.01645, v_acc 65.991\n"
     ]
    },
    {
     "data": {
      "application/vnd.jupyter.widget-view+json": {
       "model_id": "bf17c90943e84669ac6623c97fc4defd",
       "version_major": 2,
       "version_minor": 0
      },
      "text/plain": [
       "  0%|          | 0/4000 [00:00<?, ?it/s]"
      ]
     },
     "metadata": {},
     "output_type": "display_data"
    },
    {
     "name": "stdout",
     "output_type": "stream",
     "text": [
      "epoch 2600, loss 0.01642, v_acc 66.017\n"
     ]
    },
    {
     "data": {
      "application/vnd.jupyter.widget-view+json": {
       "model_id": "d3b1b84d48ff479099639a56207a5525",
       "version_major": 2,
       "version_minor": 0
      },
      "text/plain": [
       "  0%|          | 0/4000 [00:00<?, ?it/s]"
      ]
     },
     "metadata": {},
     "output_type": "display_data"
    },
    {
     "name": "stdout",
     "output_type": "stream",
     "text": [
      "epoch 2800, loss 0.01640, v_acc 66.017\n"
     ]
    },
    {
     "data": {
      "application/vnd.jupyter.widget-view+json": {
       "model_id": "6cc8a93e173843768634becd5a968404",
       "version_major": 2,
       "version_minor": 0
      },
      "text/plain": [
       "  0%|          | 0/4000 [00:00<?, ?it/s]"
      ]
     },
     "metadata": {},
     "output_type": "display_data"
    },
    {
     "name": "stdout",
     "output_type": "stream",
     "text": [
      "epoch 3000, loss 0.01638, v_acc 66.017\n"
     ]
    },
    {
     "data": {
      "application/vnd.jupyter.widget-view+json": {
       "model_id": "e94b43022c864647b268cb98c6ca51c0",
       "version_major": 2,
       "version_minor": 0
      },
      "text/plain": [
       "  0%|          | 0/4000 [00:00<?, ?it/s]"
      ]
     },
     "metadata": {},
     "output_type": "display_data"
    },
    {
     "ename": "KeyboardInterrupt",
     "evalue": "",
     "output_type": "error",
     "traceback": [
      "\u001b[0;31m---------------------------------------------------------------------------\u001b[0m",
      "\u001b[0;31mKeyboardInterrupt\u001b[0m                         Traceback (most recent call last)",
      "Input \u001b[0;32mIn [51]\u001b[0m, in \u001b[0;36m<cell line: 36>\u001b[0;34m()\u001b[0m\n\u001b[1;32m     58\u001b[0m model\u001b[38;5;241m.\u001b[39meval()\n\u001b[1;32m     59\u001b[0m val_coef_preds \u001b[38;5;241m=\u001b[39m model(torch\u001b[38;5;241m.\u001b[39mfrom_numpy(input_features_val)\u001b[38;5;241m.\u001b[39mfloat())\n\u001b[0;32m---> 60\u001b[0m val_acc \u001b[38;5;241m=\u001b[39m \u001b[43mevaluate_acc\u001b[49m\u001b[43m(\u001b[49m\u001b[43mval_coef_preds\u001b[49m\u001b[43m,\u001b[49m\u001b[43m \u001b[49m\u001b[43mvlabels_val\u001b[49m\u001b[43m,\u001b[49m\u001b[43m \u001b[49m\u001b[43mie_val\u001b[49m\u001b[43m)\u001b[49m\n\u001b[1;32m     61\u001b[0m \u001b[38;5;28;01mif\u001b[39;00m val_acc \u001b[38;5;241m>\u001b[39m best_acc:\n\u001b[1;32m     62\u001b[0m     \u001b[38;5;28mprint\u001b[39m(\u001b[38;5;124m\"\u001b[39m\u001b[38;5;124mUpdating best model\u001b[39m\u001b[38;5;124m\"\u001b[39m)\n",
      "Input \u001b[0;32mIn [30]\u001b[0m, in \u001b[0;36mevaluate_acc\u001b[0;34m(coef_preds, labels, ie, v, test)\u001b[0m\n\u001b[1;32m      5\u001b[0m \u001b[38;5;28;01mfor\u001b[39;00m j \u001b[38;5;129;01min\u001b[39;00m tqdm(\u001b[38;5;28mrange\u001b[39m(coef_preds\u001b[38;5;241m.\u001b[39mshape[\u001b[38;5;241m0\u001b[39m])):\n\u001b[1;32m      6\u001b[0m     i \u001b[38;5;241m=\u001b[39m coef_preds[j][\u001b[38;5;241m0\u001b[39m]\u001b[38;5;241m.\u001b[39mitem() \n\u001b[0;32m----> 7\u001b[0m     mixed_clf\u001b[38;5;241m.\u001b[39mcoef_ \u001b[38;5;241m=\u001b[39m \u001b[43mi\u001b[49m\u001b[38;5;241;43m*\u001b[39;49m\u001b[43mtext_only_balanced_clf\u001b[49m\u001b[38;5;241;43m.\u001b[39;49m\u001b[43mcoef_\u001b[49m\u001b[43m \u001b[49m\u001b[38;5;241;43m+\u001b[39;49m\u001b[43m \u001b[49m\u001b[43m(\u001b[49m\u001b[38;5;241;43m1\u001b[39;49m\u001b[38;5;241;43m-\u001b[39;49m\u001b[43mi\u001b[49m\u001b[43m)\u001b[49m\u001b[38;5;241;43m*\u001b[39;49m\u001b[43mimage_only_clf_oversampled\u001b[49m\u001b[38;5;241;43m.\u001b[39;49m\u001b[43mcoef_\u001b[49m\n\u001b[1;32m      8\u001b[0m     mixed_clf\u001b[38;5;241m.\u001b[39mintercept_ \u001b[38;5;241m=\u001b[39m i\u001b[38;5;241m*\u001b[39mtext_only_balanced_clf\u001b[38;5;241m.\u001b[39mintercept_ \u001b[38;5;241m+\u001b[39m (\u001b[38;5;241m1\u001b[39m\u001b[38;5;241m-\u001b[39mi)\u001b[38;5;241m*\u001b[39mimage_only_clf_oversampled\u001b[38;5;241m.\u001b[39mintercept_\n\u001b[1;32m      9\u001b[0m     pred \u001b[38;5;241m=\u001b[39m mixed_clf\u001b[38;5;241m.\u001b[39mpredict(ie[j]\u001b[38;5;241m.\u001b[39mreshape(\u001b[38;5;241m1\u001b[39m, \u001b[38;5;241m-\u001b[39m\u001b[38;5;241m1\u001b[39m))\n",
      "\u001b[0;31mKeyboardInterrupt\u001b[0m: "
     ]
    }
   ],
   "source": [
    "import torch\n",
    "import torch.nn as nn\n",
    "import copy \n",
    "\n",
    "class LinearRegressionModel(nn.Module):\n",
    "    def __init__(self, input_dim, output_dim):\n",
    "        super(LinearRegressionModel, self).__init__()\n",
    "        self.linear = nn.Linear(input_dim, output_dim)\n",
    "        self.m = nn.Sigmoid()\n",
    "        self.mse = nn.MSELoss()\n",
    "\n",
    "    def forward(self, x):\n",
    "        x = self.linear(x)\n",
    "        out = self.m(x)\n",
    "        return out\n",
    "\n",
    "def loss_fn(output, target):\n",
    "    mse = nn.MSELoss()\n",
    "    loss1 = mse(output,target)\n",
    "    return loss1\n",
    "\n",
    "epochs = 5000\n",
    "model = LinearRegressionModel(2000, 2)\n",
    "learning_rate = 0.005\n",
    "# sched = torch.optim.lr_scheduler.CosineAnnealingLR(optimizer, T_max= epochs)\n",
    "best_model = model\n",
    "best_acc = 0\n",
    "optimizer = torch.optim.LBFGS(model.parameters(),\n",
    "                    history_size=10, \n",
    "                    max_iter=4, lr = 0.5)\n",
    "\n",
    "inputs = torch.from_numpy(input_features_train).float()\n",
    "targets = torch.from_numpy(corr_coefs_train).float()\n",
    "\n",
    "\n",
    "for epoch in range(epochs):\n",
    "    model.train()\n",
    "    \n",
    "    # Forward to get output\n",
    "    outputs = model(inputs)\n",
    "    \n",
    "    def closure():\n",
    "        optimizer.zero_grad()\n",
    "        loss = loss_fn(outputs, targets)\n",
    "        loss.backward(retain_graph=True)\n",
    "        return loss\n",
    "    \n",
    "    # Calculate Loss\n",
    "    loss = loss_fn(outputs, targets)\n",
    "    \n",
    "    # Updating parameters\n",
    "    optimizer.step(closure)\n",
    "#     sched.step()\n",
    "\n",
    "    \n",
    "\n",
    "    if epoch%200 == 0:\n",
    "        model.eval()\n",
    "        val_coef_preds = model(torch.from_numpy(input_features_val).float())\n",
    "        val_acc = evaluate_acc(val_coef_preds, vlabels_val, ie_val)\n",
    "        if val_acc > best_acc:\n",
    "            print(\"Updating best model\")\n",
    "            best_acc = val_acc\n",
    "            best_model = copy.deepcopy(model)\n",
    "        print(f'epoch {epoch}, loss {loss.item():.5f}, v_acc {val_acc:.3f}')"
   ]
  },
  {
   "cell_type": "code",
   "execution_count": 54,
   "id": "644d4c9b",
   "metadata": {
    "scrolled": true
   },
   "outputs": [
    {
     "name": "stdout",
     "output_type": "stream",
     "text": [
      "torch.Size([12011, 2])\n",
      "torch.Size([4000, 2])\n",
      "torch.Size([50000, 2])\n"
     ]
    },
    {
     "data": {
      "application/vnd.jupyter.widget-view+json": {
       "model_id": "fe72cfcede374101b6838250672b1dff",
       "version_major": 2,
       "version_minor": 0
      },
      "text/plain": [
       "  0%|          | 0/50000 [00:00<?, ?it/s]"
      ]
     },
     "metadata": {},
     "output_type": "display_data"
    },
    {
     "name": "stdout",
     "output_type": "stream",
     "text": [
      "63.300, 1000\n",
      "63.900, 2000\n",
      "63.933, 3000\n",
      "64.050, 4000\n",
      "64.160, 5000\n",
      "63.950, 6000\n",
      "64.371, 7000\n",
      "64.412, 8000\n",
      "64.189, 9000\n",
      "64.020, 10000\n",
      "63.955, 11000\n",
      "63.925, 12000\n",
      "64.000, 13000\n",
      "64.093, 14000\n",
      "64.253, 15000\n",
      "64.256, 16000\n",
      "64.276, 17000\n",
      "64.522, 18000\n",
      "64.458, 19000\n",
      "64.460, 20000\n",
      "64.510, 21000\n",
      "64.641, 22000\n",
      "64.722, 23000\n",
      "64.612, 24000\n",
      "64.552, 25000\n",
      "64.569, 26000\n",
      "64.585, 27000\n",
      "64.575, 28000\n",
      "64.531, 29000\n",
      "64.643, 30000\n",
      "64.629, 31000\n",
      "64.659, 32000\n",
      "64.636, 33000\n",
      "64.618, 34000\n",
      "64.620, 35000\n",
      "64.522, 36000\n",
      "64.484, 37000\n",
      "64.550, 38000\n",
      "64.603, 39000\n",
      "64.620, 40000\n",
      "64.637, 41000\n",
      "64.669, 42000\n",
      "64.714, 43000\n",
      "64.700, 44000\n",
      "64.693, 45000\n",
      "64.687, 46000\n",
      "64.628, 47000\n",
      "64.627, 48000\n",
      "64.592, 49000\n",
      "0.646/0.725/0.635/0.457\n",
      "87.5270607826811 66.3165791447862 64.59329186583732\n"
     ]
    }
   ],
   "source": [
    "best_model.eval()\n",
    "model.eval()\n",
    "with torch.no_grad():\n",
    "    train_coef_preds = best_model(torch.from_numpy(input_features_train).float())\n",
    "    print(train_coef_preds.shape)        \n",
    "    val_coef_preds = best_model(torch.from_numpy(input_features_val).float())\n",
    "    print(val_coef_preds.shape)  \n",
    "    test_coef_preds = best_model(torch.from_numpy(input_features_test).float())\n",
    "    print(test_coef_preds.shape)    \n",
    "# a1 = evaluate_acc(train_coef_preds, vlabels_train, ie_train)\n",
    "# a2 = evaluate_acc(val_coef_preds, vlabels_val, ie_val)\n",
    "a3 = evaluate_acc(test_coef_preds, labels.numpy(), image_embeddings, test = True, v=True)\n",
    "\n",
    "print(a1, a2, a3)"
   ]
  },
  {
   "cell_type": "markdown",
   "id": "c81a2974",
   "metadata": {},
   "source": [
    "### Incorporating disagreements"
   ]
  },
  {
   "cell_type": "code",
   "execution_count": 59,
   "id": "9a316761",
   "metadata": {},
   "outputs": [],
   "source": [
    "# Load disagreements \n",
    "\n",
    "disagreements = np.load(\"pred_proba_arr_val.npz\")\n",
    "disagreements = disagreements['arr1']\n",
    "\n",
    "disagreements_test = np.load(\"pred_proba_arr.npz\")\n",
    "disagreements_test = disagreements_test['arr1']"
   ]
  },
  {
   "cell_type": "code",
   "execution_count": 140,
   "id": "c3de85bc",
   "metadata": {},
   "outputs": [
    {
     "data": {
      "application/vnd.jupyter.widget-view+json": {
       "model_id": "1cbe830115f944b8b5b24b33cee1d8de",
       "version_major": 2,
       "version_minor": 0
      },
      "text/plain": [
       "  0%|          | 0/43 [00:00<?, ?it/s]"
      ]
     },
     "metadata": {},
     "output_type": "display_data"
    },
    {
     "name": "stdout",
     "output_type": "stream",
     "text": [
      "(43, 20000)\n"
     ]
    },
    {
     "data": {
      "text/plain": [
       "(20000,)"
      ]
     },
     "execution_count": 140,
     "metadata": {},
     "output_type": "execute_result"
    }
   ],
   "source": [
    "import numpy as np\n",
    "pred_list = []\n",
    "for model_preds in tqdm(disagreements):\n",
    "    temp = []\n",
    "    for inst in model_preds:\n",
    "        temp.append(np.argmax(inst))\n",
    "    pred_list.append(temp)\n",
    "pred_list = np.array(pred_list)\n",
    "print(pred_list.shape)\n",
    "dg_val = []\n",
    "for preds in zip(*pred_list):\n",
    "    dg_val.append(len(np.unique(preds)))\n",
    "dg_val = np.array(dg_val)/np.max(dg_val)\n",
    "dg_val.shape"
   ]
  },
  {
   "cell_type": "code",
   "execution_count": 141,
   "id": "93d709e8",
   "metadata": {},
   "outputs": [
    {
     "name": "stdout",
     "output_type": "stream",
     "text": [
      "Image Classification Scores:  (20000, 1000)\n",
      "Text Classification Scores:  (20000, 1000)\n",
      "Combined input Features: (20000, 3025)\n"
     ]
    },
    {
     "data": {
      "application/vnd.jupyter.widget-view+json": {
       "model_id": "81c2e4dc62164f499d4c929c7b25542b",
       "version_major": 2,
       "version_minor": 0
      },
      "text/plain": [
       "0it [00:00, ?it/s]"
      ]
     },
     "metadata": {},
     "output_type": "display_data"
    },
    {
     "name": "stdout",
     "output_type": "stream",
     "text": [
      "Size of viable data: 15009 20000\n",
      "Train/Val split: 17000 3000\n",
      "17000 12760\n",
      "Viable train data: 17000 12760\n",
      "Train Dims\n",
      "torch.Size([12760, 1024])\n",
      "torch.Size([12760])\n",
      "(12760, 2)\n",
      "(12760, 3025)\n",
      "Val Dims\n",
      "torch.Size([3000, 1024])\n",
      "torch.Size([3000])\n",
      "(3000, 3025)\n",
      "(3000, 2)\n"
     ]
    }
   ],
   "source": [
    "# TRAIN/VAL SET\n",
    "\n",
    "# image classification scores\n",
    "\n",
    "# scores = image_only_clf_oversampled.predict_proba(image_embeddings_val)\n",
    "print(\"Image Classification Scores: \", scores.shape)\n",
    "\n",
    "# text classification scores\n",
    "\n",
    "# text_scores_val = text_only_balanced_clf.predict_proba(image_embeddings_val)\n",
    "print(\"Text Classification Scores: \", text_scores_val.shape)\n",
    "\n",
    "# disagreements scores\n",
    "# dg_val = np.unique(np.transpose(dg_val, (1,0)), axis=-1)\n",
    "# print(\"Text Disagreement Scores: \", dg.shape)\n",
    "dg_val = np.expand_dims(dg_val,-1)\n",
    "\n",
    "# combine\n",
    "# input_features = np.concatenate((scores, text_scores_val, dg_val), axis=-1)\n",
    "input_features = np.concatenate((image_embeddings_val.numpy(),scores, text_scores_val, dg_val), axis=-1)\n",
    "print(\"Combined input Features:\", input_features.shape)\n",
    "\n",
    "# Get correct coefficients for correctly classified samples from val set\n",
    "\n",
    "indices = [] # indices corresponding to coefs\n",
    "corr_coefs = [] # coefs corresponding to input\n",
    "\n",
    "coefs = np.array([i/20.0 for i in range(0, 21)])\n",
    "remove_from_train = []\n",
    "for i, z in tqdm(enumerate(zip(*val_instance_preds))):\n",
    "    z = np.array(z)\n",
    "    inds = np.where(z == labels_val[i].item())[0]\n",
    "    if len(inds) > 0 :\n",
    "        correct_coefs = coefs[inds]\n",
    "        indices.append(i)\n",
    "        corr_coefs.append([np.mean(correct_coefs), np.max(correct_coefs)-np.mean(correct_coefs)])\n",
    "    else:\n",
    "        remove_from_train.append(i)\n",
    "        corr_coefs.append([-1, -1])\n",
    "        \n",
    "indices = np.array(indices)\n",
    "# corr_coefs = np.array(corr_coefs)\n",
    "corr_coefs = np.array(corr_coefs)\n",
    "\n",
    "print(\"Size of viable data:\", len(indices), len(corr_coefs))\n",
    "\n",
    "\n",
    "from sklearn.model_selection import train_test_split\n",
    "split_inds = np.array(range(image_embeddings_val.shape[0]))\n",
    "X_train, X_val, _, _ = train_test_split(split_inds, split_inds, test_size=0.15, random_state=0)\n",
    "\n",
    "print(\"Train/Val split:\", len(X_train), len(X_val))\n",
    "\n",
    "X_train_filt = []\n",
    "for x in X_train:\n",
    "    if x not in remove_from_train:\n",
    "        X_train_filt.append(x)\n",
    "        \n",
    "print(len(X_train), len(X_train_filt))\n",
    "\n",
    "print(\"Viable train data:\", len(X_train), len(X_train_filt))\n",
    "\n",
    "ie_train = image_embeddings_val[X_train_filt]\n",
    "vlabels_train = labels_val[X_train_filt]\n",
    "corr_coefs_train = corr_coefs[X_train_filt]\n",
    "input_features_train = input_features[X_train_filt]\n",
    "\n",
    "print(\"Train Dims\")\n",
    "print(ie_train.shape)\n",
    "print(vlabels_train.shape)\n",
    "print(corr_coefs_train.shape)\n",
    "print(input_features_train.shape)\n",
    "\n",
    "ie_val = image_embeddings_val[X_val]\n",
    "input_features_val = input_features[X_val]\n",
    "vlabels_val = labels_val[X_val]\n",
    "corr_coefs_val = corr_coefs[X_val]\n",
    "\n",
    "print(\"Val Dims\")\n",
    "print(ie_val.shape)\n",
    "print(vlabels_val.shape)\n",
    "print(input_features_val.shape)\n",
    "print(corr_coefs_val.shape)\n"
   ]
  },
  {
   "cell_type": "code",
   "execution_count": 142,
   "id": "b97aa933",
   "metadata": {},
   "outputs": [
    {
     "data": {
      "application/vnd.jupyter.widget-view+json": {
       "model_id": "c21cc99102fe4e61917fa31aac827c8d",
       "version_major": 2,
       "version_minor": 0
      },
      "text/plain": [
       "0it [00:00, ?it/s]"
      ]
     },
     "metadata": {},
     "output_type": "display_data"
    },
    {
     "data": {
      "application/vnd.jupyter.widget-view+json": {
       "model_id": "7e952d41bb5340b89c2dbf52008075cd",
       "version_major": 2,
       "version_minor": 0
      },
      "text/plain": [
       "  0%|          | 0/43 [00:00<?, ?it/s]"
      ]
     },
     "metadata": {},
     "output_type": "display_data"
    },
    {
     "name": "stdout",
     "output_type": "stream",
     "text": [
      "(50000, 1)\n",
      "(36989, 3025)\n",
      "(36989, 2)\n",
      "(50000, 3025)\n"
     ]
    }
   ],
   "source": [
    "## TEST SET\n",
    "\n",
    "# Get correct coefficients for correctly classified samples from test set\n",
    "\n",
    "test_indices = [] # indices corresponding to coefs\n",
    "corr_coefs_test = [] # coefs corresponding to input\n",
    "\n",
    "coefs = np.array([i/20.0 for i in range(0, 21)])\n",
    "\n",
    "for i, z in tqdm(enumerate(zip(*test_instance_preds))):\n",
    "    z = np.array(z)\n",
    "    inds = np.where(z == labels[i].item())[0]\n",
    "    if len(inds) > 0 :\n",
    "        correct_coefs = coefs[inds]\n",
    "        test_indices.append(i)\n",
    "        corr_coefs_test.append([np.mean(correct_coefs), np.max(correct_coefs)-np.mean(correct_coefs)])\n",
    "        \n",
    "test_indices = np.array(test_indices)\n",
    "test_targets = np.array(corr_coefs_test)\n",
    "\n",
    "# # Image scores\n",
    "# test_scores = image_only_clf_oversampled.predict_proba(image_embeddings)\n",
    "\n",
    "# # Text scores\n",
    "# text_scores_test = text_only_balanced_clf.predict_proba(image_embeddings)\n",
    "\n",
    "pred_list = []\n",
    "for model_preds in tqdm(disagreements_test):\n",
    "    temp = []\n",
    "    for inst in model_preds:\n",
    "        temp.append(np.argmax(inst))\n",
    "    pred_list.append(temp)\n",
    "dg_test = []\n",
    "for preds in zip(*pred_list):\n",
    "    dg_test.append(len(np.unique(preds)))\n",
    "dg_test = np.array(dg_test)\n",
    "dg_test = dg_test/np.max(dg_test)\n",
    "dg_test = np.expand_dims(dg_test,-1).T\n",
    "\n",
    "# disagreements scores\n",
    "dg_test = np.unique(np.transpose(dg_test, (1,0)),axis=-1)\n",
    "print(dg_test.shape)\n",
    "\n",
    "# Combine\n",
    "input_features_test = np.concatenate((image_embeddings.numpy(), test_scores, text_scores_test, dg_test), axis=-1)\n",
    "\n",
    "# Align\n",
    "test_inputs = input_features_test[test_indices, :]\n",
    "corr_coefs_test = np.array(corr_coefs_test)\n",
    "\n",
    "print(test_inputs.shape)\n",
    "print(corr_coefs_test.shape)\n",
    "print(input_features_test.shape)"
   ]
  },
  {
   "cell_type": "code",
   "execution_count": 143,
   "id": "b5245dfc",
   "metadata": {
    "scrolled": true
   },
   "outputs": [
    {
     "data": {
      "application/vnd.jupyter.widget-view+json": {
       "model_id": "df9942beed2d49e2afc80f62dcd53d78",
       "version_major": 2,
       "version_minor": 0
      },
      "text/plain": [
       "  0%|          | 0/3000 [00:00<?, ?it/s]"
      ]
     },
     "metadata": {},
     "output_type": "display_data"
    },
    {
     "name": "stdout",
     "output_type": "stream",
     "text": [
      "Updating best model\n",
      "epoch 0, loss 0.72964, v_acc 65.455, best_v_acc 65.455\n"
     ]
    },
    {
     "data": {
      "application/vnd.jupyter.widget-view+json": {
       "model_id": "6ede92fe847543e9b55196ab4b8c83ae",
       "version_major": 2,
       "version_minor": 0
      },
      "text/plain": [
       "  0%|          | 0/3000 [00:00<?, ?it/s]"
      ]
     },
     "metadata": {},
     "output_type": "display_data"
    },
    {
     "name": "stdout",
     "output_type": "stream",
     "text": [
      "Updating best model\n",
      "epoch 100, loss 0.57395, v_acc 66.255, best_v_acc 66.255\n"
     ]
    },
    {
     "data": {
      "application/vnd.jupyter.widget-view+json": {
       "model_id": "72f08b944e764a1caf194c23af2bd7d7",
       "version_major": 2,
       "version_minor": 0
      },
      "text/plain": [
       "  0%|          | 0/3000 [00:00<?, ?it/s]"
      ]
     },
     "metadata": {},
     "output_type": "display_data"
    },
    {
     "name": "stdout",
     "output_type": "stream",
     "text": [
      "epoch 200, loss 0.52412, v_acc 65.589, best_v_acc 66.255\n"
     ]
    },
    {
     "data": {
      "application/vnd.jupyter.widget-view+json": {
       "model_id": "8f7cb78a05284e59a2b68726c5c5a05b",
       "version_major": 2,
       "version_minor": 0
      },
      "text/plain": [
       "  0%|          | 0/3000 [00:00<?, ?it/s]"
      ]
     },
     "metadata": {},
     "output_type": "display_data"
    },
    {
     "name": "stdout",
     "output_type": "stream",
     "text": [
      "epoch 300, loss 0.51063, v_acc 65.288, best_v_acc 66.255\n"
     ]
    },
    {
     "ename": "KeyboardInterrupt",
     "evalue": "",
     "output_type": "error",
     "traceback": [
      "\u001b[0;31m---------------------------------------------------------------------------\u001b[0m",
      "\u001b[0;31mKeyboardInterrupt\u001b[0m                         Traceback (most recent call last)",
      "Input \u001b[0;32mIn [143]\u001b[0m, in \u001b[0;36m<cell line: 44>\u001b[0;34m()\u001b[0m\n\u001b[1;32m     57\u001b[0m loss \u001b[38;5;241m=\u001b[39m loss_fn(outputs, targets)\n\u001b[1;32m     59\u001b[0m \u001b[38;5;66;03m# Getting gradients w.r.t. parameters\u001b[39;00m\n\u001b[0;32m---> 60\u001b[0m \u001b[43mloss\u001b[49m\u001b[38;5;241;43m.\u001b[39;49m\u001b[43mbackward\u001b[49m\u001b[43m(\u001b[49m\u001b[43m)\u001b[49m\n\u001b[1;32m     62\u001b[0m \u001b[38;5;66;03m# Updating parameters\u001b[39;00m\n\u001b[1;32m     63\u001b[0m optimizer\u001b[38;5;241m.\u001b[39mstep()\n",
      "File \u001b[0;32m~/flash1/miniconda3/envs/ltr/lib/python3.9/site-packages/torch/_tensor.py:396\u001b[0m, in \u001b[0;36mTensor.backward\u001b[0;34m(self, gradient, retain_graph, create_graph, inputs)\u001b[0m\n\u001b[1;32m    387\u001b[0m \u001b[38;5;28;01mif\u001b[39;00m has_torch_function_unary(\u001b[38;5;28mself\u001b[39m):\n\u001b[1;32m    388\u001b[0m     \u001b[38;5;28;01mreturn\u001b[39;00m handle_torch_function(\n\u001b[1;32m    389\u001b[0m         Tensor\u001b[38;5;241m.\u001b[39mbackward,\n\u001b[1;32m    390\u001b[0m         (\u001b[38;5;28mself\u001b[39m,),\n\u001b[0;32m   (...)\u001b[0m\n\u001b[1;32m    394\u001b[0m         create_graph\u001b[38;5;241m=\u001b[39mcreate_graph,\n\u001b[1;32m    395\u001b[0m         inputs\u001b[38;5;241m=\u001b[39minputs)\n\u001b[0;32m--> 396\u001b[0m \u001b[43mtorch\u001b[49m\u001b[38;5;241;43m.\u001b[39;49m\u001b[43mautograd\u001b[49m\u001b[38;5;241;43m.\u001b[39;49m\u001b[43mbackward\u001b[49m\u001b[43m(\u001b[49m\u001b[38;5;28;43mself\u001b[39;49m\u001b[43m,\u001b[49m\u001b[43m \u001b[49m\u001b[43mgradient\u001b[49m\u001b[43m,\u001b[49m\u001b[43m \u001b[49m\u001b[43mretain_graph\u001b[49m\u001b[43m,\u001b[49m\u001b[43m \u001b[49m\u001b[43mcreate_graph\u001b[49m\u001b[43m,\u001b[49m\u001b[43m \u001b[49m\u001b[43minputs\u001b[49m\u001b[38;5;241;43m=\u001b[39;49m\u001b[43minputs\u001b[49m\u001b[43m)\u001b[49m\n",
      "File \u001b[0;32m~/flash1/miniconda3/envs/ltr/lib/python3.9/site-packages/torch/autograd/__init__.py:173\u001b[0m, in \u001b[0;36mbackward\u001b[0;34m(tensors, grad_tensors, retain_graph, create_graph, grad_variables, inputs)\u001b[0m\n\u001b[1;32m    168\u001b[0m     retain_graph \u001b[38;5;241m=\u001b[39m create_graph\n\u001b[1;32m    170\u001b[0m \u001b[38;5;66;03m# The reason we repeat same the comment below is that\u001b[39;00m\n\u001b[1;32m    171\u001b[0m \u001b[38;5;66;03m# some Python versions print out the first line of a multi-line function\u001b[39;00m\n\u001b[1;32m    172\u001b[0m \u001b[38;5;66;03m# calls in the traceback and some print out the last line\u001b[39;00m\n\u001b[0;32m--> 173\u001b[0m \u001b[43mVariable\u001b[49m\u001b[38;5;241;43m.\u001b[39;49m\u001b[43m_execution_engine\u001b[49m\u001b[38;5;241;43m.\u001b[39;49m\u001b[43mrun_backward\u001b[49m\u001b[43m(\u001b[49m\u001b[43m  \u001b[49m\u001b[38;5;66;43;03m# Calls into the C++ engine to run the backward pass\u001b[39;49;00m\n\u001b[1;32m    174\u001b[0m \u001b[43m    \u001b[49m\u001b[43mtensors\u001b[49m\u001b[43m,\u001b[49m\u001b[43m \u001b[49m\u001b[43mgrad_tensors_\u001b[49m\u001b[43m,\u001b[49m\u001b[43m \u001b[49m\u001b[43mretain_graph\u001b[49m\u001b[43m,\u001b[49m\u001b[43m \u001b[49m\u001b[43mcreate_graph\u001b[49m\u001b[43m,\u001b[49m\u001b[43m \u001b[49m\u001b[43minputs\u001b[49m\u001b[43m,\u001b[49m\n\u001b[1;32m    175\u001b[0m \u001b[43m    \u001b[49m\u001b[43mallow_unreachable\u001b[49m\u001b[38;5;241;43m=\u001b[39;49m\u001b[38;5;28;43;01mTrue\u001b[39;49;00m\u001b[43m,\u001b[49m\u001b[43m \u001b[49m\u001b[43maccumulate_grad\u001b[49m\u001b[38;5;241;43m=\u001b[39;49m\u001b[38;5;28;43;01mTrue\u001b[39;49;00m\u001b[43m)\u001b[49m\n",
      "\u001b[0;31mKeyboardInterrupt\u001b[0m: "
     ]
    }
   ],
   "source": [
    "import torch\n",
    "import torch.nn as nn\n",
    "import copy\n",
    "\n",
    "class LinearRegressionModel(nn.Module):\n",
    "    def __init__(self, input_dim, output_dim):\n",
    "        super(LinearRegressionModel, self).__init__()\n",
    "        self.linear = nn.Linear(input_dim, 100)\n",
    "#         self.bn = nn.LayerNorm(100)\n",
    "#         self.do = nn.Dropout(p=0.2)\n",
    "        self.linear2 = nn.Linear(100, output_dim)\n",
    "        self.m = nn.Sigmoid()\n",
    "        self.mse = nn.MSELoss()\n",
    "\n",
    "    def forward(self, x):\n",
    "        x = self.linear(x)\n",
    "#         x = self.bn(x)\n",
    "#         x = self.do(x)\n",
    "        x = self.linear2(x)\n",
    "        out = self.m(x)\n",
    "        return out\n",
    "\n",
    "def loss_fn(output, target):\n",
    "    weight = 1/torch.abs(target[:,1])\n",
    "    weight[target[:,1] == 0] = 1\n",
    "    loss1 = torch.mean(weight*(torch.abs(output[:,0]-target[:,0])))\n",
    "    return loss1\n",
    "\n",
    "# def loss_fn(output, target):\n",
    "#     weight = 1/(target[:,1]**2)\n",
    "#     weight[target[:,1] == 0] = 1\n",
    "#     loss1 = torch.mean(weight*((output[:,0]-target[:,0]) ** 2))\n",
    "#     return loss1\n",
    "\n",
    "epochs = 5000\n",
    "model = LinearRegressionModel(3025, 2)\n",
    "learning_rate = 0.001\n",
    "optimizer = torch.optim.AdamW(model.parameters(), lr=learning_rate)\n",
    "# optimizer = torch.optim.SGD(model.parameters(), lr=0.001, momentum=0.9)\n",
    "sched = torch.optim.lr_scheduler.CosineAnnealingLR(optimizer, T_max= epochs)\n",
    "best_model = model\n",
    "best_acc = 0\n",
    "\n",
    "for epoch in range(epochs):\n",
    "    model.train()\n",
    "    # Convert numpy array to torch Variable\n",
    "    inputs = torch.from_numpy(input_features_train).float().requires_grad_()\n",
    "    targets = torch.from_numpy(corr_coefs_train).float()\n",
    "\n",
    "    # Clear gradients w.r.t. parameters\n",
    "    optimizer.zero_grad() \n",
    "\n",
    "    # Forward to get output\n",
    "    outputs = model(inputs)\n",
    "\n",
    "    # Calculate Loss\n",
    "    loss = loss_fn(outputs, targets)\n",
    "\n",
    "    # Getting gradients w.r.t. parameters\n",
    "    loss.backward()\n",
    "\n",
    "    # Updating parameters\n",
    "    optimizer.step()\n",
    "    sched.step()\n",
    "\n",
    "    if epoch%100 == 0:\n",
    "        model.eval()\n",
    "        val_coef_preds = model(torch.from_numpy(input_features_val).float())\n",
    "        val_acc = evaluate_acc(val_coef_preds, vlabels_val, ie_val)\n",
    "        if val_acc > best_acc:\n",
    "            print(\"Updating best model\")\n",
    "            best_acc = val_acc\n",
    "            best_model = copy.deepcopy(model)\n",
    "        print(f'epoch {epoch}, loss {loss.item():.5f}, v_acc {val_acc:.3f}, best_v_acc {best_acc:.3f}')\n",
    "        "
   ]
  },
  {
   "cell_type": "code",
   "execution_count": 145,
   "id": "4d1688d2",
   "metadata": {},
   "outputs": [
    {
     "name": "stdout",
     "output_type": "stream",
     "text": [
      "torch.Size([12760, 2])\n",
      "torch.Size([3000, 2])\n",
      "torch.Size([50000, 2])\n"
     ]
    },
    {
     "data": {
      "application/vnd.jupyter.widget-view+json": {
       "model_id": "788510e209b94ae9bcf64517d2ca5f91",
       "version_major": 2,
       "version_minor": 0
      },
      "text/plain": [
       "  0%|          | 0/50000 [00:00<?, ?it/s]"
      ]
     },
     "metadata": {},
     "output_type": "display_data"
    },
    {
     "name": "stdout",
     "output_type": "stream",
     "text": [
      "63.300, 1000\n",
      "64.000, 2000\n",
      "64.267, 3000\n",
      "64.425, 4000\n",
      "64.420, 5000\n",
      "64.150, 6000\n",
      "64.471, 7000\n",
      "64.537, 8000\n",
      "64.311, 9000\n",
      "64.220, 10000\n",
      "64.136, 11000\n",
      "64.100, 12000\n",
      "64.146, 13000\n",
      "64.279, 14000\n",
      "64.440, 15000\n",
      "64.456, 16000\n",
      "64.447, 17000\n",
      "64.650, 18000\n",
      "64.605, 19000\n",
      "64.580, 20000\n",
      "64.614, 21000\n",
      "64.732, 22000\n",
      "64.813, 23000\n",
      "64.725, 24000\n",
      "64.648, 25000\n",
      "64.638, 26000\n",
      "64.637, 27000\n",
      "64.629, 28000\n",
      "64.586, 29000\n",
      "64.680, 30000\n",
      "64.648, 31000\n",
      "64.700, 32000\n",
      "64.685, 33000\n",
      "64.685, 34000\n",
      "64.706, 35000\n",
      "64.578, 36000\n",
      "64.570, 37000\n",
      "64.611, 38000\n",
      "64.651, 39000\n",
      "64.675, 40000\n",
      "64.673, 41000\n",
      "64.695, 42000\n",
      "64.735, 43000\n",
      "64.714, 44000\n",
      "64.704, 45000\n",
      "64.698, 46000\n",
      "64.660, 47000\n",
      "64.654, 48000\n",
      "64.624, 49000\n",
      "0.646/0.716/0.638/0.473\n",
      "64.63529270585411\n"
     ]
    }
   ],
   "source": [
    "best_model.eval()\n",
    "model.eval()\n",
    "with torch.no_grad():\n",
    "    train_coef_preds = best_model(torch.from_numpy(input_features_train).float())\n",
    "    print(train_coef_preds.shape)        \n",
    "    val_coef_preds = best_model(torch.from_numpy(input_features_val).float())\n",
    "    print(val_coef_preds.shape)  \n",
    "    test_coef_preds = best_model(torch.from_numpy(input_features_test).float())\n",
    "    print(test_coef_preds.shape)    \n",
    "# a1 = evaluate_acc(train_coef_preds, vlabels_train, ie_train)\n",
    "# print(a1)\n",
    "# a2 = evaluate_acc(val_coef_preds, vlabels_val, ie_val)\n",
    "# print(a2)\n",
    "a3 = evaluate_acc(test_coef_preds, labels.numpy(), image_embeddings, test = True, v=True)\n",
    "print(a3)\n"
   ]
  },
  {
   "cell_type": "markdown",
   "id": "b1fe60da",
   "metadata": {},
   "source": [
    "### Fitting disagreements to freq"
   ]
  },
  {
   "cell_type": "code",
   "execution_count": 154,
   "id": "63bc19d1",
   "metadata": {},
   "outputs": [],
   "source": [
    "loaded_model = pickle.load(open(\"disagreements_lm.sav\", 'rb'))"
   ]
  },
  {
   "cell_type": "code",
   "execution_count": 161,
   "id": "83a42a41",
   "metadata": {},
   "outputs": [
    {
     "data": {
      "application/vnd.jupyter.widget-view+json": {
       "model_id": "cfcd98c57fe74d86b9b4d3ba744bffae",
       "version_major": 2,
       "version_minor": 0
      },
      "text/plain": [
       "  0%|          | 0/43 [00:00<?, ?it/s]"
      ]
     },
     "metadata": {},
     "output_type": "display_data"
    }
   ],
   "source": [
    "pred_list = []\n",
    "for model_preds in tqdm(disagreements_test):\n",
    "    temp = []\n",
    "    for inst in model_preds:\n",
    "        temp.append(np.argmax(inst))\n",
    "    pred_list.append(temp)\n",
    "dg_test = []\n",
    "for preds in zip(*pred_list):\n",
    "    dg_test.append(len(np.unique(preds)))\n",
    "dg_test = np.expand_dims(np.array(dg_test), -1)\n",
    "pred_freqs = loaded_model.predict(dg_test)"
   ]
  },
  {
   "cell_type": "code",
   "execution_count": 162,
   "id": "8b0bcae6",
   "metadata": {},
   "outputs": [
    {
     "data": {
      "text/plain": [
       "array([[11],\n",
       "       [ 6],\n",
       "       [ 7],\n",
       "       ...,\n",
       "       [ 3],\n",
       "       [ 8],\n",
       "       [ 5]])"
      ]
     },
     "execution_count": 162,
     "metadata": {},
     "output_type": "execute_result"
    }
   ],
   "source": [
    "dg_test"
   ]
  },
  {
   "cell_type": "code",
   "execution_count": 163,
   "id": "958ca805",
   "metadata": {},
   "outputs": [
    {
     "data": {
      "text/plain": [
       "array([-125.24221295,  129.90458877,   78.87522843, ...,  282.99266981,\n",
       "         27.84586809,  180.93394912])"
      ]
     },
     "execution_count": 163,
     "metadata": {},
     "output_type": "execute_result"
    }
   ],
   "source": [
    "pred_freqs"
   ]
  },
  {
   "cell_type": "code",
   "execution_count": 165,
   "id": "9ccfe762",
   "metadata": {},
   "outputs": [],
   "source": [
    "true_freqs = [freqs[l] for l in labels.numpy()]"
   ]
  },
  {
   "cell_type": "code",
   "execution_count": 166,
   "id": "a66df773",
   "metadata": {},
   "outputs": [],
   "source": [
    "pred_freq_cat = []\n",
    "\n",
    "for i in pred_freqs:\n",
    "    if i <= 20:\n",
    "        pred_freq_cat.append(0)\n",
    "    elif i <= 100:\n",
    "        pred_freq_cat.append(1)\n",
    "    else:\n",
    "        pred_freq_cat.append(2)"
   ]
  },
  {
   "cell_type": "code",
   "execution_count": 167,
   "id": "23798d31",
   "metadata": {},
   "outputs": [],
   "source": [
    "true_freqs_cat = []\n",
    "\n",
    "for i in true_freqs:\n",
    "    if i <= 20:\n",
    "        true_freqs_cat.append(0)\n",
    "    elif i <= 100:\n",
    "        true_freqs_cat.append(1)\n",
    "    else:\n",
    "        true_freqs_cat.append(2)"
   ]
  },
  {
   "cell_type": "code",
   "execution_count": 177,
   "id": "be602230",
   "metadata": {},
   "outputs": [
    {
     "data": {
      "text/plain": [
       "0.72964"
      ]
     },
     "execution_count": 177,
     "metadata": {},
     "output_type": "execute_result"
    }
   ],
   "source": [
    "np.sum(np.logical_and(pred_freq_cat,true_freqs_cat))/50000"
   ]
  },
  {
   "cell_type": "code",
   "execution_count": 180,
   "id": "2871378e",
   "metadata": {},
   "outputs": [],
   "source": [
    "class_wise_accs_test = np.array(class_wise_accs_test)"
   ]
  },
  {
   "cell_type": "code",
   "execution_count": 181,
   "id": "eab90b41",
   "metadata": {},
   "outputs": [
    {
     "data": {
      "text/plain": [
       "(21, 1000)"
      ]
     },
     "execution_count": 181,
     "metadata": {},
     "output_type": "execute_result"
    }
   ],
   "source": [
    "class_wise_accs_test.shape"
   ]
  },
  {
   "cell_type": "code",
   "execution_count": null,
   "id": "5d9c118f",
   "metadata": {},
   "outputs": [],
   "source": [
    "0.4, 0.7, 0.95"
   ]
  },
  {
   "cell_type": "code",
   "execution_count": 182,
   "id": "00d39897",
   "metadata": {},
   "outputs": [
    {
     "data": {
      "application/vnd.jupyter.widget-view+json": {
       "model_id": "ff7d0c4a351b41fa94a0f12fd4633a79",
       "version_major": 2,
       "version_minor": 0
      },
      "text/plain": [
       "  0%|          | 0/50000 [00:00<?, ?it/s]"
      ]
     },
     "metadata": {},
     "output_type": "display_data"
    },
    {
     "name": "stdout",
     "output_type": "stream",
     "text": [
      "0.63424\n"
     ]
    }
   ],
   "source": [
    "### Adaptively choose mixing coefficient using val set\n",
    "\n",
    "# explore the confidence of prediction across the various mixtures\n",
    "\n",
    "# Best Many:\n",
    "i = 0.4\n",
    "many_clf = pickle.load(open(\"results_sklearn/config_convex_comb_1/13-Sep-2022-00-50-56/final_model.sav\", 'rb'))\n",
    "many_clf.coef_ = i*text_only_balanced_clf.coef_ + (1-i)*image_only_clf_oversampled.coef_\n",
    "many_clf.intercept_ = i*text_only_balanced_clf.intercept_ + (1-i)*image_only_clf_oversampled.intercept_\n",
    "\n",
    "# Best Med:\n",
    "i = 0.7\n",
    "med_clf = pickle.load(open(\"results_sklearn/config_convex_comb_1/13-Sep-2022-00-50-56/final_model.sav\", 'rb'))\n",
    "med_clf.coef_ = i*text_only_balanced_clf.coef_ + (1-i)*image_only_clf_oversampled.coef_\n",
    "med_clf.intercept_ = i*text_only_balanced_clf.intercept_ + (1-i)*image_only_clf_oversampled.intercept_\n",
    "\n",
    "# Best Few:\n",
    "i = 0.95\n",
    "few_clf = pickle.load(open(\"results_sklearn/config_convex_comb_1/13-Sep-2022-00-50-56/final_model.sav\", 'rb'))\n",
    "few_clf.coef_ = i*text_only_balanced_clf.coef_ + (1-i)*image_only_clf_oversampled.coef_\n",
    "few_clf.intercept_ = i*text_only_balanced_clf.intercept_ + (1-i)*image_only_clf_oversampled.intercept_\n",
    "\n",
    "acc = 0\n",
    "for i in tqdm(range(50000)):\n",
    "    if true_freqs_cat[i] == 2:\n",
    "        pred = many_clf.predict(image_embeddings[i,:].unsqueeze(0))\n",
    "    elif true_freqs_cat[i] == 1:\n",
    "        pred = med_clf.predict(image_embeddings[i,:].unsqueeze(0))\n",
    "    else:\n",
    "        pred = few_clf.predict(image_embeddings[i,:].unsqueeze(0))\n",
    "    if pred[0] == labels[i].item():\n",
    "        acc+=1\n",
    "        \n",
    "print(acc/50000)"
   ]
  },
  {
   "cell_type": "code",
   "execution_count": 467,
   "id": "f30e9429",
   "metadata": {},
   "outputs": [
    {
     "data": {
      "application/vnd.jupyter.widget-view+json": {
       "model_id": "766f30839cd54ca0a21d92de697bf95d",
       "version_major": 2,
       "version_minor": 0
      },
      "text/plain": [
       "  0%|          | 0/43 [00:00<?, ?it/s]"
      ]
     },
     "metadata": {},
     "output_type": "display_data"
    },
    {
     "name": "stdout",
     "output_type": "stream",
     "text": [
      "(43, 20000)\n",
      "Image Classification Scores:  (20000, 1000)\n",
      "Text Classification Scores:  (20000, 1000)\n",
      "Combined input Features: (20000, 2001)\n"
     ]
    },
    {
     "data": {
      "application/vnd.jupyter.widget-view+json": {
       "model_id": "8f8e1abcf90d4f68a57eb7e28bb7225c",
       "version_major": 2,
       "version_minor": 0
      },
      "text/plain": [
       "0it [00:00, ?it/s]"
      ]
     },
     "metadata": {},
     "output_type": "display_data"
    },
    {
     "data": {
      "application/vnd.jupyter.widget-view+json": {
       "model_id": "12ec6497f35a46c7883df8fedb3d541c",
       "version_major": 2,
       "version_minor": 0
      },
      "text/plain": [
       "  0%|          | 0/20000 [00:00<?, ?it/s]"
      ]
     },
     "metadata": {},
     "output_type": "display_data"
    },
    {
     "name": "stdout",
     "output_type": "stream",
     "text": [
      "[9 3 2 ... 2 3 4] 20000\n",
      "Size of viable data: 15009 20000\n",
      "Train/Val split: 18000 2000\n",
      "18000 13506\n",
      "Viable train data: 18000 13506\n",
      "Train Dims\n",
      "torch.Size([13506, 1024])\n",
      "torch.Size([13506])\n",
      "(13506,)\n",
      "(13506, 2001)\n",
      "Val Dims\n",
      "torch.Size([2000, 1024])\n",
      "torch.Size([2000])\n",
      "(2000, 2001)\n",
      "(2000,)\n"
     ]
    },
    {
     "data": {
      "text/plain": [
       "array([3, 5, 3, ..., 6, 3, 7])"
      ]
     },
     "execution_count": 467,
     "metadata": {},
     "output_type": "execute_result"
    }
   ],
   "source": [
    "# TRAIN/VAL SET\n",
    "\n",
    "import numpy as np\n",
    "pred_list = []\n",
    "for model_preds in tqdm(disagreements):\n",
    "    temp = []\n",
    "    for inst in model_preds:\n",
    "        temp.append(np.argmax(inst))\n",
    "    pred_list.append(temp)\n",
    "pred_list = np.array(pred_list)\n",
    "print(pred_list.shape)\n",
    "dg_val = []\n",
    "for preds in zip(*pred_list):\n",
    "    dg_val.append(len(np.unique(preds)))\n",
    "dg_val = np.array(dg_val)/np.max(dg_val)\n",
    "dg_val.shape\n",
    "\n",
    "# image classification scores\n",
    "\n",
    "# scores = image_only_clf_oversampled.predict_proba(image_embeddings_val)\n",
    "print(\"Image Classification Scores: \", scores.shape)\n",
    "\n",
    "# text classification scores\n",
    "\n",
    "# text_scores_val = text_only_balanced_clf.predict_proba(image_embeddings_val)\n",
    "print(\"Text Classification Scores: \", text_scores_val.shape)\n",
    "\n",
    "# disagreements scores\n",
    "# dg_val = np.unique(np.transpose(dg_val, (1,0)), axis=-1)\n",
    "# print(\"Text Disagreement Scores: \", dg.shape)\n",
    "dg_val = np.expand_dims(dg_val,-1)\n",
    "\n",
    "# combine\n",
    "# input_features = np.concatenate((scores, text_scores_val, dg_val), axis=-1)\n",
    "input_features = np.concatenate((scores, text_scores_val, dg_val), axis=-1)\n",
    "print(\"Combined input Features:\", input_features.shape)\n",
    "\n",
    "# Get correct coefficients for correctly classified samples from val set\n",
    "\n",
    "indices = [] # indices corresponding to coefs\n",
    "corr_coefs = [] # coefs corresponding to input\n",
    "\n",
    "coefs = np.array([i/20.0 for i in range(0, 21)])\n",
    "remove_from_train = []\n",
    "for i, z in tqdm(enumerate(zip(*val_instance_preds))):\n",
    "    z = np.array(z)\n",
    "    inds = np.where(z == labels_val[i].item())[0]\n",
    "    if len(inds) > 0 :\n",
    "        correct_coefs = coefs[inds]\n",
    "        indices.append(i)\n",
    "        corr_coefs.append([np.mean(correct_coefs), np.max(correct_coefs)-np.mean(correct_coefs)])\n",
    "    else:\n",
    "        remove_from_train.append(i)\n",
    "        corr_coefs.append([-1, -1])\n",
    "        \n",
    "indices = np.array(indices)\n",
    "corr_coefs = np.array(bucket_indices(labels_val.numpy()))\n",
    "print(corr_coefs, len(corr_coefs))\n",
    "\n",
    "print(\"Size of viable data:\", len(indices), len(corr_coefs))\n",
    "\n",
    "\n",
    "from sklearn.model_selection import train_test_split\n",
    "split_inds = np.array(range(image_embeddings_val.shape[0]))\n",
    "X_train, X_val, _, _ = train_test_split(split_inds, split_inds, test_size=0.10, random_state=0)\n",
    "\n",
    "print(\"Train/Val split:\", len(X_train), len(X_val))\n",
    "\n",
    "X_train_filt = []\n",
    "for x in X_train:\n",
    "    if x not in remove_from_train:\n",
    "        X_train_filt.append(x)\n",
    "        \n",
    "print(len(X_train), len(X_train_filt))\n",
    "\n",
    "print(\"Viable train data:\", len(X_train), len(X_train_filt))\n",
    "\n",
    "ie_train = image_embeddings_val[X_train_filt]\n",
    "vlabels_train = labels_val[X_train_filt]\n",
    "corr_coefs_train = corr_coefs[X_train_filt]\n",
    "input_features_train = input_features[X_train_filt]\n",
    "\n",
    "print(\"Train Dims\")\n",
    "print(ie_train.shape)\n",
    "print(vlabels_train.shape)\n",
    "print(corr_coefs_train.shape)\n",
    "print(input_features_train.shape)\n",
    "\n",
    "ie_val = image_embeddings_val[X_val]\n",
    "input_features_val = input_features[X_val]\n",
    "vlabels_val = labels_val[X_val]\n",
    "corr_coefs_val = corr_coefs[X_val]\n",
    "\n",
    "print(\"Val Dims\")\n",
    "print(ie_val.shape)\n",
    "print(vlabels_val.shape)\n",
    "print(input_features_val.shape)\n",
    "print(corr_coefs_val.shape)\n",
    "corr_coefs_val"
   ]
  },
  {
   "cell_type": "code",
   "execution_count": 468,
   "id": "dbb95830",
   "metadata": {},
   "outputs": [
    {
     "data": {
      "application/vnd.jupyter.widget-view+json": {
       "model_id": "84a78eb0c1114ca3833e37f8c413a12e",
       "version_major": 2,
       "version_minor": 0
      },
      "text/plain": [
       "0it [00:00, ?it/s]"
      ]
     },
     "metadata": {},
     "output_type": "display_data"
    },
    {
     "data": {
      "application/vnd.jupyter.widget-view+json": {
       "model_id": "ae57c9035cea41bfb6308bc898e61b4e",
       "version_major": 2,
       "version_minor": 0
      },
      "text/plain": [
       "  0%|          | 0/43 [00:00<?, ?it/s]"
      ]
     },
     "metadata": {},
     "output_type": "display_data"
    },
    {
     "name": "stdout",
     "output_type": "stream",
     "text": [
      "(50000, 1)\n"
     ]
    },
    {
     "data": {
      "application/vnd.jupyter.widget-view+json": {
       "model_id": "c57d1b468d2f4e659a4f91c1ca3e2a35",
       "version_major": 2,
       "version_minor": 0
      },
      "text/plain": [
       "  0%|          | 0/50000 [00:00<?, ?it/s]"
      ]
     },
     "metadata": {},
     "output_type": "display_data"
    },
    {
     "name": "stdout",
     "output_type": "stream",
     "text": [
      "(36989, 2001)\n",
      "(50000,)\n",
      "(50000, 2001)\n"
     ]
    }
   ],
   "source": [
    "## TEST SET\n",
    "\n",
    "# Get correct coefficients for correctly classified samples from test set\n",
    "\n",
    "test_indices = [] # indices corresponding to coefs\n",
    "corr_coefs_test = [] # coefs corresponding to input\n",
    "\n",
    "coefs = np.array([i/20.0 for i in range(0, 21)])\n",
    "\n",
    "for i, z in tqdm(enumerate(zip(*test_instance_preds))):\n",
    "    z = np.array(z)\n",
    "    inds = np.where(z == labels[i].item())[0]\n",
    "    if len(inds) > 0 :\n",
    "        correct_coefs = coefs[inds]\n",
    "        test_indices.append(i)\n",
    "        corr_coefs_test.append([np.mean(correct_coefs), np.max(correct_coefs)-np.mean(correct_coefs)])\n",
    "        \n",
    "test_indices = np.array(test_indices)\n",
    "test_targets = np.array(corr_coefs_test)\n",
    "\n",
    "# # Image scores\n",
    "# test_scores = image_only_clf_oversampled.predict_proba(image_embeddings)\n",
    "\n",
    "# # Text scores\n",
    "# text_scores_test = text_only_balanced_clf.predict_proba(image_embeddings)\n",
    "\n",
    "pred_list = []\n",
    "for model_preds in tqdm(disagreements_test):\n",
    "    temp = []\n",
    "    for inst in model_preds:\n",
    "        temp.append(np.argmax(inst))\n",
    "    pred_list.append(temp)\n",
    "dg_test = []\n",
    "for preds in zip(*pred_list):\n",
    "    dg_test.append(len(np.unique(preds)))\n",
    "dg_test = np.array(dg_test)\n",
    "dg_test = dg_test/np.max(dg_test)\n",
    "dg_test = np.expand_dims(dg_test,-1).T\n",
    "\n",
    "# disagreements scores\n",
    "dg_test = np.unique(np.transpose(dg_test, (1,0)),axis=-1)\n",
    "print(dg_test.shape)\n",
    "\n",
    "# Combine\n",
    "input_features_test = np.concatenate(( test_scores, text_scores_test, dg_test), axis=-1)\n",
    "\n",
    "# Align\n",
    "test_inputs = input_features_test[test_indices, :]\n",
    "corr_coefs_test = np.array(bucket_indices(labels.numpy()))\n",
    "\n",
    "print(test_inputs.shape)\n",
    "print(corr_coefs_test.shape)\n",
    "print(input_features_test.shape)"
   ]
  },
  {
   "cell_type": "code",
   "execution_count": 469,
   "id": "16df494f",
   "metadata": {
    "scrolled": true
   },
   "outputs": [
    {
     "name": "stdout",
     "output_type": "stream",
     "text": [
      "Updating best model\n",
      "epoch 0, loss 2.31828, training_acc 0.040501 ,val_acc 0.06050 ,test_acc 0.06198,test_acc2 0.11200\n",
      "Updating best model\n",
      "epoch 10, loss 2.22891, training_acc 0.387013 ,val_acc 0.37400 ,test_acc 0.37554,test_acc2 0.51216\n",
      "Updating best model\n",
      "epoch 20, loss 2.11372, training_acc 0.501777 ,val_acc 0.45150 ,test_acc 0.44946,test_acc2 0.54058\n",
      "epoch 30, loss 1.98255, training_acc 0.484377 ,val_acc 0.40650 ,test_acc 0.41112,test_acc2 0.53128\n",
      "epoch 40, loss 1.86632, training_acc 0.446616 ,val_acc 0.37200 ,test_acc 0.37354,test_acc2 0.55502\n",
      "epoch 50, loss 1.76414, training_acc 0.482452 ,val_acc 0.40750 ,test_acc 0.41090,test_acc2 0.57458\n",
      "Updating best model\n",
      "epoch 60, loss 1.65273, training_acc 0.572486 ,val_acc 0.48800 ,test_acc 0.48950,test_acc2 0.62076\n",
      "Updating best model\n",
      "epoch 70, loss 1.52809, training_acc 0.659559 ,val_acc 0.56050 ,test_acc 0.55650,test_acc2 0.66156\n",
      "Updating best model\n",
      "epoch 80, loss 1.39022, training_acc 0.708130 ,val_acc 0.58900 ,test_acc 0.58190,test_acc2 0.68680\n",
      "Updating best model\n",
      "epoch 90, loss 1.25514, training_acc 0.736562 ,val_acc 0.61350 ,test_acc 0.60494,test_acc2 0.71470\n",
      "Updating best model\n",
      "epoch 100, loss 1.12438, training_acc 0.770176 ,val_acc 0.62750 ,test_acc 0.62068,test_acc2 0.73584\n",
      "Updating best model\n",
      "epoch 110, loss 1.00461, training_acc 0.788020 ,val_acc 0.64050 ,test_acc 0.63250,test_acc2 0.75338\n",
      "Updating best model\n",
      "epoch 120, loss 0.90307, training_acc 0.802902 ,val_acc 0.65500 ,test_acc 0.64102,test_acc2 0.76560\n",
      "Updating best model\n",
      "epoch 130, loss 0.81821, training_acc 0.814601 ,val_acc 0.65800 ,test_acc 0.64854,test_acc2 0.77666\n",
      "Updating best model\n",
      "epoch 140, loss 0.74800, training_acc 0.823634 ,val_acc 0.65900 ,test_acc 0.65390,test_acc2 0.78590\n",
      "Updating best model\n",
      "epoch 150, loss 0.69220, training_acc 0.831556 ,val_acc 0.66000 ,test_acc 0.65820,test_acc2 0.79252\n",
      "Updating best model\n",
      "epoch 160, loss 0.64376, training_acc 0.838072 ,val_acc 0.66250 ,test_acc 0.66180,test_acc2 0.79870\n",
      "Updating best model\n",
      "epoch 170, loss 0.60631, training_acc 0.843107 ,val_acc 0.66250 ,test_acc 0.66522,test_acc2 0.80334\n",
      "epoch 180, loss 0.57586, training_acc 0.847031 ,val_acc 0.66200 ,test_acc 0.66768,test_acc2 0.80638\n",
      "Updating best model\n",
      "epoch 190, loss 0.54753, training_acc 0.853250 ,val_acc 0.66350 ,test_acc 0.66878,test_acc2 0.80944\n",
      "Updating best model\n",
      "epoch 200, loss 0.52403, training_acc 0.854361 ,val_acc 0.66700 ,test_acc 0.67030,test_acc2 0.81200\n",
      "epoch 210, loss 0.50591, training_acc 0.859026 ,val_acc 0.66600 ,test_acc 0.67160,test_acc2 0.81406\n",
      "epoch 220, loss 0.48693, training_acc 0.859100 ,val_acc 0.66600 ,test_acc 0.67338,test_acc2 0.81516\n",
      "epoch 230, loss 0.47122, training_acc 0.861395 ,val_acc 0.66450 ,test_acc 0.67422,test_acc2 0.81592\n",
      "epoch 240, loss 0.45996, training_acc 0.862580 ,val_acc 0.66450 ,test_acc 0.67484,test_acc2 0.81710\n",
      "epoch 250, loss 0.44712, training_acc 0.865911 ,val_acc 0.66400 ,test_acc 0.67568,test_acc2 0.81774\n",
      "epoch 260, loss 0.43692, training_acc 0.867466 ,val_acc 0.66500 ,test_acc 0.67600,test_acc2 0.81814\n",
      "epoch 270, loss 0.42818, training_acc 0.870206 ,val_acc 0.66500 ,test_acc 0.67646,test_acc2 0.81844\n",
      "epoch 280, loss 0.41870, training_acc 0.871242 ,val_acc 0.66600 ,test_acc 0.67670,test_acc2 0.81898\n",
      "epoch 290, loss 0.41041, training_acc 0.873982 ,val_acc 0.66600 ,test_acc 0.67714,test_acc2 0.81920\n",
      "epoch 300, loss 0.40537, training_acc 0.872057 ,val_acc 0.66650 ,test_acc 0.67748,test_acc2 0.81920\n",
      "Updating best model\n",
      "epoch 310, loss 0.39675, training_acc 0.876499 ,val_acc 0.66750 ,test_acc 0.67832,test_acc2 0.81948\n",
      "epoch 320, loss 0.38932, training_acc 0.876499 ,val_acc 0.66700 ,test_acc 0.67872,test_acc2 0.81956\n",
      "Updating best model\n",
      "epoch 330, loss 0.38453, training_acc 0.878276 ,val_acc 0.66750 ,test_acc 0.67862,test_acc2 0.81924\n",
      "Updating best model\n",
      "epoch 340, loss 0.37873, training_acc 0.878128 ,val_acc 0.66950 ,test_acc 0.67894,test_acc2 0.81952\n",
      "Updating best model\n",
      "epoch 350, loss 0.37001, training_acc 0.880868 ,val_acc 0.67100 ,test_acc 0.67938,test_acc2 0.81940\n",
      "Updating best model\n",
      "epoch 360, loss 0.36754, training_acc 0.882052 ,val_acc 0.67150 ,test_acc 0.67936,test_acc2 0.81904\n",
      "Updating best model\n",
      "epoch 370, loss 0.36362, training_acc 0.880720 ,val_acc 0.67350 ,test_acc 0.67954,test_acc2 0.81910\n",
      "epoch 380, loss 0.35837, training_acc 0.883237 ,val_acc 0.67300 ,test_acc 0.67976,test_acc2 0.81904\n",
      "epoch 390, loss 0.35524, training_acc 0.882941 ,val_acc 0.67200 ,test_acc 0.68000,test_acc2 0.81888\n",
      "epoch 400, loss 0.35024, training_acc 0.884496 ,val_acc 0.67250 ,test_acc 0.68002,test_acc2 0.81848\n",
      "epoch 410, loss 0.34669, training_acc 0.885606 ,val_acc 0.67250 ,test_acc 0.68006,test_acc2 0.81856\n",
      "Updating best model\n",
      "epoch 420, loss 0.34037, training_acc 0.885384 ,val_acc 0.67350 ,test_acc 0.68020,test_acc2 0.81842\n",
      "Updating best model\n",
      "epoch 430, loss 0.33884, training_acc 0.887531 ,val_acc 0.67550 ,test_acc 0.68014,test_acc2 0.81834\n",
      "epoch 440, loss 0.33479, training_acc 0.887161 ,val_acc 0.67500 ,test_acc 0.67990,test_acc2 0.81826\n",
      "Updating best model\n",
      "epoch 450, loss 0.33101, training_acc 0.886643 ,val_acc 0.67550 ,test_acc 0.68030,test_acc2 0.81796\n",
      "epoch 460, loss 0.32707, training_acc 0.889679 ,val_acc 0.67500 ,test_acc 0.68042,test_acc2 0.81760\n",
      "Updating best model\n",
      "epoch 470, loss 0.32591, training_acc 0.890567 ,val_acc 0.67550 ,test_acc 0.68060,test_acc2 0.81762\n",
      "Updating best model\n",
      "epoch 480, loss 0.32035, training_acc 0.889679 ,val_acc 0.67550 ,test_acc 0.68074,test_acc2 0.81712\n",
      "Updating best model\n",
      "epoch 490, loss 0.31928, training_acc 0.891826 ,val_acc 0.67650 ,test_acc 0.68070,test_acc2 0.81714\n",
      "Updating best model\n",
      "epoch 500, loss 0.31522, training_acc 0.892566 ,val_acc 0.67750 ,test_acc 0.68074,test_acc2 0.81680\n",
      "Updating best model\n",
      "epoch 510, loss 0.31171, training_acc 0.891974 ,val_acc 0.67800 ,test_acc 0.68094,test_acc2 0.81674\n",
      "Updating best model\n",
      "epoch 520, loss 0.31186, training_acc 0.894862 ,val_acc 0.67800 ,test_acc 0.68102,test_acc2 0.81650\n",
      "epoch 530, loss 0.30754, training_acc 0.893825 ,val_acc 0.67600 ,test_acc 0.68116,test_acc2 0.81622\n",
      "epoch 540, loss 0.30786, training_acc 0.893973 ,val_acc 0.67550 ,test_acc 0.68116,test_acc2 0.81612\n",
      "epoch 550, loss 0.30321, training_acc 0.894121 ,val_acc 0.67550 ,test_acc 0.68120,test_acc2 0.81586\n",
      "epoch 560, loss 0.30185, training_acc 0.894787 ,val_acc 0.67450 ,test_acc 0.68134,test_acc2 0.81572\n",
      "epoch 570, loss 0.29812, training_acc 0.897823 ,val_acc 0.67500 ,test_acc 0.68144,test_acc2 0.81550\n",
      "epoch 580, loss 0.29743, training_acc 0.896120 ,val_acc 0.67450 ,test_acc 0.68146,test_acc2 0.81530\n",
      "epoch 590, loss 0.29422, training_acc 0.896861 ,val_acc 0.67450 ,test_acc 0.68138,test_acc2 0.81498\n",
      "epoch 600, loss 0.29172, training_acc 0.898638 ,val_acc 0.67500 ,test_acc 0.68156,test_acc2 0.81486\n",
      "epoch 610, loss 0.28969, training_acc 0.899304 ,val_acc 0.67500 ,test_acc 0.68140,test_acc2 0.81436\n",
      "epoch 620, loss 0.28618, training_acc 0.898638 ,val_acc 0.67500 ,test_acc 0.68108,test_acc2 0.81422\n",
      "epoch 630, loss 0.28437, training_acc 0.900933 ,val_acc 0.67450 ,test_acc 0.68104,test_acc2 0.81388\n",
      "epoch 640, loss 0.28249, training_acc 0.900192 ,val_acc 0.67450 ,test_acc 0.68124,test_acc2 0.81356\n",
      "epoch 650, loss 0.28010, training_acc 0.901747 ,val_acc 0.67450 ,test_acc 0.68126,test_acc2 0.81312\n",
      "epoch 660, loss 0.27921, training_acc 0.901451 ,val_acc 0.67550 ,test_acc 0.68114,test_acc2 0.81280\n",
      "epoch 670, loss 0.28003, training_acc 0.900637 ,val_acc 0.67550 ,test_acc 0.68098,test_acc2 0.81282\n",
      "epoch 680, loss 0.27532, training_acc 0.901599 ,val_acc 0.67550 ,test_acc 0.68092,test_acc2 0.81254\n",
      "epoch 690, loss 0.27425, training_acc 0.904487 ,val_acc 0.67550 ,test_acc 0.68086,test_acc2 0.81262\n",
      "epoch 700, loss 0.27310, training_acc 0.903524 ,val_acc 0.67600 ,test_acc 0.68098,test_acc2 0.81192\n",
      "epoch 710, loss 0.26926, training_acc 0.905227 ,val_acc 0.67650 ,test_acc 0.68082,test_acc2 0.81176\n",
      "epoch 720, loss 0.26824, training_acc 0.906190 ,val_acc 0.67750 ,test_acc 0.68102,test_acc2 0.81180\n",
      "epoch 730, loss 0.26644, training_acc 0.905153 ,val_acc 0.67700 ,test_acc 0.68082,test_acc2 0.81186\n",
      "epoch 740, loss 0.26342, training_acc 0.905672 ,val_acc 0.67750 ,test_acc 0.68082,test_acc2 0.81166\n",
      "epoch 750, loss 0.26351, training_acc 0.904487 ,val_acc 0.67700 ,test_acc 0.68074,test_acc2 0.81156\n"
     ]
    },
    {
     "name": "stdout",
     "output_type": "stream",
     "text": [
      "epoch 760, loss 0.26181, training_acc 0.907893 ,val_acc 0.67600 ,test_acc 0.68092,test_acc2 0.81170\n",
      "epoch 770, loss 0.26063, training_acc 0.908707 ,val_acc 0.67600 ,test_acc 0.68064,test_acc2 0.81128\n",
      "epoch 780, loss 0.25947, training_acc 0.907300 ,val_acc 0.67550 ,test_acc 0.68102,test_acc2 0.81116\n",
      "epoch 790, loss 0.25861, training_acc 0.910558 ,val_acc 0.67400 ,test_acc 0.68090,test_acc2 0.81118\n",
      "epoch 800, loss 0.25582, training_acc 0.906412 ,val_acc 0.67400 ,test_acc 0.68076,test_acc2 0.81112\n",
      "epoch 810, loss 0.25588, training_acc 0.909300 ,val_acc 0.67400 ,test_acc 0.68066,test_acc2 0.81078\n",
      "epoch 820, loss 0.25155, training_acc 0.909300 ,val_acc 0.67300 ,test_acc 0.68042,test_acc2 0.81052\n",
      "epoch 830, loss 0.25090, training_acc 0.909670 ,val_acc 0.67400 ,test_acc 0.68046,test_acc2 0.81028\n",
      "epoch 840, loss 0.24885, training_acc 0.911299 ,val_acc 0.67400 ,test_acc 0.68042,test_acc2 0.81028\n",
      "epoch 850, loss 0.24770, training_acc 0.911003 ,val_acc 0.67400 ,test_acc 0.68060,test_acc2 0.80994\n",
      "epoch 860, loss 0.24786, training_acc 0.910262 ,val_acc 0.67400 ,test_acc 0.68038,test_acc2 0.80952\n",
      "epoch 870, loss 0.24704, training_acc 0.910928 ,val_acc 0.67400 ,test_acc 0.68032,test_acc2 0.80932\n",
      "epoch 880, loss 0.24325, training_acc 0.913816 ,val_acc 0.67350 ,test_acc 0.68042,test_acc2 0.80910\n",
      "epoch 890, loss 0.24371, training_acc 0.913002 ,val_acc 0.67300 ,test_acc 0.68024,test_acc2 0.80884\n",
      "epoch 900, loss 0.23875, training_acc 0.912928 ,val_acc 0.67300 ,test_acc 0.68042,test_acc2 0.80846\n",
      "epoch 910, loss 0.24172, training_acc 0.914112 ,val_acc 0.67200 ,test_acc 0.68012,test_acc2 0.80848\n",
      "epoch 920, loss 0.23913, training_acc 0.914927 ,val_acc 0.67200 ,test_acc 0.68020,test_acc2 0.80812\n",
      "epoch 930, loss 0.23806, training_acc 0.913816 ,val_acc 0.67200 ,test_acc 0.68024,test_acc2 0.80812\n",
      "epoch 940, loss 0.23906, training_acc 0.914038 ,val_acc 0.67200 ,test_acc 0.68030,test_acc2 0.80806\n",
      "epoch 950, loss 0.23639, training_acc 0.914186 ,val_acc 0.67250 ,test_acc 0.68024,test_acc2 0.80780\n",
      "epoch 960, loss 0.23370, training_acc 0.913890 ,val_acc 0.67250 ,test_acc 0.68042,test_acc2 0.80768\n",
      "epoch 970, loss 0.23384, training_acc 0.916185 ,val_acc 0.67300 ,test_acc 0.68040,test_acc2 0.80766\n",
      "epoch 980, loss 0.23198, training_acc 0.916333 ,val_acc 0.67250 ,test_acc 0.68038,test_acc2 0.80752\n",
      "epoch 990, loss 0.23014, training_acc 0.915593 ,val_acc 0.67250 ,test_acc 0.68026,test_acc2 0.80744\n",
      "epoch 1000, loss 0.22732, training_acc 0.917814 ,val_acc 0.67300 ,test_acc 0.68016,test_acc2 0.80708\n",
      "epoch 1010, loss 0.22857, training_acc 0.917148 ,val_acc 0.67200 ,test_acc 0.68022,test_acc2 0.80704\n",
      "epoch 1020, loss 0.22719, training_acc 0.918925 ,val_acc 0.67250 ,test_acc 0.68036,test_acc2 0.80684\n",
      "epoch 1030, loss 0.22626, training_acc 0.916185 ,val_acc 0.67200 ,test_acc 0.68056,test_acc2 0.80650\n",
      "epoch 1040, loss 0.22652, training_acc 0.917888 ,val_acc 0.67300 ,test_acc 0.68032,test_acc2 0.80626\n",
      "epoch 1050, loss 0.22300, training_acc 0.918925 ,val_acc 0.67250 ,test_acc 0.68056,test_acc2 0.80602\n",
      "epoch 1060, loss 0.22347, training_acc 0.918259 ,val_acc 0.67300 ,test_acc 0.68064,test_acc2 0.80578\n",
      "epoch 1070, loss 0.22126, training_acc 0.918925 ,val_acc 0.67250 ,test_acc 0.68038,test_acc2 0.80550\n",
      "epoch 1080, loss 0.22107, training_acc 0.918999 ,val_acc 0.67400 ,test_acc 0.68030,test_acc2 0.80580\n",
      "epoch 1090, loss 0.22033, training_acc 0.918629 ,val_acc 0.67150 ,test_acc 0.68050,test_acc2 0.80550\n",
      "epoch 1100, loss 0.21988, training_acc 0.923145 ,val_acc 0.67250 ,test_acc 0.68024,test_acc2 0.80542\n",
      "epoch 1110, loss 0.21957, training_acc 0.920554 ,val_acc 0.67200 ,test_acc 0.68026,test_acc2 0.80550\n",
      "epoch 1120, loss 0.21738, training_acc 0.922331 ,val_acc 0.67050 ,test_acc 0.68032,test_acc2 0.80554\n",
      "epoch 1130, loss 0.21508, training_acc 0.920554 ,val_acc 0.67150 ,test_acc 0.68020,test_acc2 0.80524\n",
      "epoch 1140, loss 0.21583, training_acc 0.921887 ,val_acc 0.67150 ,test_acc 0.68030,test_acc2 0.80516\n",
      "epoch 1150, loss 0.21515, training_acc 0.922035 ,val_acc 0.67100 ,test_acc 0.68016,test_acc2 0.80498\n",
      "epoch 1160, loss 0.21421, training_acc 0.923515 ,val_acc 0.67100 ,test_acc 0.68020,test_acc2 0.80494\n",
      "epoch 1170, loss 0.21261, training_acc 0.923738 ,val_acc 0.67250 ,test_acc 0.68022,test_acc2 0.80482\n",
      "epoch 1180, loss 0.21274, training_acc 0.921961 ,val_acc 0.67200 ,test_acc 0.68026,test_acc2 0.80480\n",
      "epoch 1190, loss 0.21300, training_acc 0.923812 ,val_acc 0.67150 ,test_acc 0.68022,test_acc2 0.80472\n",
      "epoch 1200, loss 0.20992, training_acc 0.922997 ,val_acc 0.67200 ,test_acc 0.68006,test_acc2 0.80444\n",
      "epoch 1210, loss 0.20978, training_acc 0.921739 ,val_acc 0.67200 ,test_acc 0.68002,test_acc2 0.80452\n",
      "epoch 1220, loss 0.20849, training_acc 0.924996 ,val_acc 0.67150 ,test_acc 0.68004,test_acc2 0.80452\n",
      "epoch 1230, loss 0.20700, training_acc 0.925737 ,val_acc 0.67150 ,test_acc 0.67986,test_acc2 0.80436\n",
      "epoch 1240, loss 0.20452, training_acc 0.926995 ,val_acc 0.67150 ,test_acc 0.67996,test_acc2 0.80446\n",
      "epoch 1250, loss 0.20480, training_acc 0.924996 ,val_acc 0.67100 ,test_acc 0.67984,test_acc2 0.80436\n",
      "epoch 1260, loss 0.20562, training_acc 0.925959 ,val_acc 0.67200 ,test_acc 0.67986,test_acc2 0.80430\n",
      "epoch 1270, loss 0.20358, training_acc 0.927662 ,val_acc 0.67100 ,test_acc 0.67984,test_acc2 0.80424\n",
      "epoch 1280, loss 0.20140, training_acc 0.927514 ,val_acc 0.67150 ,test_acc 0.67980,test_acc2 0.80410\n",
      "epoch 1290, loss 0.19947, training_acc 0.928106 ,val_acc 0.67150 ,test_acc 0.67956,test_acc2 0.80400\n",
      "epoch 1300, loss 0.20230, training_acc 0.926403 ,val_acc 0.67100 ,test_acc 0.67962,test_acc2 0.80390\n",
      "epoch 1310, loss 0.19962, training_acc 0.928328 ,val_acc 0.67100 ,test_acc 0.67944,test_acc2 0.80372\n",
      "epoch 1320, loss 0.20116, training_acc 0.926773 ,val_acc 0.67200 ,test_acc 0.67946,test_acc2 0.80338\n",
      "epoch 1330, loss 0.19878, training_acc 0.929587 ,val_acc 0.67200 ,test_acc 0.67940,test_acc2 0.80338\n",
      "epoch 1340, loss 0.19835, training_acc 0.925663 ,val_acc 0.67200 ,test_acc 0.67962,test_acc2 0.80316\n",
      "epoch 1350, loss 0.19643, training_acc 0.928698 ,val_acc 0.67200 ,test_acc 0.67958,test_acc2 0.80310\n",
      "epoch 1360, loss 0.19769, training_acc 0.927440 ,val_acc 0.67150 ,test_acc 0.67946,test_acc2 0.80300\n",
      "epoch 1370, loss 0.19348, training_acc 0.931216 ,val_acc 0.67150 ,test_acc 0.67940,test_acc2 0.80320\n",
      "epoch 1380, loss 0.19785, training_acc 0.926921 ,val_acc 0.67250 ,test_acc 0.67922,test_acc2 0.80300\n",
      "epoch 1390, loss 0.19328, training_acc 0.930772 ,val_acc 0.67200 ,test_acc 0.67910,test_acc2 0.80290\n",
      "epoch 1400, loss 0.19392, training_acc 0.929217 ,val_acc 0.67150 ,test_acc 0.67938,test_acc2 0.80280\n"
     ]
    },
    {
     "ename": "KeyboardInterrupt",
     "evalue": "",
     "output_type": "error",
     "traceback": [
      "\u001b[0;31m---------------------------------------------------------------------------\u001b[0m",
      "\u001b[0;31mKeyboardInterrupt\u001b[0m                         Traceback (most recent call last)",
      "Input \u001b[0;32mIn [469]\u001b[0m, in \u001b[0;36m<cell line: 35>\u001b[0;34m()\u001b[0m\n\u001b[1;32m     49\u001b[0m loss \u001b[38;5;241m=\u001b[39m loss_fn(outputs, targets)\n\u001b[1;32m     51\u001b[0m \u001b[38;5;66;03m# Getting gradients w.r.t. parameters\u001b[39;00m\n\u001b[0;32m---> 52\u001b[0m \u001b[43mloss\u001b[49m\u001b[38;5;241;43m.\u001b[39;49m\u001b[43mbackward\u001b[49m\u001b[43m(\u001b[49m\u001b[43m)\u001b[49m\n\u001b[1;32m     54\u001b[0m \u001b[38;5;66;03m# Updating parameters\u001b[39;00m\n\u001b[1;32m     55\u001b[0m optimizer\u001b[38;5;241m.\u001b[39mstep()\n",
      "File \u001b[0;32m~/flash1/miniconda3/envs/ltr/lib/python3.9/site-packages/torch/_tensor.py:396\u001b[0m, in \u001b[0;36mTensor.backward\u001b[0;34m(self, gradient, retain_graph, create_graph, inputs)\u001b[0m\n\u001b[1;32m    387\u001b[0m \u001b[38;5;28;01mif\u001b[39;00m has_torch_function_unary(\u001b[38;5;28mself\u001b[39m):\n\u001b[1;32m    388\u001b[0m     \u001b[38;5;28;01mreturn\u001b[39;00m handle_torch_function(\n\u001b[1;32m    389\u001b[0m         Tensor\u001b[38;5;241m.\u001b[39mbackward,\n\u001b[1;32m    390\u001b[0m         (\u001b[38;5;28mself\u001b[39m,),\n\u001b[0;32m   (...)\u001b[0m\n\u001b[1;32m    394\u001b[0m         create_graph\u001b[38;5;241m=\u001b[39mcreate_graph,\n\u001b[1;32m    395\u001b[0m         inputs\u001b[38;5;241m=\u001b[39minputs)\n\u001b[0;32m--> 396\u001b[0m \u001b[43mtorch\u001b[49m\u001b[38;5;241;43m.\u001b[39;49m\u001b[43mautograd\u001b[49m\u001b[38;5;241;43m.\u001b[39;49m\u001b[43mbackward\u001b[49m\u001b[43m(\u001b[49m\u001b[38;5;28;43mself\u001b[39;49m\u001b[43m,\u001b[49m\u001b[43m \u001b[49m\u001b[43mgradient\u001b[49m\u001b[43m,\u001b[49m\u001b[43m \u001b[49m\u001b[43mretain_graph\u001b[49m\u001b[43m,\u001b[49m\u001b[43m \u001b[49m\u001b[43mcreate_graph\u001b[49m\u001b[43m,\u001b[49m\u001b[43m \u001b[49m\u001b[43minputs\u001b[49m\u001b[38;5;241;43m=\u001b[39;49m\u001b[43minputs\u001b[49m\u001b[43m)\u001b[49m\n",
      "File \u001b[0;32m~/flash1/miniconda3/envs/ltr/lib/python3.9/site-packages/torch/autograd/__init__.py:173\u001b[0m, in \u001b[0;36mbackward\u001b[0;34m(tensors, grad_tensors, retain_graph, create_graph, grad_variables, inputs)\u001b[0m\n\u001b[1;32m    168\u001b[0m     retain_graph \u001b[38;5;241m=\u001b[39m create_graph\n\u001b[1;32m    170\u001b[0m \u001b[38;5;66;03m# The reason we repeat same the comment below is that\u001b[39;00m\n\u001b[1;32m    171\u001b[0m \u001b[38;5;66;03m# some Python versions print out the first line of a multi-line function\u001b[39;00m\n\u001b[1;32m    172\u001b[0m \u001b[38;5;66;03m# calls in the traceback and some print out the last line\u001b[39;00m\n\u001b[0;32m--> 173\u001b[0m \u001b[43mVariable\u001b[49m\u001b[38;5;241;43m.\u001b[39;49m\u001b[43m_execution_engine\u001b[49m\u001b[38;5;241;43m.\u001b[39;49m\u001b[43mrun_backward\u001b[49m\u001b[43m(\u001b[49m\u001b[43m  \u001b[49m\u001b[38;5;66;43;03m# Calls into the C++ engine to run the backward pass\u001b[39;49;00m\n\u001b[1;32m    174\u001b[0m \u001b[43m    \u001b[49m\u001b[43mtensors\u001b[49m\u001b[43m,\u001b[49m\u001b[43m \u001b[49m\u001b[43mgrad_tensors_\u001b[49m\u001b[43m,\u001b[49m\u001b[43m \u001b[49m\u001b[43mretain_graph\u001b[49m\u001b[43m,\u001b[49m\u001b[43m \u001b[49m\u001b[43mcreate_graph\u001b[49m\u001b[43m,\u001b[49m\u001b[43m \u001b[49m\u001b[43minputs\u001b[49m\u001b[43m,\u001b[49m\n\u001b[1;32m    175\u001b[0m \u001b[43m    \u001b[49m\u001b[43mallow_unreachable\u001b[49m\u001b[38;5;241;43m=\u001b[39;49m\u001b[38;5;28;43;01mTrue\u001b[39;49;00m\u001b[43m,\u001b[49m\u001b[43m \u001b[49m\u001b[43maccumulate_grad\u001b[49m\u001b[38;5;241;43m=\u001b[39;49m\u001b[38;5;28;43;01mTrue\u001b[39;49;00m\u001b[43m)\u001b[49m\n",
      "\u001b[0;31mKeyboardInterrupt\u001b[0m: "
     ]
    }
   ],
   "source": [
    "import torch\n",
    "import torch.nn as nn\n",
    "import copy\n",
    "from sklearn.metrics import top_k_accuracy_score\n",
    "\n",
    "class LogReg(nn.Module):\n",
    "    def __init__(self, input_dim, output_dim):\n",
    "        super(LogReg, self).__init__()\n",
    "        self.linear = nn.Linear(input_dim, 150)\n",
    "#         self.bn = nn.LayerNorm(100)\n",
    "        self.do = nn.Dropout(p=0.5)\n",
    "        self.linear2 = nn.Linear(150, output_dim)\n",
    "        self.m = nn.Sigmoid()\n",
    "        self.m = nn.ReLU()\n",
    "        self.mse = nn.MSELoss()\n",
    "\n",
    "    def forward(self, x):\n",
    "        x = self.linear(x)\n",
    "#         x = self.bn(x)\n",
    "        x = self.do(x)\n",
    "        x = self.linear2(x)\n",
    "        return x\n",
    "\n",
    "loss_fn = nn.CrossEntropyLoss()\n",
    "\n",
    "epochs = 5000\n",
    "model = LogReg(2001, len(fg_buckets))\n",
    "learning_rate = 0.001\n",
    "optimizer = torch.optim.AdamW(model.parameters(), lr=learning_rate)\n",
    "# optimizer = torch.optim.SGD(model.parameters(), lr=0.001, momentum=0.9)\n",
    "sched = torch.optim.lr_scheduler.CosineAnnealingLR(optimizer, T_max= epochs)\n",
    "# best_model = model\n",
    "best_acc = 0\n",
    "\n",
    "for epoch in range(epochs):\n",
    "    \n",
    "    model.train()\n",
    "    # Convert numpy array to torch Variable\n",
    "    inputs = torch.from_numpy(input_features_train).float().requires_grad_()\n",
    "    targets = torch.from_numpy(corr_coefs_train)\n",
    "    # Clear gradients w.r.t. parameters\n",
    "    optimizer.zero_grad() \n",
    "    \n",
    "    # Forward to get output\n",
    "    outputs = model(inputs)\n",
    "    \n",
    "#     print(targets.shape, outputs.shape)\n",
    "    # Calculate Loss\n",
    "    loss = loss_fn(outputs, targets)\n",
    "\n",
    "    # Getting gradients w.r.t. parameters\n",
    "    loss.backward()\n",
    "\n",
    "    # Updating parameters\n",
    "    optimizer.step()\n",
    "    sched.step()\n",
    "    \n",
    "    if epoch%10 == 0:\n",
    "        with torch.no_grad():\n",
    "            model.eval()\n",
    "            tr_coef_preds = np.argmax(outputs, axis=-1)\n",
    "            tr_acc = torch.sum(tr_coef_preds == targets)/len(targets)\n",
    "            \n",
    "            val_coef_preds = model(torch.from_numpy(input_features_val).float())\n",
    "            val_coef_preds = np.argmax(val_coef_preds, axis=-1)\n",
    "\n",
    "            val_acc = torch.sum(val_coef_preds == torch.from_numpy(corr_coefs_val))/len(val_coef_preds)\n",
    "\n",
    "            test_coef_preds_log = model(torch.from_numpy(input_features_test).float())\n",
    "            test_coef_preds = np.argmax(test_coef_preds_log, axis=-1)\n",
    "            test_acc = torch.sum(test_coef_preds == torch.from_numpy(corr_coefs_test))/len(test_coef_preds)\n",
    "            test_acc_2 = top_k_accuracy_score(torch.from_numpy(corr_coefs_test), test_coef_preds_log.numpy(),k=2)\n",
    "            \n",
    "\n",
    "            if val_acc >= best_acc:\n",
    "                print(\"Updating best model\")\n",
    "                best_acc = val_acc\n",
    "                best_model = copy.deepcopy(model)\n",
    "        \n",
    "            print(f'epoch {epoch}, loss {loss.item():.5f}, training_acc {tr_acc.item():5f} ,val_acc {val_acc:.5f} ,test_acc {test_acc:.5f},test_acc2 {test_acc_2:.5f}')\n",
    "        "
   ]
  },
  {
   "cell_type": "code",
   "execution_count": 475,
   "id": "1d5ead60",
   "metadata": {},
   "outputs": [
    {
     "name": "stdout",
     "output_type": "stream",
     "text": [
      "torch.Size([13506, 10])\n",
      "torch.Size([2000, 10])\n",
      "torch.Size([50000, 10])\n"
     ]
    }
   ],
   "source": [
    "model.eval()\n",
    "best_model.eval()\n",
    "with torch.no_grad():\n",
    "    train_coef_preds = best_model(torch.from_numpy(input_features_train).float())\n",
    "    print(train_coef_preds.shape)        \n",
    "    val_coef_preds = best_model(torch.from_numpy(input_features_val).float())\n",
    "    print(val_coef_preds.shape)  \n",
    "    test_coef_preds = best_model(torch.from_numpy(input_features_test).float())\n",
    "    print(test_coef_preds.shape)  "
   ]
  },
  {
   "cell_type": "code",
   "execution_count": 471,
   "id": "fd41bd71",
   "metadata": {},
   "outputs": [],
   "source": [
    "def evaluate_acc_freq(coef_preds, labels, ie, bmc,v = False, test=False):\n",
    "    mixed_clf = pickle.load(open(\"results_sklearn/config_convex_comb_1/13-Sep-2022-00-50-56/final_model.sav\", 'rb'))\n",
    "    acc = 0\n",
    "    preds = []\n",
    "    coefs = np.array([i/20.0 for i in range(0, 21)])\n",
    "    for j in tqdm(range(coef_preds.shape[0])):\n",
    "        i = torch.argmax(coef_preds[j]).item()\n",
    "#         i = corr_coefs_test[j]\n",
    "        i = coefs[bmc[i]]\n",
    "        mixed_clf.coef_ = i*text_only_balanced_clf.coef_ + (1-i)*image_only_clf_oversampled.coef_\n",
    "        mixed_clf.intercept_ = i*text_only_balanced_clf.intercept_ + (1-i)*image_only_clf_oversampled.intercept_\n",
    "        pred = mixed_clf.predict(ie[j].reshape(1, -1))\n",
    "        preds.append(pred[0])\n",
    "        if pred[0] == labels[j].item():\n",
    "            acc+=1\n",
    "        if j>0 and j%1000== 0 and v:\n",
    "            blah = acc*100/j\n",
    "            print(f\"{blah:.3f}, {j}\")\n",
    "    if test:\n",
    "        all_accs_p(np.array(preds))\n",
    "        all_accs_fg(np.array(preds), labels, fg_indices)\n",
    "    return acc*100/j"
   ]
  },
  {
   "cell_type": "code",
   "execution_count": 483,
   "id": "5e78ad2a",
   "metadata": {},
   "outputs": [
    {
     "data": {
      "application/vnd.jupyter.widget-view+json": {
       "model_id": "8037ef95717947bb9687576aec13deeb",
       "version_major": 2,
       "version_minor": 0
      },
      "text/plain": [
       "  0%|          | 0/13506 [00:00<?, ?it/s]"
      ]
     },
     "metadata": {},
     "output_type": "display_data"
    },
    {
     "data": {
      "text/plain": [
       "86.93076638282118"
      ]
     },
     "execution_count": 483,
     "metadata": {},
     "output_type": "execute_result"
    }
   ],
   "source": [
    "evaluate_acc_freq(train_coef_preds, vlabels_train, ie_train, best_mixing_coefs_val)"
   ]
  },
  {
   "cell_type": "code",
   "execution_count": 484,
   "id": "67e2dab9",
   "metadata": {},
   "outputs": [
    {
     "data": {
      "application/vnd.jupyter.widget-view+json": {
       "model_id": "f2e64473a48f43969302ce4163afc690",
       "version_major": 2,
       "version_minor": 0
      },
      "text/plain": [
       "  0%|          | 0/2000 [00:00<?, ?it/s]"
      ]
     },
     "metadata": {},
     "output_type": "display_data"
    },
    {
     "data": {
      "text/plain": [
       "63.78189094547274"
      ]
     },
     "execution_count": 484,
     "metadata": {},
     "output_type": "execute_result"
    }
   ],
   "source": [
    "evaluate_acc_freq(val_coef_preds, vlabels_val, ie_val, best_mixing_coefs_val)"
   ]
  },
  {
   "cell_type": "code",
   "execution_count": 485,
   "id": "5693acde",
   "metadata": {},
   "outputs": [
    {
     "data": {
      "application/vnd.jupyter.widget-view+json": {
       "model_id": "56a529efd3af4f899f2f85afc46b0283",
       "version_major": 2,
       "version_minor": 0
      },
      "text/plain": [
       "  0%|          | 0/50000 [00:00<?, ?it/s]"
      ]
     },
     "metadata": {},
     "output_type": "display_data"
    },
    {
     "name": "stdout",
     "output_type": "stream",
     "text": [
      "0.636/0.730/0.618/0.432\n",
      "['0.63646', '0.19200', '0.37923', '0.44227', '0.52044', '0.55342', '0.60048', '0.63344', '0.64708', '0.71401', '0.74881']\n"
     ]
    },
    {
     "data": {
      "text/plain": [
       "63.64727294545891"
      ]
     },
     "execution_count": 485,
     "metadata": {},
     "output_type": "execute_result"
    }
   ],
   "source": [
    "evaluate_acc_freq(test_coef_preds, labels.numpy(), image_embeddings, best_mixing_coefs_val, test=True)"
   ]
  },
  {
   "cell_type": "code",
   "execution_count": 486,
   "id": "4c734c2f",
   "metadata": {},
   "outputs": [
    {
     "data": {
      "application/vnd.jupyter.widget-view+json": {
       "model_id": "e68c54d363144e00a98a72b7f5f3451a",
       "version_major": 2,
       "version_minor": 0
      },
      "text/plain": [
       "  0%|          | 0/50000 [00:00<?, ?it/s]"
      ]
     },
     "metadata": {},
     "output_type": "display_data"
    },
    {
     "name": "stdout",
     "output_type": "stream",
     "text": [
      "0.638/0.728/0.624/0.429\n",
      "['0.63832', '0.21600', '0.36731', '0.42091', '0.54756', '0.55544', '0.60714', '0.63031', '0.66202', '0.71317', '0.74532']\n"
     ]
    },
    {
     "data": {
      "text/plain": [
       "63.83327666553331"
      ]
     },
     "execution_count": 486,
     "metadata": {},
     "output_type": "execute_result"
    }
   ],
   "source": [
    "evaluate_acc_freq(test_coef_preds, labels.numpy(), image_embeddings, best_mixing_coefs_test, test=True)"
   ]
  },
  {
   "cell_type": "markdown",
   "id": "c15d9ab5",
   "metadata": {},
   "source": [
    "### Predict mixing coefficients at eval time"
   ]
  },
  {
   "cell_type": "code",
   "execution_count": 22,
   "id": "cd3f053b",
   "metadata": {},
   "outputs": [],
   "source": [
    "from data_loader import dataloaders as dataloader"
   ]
  },
  {
   "cell_type": "code",
   "execution_count": 23,
   "id": "dde42e27",
   "metadata": {},
   "outputs": [
    {
     "name": "stdout",
     "output_type": "stream",
     "text": [
      "Loading data from /nethome/bdevnani3/flash1/long_tail_lang/data/ImageNet_LT/ImageNet_LT_test.txt\n",
      "Use data transformation: Compose(\n",
      "    Resize(size=224, interpolation=bicubic, max_size=None, antialias=None)\n",
      "    CenterCrop(size=(224, 224))\n",
      "    ToTensor()\n",
      "    Normalize(mean=[0.48145466, 0.4578275, 0.40821073], std=[0.26862954, 0.26130258, 0.27577711])\n",
      ")\n",
      "***********************DATASET: test LT_Dataset\n",
      "test 50000\n",
      "No sampler.\n",
      "Shuffle is True.\n"
     ]
    }
   ],
   "source": [
    "d = dataloader.load_data(\n",
    "    data_root=\"./datasets/ImageNet/\",\n",
    "    dataset=\"ImageNet_LT\",\n",
    "    phase=\"test\",\n",
    "    batch_size=1000,\n",
    "    sampler_dic=None,\n",
    "    num_workers=10,\n",
    "    type=\"LT_Dataset\",\n",
    "    prompt_set=\"Imagenet\",\n",
    ")\n",
    "dataset_test = d[0]"
   ]
  },
  {
   "cell_type": "code",
   "execution_count": 24,
   "id": "c4feb319",
   "metadata": {},
   "outputs": [],
   "source": [
    "import torchvision.transforms as T\n",
    "from torchvision.transforms import InterpolationMode\n",
    "\n",
    "BICUBIC = InterpolationMode.BICUBIC\n",
    "t1 = T.RandomResizedCrop(size=224, scale=(0.5, 1), interpolation=BICUBIC)\n",
    "t2 = T.RandomHorizontalFlip(p=1)\n",
    "t3 = T.RandomGrayscale(p=1)\n",
    "t4 = T.ColorJitter(brightness=0.4, contrast=0.4, saturation=0.4, hue=0)"
   ]
  },
  {
   "cell_type": "code",
   "execution_count": 25,
   "id": "b2e386aa",
   "metadata": {},
   "outputs": [
    {
     "data": {
      "text/plain": [
       "{91: 81,\n",
       " 129: 161,\n",
       " 683: 77,\n",
       " 830: 343,\n",
       " 450: 48,\n",
       " 593: 292,\n",
       " 566: 1173,\n",
       " 600: 169,\n",
       " 86: 1280,\n",
       " 559: 310,\n",
       " 83: 135,\n",
       " 104: 61,\n",
       " 466: 152,\n",
       " 335: 109,\n",
       " 367: 128,\n",
       " 773: 175,\n",
       " 52: 189,\n",
       " 3: 352,\n",
       " 347: 198,\n",
       " 616: 354,\n",
       " 387: 231,\n",
       " 658: 253,\n",
       " 486: 127,\n",
       " 984: 714,\n",
       " 947: 284,\n",
       " 571: 340,\n",
       " 907: 216,\n",
       " 262: 102,\n",
       " 828: 229,\n",
       " 684: 42,\n",
       " 417: 1053,\n",
       " 490: 652,\n",
       " 601: 683,\n",
       " 879: 134,\n",
       " 309: 306,\n",
       " 81: 93,\n",
       " 585: 101,\n",
       " 236: 29,\n",
       " 31: 83,\n",
       " 770: 129,\n",
       " 987: 233,\n",
       " 191: 244,\n",
       " 395: 26,\n",
       " 637: 100,\n",
       " 870: 642,\n",
       " 715: 194,\n",
       " 112: 393,\n",
       " 2: 516,\n",
       " 363: 169,\n",
       " 388: 171,\n",
       " 97: 819,\n",
       " 737: 472,\n",
       " 899: 272,\n",
       " 929: 534,\n",
       " 844: 175,\n",
       " 922: 284,\n",
       " 375: 232,\n",
       " 979: 98,\n",
       " 23: 171,\n",
       " 499: 22,\n",
       " 319: 290,\n",
       " 209: 43,\n",
       " 228: 41,\n",
       " 765: 290,\n",
       " 913: 215,\n",
       " 725: 454,\n",
       " 291: 53,\n",
       " 33: 56,\n",
       " 787: 271,\n",
       " 318: 611,\n",
       " 783: 229,\n",
       " 970: 72,\n",
       " 680: 61,\n",
       " 875: 459,\n",
       " 464: 224,\n",
       " 365: 158,\n",
       " 934: 141,\n",
       " 628: 140,\n",
       " 631: 57,\n",
       " 554: 382,\n",
       " 30: 287,\n",
       " 451: 137,\n",
       " 956: 80,\n",
       " 134: 285,\n",
       " 638: 90,\n",
       " 107: 133,\n",
       " 449: 236,\n",
       " 194: 106,\n",
       " 578: 252,\n",
       " 75: 58,\n",
       " 744: 56,\n",
       " 978: 217,\n",
       " 687: 264,\n",
       " 976: 625,\n",
       " 662: 104,\n",
       " 788: 221,\n",
       " 886: 274,\n",
       " 150: 126,\n",
       " 891: 104,\n",
       " 89: 502,\n",
       " 674: 1246,\n",
       " 838: 64,\n",
       " 475: 186,\n",
       " 99: 24,\n",
       " 498: 6,\n",
       " 820: 166,\n",
       " 46: 346,\n",
       " 205: 125,\n",
       " 580: 239,\n",
       " 958: 113,\n",
       " 923: 172,\n",
       " 920: 323,\n",
       " 549: 168,\n",
       " 372: 349,\n",
       " 480: 288,\n",
       " 965: 124,\n",
       " 460: 333,\n",
       " 24: 114,\n",
       " 819: 188,\n",
       " 444: 480,\n",
       " 148: 189,\n",
       " 402: 679,\n",
       " 164: 81,\n",
       " 973: 95,\n",
       " 340: 283,\n",
       " 757: 137,\n",
       " 640: 88,\n",
       " 847: 134,\n",
       " 624: 310,\n",
       " 552: 70,\n",
       " 20: 87,\n",
       " 933: 418,\n",
       " 858: 157,\n",
       " 454: 511,\n",
       " 591: 253,\n",
       " 80: 126,\n",
       " 247: 163,\n",
       " 577: 46,\n",
       " 173: 469,\n",
       " 362: 145,\n",
       " 60: 34,\n",
       " 924: 398,\n",
       " 802: 134,\n",
       " 520: 162,\n",
       " 991: 150,\n",
       " 503: 105,\n",
       " 408: 275,\n",
       " 536: 110,\n",
       " 545: 422,\n",
       " 497: 45,\n",
       " 587: 278,\n",
       " 672: 138,\n",
       " 627: 119,\n",
       " 551: 83,\n",
       " 345: 134,\n",
       " 831: 95,\n",
       " 128: 79,\n",
       " 586: 130,\n",
       " 834: 285,\n",
       " 390: 108,\n",
       " 280: 241,\n",
       " 531: 100,\n",
       " 346: 167,\n",
       " 413: 411,\n",
       " 930: 43,\n",
       " 72: 428,\n",
       " 404: 257,\n",
       " 108: 128,\n",
       " 442: 165,\n",
       " 553: 47,\n",
       " 803: 211,\n",
       " 597: 305,\n",
       " 613: 413,\n",
       " 304: 566,\n",
       " 981: 34,\n",
       " 882: 456,\n",
       " 197: 59,\n",
       " 357: 127,\n",
       " 338: 174,\n",
       " 755: 787,\n",
       " 989: 63,\n",
       " 509: 220,\n",
       " 386: 85,\n",
       " 391: 96,\n",
       " 942: 80,\n",
       " 21: 181,\n",
       " 26: 134,\n",
       " 775: 775,\n",
       " 176: 199,\n",
       " 589: 220,\n",
       " 235: 281,\n",
       " 222: 56,\n",
       " 272: 167,\n",
       " 271: 81,\n",
       " 64: 31,\n",
       " 106: 116,\n",
       " 177: 137,\n",
       " 630: 63,\n",
       " 938: 20,\n",
       " 371: 391,\n",
       " 411: 47,\n",
       " 289: 96,\n",
       " 85: 281,\n",
       " 931: 38,\n",
       " 655: 115,\n",
       " 801: 85,\n",
       " 361: 143,\n",
       " 728: 66,\n",
       " 754: 80,\n",
       " 488: 123,\n",
       " 519: 619,\n",
       " 779: 137,\n",
       " 457: 33,\n",
       " 286: 12,\n",
       " 564: 268,\n",
       " 348: 149,\n",
       " 555: 148,\n",
       " 885: 102,\n",
       " 752: 194,\n",
       " 117: 604,\n",
       " 6: 47,\n",
       " 476: 188,\n",
       " 633: 10,\n",
       " 603: 376,\n",
       " 102: 14,\n",
       " 253: 167,\n",
       " 605: 39,\n",
       " 207: 119,\n",
       " 341: 140,\n",
       " 273: 28,\n",
       " 807: 205,\n",
       " 968: 258,\n",
       " 699: 165,\n",
       " 182: 367,\n",
       " 988: 119,\n",
       " 760: 133,\n",
       " 872: 107,\n",
       " 892: 112,\n",
       " 352: 194,\n",
       " 713: 297,\n",
       " 565: 202,\n",
       " 774: 43,\n",
       " 37: 39,\n",
       " 898: 173,\n",
       " 50: 376,\n",
       " 469: 114,\n",
       " 990: 236,\n",
       " 227: 100,\n",
       " 850: 46,\n",
       " 818: 242,\n",
       " 414: 159,\n",
       " 270: 303,\n",
       " 219: 496,\n",
       " 296: 330,\n",
       " 269: 132,\n",
       " 639: 64,\n",
       " 22: 177,\n",
       " 257: 282,\n",
       " 537: 191,\n",
       " 420: 68,\n",
       " 652: 204,\n",
       " 914: 85,\n",
       " 824: 189,\n",
       " 940: 45,\n",
       " 28: 279,\n",
       " 889: 50,\n",
       " 54: 69,\n",
       " 76: 80,\n",
       " 821: 105,\n",
       " 68: 349,\n",
       " 485: 346,\n",
       " 517: 38,\n",
       " 264: 60,\n",
       " 962: 17,\n",
       " 178: 69,\n",
       " 950: 175,\n",
       " 679: 167,\n",
       " 333: 1121,\n",
       " 878: 31,\n",
       " 688: 59,\n",
       " 330: 42,\n",
       " 548: 507,\n",
       " 71: 36,\n",
       " 896: 170,\n",
       " 761: 34,\n",
       " 618: 72,\n",
       " 694: 481,\n",
       " 895: 182,\n",
       " 583: 112,\n",
       " 709: 182,\n",
       " 966: 23,\n",
       " 84: 226,\n",
       " 515: 142,\n",
       " 657: 72,\n",
       " 649: 29,\n",
       " 374: 123,\n",
       " 557: 164,\n",
       " 109: 66,\n",
       " 746: 392,\n",
       " 794: 197,\n",
       " 732: 131,\n",
       " 419: 184,\n",
       " 212: 114,\n",
       " 336: 133,\n",
       " 595: 179,\n",
       " 103: 111,\n",
       " 213: 171,\n",
       " 690: 49,\n",
       " 18: 392,\n",
       " 496: 178,\n",
       " 495: 66,\n",
       " 93: 222,\n",
       " 471: 82,\n",
       " 894: 28,\n",
       " 278: 310,\n",
       " 837: 84,\n",
       " 846: 60,\n",
       " 126: 246,\n",
       " 156: 245,\n",
       " 560: 381,\n",
       " 903: 138,\n",
       " 530: 94,\n",
       " 862: 192,\n",
       " 25: 56,\n",
       " 57: 173,\n",
       " 327: 332,\n",
       " 805: 328,\n",
       " 208: 85,\n",
       " 919: 66,\n",
       " 254: 45,\n",
       " 36: 68,\n",
       " 644: 85,\n",
       " 642: 90,\n",
       " 206: 110,\n",
       " 743: 299,\n",
       " 789: 27,\n",
       " 113: 47,\n",
       " 816: 218,\n",
       " 137: 178,\n",
       " 98: 74,\n",
       " 753: 81,\n",
       " 281: 123,\n",
       " 518: 231,\n",
       " 329: 446,\n",
       " 569: 125,\n",
       " 244: 172,\n",
       " 897: 76,\n",
       " 645: 82,\n",
       " 602: 98,\n",
       " 768: 164,\n",
       " 149: 37,\n",
       " 546: 92,\n",
       " 550: 104,\n",
       " 201: 214,\n",
       " 183: 49,\n",
       " 302: 208,\n",
       " 836: 60,\n",
       " 944: 151,\n",
       " 312: 50,\n",
       " 604: 125,\n",
       " 762: 174,\n",
       " 827: 247,\n",
       " 131: 370,\n",
       " 953: 99,\n",
       " 145: 87,\n",
       " 324: 81,\n",
       " 945: 94,\n",
       " 928: 53,\n",
       " 314: 87,\n",
       " 786: 126,\n",
       " 487: 232,\n",
       " 763: 315,\n",
       " 473: 155,\n",
       " 453: 147,\n",
       " 723: 63,\n",
       " 599: 65,\n",
       " 795: 82,\n",
       " 172: 272,\n",
       " 881: 25,\n",
       " 799: 130,\n",
       " 171: 35,\n",
       " 804: 21,\n",
       " 561: 174,\n",
       " 608: 298,\n",
       " 951: 472,\n",
       " 398: 372,\n",
       " 880: 252,\n",
       " 856: 114,\n",
       " 643: 36,\n",
       " 8: 150,\n",
       " 501: 102,\n",
       " 323: 79,\n",
       " 685: 113,\n",
       " 540: 153,\n",
       " 493: 203,\n",
       " 275: 72,\n",
       " 175: 100,\n",
       " 443: 112,\n",
       " 806: 302,\n",
       " 261: 137,\n",
       " 295: 43,\n",
       " 910: 116,\n",
       " 456: 86,\n",
       " 532: 330,\n",
       " 541: 84,\n",
       " 232: 50,\n",
       " 378: 137,\n",
       " 29: 248,\n",
       " 121: 148,\n",
       " 399: 34,\n",
       " 977: 73,\n",
       " 326: 77,\n",
       " 132: 197,\n",
       " 871: 31,\n",
       " 315: 143,\n",
       " 810: 102,\n",
       " 310: 67,\n",
       " 410: 22,\n",
       " 961: 172,\n",
       " 423: 150,\n",
       " 957: 32,\n",
       " 832: 146,\n",
       " 350: 122,\n",
       " 677: 75,\n",
       " 308: 58,\n",
       " 292: 53,\n",
       " 749: 31,\n",
       " 491: 6,\n",
       " 793: 85,\n",
       " 733: 137,\n",
       " 874: 69,\n",
       " 706: 73,\n",
       " 468: 186,\n",
       " 767: 263,\n",
       " 343: 15,\n",
       " 611: 69,\n",
       " 678: 108,\n",
       " 855: 143,\n",
       " 781: 87,\n",
       " 441: 152,\n",
       " 667: 128,\n",
       " 217: 39,\n",
       " 817: 128,\n",
       " 663: 38,\n",
       " 288: 71,\n",
       " 163: 47,\n",
       " 943: 67,\n",
       " 435: 157,\n",
       " 160: 69,\n",
       " 995: 167,\n",
       " 418: 111,\n",
       " 516: 82,\n",
       " 316: 37,\n",
       " 946: 103,\n",
       " 439: 58,\n",
       " 668: 170,\n",
       " 675: 107,\n",
       " 890: 140,\n",
       " 648: 86,\n",
       " 462: 48,\n",
       " 215: 54,\n",
       " 265: 14,\n",
       " 492: 154,\n",
       " 67: 297,\n",
       " 229: 138,\n",
       " 412: 118,\n",
       " 665: 296,\n",
       " 424: 10,\n",
       " 373: 83,\n",
       " 739: 183,\n",
       " 740: 32,\n",
       " 146: 86,\n",
       " 769: 86,\n",
       " 906: 110,\n",
       " 9: 50,\n",
       " 722: 82,\n",
       " 380: 73,\n",
       " 751: 83,\n",
       " 750: 32,\n",
       " 980: 45,\n",
       " 711: 283,\n",
       " 693: 33,\n",
       " 133: 155,\n",
       " 198: 90,\n",
       " 861: 75,\n",
       " 203: 50,\n",
       " 220: 91,\n",
       " 422: 41,\n",
       " 477: 134,\n",
       " 161: 119,\n",
       " 392: 101,\n",
       " 527: 55,\n",
       " 446: 43,\n",
       " 225: 48,\n",
       " 90: 186,\n",
       " 14: 121,\n",
       " 154: 77,\n",
       " 101: 93,\n",
       " 811: 93,\n",
       " 284: 186,\n",
       " 508: 122,\n",
       " 430: 38,\n",
       " 632: 10,\n",
       " 542: 16,\n",
       " 614: 19,\n",
       " 320: 170,\n",
       " 53: 96,\n",
       " 325: 128,\n",
       " 506: 42,\n",
       " 528: 116,\n",
       " 839: 28,\n",
       " 524: 71,\n",
       " 353: 149,\n",
       " 368: 96,\n",
       " 691: 29,\n",
       " 224: 117,\n",
       " 415: 124,\n",
       " 73: 10,\n",
       " 704: 62,\n",
       " 724: 103,\n",
       " 300: 43,\n",
       " 276: 187,\n",
       " 241: 127,\n",
       " 983: 39,\n",
       " 396: 165,\n",
       " 311: 119,\n",
       " 465: 108,\n",
       " 65: 8,\n",
       " 623: 102,\n",
       " 62: 57,\n",
       " 354: 23,\n",
       " 911: 16,\n",
       " 394: 122,\n",
       " 507: 20,\n",
       " 42: 236,\n",
       " 1: 250,\n",
       " 187: 75,\n",
       " 445: 91,\n",
       " 952: 133,\n",
       " 857: 101,\n",
       " 406: 83,\n",
       " 686: 103,\n",
       " 796: 76,\n",
       " 233: 51,\n",
       " 969: 108,\n",
       " 16: 232,\n",
       " 594: 317,\n",
       " 884: 80,\n",
       " 925: 110,\n",
       " 258: 71,\n",
       " 95: 28,\n",
       " 204: 18,\n",
       " 4: 143,\n",
       " 716: 26,\n",
       " 798: 63,\n",
       " 669: 15,\n",
       " 61: 150,\n",
       " 32: 65,\n",
       " 972: 165,\n",
       " 218: 86,\n",
       " 671: 130,\n",
       " 833: 57,\n",
       " 543: 55,\n",
       " 277: 20,\n",
       " 226: 62,\n",
       " 513: 75,\n",
       " 168: 112,\n",
       " 570: 51,\n",
       " 581: 58,\n",
       " 982: 41,\n",
       " 696: 45,\n",
       " 360: 49,\n",
       " 522: 134,\n",
       " 216: 87,\n",
       " 700: 82,\n",
       " 195: 77,\n",
       " 202: 43,\n",
       " 636: 54,\n",
       " 955: 67,\n",
       " 692: 33,\n",
       " 135: 59,\n",
       " 960: 57,\n",
       " 440: 25,\n",
       " 51: 27,\n",
       " 905: 116,\n",
       " 294: 62,\n",
       " 908: 42,\n",
       " 165: 100,\n",
       " 864: 65,\n",
       " 901: 102,\n",
       " 790: 28,\n",
       " 609: 132,\n",
       " 122: 26,\n",
       " 481: 39,\n",
       " 240: 126,\n",
       " 859: 70,\n",
       " 926: 56,\n",
       " 452: 48,\n",
       " 742: 43,\n",
       " 88: 38,\n",
       " 437: 141,\n",
       " 843: 39,\n",
       " 158: 100,\n",
       " 221: 52,\n",
       " 915: 155,\n",
       " 355: 156,\n",
       " 246: 90,\n",
       " 40: 80,\n",
       " 967: 55,\n",
       " 48: 201,\n",
       " 251: 81,\n",
       " 647: 64,\n",
       " 59: 34,\n",
       " 654: 209,\n",
       " 250: 181,\n",
       " 718: 14,\n",
       " 100: 10,\n",
       " 479: 121,\n",
       " 114: 179,\n",
       " 710: 99,\n",
       " 245: 119,\n",
       " 698: 38,\n",
       " 279: 137,\n",
       " 584: 22,\n",
       " 489: 81,\n",
       " 196: 10,\n",
       " 426: 109,\n",
       " 243: 56,\n",
       " 331: 122,\n",
       " 547: 25,\n",
       " 138: 43,\n",
       " 567: 110,\n",
       " 140: 11,\n",
       " 266: 66,\n",
       " 151: 53,\n",
       " 592: 39,\n",
       " 629: 75,\n",
       " 69: 72,\n",
       " 447: 113,\n",
       " 916: 19,\n",
       " 622: 72,\n",
       " 119: 240,\n",
       " 118: 72,\n",
       " 70: 35,\n",
       " 785: 161,\n",
       " 166: 25,\n",
       " 120: 22,\n",
       " 167: 35,\n",
       " 918: 36,\n",
       " 776: 11,\n",
       " 313: 51,\n",
       " 159: 37,\n",
       " 290: 71,\n",
       " 529: 35,\n",
       " 534: 87,\n",
       " 641: 34,\n",
       " 344: 30,\n",
       " 729: 93,\n",
       " 868: 31,\n",
       " 876: 238,\n",
       " 705: 72,\n",
       " 936: 36,\n",
       " 974: 52,\n",
       " 612: 80,\n",
       " 263: 97,\n",
       " 717: 141,\n",
       " 130: 78,\n",
       " 179: 42,\n",
       " 735: 66,\n",
       " 193: 23,\n",
       " 66: 44,\n",
       " 562: 92,\n",
       " 653: 27,\n",
       " 407: 23,\n",
       " 400: 31,\n",
       " 721: 67,\n",
       " 619: 86,\n",
       " 141: 23,\n",
       " 433: 82,\n",
       " 573: 209,\n",
       " 483: 32,\n",
       " 401: 63,\n",
       " 814: 41,\n",
       " 504: 44,\n",
       " 741: 14,\n",
       " 849: 54,\n",
       " 986: 141,\n",
       " 500: 85,\n",
       " 941: 18,\n",
       " 383: 65,\n",
       " 660: 10,\n",
       " 777: 54,\n",
       " 377: 51,\n",
       " 185: 38,\n",
       " 812: 111,\n",
       " 625: 21,\n",
       " 299: 42,\n",
       " 184: 73,\n",
       " 322: 19,\n",
       " 116: 79,\n",
       " 74: 137,\n",
       " 617: 120,\n",
       " 745: 40,\n",
       " 533: 54,\n",
       " 791: 36,\n",
       " 260: 12,\n",
       " 620: 50,\n",
       " 948: 180,\n",
       " 429: 34,\n",
       " 661: 33,\n",
       " 535: 143,\n",
       " 139: 75,\n",
       " 502: 44,\n",
       " 147: 105,\n",
       " 416: 45,\n",
       " 186: 56,\n",
       " 49: 29,\n",
       " 115: 124,\n",
       " 55: 157,\n",
       " 576: 14,\n",
       " 670: 66,\n",
       " 526: 86,\n",
       " 998: 21,\n",
       " 867: 9,\n",
       " 321: 114,\n",
       " 784: 96,\n",
       " 111: 50,\n",
       " 43: 103,\n",
       " 985: 143,\n",
       " 192: 305,\n",
       " 188: 89,\n",
       " 558: 30,\n",
       " 366: 87,\n",
       " 389: 28,\n",
       " 298: 11,\n",
       " 845: 25,\n",
       " 397: 10,\n",
       " 621: 76,\n",
       " 370: 49,\n",
       " 381: 32,\n",
       " 904: 150,\n",
       " 676: 63,\n",
       " 954: 71,\n",
       " 681: 26,\n",
       " 712: 101,\n",
       " 19: 157,\n",
       " 470: 31,\n",
       " 822: 46,\n",
       " 521: 62,\n",
       " 157: 30,\n",
       " 285: 12,\n",
       " 63: 78,\n",
       " 152: 10,\n",
       " 332: 86,\n",
       " 682: 83,\n",
       " 45: 54,\n",
       " 510: 82,\n",
       " 393: 32,\n",
       " 123: 64,\n",
       " 797: 15,\n",
       " 902: 30,\n",
       " 255: 37,\n",
       " 714: 28,\n",
       " 143: 74,\n",
       " 727: 22,\n",
       " 459: 36,\n",
       " 77: 44,\n",
       " 651: 30,\n",
       " 734: 40,\n",
       " 949: 23,\n",
       " 11: 55,\n",
       " 778: 12,\n",
       " 282: 27,\n",
       " 701: 36,\n",
       " 935: 7,\n",
       " 659: 55,\n",
       " 826: 73,\n",
       " 267: 14,\n",
       " 893: 133,\n",
       " 96: 55,\n",
       " 356: 5,\n",
       " 5: 92,\n",
       " 237: 13,\n",
       " 860: 6,\n",
       " 829: 35,\n",
       " 41: 15,\n",
       " 349: 16,\n",
       " 634: 31,\n",
       " 78: 30,\n",
       " 283: 19,\n",
       " 297: 41,\n",
       " 959: 17,\n",
       " 242: 59,\n",
       " 252: 63,\n",
       " 317: 16,\n",
       " 421: 52,\n",
       " 162: 26,\n",
       " 249: 53,\n",
       " 927: 25,\n",
       " 409: 13,\n",
       " 405: 27,\n",
       " 626: 26,\n",
       " 939: 63,\n",
       " 39: 96,\n",
       " 909: 39,\n",
       " 556: 10,\n",
       " 94: 15,\n",
       " 771: 20,\n",
       " 842: 18,\n",
       " 863: 64,\n",
       " 484: 41,\n",
       " 606: 8,\n",
       " 937: 55,\n",
       " 136: 59,\n",
       " 610: 43,\n",
       " 125: 23,\n",
       " 181: 20,\n",
       " 369: 65,\n",
       " 505: 54,\n",
       " 38: 14,\n",
       " 472: 125,\n",
       " 303: 18,\n",
       " 174: 150,\n",
       " 514: 8,\n",
       " 10: 34,\n",
       " 458: 44,\n",
       " 301: 22,\n",
       " 574: 71,\n",
       " 992: 19,\n",
       " 999: 21,\n",
       " 238: 36,\n",
       " 719: 78,\n",
       " 427: 32,\n",
       " 35: 43,\n",
       " 840: 17,\n",
       " 809: 53,\n",
       " 189: 24,\n",
       " 869: 15,\n",
       " 223: 11,\n",
       " 13: 35,\n",
       " 230: 22,\n",
       " 44: 64,\n",
       " 656: 24,\n",
       " 379: 31,\n",
       " 964: 93,\n",
       " 428: 69,\n",
       " 523: 8,\n",
       " 736: 25,\n",
       " 124: 20,\n",
       " 997: 25,\n",
       " 467: 16,\n",
       " 478: 25,\n",
       " 359: 31,\n",
       " 334: 48,\n",
       " 511: 44,\n",
       " 190: 35,\n",
       " 56: 16,\n",
       " 305: 46,\n",
       " 823: 7,\n",
       " 664: 46,\n",
       " 579: 14,\n",
       " 887: 6,\n",
       " 342: 27,\n",
       " 92: 61,\n",
       " 993: 15,\n",
       " 702: 15,\n",
       " 403: 34,\n",
       " 673: 28,\n",
       " 256: 39,\n",
       " 82: 34,\n",
       " 854: 9,\n",
       " 382: 41,\n",
       " 900: 20,\n",
       " 199: 33,\n",
       " 703: 60,\n",
       " 79: 15,\n",
       " 474: 59,\n",
       " 27: 56,\n",
       " 582: 22,\n",
       " 259: 32,\n",
       " 835: 43,\n",
       " 463: 15,\n",
       " 590: 21,\n",
       " 438: 10,\n",
       " 351: 23,\n",
       " 851: 31,\n",
       " 239: 75,\n",
       " 34: 118,\n",
       " 756: 7,\n",
       " 764: 35,\n",
       " 772: 53,\n",
       " 425: 47,\n",
       " 539: 48,\n",
       " 707: 25,\n",
       " 697: 24,\n",
       " 607: 28,\n",
       " 635: 106,\n",
       " 211: 11,\n",
       " 666: 26,\n",
       " 328: 8,\n",
       " 877: 19,\n",
       " 0: 50,\n",
       " 572: 37,\n",
       " 996: 19,\n",
       " 287: 42,\n",
       " 825: 20,\n",
       " 494: 48,\n",
       " 689: 16,\n",
       " 563: 87,\n",
       " 432: 30,\n",
       " 738: 9,\n",
       " 646: 6,\n",
       " 105: 32,\n",
       " 47: 32,\n",
       " 525: 41,\n",
       " 17: 13,\n",
       " 921: 22,\n",
       " 720: 13,\n",
       " 731: 11,\n",
       " 748: 20,\n",
       " 615: 25,\n",
       " 214: 24,\n",
       " 766: 9,\n",
       " 971: 33,\n",
       " 144: 27,\n",
       " 293: 19,\n",
       " 963: 19,\n",
       " 15: 7,\n",
       " 153: 30,\n",
       " 841: 44,\n",
       " 364: 20,\n",
       " 782: 32,\n",
       " 758: 50,\n",
       " 339: 17,\n",
       " 912: 13,\n",
       " 588: 18,\n",
       " 568: 8,\n",
       " 808: 21,\n",
       " 12: 25,\n",
       " 110: 35,\n",
       " 544: 10,\n",
       " 169: 35,\n",
       " 231: 7,\n",
       " 461: 19,\n",
       " 434: 16,\n",
       " 575: 14,\n",
       " 142: 16,\n",
       " 455: 17,\n",
       " 512: 43,\n",
       " 975: 45,\n",
       " 248: 17,\n",
       " 306: 19,\n",
       " 210: 11,\n",
       " 853: 10,\n",
       " 596: 36,\n",
       " 800: 11,\n",
       " 888: 32,\n",
       " 448: 22,\n",
       " 200: 26,\n",
       " 87: 19,\n",
       " 274: 15,\n",
       " 7: 45,\n",
       " 848: 8,\n",
       " 994: 35,\n",
       " 883: 15,\n",
       " 852: 17,\n",
       " 917: 7,\n",
       " 358: 11,\n",
       " 436: 14,\n",
       " 376: 12,\n",
       " 780: 31,\n",
       " 695: 29,\n",
       " 747: 5,\n",
       " 170: 7,\n",
       " 431: 10,\n",
       " 127: 11,\n",
       " 815: 17,\n",
       " 598: 32,\n",
       " 180: 10,\n",
       " 650: 6,\n",
       " 866: 8,\n",
       " 792: 14,\n",
       " 813: 19,\n",
       " 726: 6,\n",
       " 482: 8,\n",
       " 932: 26,\n",
       " 268: 6,\n",
       " 384: 6,\n",
       " 708: 8,\n",
       " 873: 11,\n",
       " 730: 8,\n",
       " 538: 6,\n",
       " 865: 5,\n",
       " 385: 6,\n",
       " 759: 9,\n",
       " 155: 5,\n",
       " 234: 6,\n",
       " 58: 5,\n",
       " 337: 7,\n",
       " 307: 10}"
      ]
     },
     "execution_count": 25,
     "metadata": {},
     "output_type": "execute_result"
    }
   ],
   "source": [
    "freqs"
   ]
  },
  {
   "cell_type": "code",
   "execution_count": 244,
   "id": "442e9ea4",
   "metadata": {
    "scrolled": true
   },
   "outputs": [
    {
     "data": {
      "application/vnd.jupyter.widget-view+json": {
       "model_id": "a904ac75ec05443f99def22bcb026e39",
       "version_major": 2,
       "version_minor": 0
      },
      "text/plain": [
       "  0%|          | 0/50 [00:00<?, ?it/s]"
      ]
     },
     "metadata": {},
     "output_type": "display_data"
    },
    {
     "name": "stdout",
     "output_type": "stream",
     "text": [
      "Found 513\n",
      "75 875 875 11\n",
      "trombone trombone 11\n",
      "xxxxxxxx\n",
      "[array([875, 875, 875, 875, 875, 875, 875, 875, 875, 875, 875]), array([875, 875, 875, 875, 875, 875, 875, 875, 875, 875, 875]), array([875, 875, 875, 875, 875, 875, 875, 875, 875, 875, 875]), array([875, 875, 875, 875, 875, 875, 875, 875, 875, 875, 875]), array([875, 875, 875, 875, 875, 875, 875, 875, 875, 875, 875]), array([875, 875, 875, 875, 875, 875, 875, 875, 875, 875, 875]), array([875, 875, 875, 875, 875, 875, 875, 875, 875, 875, 875]), array([875, 875, 875, 875, 875, 875, 875, 875, 875, 875, 875]), array([875, 875, 875, 875, 875, 875, 875, 875, 875, 875, 875]), array([875, 875, 875, 875, 875, 875, 875, 875, 875, 875, 875]), array([875, 875, 875, 875, 875, 875, 875, 875, 875, 875, 875]), array([875, 875, 875, 875, 875, 875, 875, 875, 875, 875, 875]), array([875, 875, 875, 875, 875, 875, 875, 875, 875, 875, 875]), array([875, 875, 875, 875, 875, 875, 513, 875, 875, 875, 875]), array([875, 875, 875, 875, 875, 875, 513, 875, 875, 875, 875]), array([513, 875, 513, 875, 875, 875, 513, 875, 875, 875, 875]), array([513, 875, 513, 875, 875, 875, 513, 875, 875, 875, 875]), array([513, 875, 513, 875, 513, 875, 513, 875, 875, 875, 875]), array([513, 875, 513, 875, 513, 513, 513, 513, 875, 875, 875]), array([513, 875, 513, 875, 513, 513, 513, 513, 875, 513, 875]), array([513, 875, 513, 875, 513, 513, 513, 513, 513, 513, 875])]\n",
      "Found 513\n",
      "75 875 875 5\n",
      "trombone trombone 5\n",
      "xxxxxxxx\n",
      "[array([875, 513, 513, 875, 875, 875, 513, 513, 875, 513, 513]), array([875, 513, 513, 875, 875, 875, 513, 513, 875, 513, 513]), array([875, 513, 513, 875, 875, 875, 513, 513, 875, 513, 513]), array([875, 513, 513, 875, 875, 875, 513, 513, 875, 513, 513]), array([875, 513, 513, 875, 875, 875, 513, 513, 875, 513, 513]), array([875, 513, 513, 875, 875, 875, 513, 513, 875, 513, 513]), array([875, 513, 513, 875, 875, 875, 513, 513, 875, 513, 513]), array([875, 513, 513, 875, 875, 875, 513, 513, 875, 513, 513]), array([875, 513, 513, 875, 875, 875, 513, 513, 875, 513, 513]), array([875, 513, 513, 875, 875, 875, 513, 513, 875, 513, 513]), array([875, 513, 513, 875, 875, 875, 513, 513, 875, 513, 513]), array([875, 513, 513, 875, 875, 513, 513, 513, 875, 513, 513]), array([875, 513, 513, 875, 875, 513, 513, 513, 875, 513, 513]), array([875, 513, 513, 875, 875, 513, 513, 513, 875, 513, 513]), array([875, 513, 513, 875, 875, 513, 513, 513, 875, 513, 513]), array([875, 513, 513, 875, 875, 513, 513, 513, 513, 513, 513]), array([875, 513, 513, 875, 875, 513, 513, 513, 513, 513, 513]), array([875, 513, 513, 875, 875, 513, 513, 513, 513, 513, 513]), array([875, 513, 513, 875, 875, 513, 513, 513, 513, 513, 513]), array([981, 513, 513, 875, 875, 513, 513, 513, 513, 513, 513]), array([981, 566, 513, 875, 875, 513, 513, 513, 513, 513, 513])]\n",
      "Found 513\n",
      "75 513 513 11\n",
      "cornet cornet 11\n",
      "Found 513\n",
      "75 875 875 9\n",
      "trombone trombone 9\n",
      "xxxxxxxx\n",
      "[array([875, 875, 875, 875, 513, 875, 513, 513, 401, 875, 513]), array([875, 875, 875, 875, 513, 875, 513, 513, 401, 875, 513]), array([875, 875, 875, 875, 513, 875, 513, 513, 401, 875, 513]), array([875, 875, 875, 875, 513, 875, 513, 513, 401, 875, 513]), array([875, 875, 875, 875, 513, 875, 513, 513, 401, 875, 513]), array([875, 875, 875, 875, 513, 875, 513, 513, 401, 875, 513]), array([875, 875, 875, 875, 513, 875, 513, 513, 401, 875, 513]), array([875, 875, 875, 875, 513, 875, 513, 513, 401, 875, 513]), array([875, 875, 875, 875, 513, 875, 513, 875, 401, 875, 513]), array([875, 875, 875, 875, 513, 875, 513, 875, 401, 875, 513]), array([875, 875, 875, 875, 513, 875, 513, 875, 401, 875, 513]), array([875, 875, 875, 875, 513, 875, 513, 875, 401, 875, 513]), array([875, 875, 875, 875, 513, 875, 513, 875, 401, 875, 513]), array([875, 875, 875, 875, 513, 875, 513, 875, 401, 875, 513]), array([875, 875, 875, 875, 513, 875, 513, 875, 401, 875, 513]), array([875, 875, 875, 875, 513, 875, 513, 875, 875, 875, 513]), array([875, 875, 875, 875, 513, 875, 513, 875, 875, 875, 513]), array([875, 875, 875, 875, 513, 875, 513, 875, 875, 875, 513]), array([875, 875, 875, 875, 875, 875, 513, 875, 875, 875, 513]), array([875, 875, 875, 875, 875, 875, 513, 875, 875, 875, 513]), array([875, 875, 875, 875, 875, 875, 513, 875, 875, 875, 513])]\n",
      "Found 513\n",
      "75 875 875 11\n",
      "trombone trombone 11\n",
      "xxxxxxxx\n",
      "[array([875, 875, 875, 875, 875, 875, 875, 875, 875, 875, 875]), array([875, 875, 875, 875, 875, 875, 875, 875, 875, 875, 875]), array([875, 875, 875, 875, 875, 875, 875, 875, 875, 875, 875]), array([875, 875, 875, 875, 875, 875, 875, 875, 875, 875, 875]), array([875, 875, 875, 875, 875, 875, 875, 875, 875, 875, 875]), array([875, 875, 875, 875, 875, 875, 875, 875, 875, 875, 875]), array([875, 875, 875, 875, 875, 875, 875, 875, 875, 875, 875]), array([875, 875, 875, 875, 875, 875, 875, 875, 875, 875, 875]), array([875, 875, 875, 875, 875, 875, 875, 875, 875, 875, 875]), array([875, 875, 875, 875, 875, 875, 875, 875, 875, 875, 875]), array([875, 875, 875, 875, 875, 875, 875, 875, 875, 875, 875]), array([875, 875, 875, 875, 875, 875, 875, 875, 875, 875, 875]), array([875, 875, 875, 875, 875, 875, 875, 875, 875, 875, 875]), array([875, 875, 875, 875, 875, 875, 875, 875, 875, 875, 875]), array([875, 875, 875, 875, 875, 875, 875, 875, 875, 875, 875]), array([875, 875, 875, 875, 875, 875, 875, 875, 875, 875, 875]), array([875, 645, 875, 875, 875, 875, 875, 875, 875, 875, 875]), array([875, 645, 875, 875, 875, 875, 875, 875, 875, 875, 875]), array([875, 645, 875, 875, 875, 875, 875, 875, 875, 875, 875]), array([875, 645, 875, 875, 875, 875, 875, 875, 875, 699, 875]), array([875, 645, 875, 645, 823, 875, 823, 982, 875, 699, 513])]\n",
      "Found 513\n",
      "75 513 513 11\n",
      "cornet cornet 11\n",
      "Found 513\n",
      "75 776 776 4\n",
      "saxophone saxophone 4\n",
      "xxxxxxxx\n",
      "[array([776, 650, 818, 776, 650, 818, 650, 818, 776, 875, 776]), array([776, 650, 818, 776, 650, 818, 650, 818, 776, 875, 776]), array([776, 650, 818, 776, 650, 818, 650, 818, 776, 875, 776]), array([776, 650, 818, 776, 650, 818, 650, 818, 776, 875, 776]), array([776, 650, 818, 776, 650, 818, 650, 818, 776, 875, 776]), array([776, 650, 818, 650, 650, 818, 650, 818, 776, 875, 776]), array([776, 650, 818, 650, 650, 818, 650, 818, 776, 875, 776]), array([776, 650, 818, 650, 650, 818, 650, 818, 776, 875, 776]), array([776, 650, 818, 650, 650, 818, 650, 818, 776, 875, 776]), array([776, 650, 818, 650, 650, 818, 650, 818, 776, 875, 776]), array([776, 650, 818, 650, 650, 818, 650, 818, 776, 875, 776]), array([776, 650, 818, 650, 650, 818, 650, 818, 650, 875, 776]), array([776, 650, 818, 650, 650, 818, 650, 818, 650, 875, 776]), array([776, 650, 818, 650, 650, 818, 650, 818, 650, 875, 776]), array([776, 650, 818, 650, 650, 818, 650, 818, 650, 875, 776]), array([776, 650, 818, 650, 650, 818, 650, 818, 650, 683, 776]), array([513, 650, 818, 650, 650, 818, 650, 818, 650, 683, 776]), array([513, 650, 818, 650, 650, 818, 650, 818, 650, 683, 683]), array([513, 650, 818, 650, 650, 513, 650, 818, 683, 513, 683]), array([513, 650, 513, 650, 650, 513, 650, 818, 683, 513, 683]), array([513, 650, 513, 650, 650, 513, 650, 818, 683, 513, 683])]\n",
      "Found 513\n",
      "75 875 875 9\n",
      "trombone trombone 9\n",
      "xxxxxxxx\n",
      "[array([875, 566, 875, 566, 875, 875, 875, 513, 875, 875, 875]), array([875, 566, 875, 566, 875, 875, 875, 513, 875, 875, 875]), array([875, 566, 875, 566, 875, 875, 875, 513, 875, 875, 875]), array([875, 566, 875, 875, 875, 875, 875, 513, 875, 875, 875]), array([875, 566, 875, 875, 875, 875, 875, 513, 875, 875, 875]), array([875, 566, 875, 875, 875, 875, 875, 513, 513, 875, 875]), array([875, 566, 875, 875, 875, 875, 875, 513, 513, 875, 875]), array([875, 566, 875, 875, 875, 875, 875, 513, 513, 875, 875]), array([875, 566, 875, 875, 875, 875, 875, 513, 513, 875, 875]), array([875, 875, 875, 875, 875, 875, 875, 513, 513, 875, 875]), array([875, 875, 875, 875, 875, 875, 513, 513, 513, 875, 875]), array([875, 875, 875, 875, 875, 875, 513, 513, 513, 875, 875]), array([875, 875, 875, 875, 875, 875, 513, 513, 513, 875, 875]), array([875, 875, 875, 875, 875, 875, 513, 513, 513, 875, 875]), array([875, 875, 875, 875, 875, 875, 513, 513, 513, 875, 875]), array([875, 875, 875, 875, 875, 875, 513, 513, 513, 875, 875]), array([875, 875, 875, 875, 875, 875, 513, 513, 513, 875, 875]), array([875, 875, 875, 875, 875, 875, 513, 513, 513, 875, 513]), array([875, 875, 875, 513, 875, 875, 513, 513, 513, 513, 513]), array([875, 875, 875, 513, 875, 875, 513, 513, 513, 513, 513]), array([875, 875, 875, 513, 875, 875, 513, 513, 513, 513, 513])]\n",
      "Found 513\n"
     ]
    },
    {
     "name": "stdout",
     "output_type": "stream",
     "text": [
      "75 862 684 6\n",
      "torch ocarina 6\n",
      "xxxxxxxx\n",
      "[array([862, 862, 875, 862, 862, 678, 699, 678, 678, 875, 678]), array([862, 862, 875, 862, 862, 678, 699, 678, 678, 875, 678]), array([862, 862, 875, 862, 862, 678, 699, 678, 678, 875, 678]), array([862, 862, 875, 862, 862, 699, 699, 699, 678, 875, 678]), array([862, 862, 875, 862, 862, 699, 699, 699, 678, 875, 678]), array([862, 862, 875, 862, 862, 699, 699, 699, 678, 875, 678]), array([862, 862, 875, 862, 862, 699, 699, 699, 678, 875, 678]), array([862, 862, 875, 862, 862, 699, 699, 699, 678, 875, 678]), array([862, 862, 875, 862, 862, 699, 699, 699, 678, 875, 678]), array([862, 862, 875, 862, 862, 699, 699, 699, 678, 875, 678]), array([862, 862, 875, 862, 862, 699, 699, 862, 678, 875, 678]), array([862, 862, 875, 862, 875, 699, 699, 862, 862, 875, 678]), array([862, 875, 875, 862, 875, 699, 699, 862, 862, 875, 678]), array([862, 875, 875, 862, 875, 699, 699, 862, 862, 875, 678]), array([862, 875, 875, 862, 875, 699, 699, 862, 862, 875, 699]), array([862, 875, 875, 862, 875, 699, 699, 862, 862, 875, 684]), array([862, 875, 684, 862, 875, 645, 645, 513, 645, 875, 684]), array([862, 875, 684, 684, 875, 645, 645, 513, 645, 875, 684]), array([862, 875, 684, 684, 875, 645, 684, 513, 645, 875, 684]), array([684, 875, 684, 684, 875, 645, 684, 513, 645, 875, 684]), array([684, 684, 684, 684, 875, 645, 684, 513, 645, 875, 684])]\n",
      "Found 513\n",
      "75 875 513 11\n",
      "trombone cornet 11\n",
      "*********\n",
      "[array([875, 875, 875, 875, 875, 513, 875, 875, 875, 875, 875]), array([875, 875, 875, 875, 875, 513, 513, 875, 875, 875, 875]), array([875, 875, 875, 875, 875, 513, 513, 875, 875, 875, 875]), array([875, 875, 875, 875, 875, 513, 513, 875, 875, 875, 875]), array([875, 875, 875, 875, 513, 513, 513, 875, 875, 875, 875]), array([875, 875, 875, 875, 513, 513, 513, 875, 875, 875, 875]), array([875, 875, 875, 875, 513, 513, 513, 875, 875, 875, 875]), array([875, 875, 875, 875, 513, 513, 513, 875, 875, 513, 875]), array([875, 875, 875, 875, 513, 513, 513, 875, 875, 513, 875]), array([875, 875, 875, 875, 513, 513, 513, 875, 875, 513, 875]), array([875, 513, 513, 875, 513, 513, 513, 875, 875, 513, 875]), array([875, 513, 513, 513, 513, 513, 513, 875, 513, 513, 875]), array([875, 513, 513, 513, 513, 513, 513, 875, 513, 513, 875]), array([875, 513, 513, 513, 513, 513, 513, 875, 513, 513, 875]), array([513, 513, 513, 513, 513, 513, 513, 875, 513, 513, 875]), array([513, 513, 513, 513, 513, 513, 513, 513, 513, 513, 513]), array([513, 513, 513, 513, 513, 513, 513, 513, 513, 513, 513]), array([513, 513, 513, 513, 513, 513, 513, 513, 513, 513, 513]), array([513, 513, 513, 513, 513, 513, 513, 513, 513, 513, 513]), array([513, 513, 513, 513, 513, 513, 513, 513, 513, 513, 513]), array([513, 513, 513, 513, 513, 513, 513, 513, 513, 513, 513])]\n",
      "xxxxxxxx\n",
      "[array([875, 875, 875, 875, 875, 513, 875, 875, 875, 875, 875]), array([875, 875, 875, 875, 875, 513, 513, 875, 875, 875, 875]), array([875, 875, 875, 875, 875, 513, 513, 875, 875, 875, 875]), array([875, 875, 875, 875, 875, 513, 513, 875, 875, 875, 875]), array([875, 875, 875, 875, 513, 513, 513, 875, 875, 875, 875]), array([875, 875, 875, 875, 513, 513, 513, 875, 875, 875, 875]), array([875, 875, 875, 875, 513, 513, 513, 875, 875, 875, 875]), array([875, 875, 875, 875, 513, 513, 513, 875, 875, 513, 875]), array([875, 875, 875, 875, 513, 513, 513, 875, 875, 513, 875]), array([875, 875, 875, 875, 513, 513, 513, 875, 875, 513, 875]), array([875, 513, 513, 875, 513, 513, 513, 875, 875, 513, 875]), array([875, 513, 513, 513, 513, 513, 513, 875, 513, 513, 875]), array([875, 513, 513, 513, 513, 513, 513, 875, 513, 513, 875]), array([875, 513, 513, 513, 513, 513, 513, 875, 513, 513, 875]), array([513, 513, 513, 513, 513, 513, 513, 875, 513, 513, 875]), array([513, 513, 513, 513, 513, 513, 513, 513, 513, 513, 513]), array([513, 513, 513, 513, 513, 513, 513, 513, 513, 513, 513]), array([513, 513, 513, 513, 513, 513, 513, 513, 513, 513, 513]), array([513, 513, 513, 513, 513, 513, 513, 513, 513, 513, 513]), array([513, 513, 513, 513, 513, 513, 513, 513, 513, 513, 513]), array([513, 513, 513, 513, 513, 513, 513, 513, 513, 513, 513])]\n",
      "Found 513\n",
      "75 513 875 8\n",
      "cornet trombone 8\n",
      "[array([513, 875, 513, 513, 875, 875, 513, 875, 875, 513, 875]), array([513, 875, 513, 513, 875, 875, 513, 875, 875, 513, 875]), array([513, 875, 513, 513, 875, 875, 513, 875, 875, 513, 875]), array([513, 875, 513, 513, 875, 875, 513, 875, 875, 513, 875]), array([513, 875, 513, 513, 875, 875, 513, 875, 875, 513, 875]), array([513, 875, 513, 513, 875, 875, 513, 875, 875, 513, 875]), array([513, 875, 513, 513, 875, 875, 513, 875, 875, 513, 875]), array([513, 875, 513, 875, 875, 875, 513, 875, 875, 513, 875]), array([513, 875, 513, 875, 875, 875, 513, 875, 875, 513, 875]), array([513, 875, 513, 875, 875, 875, 513, 875, 875, 513, 875]), array([513, 875, 513, 875, 875, 875, 513, 875, 875, 513, 875]), array([513, 875, 513, 875, 875, 875, 513, 875, 875, 513, 875]), array([513, 875, 513, 875, 875, 875, 513, 875, 875, 513, 875]), array([513, 875, 513, 875, 875, 875, 513, 875, 875, 513, 875]), array([513, 875, 513, 875, 875, 875, 513, 875, 875, 513, 875]), array([513, 875, 513, 875, 875, 875, 513, 875, 875, 513, 875]), array([513, 875, 513, 875, 875, 875, 513, 875, 875, 513, 875]), array([875, 875, 513, 875, 875, 875, 513, 875, 875, 513, 875]), array([875, 875, 513, 875, 875, 875, 513, 875, 513, 513, 875]), array([875, 875, 513, 875, 875, 875, 513, 875, 513, 513, 875]), array([875, 875, 513, 875, 875, 875, 513, 875, 513, 875, 513])]\n",
      "Found 513\n",
      "75 550 550 8\n",
      "espresso machine espresso machine 8\n",
      "xxxxxxxx\n",
      "[array([550, 550, 550, 550, 550, 872, 447, 550, 550, 818, 550]), array([550, 550, 550, 550, 550, 872, 447, 550, 550, 818, 550]), array([550, 550, 550, 550, 550, 872, 447, 550, 550, 818, 550]), array([550, 550, 550, 550, 550, 872, 447, 550, 550, 818, 550]), array([550, 550, 550, 550, 550, 872, 447, 550, 550, 818, 550]), array([550, 550, 550, 550, 550, 503, 447, 550, 550, 447, 550]), array([550, 550, 550, 550, 550, 503, 447, 550, 550, 447, 550]), array([550, 550, 550, 550, 550, 503, 447, 550, 550, 447, 550]), array([550, 550, 550, 550, 550, 503, 447, 550, 550, 447, 550]), array([550, 550, 550, 550, 550, 503, 447, 550, 550, 447, 550]), array([550, 550, 550, 550, 550, 503, 447, 550, 550, 447, 550]), array([550, 550, 550, 550, 550, 503, 447, 550, 550, 447, 550]), array([550, 550, 550, 550, 550, 503, 447, 550, 550, 447, 875]), array([550, 550, 503, 550, 550, 503, 447, 550, 550, 447, 875]), array([550, 550, 503, 550, 550, 503, 447, 550, 550, 875, 875]), array([550, 550, 503, 550, 550, 503, 447, 550, 550, 875, 875]), array([550, 550, 503, 550, 550, 503, 447, 550, 550, 513, 875]), array([550, 550, 513, 550, 550, 503, 875, 550, 550, 513, 875]), array([550, 550, 513, 513, 550, 513, 513, 550, 550, 513, 875]), array([550, 875, 513, 513, 550, 513, 513, 758, 513, 513, 875]), array([550, 875, 513, 513, 550, 513, 513, 758, 513, 513, 875])]\n",
      "Found 513\n",
      "75 875 875 8\n",
      "trombone trombone 8\n",
      "xxxxxxxx\n",
      "[array([513, 683, 513, 875, 513, 875, 513, 513, 566, 513, 513]), array([513, 683, 513, 875, 513, 875, 513, 513, 566, 513, 513]), array([513, 683, 513, 875, 513, 875, 513, 513, 566, 513, 513]), array([513, 875, 513, 875, 513, 875, 513, 513, 566, 513, 513]), array([513, 875, 513, 875, 513, 875, 513, 513, 566, 513, 513]), array([513, 875, 513, 875, 513, 875, 513, 513, 566, 513, 513]), array([513, 875, 513, 875, 513, 875, 513, 513, 566, 513, 513]), array([513, 875, 513, 875, 513, 875, 513, 513, 566, 513, 513]), array([513, 875, 513, 875, 513, 875, 513, 513, 566, 513, 513]), array([513, 875, 513, 875, 513, 875, 513, 513, 566, 513, 513]), array([875, 875, 513, 875, 513, 875, 513, 875, 566, 513, 513]), array([875, 875, 513, 875, 513, 875, 513, 875, 566, 875, 513]), array([875, 875, 513, 875, 513, 875, 513, 875, 513, 875, 513]), array([875, 875, 513, 875, 513, 875, 513, 875, 513, 875, 513]), array([875, 875, 513, 875, 513, 875, 875, 875, 513, 875, 513]), array([875, 875, 875, 875, 513, 875, 875, 875, 513, 875, 513]), array([875, 875, 875, 875, 513, 875, 875, 875, 513, 875, 513]), array([875, 875, 875, 875, 513, 875, 875, 875, 513, 875, 513]), array([875, 875, 875, 875, 513, 875, 875, 875, 513, 875, 513]), array([819, 875, 875, 875, 875, 875, 875, 875, 513, 875, 513]), array([819, 875, 875, 875, 875, 819, 875, 819, 513, 875, 875])]\n",
      "Found 513\n"
     ]
    },
    {
     "name": "stdout",
     "output_type": "stream",
     "text": [
      "75 513 513 11\n",
      "cornet cornet 11\n",
      "Found 513\n",
      "75 439 513 11\n",
      "military hat (bearskin or shako) cornet 11\n",
      "*********\n",
      "[array([439, 875, 439, 439, 439, 439, 439, 875, 439, 875, 439]), array([439, 875, 439, 439, 439, 439, 439, 875, 439, 875, 439]), array([439, 875, 439, 439, 439, 439, 439, 875, 439, 875, 439]), array([439, 875, 439, 439, 439, 439, 439, 875, 439, 875, 439]), array([439, 875, 439, 439, 439, 439, 439, 875, 439, 875, 439]), array([439, 875, 439, 439, 439, 439, 439, 439, 439, 875, 439]), array([439, 875, 439, 439, 439, 439, 439, 439, 439, 875, 439]), array([439, 875, 439, 439, 439, 439, 439, 439, 439, 875, 439]), array([439, 875, 439, 439, 439, 439, 439, 439, 439, 875, 439]), array([439, 875, 439, 439, 439, 439, 439, 439, 439, 875, 439]), array([439, 875, 439, 439, 439, 439, 439, 439, 439, 875, 439]), array([439, 875, 439, 439, 439, 439, 439, 439, 439, 875, 439]), array([439, 875, 439, 439, 439, 439, 439, 439, 439, 875, 439]), array([439, 875, 439, 439, 439, 439, 439, 439, 439, 875, 439]), array([439, 875, 439, 513, 513, 439, 439, 513, 439, 513, 439]), array([439, 513, 439, 513, 513, 513, 439, 513, 439, 513, 513]), array([652, 513, 652, 513, 513, 513, 513, 513, 439, 513, 513]), array([513, 513, 513, 513, 513, 513, 513, 513, 439, 513, 513]), array([513, 513, 513, 513, 513, 513, 513, 513, 513, 513, 513]), array([513, 513, 513, 513, 513, 513, 513, 513, 513, 513, 513]), array([513, 513, 513, 513, 513, 513, 513, 513, 513, 513, 513])]\n",
      "xxxxxxxx\n",
      "[array([439, 875, 439, 439, 439, 439, 439, 875, 439, 875, 439]), array([439, 875, 439, 439, 439, 439, 439, 875, 439, 875, 439]), array([439, 875, 439, 439, 439, 439, 439, 875, 439, 875, 439]), array([439, 875, 439, 439, 439, 439, 439, 875, 439, 875, 439]), array([439, 875, 439, 439, 439, 439, 439, 875, 439, 875, 439]), array([439, 875, 439, 439, 439, 439, 439, 439, 439, 875, 439]), array([439, 875, 439, 439, 439, 439, 439, 439, 439, 875, 439]), array([439, 875, 439, 439, 439, 439, 439, 439, 439, 875, 439]), array([439, 875, 439, 439, 439, 439, 439, 439, 439, 875, 439]), array([439, 875, 439, 439, 439, 439, 439, 439, 439, 875, 439]), array([439, 875, 439, 439, 439, 439, 439, 439, 439, 875, 439]), array([439, 875, 439, 439, 439, 439, 439, 439, 439, 875, 439]), array([439, 875, 439, 439, 439, 439, 439, 439, 439, 875, 439]), array([439, 875, 439, 439, 439, 439, 439, 439, 439, 875, 439]), array([439, 875, 439, 513, 513, 439, 439, 513, 439, 513, 439]), array([439, 513, 439, 513, 513, 513, 439, 513, 439, 513, 513]), array([652, 513, 652, 513, 513, 513, 513, 513, 439, 513, 513]), array([513, 513, 513, 513, 513, 513, 513, 513, 439, 513, 513]), array([513, 513, 513, 513, 513, 513, 513, 513, 513, 513, 513]), array([513, 513, 513, 513, 513, 513, 513, 513, 513, 513, 513]), array([513, 513, 513, 513, 513, 513, 513, 513, 513, 513, 513])]\n",
      "Found 513\n",
      "75 513 513 11\n",
      "cornet cornet 11\n",
      "Found 513\n",
      "75 513 513 11\n",
      "cornet cornet 11\n",
      "Found 513\n",
      "75 513 513 9\n",
      "cornet cornet 9\n",
      "Found 513\n",
      "75 875 875 11\n",
      "trombone trombone 11\n",
      "xxxxxxxx\n",
      "[array([875, 875, 875, 875, 875, 875, 875, 513, 875, 875, 875]), array([875, 875, 875, 875, 875, 875, 875, 875, 875, 875, 875]), array([875, 875, 875, 875, 875, 875, 875, 875, 875, 875, 875]), array([875, 875, 875, 875, 875, 875, 875, 875, 875, 875, 875]), array([875, 875, 875, 875, 875, 875, 875, 875, 875, 875, 875]), array([875, 875, 875, 875, 875, 875, 875, 875, 875, 875, 875]), array([875, 875, 875, 875, 875, 875, 875, 875, 875, 875, 875]), array([875, 875, 875, 875, 875, 875, 875, 875, 875, 875, 875]), array([875, 875, 875, 875, 875, 875, 875, 875, 875, 875, 875]), array([875, 875, 875, 875, 875, 875, 875, 875, 875, 875, 875]), array([875, 875, 875, 875, 875, 875, 875, 875, 875, 875, 875]), array([875, 875, 875, 875, 875, 875, 875, 875, 875, 875, 875]), array([875, 875, 875, 875, 875, 875, 875, 875, 875, 875, 875]), array([875, 875, 875, 875, 875, 875, 875, 875, 875, 875, 875]), array([875, 875, 875, 875, 875, 875, 875, 875, 875, 875, 875]), array([875, 875, 875, 875, 875, 875, 875, 875, 875, 875, 875]), array([875, 875, 875, 875, 875, 875, 875, 875, 875, 875, 875]), array([875, 875, 875, 875, 875, 875, 875, 875, 875, 875, 875]), array([875, 875, 875, 875, 875, 875, 875, 875, 875, 875, 875]), array([875, 875, 875, 875, 875, 875, 875, 875, 875, 875, 875]), array([875, 875, 875, 875, 875, 875, 875, 875, 875, 875, 875])]\n",
      "Found 513\n",
      "75 513 776 7\n",
      "cornet saxophone 7\n",
      "[array([513, 513, 513, 875, 513, 875, 875, 513, 875, 875, 875]), array([513, 513, 513, 875, 513, 875, 875, 513, 875, 875, 875]), array([513, 513, 513, 875, 513, 875, 875, 513, 875, 875, 875]), array([513, 513, 513, 875, 513, 875, 875, 513, 875, 875, 875]), array([513, 513, 513, 875, 513, 875, 875, 513, 875, 875, 875]), array([513, 513, 513, 875, 513, 875, 875, 513, 875, 875, 875]), array([513, 513, 513, 875, 513, 875, 875, 513, 875, 875, 875]), array([513, 513, 513, 875, 513, 875, 875, 513, 875, 875, 875]), array([513, 513, 513, 875, 513, 875, 875, 513, 875, 875, 875]), array([513, 513, 513, 875, 513, 875, 875, 513, 875, 875, 513]), array([513, 513, 513, 875, 513, 875, 875, 513, 875, 875, 513]), array([513, 513, 513, 875, 513, 875, 875, 513, 875, 875, 513]), array([513, 776, 513, 875, 513, 875, 875, 513, 875, 875, 513]), array([513, 776, 513, 875, 513, 875, 875, 513, 875, 875, 513]), array([513, 776, 513, 875, 513, 875, 875, 513, 875, 875, 513]), array([513, 776, 513, 875, 513, 875, 875, 513, 875, 513, 513]), array([513, 776, 513, 875, 513, 875, 875, 513, 875, 513, 513]), array([513, 776, 513, 875, 513, 875, 875, 513, 776, 513, 513]), array([776, 776, 513, 875, 513, 875, 776, 513, 776, 513, 513]), array([776, 776, 513, 875, 776, 513, 776, 513, 776, 513, 513]), array([776, 776, 513, 776, 776, 513, 776, 513, 776, 776, 513])]\n",
      "Found 513\n",
      "75 875 875 11\n",
      "trombone trombone 11\n",
      "xxxxxxxx\n",
      "[array([875, 875, 875, 819, 819, 875, 819, 875, 819, 875, 819]), array([875, 875, 875, 819, 819, 875, 875, 875, 819, 875, 819]), array([875, 875, 875, 875, 819, 875, 875, 875, 819, 875, 819]), array([875, 875, 875, 875, 819, 875, 875, 875, 819, 875, 819]), array([875, 875, 875, 875, 819, 875, 875, 875, 875, 875, 819]), array([875, 875, 875, 875, 819, 875, 875, 875, 875, 875, 819]), array([875, 875, 875, 875, 875, 875, 875, 875, 875, 875, 819]), array([875, 875, 875, 875, 875, 875, 875, 875, 875, 875, 819]), array([875, 875, 875, 875, 875, 875, 875, 875, 875, 875, 819]), array([875, 875, 875, 875, 875, 875, 875, 875, 875, 875, 819]), array([875, 875, 875, 875, 875, 875, 875, 875, 875, 875, 819]), array([875, 875, 875, 875, 875, 875, 875, 875, 875, 875, 819]), array([875, 875, 875, 875, 875, 875, 875, 875, 875, 875, 819]), array([875, 875, 875, 875, 875, 875, 875, 875, 875, 875, 819]), array([875, 875, 875, 875, 875, 875, 875, 875, 875, 875, 875]), array([875, 875, 875, 875, 875, 875, 875, 875, 593, 875, 593]), array([875, 875, 875, 875, 593, 875, 875, 875, 593, 875, 593]), array([875, 875, 875, 875, 593, 875, 875, 875, 593, 875, 593]), array([875, 875, 875, 875, 593, 875, 875, 875, 593, 875, 593]), array([593, 593, 875, 875, 593, 875, 776, 875, 593, 875, 593]), array([593, 593, 776, 577, 593, 875, 776, 875, 593, 875, 593])]\n",
      "Found 513\n",
      "75 513 513 8\n",
      "cornet cornet 8\n",
      "Found 513\n",
      "75 513 513 10\n",
      "cornet cornet 10\n",
      "Found 513\n",
      "75 776 776 8\n",
      "saxophone saxophone 8\n",
      "xxxxxxxx\n",
      "[array([776, 776, 776, 776, 776, 776, 401, 776, 776, 401, 642]), array([776, 776, 776, 776, 776, 776, 401, 776, 776, 401, 642]), array([776, 776, 776, 776, 776, 776, 401, 776, 776, 401, 642]), array([776, 776, 776, 776, 776, 401, 401, 776, 776, 401, 642]), array([776, 776, 776, 776, 776, 401, 401, 776, 776, 401, 642]), array([776, 776, 776, 776, 776, 401, 401, 776, 776, 401, 642]), array([776, 776, 776, 776, 776, 401, 401, 776, 776, 401, 642]), array([776, 642, 776, 776, 776, 401, 401, 776, 776, 401, 642]), array([776, 642, 776, 776, 776, 401, 401, 776, 776, 401, 642]), array([776, 642, 776, 875, 776, 401, 642, 776, 776, 401, 642]), array([776, 642, 776, 875, 776, 401, 642, 776, 776, 401, 642]), array([776, 642, 401, 875, 593, 401, 642, 776, 776, 401, 642]), array([776, 642, 401, 875, 593, 401, 642, 776, 642, 401, 642]), array([776, 642, 593, 875, 593, 401, 642, 401, 642, 401, 642]), array([776, 642, 593, 875, 593, 401, 642, 593, 642, 401, 642]), array([776, 642, 593, 875, 593, 401, 642, 593, 642, 642, 642]), array([776, 642, 593, 875, 593, 642, 881, 593, 642, 642, 642]), array([593, 642, 593, 593, 593, 642, 881, 593, 642, 642, 642]), array([593, 642, 593, 593, 593, 642, 881, 593, 642, 881, 642]), array([699, 642, 593, 593, 593, 642, 881, 593, 642, 881, 642]), array([699, 642, 593, 593, 593, 642, 881, 593, 593, 881, 642])]\n",
      "Found 513\n"
     ]
    },
    {
     "name": "stdout",
     "output_type": "stream",
     "text": [
      "75 513 875 11\n",
      "cornet trombone 11\n",
      "[array([875, 875, 875, 875, 875, 875, 875, 875, 875, 875, 875]), array([875, 875, 875, 875, 875, 875, 875, 875, 875, 875, 875]), array([875, 875, 875, 875, 875, 875, 875, 875, 875, 875, 875]), array([875, 875, 875, 875, 875, 875, 875, 875, 875, 875, 875]), array([875, 875, 875, 875, 875, 875, 875, 875, 875, 875, 875]), array([875, 875, 875, 875, 875, 875, 875, 875, 875, 875, 875]), array([875, 875, 875, 875, 875, 875, 875, 875, 875, 875, 875]), array([875, 875, 875, 875, 875, 875, 875, 875, 875, 875, 875]), array([875, 875, 875, 875, 875, 875, 875, 875, 875, 875, 875]), array([513, 875, 875, 875, 875, 875, 875, 875, 875, 875, 875]), array([513, 875, 875, 875, 875, 875, 513, 875, 875, 875, 875]), array([513, 875, 513, 875, 875, 875, 513, 875, 875, 875, 875]), array([513, 513, 513, 875, 875, 875, 513, 875, 875, 875, 513]), array([513, 513, 513, 875, 513, 513, 513, 875, 875, 513, 513]), array([513, 513, 513, 875, 513, 513, 513, 875, 513, 513, 513]), array([513, 513, 513, 875, 513, 513, 513, 875, 513, 513, 513]), array([513, 513, 513, 875, 513, 513, 513, 513, 513, 513, 513]), array([513, 513, 513, 513, 513, 513, 513, 513, 513, 513, 513]), array([513, 513, 513, 513, 513, 513, 513, 513, 513, 513, 513]), array([513, 513, 513, 513, 513, 513, 513, 513, 513, 513, 513]), array([513, 513, 513, 513, 513, 513, 513, 513, 513, 513, 513])]\n",
      "Found 513\n",
      "75 513 513 10\n",
      "cornet cornet 10\n",
      "Found 513\n",
      "75 776 513 7\n",
      "saxophone cornet 7\n",
      "*********\n",
      "[array([776, 776, 841, 776, 875, 836, 776, 841, 439, 776, 776]), array([776, 776, 841, 776, 875, 836, 776, 841, 439, 776, 776]), array([776, 776, 841, 776, 875, 836, 776, 841, 439, 776, 776]), array([776, 776, 841, 776, 875, 836, 776, 841, 439, 776, 776]), array([776, 776, 841, 776, 875, 836, 776, 841, 439, 776, 776]), array([776, 776, 841, 776, 875, 836, 776, 841, 439, 776, 776]), array([776, 776, 841, 776, 875, 836, 776, 841, 439, 776, 776]), array([776, 776, 841, 776, 875, 836, 776, 841, 439, 776, 875]), array([776, 776, 841, 776, 875, 836, 776, 841, 439, 776, 875]), array([776, 776, 841, 776, 875, 836, 776, 841, 439, 776, 875]), array([776, 776, 841, 776, 875, 836, 776, 841, 465, 776, 875]), array([776, 776, 841, 776, 875, 836, 776, 841, 465, 776, 875]), array([776, 776, 841, 776, 875, 400, 776, 841, 465, 513, 875]), array([776, 776, 841, 776, 875, 400, 776, 841, 465, 513, 875]), array([776, 776, 841, 776, 875, 400, 776, 841, 465, 513, 875]), array([776, 513, 841, 513, 875, 400, 776, 841, 465, 513, 513]), array([776, 513, 400, 513, 875, 400, 513, 841, 465, 513, 513]), array([776, 513, 400, 513, 875, 684, 513, 699, 465, 513, 513]), array([513, 513, 400, 513, 513, 684, 513, 684, 684, 513, 513]), array([513, 513, 684, 513, 513, 684, 513, 684, 684, 513, 513]), array([513, 513, 684, 513, 513, 684, 513, 684, 684, 513, 513])]\n",
      "xxxxxxxx\n",
      "[array([776, 776, 841, 776, 875, 836, 776, 841, 439, 776, 776]), array([776, 776, 841, 776, 875, 836, 776, 841, 439, 776, 776]), array([776, 776, 841, 776, 875, 836, 776, 841, 439, 776, 776]), array([776, 776, 841, 776, 875, 836, 776, 841, 439, 776, 776]), array([776, 776, 841, 776, 875, 836, 776, 841, 439, 776, 776]), array([776, 776, 841, 776, 875, 836, 776, 841, 439, 776, 776]), array([776, 776, 841, 776, 875, 836, 776, 841, 439, 776, 776]), array([776, 776, 841, 776, 875, 836, 776, 841, 439, 776, 875]), array([776, 776, 841, 776, 875, 836, 776, 841, 439, 776, 875]), array([776, 776, 841, 776, 875, 836, 776, 841, 439, 776, 875]), array([776, 776, 841, 776, 875, 836, 776, 841, 465, 776, 875]), array([776, 776, 841, 776, 875, 836, 776, 841, 465, 776, 875]), array([776, 776, 841, 776, 875, 400, 776, 841, 465, 513, 875]), array([776, 776, 841, 776, 875, 400, 776, 841, 465, 513, 875]), array([776, 776, 841, 776, 875, 400, 776, 841, 465, 513, 875]), array([776, 513, 841, 513, 875, 400, 776, 841, 465, 513, 513]), array([776, 513, 400, 513, 875, 400, 513, 841, 465, 513, 513]), array([776, 513, 400, 513, 875, 684, 513, 699, 465, 513, 513]), array([513, 513, 400, 513, 513, 684, 513, 684, 684, 513, 513]), array([513, 513, 684, 513, 513, 684, 513, 684, 684, 513, 513]), array([513, 513, 684, 513, 513, 684, 513, 684, 684, 513, 513])]\n",
      "Found 513\n",
      "75 513 513 11\n",
      "cornet cornet 11\n",
      "Found 513\n",
      "75 875 875 10\n",
      "trombone trombone 10\n",
      "xxxxxxxx\n",
      "[array([875, 875, 875, 875, 875, 432, 875, 875, 875, 875, 875]), array([875, 875, 875, 875, 875, 432, 875, 875, 875, 875, 875]), array([875, 875, 875, 875, 875, 432, 875, 875, 875, 875, 875]), array([875, 875, 875, 875, 875, 432, 875, 875, 875, 875, 875]), array([875, 875, 875, 875, 875, 432, 875, 875, 875, 875, 875]), array([875, 875, 875, 875, 875, 432, 875, 875, 683, 875, 875]), array([875, 875, 875, 875, 875, 432, 875, 875, 683, 875, 875]), array([875, 875, 875, 875, 875, 432, 875, 875, 683, 875, 875]), array([875, 875, 875, 875, 875, 432, 875, 875, 683, 875, 875]), array([875, 875, 875, 875, 875, 432, 875, 875, 683, 875, 875]), array([875, 875, 875, 875, 875, 432, 875, 875, 683, 875, 875]), array([875, 875, 875, 875, 875, 432, 875, 875, 776, 875, 875]), array([875, 875, 875, 875, 875, 432, 875, 875, 776, 875, 875]), array([875, 875, 875, 875, 875, 432, 875, 875, 776, 875, 875]), array([875, 875, 875, 875, 875, 432, 875, 875, 776, 875, 875]), array([875, 875, 875, 875, 875, 432, 875, 875, 776, 875, 875]), array([875, 875, 875, 875, 875, 432, 875, 875, 776, 875, 875]), array([875, 875, 875, 875, 875, 401, 875, 875, 776, 875, 875]), array([875, 513, 875, 776, 875, 401, 875, 875, 776, 875, 875]), array([875, 513, 513, 513, 513, 401, 875, 875, 776, 875, 513]), array([875, 513, 513, 513, 513, 401, 875, 875, 776, 875, 513])]\n",
      "Found 513\n",
      "75 875 513 11\n",
      "trombone cornet 11\n",
      "*********\n",
      "[array([875, 875, 875, 875, 875, 513, 566, 875, 875, 875, 875]), array([875, 875, 875, 875, 875, 513, 566, 875, 875, 875, 875]), array([875, 875, 875, 875, 875, 513, 566, 875, 875, 875, 513]), array([875, 875, 875, 875, 875, 513, 566, 875, 875, 875, 513]), array([875, 875, 875, 875, 875, 513, 566, 875, 875, 875, 513]), array([875, 875, 875, 875, 875, 513, 566, 875, 875, 875, 513]), array([875, 875, 875, 875, 875, 513, 513, 875, 875, 875, 513]), array([875, 875, 875, 875, 875, 513, 513, 875, 875, 875, 513]), array([875, 875, 875, 875, 875, 513, 513, 875, 875, 875, 513]), array([875, 875, 875, 875, 513, 513, 513, 875, 875, 875, 513]), array([875, 875, 875, 875, 513, 513, 513, 875, 875, 875, 513]), array([875, 875, 875, 875, 513, 513, 513, 875, 875, 875, 513]), array([875, 875, 875, 875, 513, 513, 513, 875, 875, 875, 513]), array([875, 875, 875, 875, 513, 513, 513, 875, 875, 875, 513]), array([875, 875, 875, 875, 513, 513, 513, 875, 875, 875, 513]), array([875, 875, 875, 875, 513, 513, 513, 875, 875, 875, 513]), array([875, 875, 875, 513, 513, 513, 513, 875, 875, 875, 513]), array([875, 875, 875, 513, 513, 513, 513, 875, 875, 513, 513]), array([875, 875, 513, 513, 513, 513, 513, 875, 513, 513, 513]), array([513, 513, 513, 513, 513, 513, 513, 875, 513, 513, 513]), array([513, 513, 513, 513, 513, 513, 513, 513, 513, 513, 513])]\n",
      "xxxxxxxx\n",
      "[array([875, 875, 875, 875, 875, 513, 566, 875, 875, 875, 875]), array([875, 875, 875, 875, 875, 513, 566, 875, 875, 875, 875]), array([875, 875, 875, 875, 875, 513, 566, 875, 875, 875, 513]), array([875, 875, 875, 875, 875, 513, 566, 875, 875, 875, 513]), array([875, 875, 875, 875, 875, 513, 566, 875, 875, 875, 513]), array([875, 875, 875, 875, 875, 513, 566, 875, 875, 875, 513]), array([875, 875, 875, 875, 875, 513, 513, 875, 875, 875, 513]), array([875, 875, 875, 875, 875, 513, 513, 875, 875, 875, 513]), array([875, 875, 875, 875, 875, 513, 513, 875, 875, 875, 513]), array([875, 875, 875, 875, 513, 513, 513, 875, 875, 875, 513]), array([875, 875, 875, 875, 513, 513, 513, 875, 875, 875, 513]), array([875, 875, 875, 875, 513, 513, 513, 875, 875, 875, 513]), array([875, 875, 875, 875, 513, 513, 513, 875, 875, 875, 513]), array([875, 875, 875, 875, 513, 513, 513, 875, 875, 875, 513]), array([875, 875, 875, 875, 513, 513, 513, 875, 875, 875, 513]), array([875, 875, 875, 875, 513, 513, 513, 875, 875, 875, 513]), array([875, 875, 875, 513, 513, 513, 513, 875, 875, 875, 513]), array([875, 875, 875, 513, 513, 513, 513, 875, 875, 513, 513]), array([875, 875, 513, 513, 513, 513, 513, 875, 513, 513, 513]), array([513, 513, 513, 513, 513, 513, 513, 875, 513, 513, 513]), array([513, 513, 513, 513, 513, 513, 513, 513, 513, 513, 513])]\n",
      "Found 513\n"
     ]
    },
    {
     "name": "stdout",
     "output_type": "stream",
     "text": [
      "75 439 439 11\n",
      "military hat (bearskin or shako) military hat (bearskin or shako) 11\n",
      "xxxxxxxx\n",
      "[array([439, 439, 439, 439, 439, 439, 439, 439, 439, 439, 439]), array([439, 439, 439, 439, 439, 439, 439, 439, 439, 439, 439]), array([439, 439, 439, 439, 439, 439, 439, 439, 439, 439, 439]), array([439, 439, 439, 439, 439, 439, 439, 439, 439, 439, 439]), array([439, 439, 439, 439, 439, 439, 439, 439, 439, 439, 439]), array([439, 439, 439, 439, 439, 439, 439, 439, 439, 439, 439]), array([439, 439, 439, 439, 439, 439, 439, 439, 439, 439, 439]), array([439, 439, 439, 439, 439, 439, 439, 439, 439, 439, 439]), array([439, 439, 439, 439, 439, 439, 439, 439, 439, 439, 439]), array([439, 439, 439, 439, 439, 439, 439, 439, 439, 439, 439]), array([439, 652, 439, 652, 439, 439, 439, 439, 439, 439, 439]), array([439, 652, 439, 652, 439, 439, 439, 439, 439, 439, 439]), array([439, 652, 652, 652, 439, 439, 439, 439, 439, 439, 439]), array([439, 652, 652, 652, 439, 439, 439, 652, 439, 439, 439]), array([439, 652, 652, 652, 439, 439, 439, 652, 439, 439, 439]), array([513, 652, 652, 652, 652, 439, 439, 652, 439, 513, 439]), array([513, 652, 652, 652, 652, 439, 439, 652, 439, 513, 439]), array([513, 652, 652, 652, 652, 439, 439, 652, 439, 513, 439]), array([513, 652, 652, 652, 652, 439, 513, 652, 652, 513, 513]), array([513, 652, 652, 652, 652, 439, 513, 652, 652, 513, 513]), array([513, 652, 652, 652, 652, 439, 513, 652, 513, 513, 513])]\n",
      "Found 513\n",
      "75 513 513 11\n",
      "cornet cornet 11\n",
      "Found 513\n",
      "75 875 875 7\n",
      "trombone trombone 7\n",
      "xxxxxxxx\n",
      "[array([875, 683, 683, 513, 699, 683, 432, 875, 875, 683, 683]), array([875, 683, 683, 513, 699, 683, 432, 875, 875, 683, 683]), array([875, 683, 683, 513, 699, 683, 432, 875, 875, 683, 683]), array([875, 683, 683, 513, 699, 683, 432, 875, 875, 683, 875]), array([875, 683, 683, 513, 699, 683, 432, 875, 875, 683, 875]), array([875, 683, 683, 513, 699, 683, 432, 875, 875, 683, 875]), array([875, 683, 683, 513, 699, 683, 432, 875, 875, 683, 875]), array([875, 683, 683, 513, 699, 683, 432, 875, 875, 683, 875]), array([875, 683, 683, 513, 642, 683, 699, 875, 875, 875, 875]), array([875, 683, 683, 513, 642, 683, 699, 875, 875, 875, 875]), array([875, 683, 683, 513, 642, 683, 699, 875, 875, 875, 875]), array([875, 683, 683, 875, 642, 683, 699, 875, 875, 875, 875]), array([875, 683, 683, 875, 642, 683, 699, 875, 875, 875, 875]), array([875, 683, 683, 875, 642, 683, 699, 875, 875, 875, 875]), array([875, 513, 683, 875, 642, 875, 699, 875, 875, 875, 875]), array([875, 513, 683, 875, 642, 875, 699, 875, 875, 875, 875]), array([875, 513, 683, 875, 642, 875, 699, 875, 875, 875, 875]), array([875, 513, 699, 875, 642, 875, 699, 875, 875, 875, 875]), array([875, 513, 699, 875, 642, 642, 642, 875, 875, 875, 875]), array([875, 513, 699, 875, 642, 642, 642, 875, 875, 875, 875]), array([875, 513, 642, 875, 642, 642, 642, 875, 875, 875, 875])]\n",
      "Found 513\n",
      "75 513 513 10\n",
      "cornet cornet 10\n",
      "Found 513\n",
      "75 875 875 10\n",
      "trombone trombone 10\n",
      "xxxxxxxx\n",
      "[array([875, 875, 875, 875, 471, 776, 875, 875, 875, 875, 875]), array([875, 875, 875, 875, 471, 776, 875, 875, 875, 875, 875]), array([875, 875, 875, 875, 471, 776, 875, 875, 875, 875, 875]), array([875, 875, 875, 875, 471, 776, 875, 875, 875, 875, 875]), array([875, 875, 875, 875, 471, 776, 875, 875, 875, 875, 875]), array([875, 875, 875, 875, 471, 776, 875, 875, 875, 875, 875]), array([875, 875, 875, 875, 471, 776, 875, 875, 875, 875, 875]), array([875, 875, 875, 875, 471, 776, 875, 875, 875, 875, 875]), array([875, 875, 875, 875, 471, 776, 875, 875, 875, 875, 875]), array([875, 875, 875, 875, 471, 776, 875, 875, 875, 875, 875]), array([875, 875, 875, 875, 471, 776, 875, 875, 875, 875, 875]), array([875, 875, 875, 875, 471, 776, 875, 875, 875, 875, 875]), array([875, 875, 875, 875, 471, 776, 875, 875, 875, 875, 875]), array([875, 875, 875, 875, 471, 776, 875, 875, 875, 875, 875]), array([875, 875, 875, 875, 471, 776, 875, 875, 875, 875, 875]), array([875, 875, 875, 875, 875, 776, 875, 875, 875, 875, 875]), array([875, 875, 875, 875, 875, 776, 875, 875, 875, 875, 875]), array([875, 875, 875, 875, 875, 776, 875, 875, 875, 875, 875]), array([875, 875, 875, 875, 875, 776, 875, 875, 875, 875, 875]), array([875, 875, 875, 875, 875, 513, 875, 875, 875, 875, 875]), array([875, 875, 875, 875, 642, 513, 875, 776, 875, 875, 875])]\n",
      "Found 513\n",
      "75 513 513 11\n",
      "cornet cornet 11\n",
      "Found 513\n",
      "75 513 513 11\n",
      "cornet cornet 11\n",
      "Found 513\n",
      "75 550 550 9\n",
      "espresso machine espresso machine 9\n",
      "xxxxxxxx\n",
      "[array([550, 550, 753, 550, 494, 550, 550, 550, 550, 550, 550]), array([550, 550, 753, 550, 494, 550, 550, 550, 550, 550, 550]), array([550, 550, 753, 550, 494, 550, 550, 550, 550, 550, 550]), array([550, 550, 753, 550, 494, 550, 550, 550, 550, 550, 550]), array([550, 550, 753, 550, 494, 550, 550, 550, 550, 550, 550]), array([550, 550, 753, 550, 494, 550, 550, 550, 550, 550, 550]), array([550, 550, 753, 550, 494, 550, 550, 550, 550, 550, 550]), array([550, 550, 753, 550, 494, 550, 550, 550, 550, 550, 550]), array([550, 550, 753, 550, 494, 550, 550, 550, 550, 550, 550]), array([550, 550, 753, 550, 494, 550, 550, 550, 550, 550, 550]), array([550, 550, 753, 550, 494, 550, 550, 550, 550, 550, 550]), array([550, 550, 753, 550, 494, 550, 550, 550, 550, 550, 550]), array([550, 550, 753, 550, 494, 550, 550, 550, 550, 550, 550]), array([550, 550, 753, 550, 494, 550, 550, 550, 550, 550, 550]), array([550, 550, 494, 550, 494, 550, 550, 550, 550, 550, 550]), array([550, 550, 421, 550, 421, 550, 550, 550, 550, 550, 550]), array([550, 550, 421, 550, 421, 550, 550, 550, 550, 550, 550]), array([550, 550, 421, 550, 421, 550, 421, 550, 550, 550, 550]), array([550, 550, 421, 550, 421, 550, 421, 550, 550, 550, 758]), array([550, 421, 421, 421, 421, 550, 421, 550, 550, 550, 421]), array([550, 421, 421, 421, 421, 421, 421, 807, 550, 550, 421])]\n",
      "Found 513\n",
      "75 563 563 8\n",
      "fountain pen fountain pen 8\n",
      "xxxxxxxx\n",
      "[array([563, 507, 507, 507, 566, 507, 563, 507, 563, 507, 507]), array([563, 507, 507, 507, 566, 507, 563, 507, 563, 507, 563]), array([563, 507, 507, 507, 566, 507, 563, 507, 563, 507, 563]), array([563, 507, 507, 507, 566, 507, 563, 507, 563, 507, 563]), array([563, 507, 507, 507, 566, 507, 563, 507, 563, 507, 563]), array([563, 507, 507, 507, 566, 507, 563, 507, 563, 507, 563]), array([563, 507, 507, 507, 566, 507, 563, 507, 563, 507, 563]), array([563, 507, 507, 507, 566, 563, 563, 507, 563, 507, 563]), array([563, 507, 507, 507, 563, 563, 563, 507, 563, 507, 563]), array([563, 507, 507, 507, 563, 563, 563, 507, 563, 507, 563]), array([563, 507, 507, 878, 563, 563, 563, 507, 563, 507, 563]), array([563, 507, 507, 878, 563, 563, 563, 507, 563, 507, 563]), array([563, 507, 878, 878, 563, 563, 563, 507, 563, 507, 563]), array([563, 878, 878, 878, 563, 563, 563, 507, 563, 507, 563]), array([563, 878, 878, 878, 563, 563, 563, 507, 563, 507, 563]), array([563, 878, 878, 878, 563, 563, 563, 563, 563, 507, 563]), array([563, 563, 878, 878, 563, 563, 563, 563, 563, 878, 563]), array([563, 563, 878, 878, 563, 563, 563, 563, 563, 878, 503]), array([563, 563, 878, 878, 503, 563, 563, 563, 563, 878, 503]), array([563, 563, 878, 878, 503, 563, 563, 563, 563, 878, 503]), array([563, 563, 563, 878, 503, 563, 563, 563, 563, 563, 503])]\n",
      "Found 513\n",
      "75 792 875 5\n",
      "shovel trombone 5\n",
      "xxxxxxxx\n",
      "[array([763, 875, 587, 593, 587, 875, 845, 593, 512, 488, 512]), array([763, 875, 587, 593, 587, 875, 845, 593, 512, 488, 512]), array([763, 875, 587, 593, 587, 875, 830, 593, 512, 488, 512]), array([763, 875, 587, 593, 587, 875, 830, 593, 512, 488, 875]), array([763, 875, 587, 593, 587, 875, 830, 593, 512, 488, 875]), array([763, 875, 587, 593, 587, 875, 830, 593, 593, 488, 875]), array([763, 875, 587, 593, 587, 875, 830, 593, 593, 488, 875]), array([763, 875, 587, 593, 587, 875, 830, 593, 593, 488, 875]), array([792, 875, 587, 593, 587, 875, 830, 593, 593, 488, 875]), array([792, 875, 512, 593, 593, 875, 830, 593, 593, 488, 875]), array([792, 875, 512, 593, 593, 875, 830, 593, 593, 488, 875]), array([792, 875, 593, 593, 593, 875, 830, 593, 593, 488, 875]), array([792, 875, 593, 593, 593, 875, 830, 593, 593, 593, 875]), array([792, 875, 593, 593, 593, 875, 830, 593, 593, 593, 875]), array([792, 875, 593, 593, 593, 875, 830, 593, 593, 593, 875]), array([875, 875, 593, 593, 593, 875, 830, 593, 593, 593, 875]), array([875, 875, 593, 593, 593, 875, 593, 593, 593, 593, 875]), array([875, 875, 593, 593, 593, 875, 593, 593, 593, 593, 875]), array([875, 875, 593, 593, 593, 875, 593, 593, 593, 593, 875]), array([875, 875, 593, 593, 593, 875, 593, 593, 875, 593, 875]), array([875, 875, 593, 593, 593, 875, 593, 593, 875, 593, 875])]\n",
      "Found 513\n"
     ]
    },
    {
     "name": "stdout",
     "output_type": "stream",
     "text": [
      "75 513 875 9\n",
      "cornet trombone 9\n",
      "[array([875, 875, 875, 875, 875, 875, 566, 566, 875, 875, 875]), array([875, 875, 513, 875, 875, 875, 566, 566, 875, 875, 875]), array([875, 875, 513, 875, 875, 875, 566, 566, 875, 875, 875]), array([875, 875, 513, 875, 875, 875, 566, 566, 875, 513, 875]), array([875, 875, 513, 875, 875, 875, 566, 566, 875, 513, 875]), array([875, 875, 513, 875, 875, 875, 566, 566, 875, 513, 875]), array([875, 875, 513, 875, 875, 875, 566, 566, 875, 513, 875]), array([875, 875, 513, 875, 875, 875, 566, 566, 875, 513, 875]), array([875, 875, 513, 875, 875, 875, 566, 566, 875, 513, 875]), array([875, 875, 513, 875, 875, 875, 566, 566, 875, 513, 875]), array([875, 875, 513, 875, 875, 875, 566, 566, 875, 513, 875]), array([513, 875, 513, 875, 875, 875, 566, 566, 875, 513, 875]), array([513, 875, 513, 875, 875, 875, 566, 566, 875, 513, 875]), array([513, 875, 513, 875, 875, 875, 566, 566, 875, 513, 875]), array([513, 875, 513, 875, 875, 875, 566, 566, 875, 513, 875]), array([513, 875, 513, 875, 875, 875, 566, 566, 875, 513, 875]), array([513, 875, 513, 875, 875, 875, 566, 513, 875, 513, 875]), array([513, 875, 513, 513, 875, 875, 566, 513, 875, 513, 875]), array([513, 875, 513, 513, 875, 875, 513, 513, 875, 513, 875]), array([513, 875, 513, 513, 875, 875, 513, 513, 875, 513, 875]), array([513, 875, 513, 513, 776, 513, 513, 513, 875, 513, 776])]\n",
      "Found 513\n",
      "75 513 566 11\n",
      "cornet French horn 11\n",
      "[array([566, 566, 566, 566, 566, 566, 566, 566, 566, 566, 566]), array([566, 875, 566, 566, 566, 566, 566, 566, 566, 566, 566]), array([566, 875, 566, 566, 566, 566, 566, 566, 566, 566, 566]), array([566, 875, 566, 566, 566, 566, 566, 566, 566, 566, 566]), array([566, 875, 566, 566, 566, 566, 566, 566, 566, 566, 566]), array([566, 875, 566, 566, 566, 566, 566, 566, 566, 566, 566]), array([566, 875, 566, 566, 566, 566, 566, 566, 566, 566, 566]), array([566, 875, 566, 566, 566, 566, 566, 566, 566, 566, 566]), array([566, 875, 566, 566, 566, 566, 566, 566, 566, 566, 566]), array([566, 875, 566, 566, 566, 566, 566, 566, 566, 566, 566]), array([566, 875, 566, 566, 566, 566, 566, 566, 566, 566, 566]), array([513, 875, 566, 566, 566, 566, 566, 566, 566, 566, 566]), array([513, 875, 566, 566, 566, 566, 566, 566, 566, 566, 566]), array([513, 875, 566, 566, 566, 566, 566, 566, 566, 566, 566]), array([513, 875, 566, 566, 566, 566, 566, 566, 566, 566, 566]), array([513, 875, 566, 566, 566, 566, 566, 566, 566, 566, 566]), array([513, 875, 566, 566, 566, 566, 566, 566, 566, 513, 566]), array([513, 875, 566, 513, 566, 566, 566, 566, 566, 513, 566]), array([513, 875, 566, 513, 566, 566, 566, 566, 566, 513, 566]), array([513, 875, 566, 513, 513, 513, 566, 566, 566, 513, 566]), array([513, 875, 875, 513, 513, 513, 513, 513, 566, 513, 566])]\n",
      "Found 513\n",
      "75 513 513 8\n",
      "cornet cornet 8\n",
      "Found 513\n",
      "75 513 513 11\n",
      "cornet cornet 11\n",
      "Found 513\n",
      "75 513 875 10\n",
      "cornet trombone 10\n",
      "[array([875, 875, 875, 875, 875, 875, 875, 776, 875, 875, 875]), array([875, 875, 875, 875, 875, 875, 875, 776, 875, 875, 875]), array([875, 875, 875, 875, 875, 875, 875, 776, 875, 875, 875]), array([875, 875, 875, 875, 875, 875, 875, 776, 875, 875, 875]), array([875, 875, 875, 875, 875, 875, 875, 776, 875, 875, 875]), array([875, 875, 875, 875, 875, 875, 875, 776, 875, 875, 875]), array([875, 875, 875, 875, 875, 875, 875, 776, 875, 875, 875]), array([875, 875, 875, 875, 875, 875, 875, 776, 875, 875, 875]), array([875, 875, 875, 875, 875, 875, 875, 776, 875, 875, 875]), array([875, 875, 875, 875, 875, 875, 875, 776, 875, 875, 875]), array([875, 875, 875, 875, 875, 875, 875, 776, 875, 513, 875]), array([513, 875, 875, 875, 875, 875, 875, 776, 875, 513, 875]), array([513, 875, 875, 875, 875, 875, 875, 776, 875, 513, 875]), array([513, 875, 875, 875, 875, 875, 875, 875, 875, 513, 875]), array([513, 875, 875, 875, 875, 875, 875, 875, 875, 513, 875]), array([513, 875, 875, 875, 875, 875, 875, 875, 875, 513, 875]), array([513, 875, 875, 875, 875, 875, 875, 875, 875, 513, 875]), array([513, 875, 875, 875, 875, 875, 875, 875, 875, 513, 875]), array([513, 875, 875, 513, 875, 875, 875, 875, 875, 513, 875]), array([513, 875, 875, 513, 875, 513, 875, 513, 513, 513, 875]), array([513, 875, 875, 513, 875, 513, 875, 513, 513, 513, 875])]\n",
      "Found 513\n",
      "75 683 683 7\n",
      "oboe oboe 7\n",
      "xxxxxxxx\n",
      "[array([683, 776, 432, 683, 683, 683, 683, 566, 683, 872, 451]), array([683, 776, 432, 683, 683, 683, 683, 566, 683, 872, 451]), array([683, 776, 432, 683, 683, 683, 683, 566, 683, 872, 451]), array([683, 776, 432, 683, 683, 683, 683, 566, 683, 872, 451]), array([683, 776, 432, 683, 683, 683, 683, 566, 683, 872, 451]), array([683, 776, 432, 683, 683, 683, 683, 566, 683, 401, 451]), array([683, 776, 432, 683, 683, 683, 683, 566, 683, 401, 451]), array([683, 776, 432, 683, 683, 683, 683, 566, 683, 401, 451]), array([683, 683, 432, 683, 683, 683, 683, 566, 683, 401, 451]), array([683, 683, 432, 683, 683, 683, 683, 566, 683, 401, 451]), array([683, 683, 432, 683, 683, 683, 683, 566, 683, 451, 451]), array([683, 683, 432, 683, 683, 683, 683, 566, 683, 451, 451]), array([683, 683, 432, 683, 683, 683, 683, 566, 683, 451, 486]), array([683, 683, 432, 683, 683, 683, 683, 566, 683, 474, 486]), array([513, 683, 432, 683, 683, 683, 683, 566, 683, 474, 486]), array([513, 513, 432, 683, 683, 683, 683, 566, 683, 474, 486]), array([513, 513, 432, 683, 683, 683, 683, 566, 683, 474, 486]), array([513, 513, 432, 683, 683, 683, 513, 566, 683, 474, 486]), array([513, 513, 513, 875, 683, 683, 513, 566, 875, 474, 486]), array([513, 513, 513, 875, 683, 683, 513, 875, 875, 474, 486]), array([513, 513, 513, 875, 683, 683, 513, 875, 875, 474, 486])]\n",
      "Found 513\n",
      "75 513 513 10\n",
      "cornet cornet 10\n",
      "Found 513\n",
      "75 513 513 11\n",
      "cornet cornet 11\n",
      "Found 513\n",
      "75 875 875 11\n",
      "trombone trombone 11\n",
      "xxxxxxxx\n",
      "[array([875, 875, 875, 875, 875, 875, 862, 875, 875, 875, 875]), array([875, 875, 875, 875, 875, 875, 862, 875, 875, 875, 875]), array([875, 875, 875, 875, 875, 875, 862, 875, 875, 875, 875]), array([875, 875, 875, 875, 875, 875, 862, 875, 875, 875, 875]), array([875, 875, 875, 875, 875, 875, 862, 875, 875, 875, 875]), array([875, 875, 875, 875, 875, 875, 862, 875, 875, 875, 875]), array([875, 875, 875, 875, 875, 875, 862, 875, 875, 875, 875]), array([875, 875, 875, 875, 875, 875, 862, 875, 875, 875, 875]), array([875, 875, 875, 875, 875, 875, 862, 875, 875, 875, 875]), array([875, 875, 875, 875, 875, 875, 862, 875, 875, 875, 875]), array([875, 875, 875, 875, 875, 875, 862, 875, 875, 875, 875]), array([875, 875, 875, 875, 875, 875, 862, 875, 875, 875, 875]), array([875, 875, 875, 875, 875, 875, 862, 875, 875, 875, 875]), array([875, 875, 875, 875, 875, 875, 862, 875, 875, 875, 875]), array([875, 875, 875, 875, 875, 875, 875, 875, 875, 875, 875]), array([875, 875, 875, 875, 875, 875, 875, 875, 875, 875, 875]), array([875, 875, 513, 875, 875, 875, 875, 875, 875, 875, 875]), array([875, 875, 513, 875, 875, 875, 875, 875, 875, 875, 875]), array([875, 875, 513, 875, 875, 513, 875, 875, 875, 875, 875]), array([875, 513, 513, 875, 513, 513, 513, 513, 875, 875, 875]), array([513, 513, 513, 875, 513, 513, 513, 513, 513, 513, 875])]\n",
      "Found 513\n",
      "75 513 513 11\n",
      "cornet cornet 11\n",
      "0.48 46.0\n"
     ]
    }
   ],
   "source": [
    "l = 0\n",
    "\n",
    "cropped_ims = []\n",
    "cropped_im_labels = []\n",
    "cropped_im_ind_labels = []\n",
    "mixed_clf = pickle.load(open(\"results_sklearn/config_convex_comb_1/13-Sep-2022-00-50-56/final_model.sav\", 'rb'))\n",
    "from scipy import stats\n",
    "\n",
    "total_acc = np.zeros(1000)\n",
    "for im, label, _, path in tqdm(dataset_test):\n",
    "    for k in range(len(im)):\n",
    "        cropped_ims = []\n",
    "        cropped_im_labels = []\n",
    "        if label[k].item() == l:\n",
    "            print(f\"Found {l}\")\n",
    "            curr_im = im[k]\n",
    "            cropped_ims.append(curr_im)\n",
    "            cropped_im_labels.append(label[k].item())\n",
    "            cropped_ims.append(t1(curr_im))\n",
    "            cropped_im_labels.append(label[k].item())\n",
    "            cropped_ims.append(t2(curr_im))\n",
    "            cropped_im_labels.append(label[k].item())\n",
    "            cropped_ims.append(t3(curr_im))\n",
    "            cropped_im_labels.append(label[k].item())\n",
    "            cropped_ims.append(t4(curr_im))\n",
    "            cropped_im_labels.append(label[k].item())\n",
    "#             for j in range(10):\n",
    "#                 t = t1(curr_im)\n",
    "#                 cropped_ims.append(t)\n",
    "#                 cropped_im_labels.append(label[k].item())\n",
    "            cropped_ims = torch.stack(cropped_ims)\n",
    "            with torch.no_grad():\n",
    "                x = visual_model(cropped_ims.half()).float()\n",
    "                x = x / x.norm(dim=-1, keepdim=True)\n",
    "            final_pred = []\n",
    "            best_agreement = 0\n",
    "            default_pred = 0\n",
    "            all_coef_preds = []\n",
    "            all_coef_pred_probas = []\n",
    "            for ii in range(0, 21):\n",
    "                i = ii/20.0\n",
    "                mixed_clf.coef_ = i*text_only_balanced_clf.coef_ + (1-i)*image_only_clf_oversampled.coef_\n",
    "                mixed_clf.intercept_ = i*text_only_balanced_clf.intercept_ + (1-i)*image_only_clf_oversampled.intercept_\n",
    "                probas = mixed_clf.predict_proba(x.cpu().detach().numpy())\n",
    "                preds = mixed_clf.predict(x.cpu().detach().numpy())\n",
    "                all_coef_preds.append(preds)\n",
    "                all_coef_pred_probas.append(np.var(probas))\n",
    "                if i == 0.65:\n",
    "                    default_pred = preds[0]\n",
    "                mode = preds[0]\n",
    "                agreement = preds == mode\n",
    "#                 agreement = agreement\n",
    "                agreement = np.sum(agreement)\n",
    "                if agreement > best_agreement:\n",
    "                    final_pred = [ii]\n",
    "                    best_agreement = agreement\n",
    "                if agreement == best_agreement:\n",
    "                    final_pred.append(ii)\n",
    "                    best_agreement = agreement\n",
    "            if len(final_pred) == 1:\n",
    "                final_pred = all_coef_preds[final_pred[0]][0]\n",
    "            else:\n",
    "                pred_ii = int(np.mean(final_pred))\n",
    "                final_pred = all_coef_preds[pred_ii][0]\n",
    "            print(freqs[label[k].item()], default_pred, final_pred, best_agreement)\n",
    "            print(CLASSES[default_pred], CLASSES[final_pred], best_agreement)\n",
    "            if final_pred == label[k].item():\n",
    "                total_acc[label[k].item()] +=1\n",
    "                if default_pred != label[k].item():\n",
    "                    print(\"*********\")\n",
    "                    print(all_coef_preds)\n",
    "            elif default_pred == label[k].item():\n",
    "                print(all_coef_preds)\n",
    "            if default_pred != label[k].item():\n",
    "                print(\"xxxxxxxx\")\n",
    "                print(all_coef_preds)\n",
    "#                 print(np.round(all_coef_pred_probas,6))\n",
    "                \n",
    "\n",
    "print(cwa[l], total_acc[l]*2)"
   ]
  },
  {
   "cell_type": "code",
   "execution_count": 201,
   "id": "c5003799",
   "metadata": {},
   "outputs": [
    {
     "data": {
      "application/vnd.jupyter.widget-view+json": {
       "model_id": "f9a0ccd221644c77af103309148fbf76",
       "version_major": 2,
       "version_minor": 0
      },
      "text/plain": [
       "0it [00:00, ?it/s]"
      ]
     },
     "metadata": {},
     "output_type": "display_data"
    },
    {
     "data": {
      "text/plain": [
       "(1000, 1024)"
      ]
     },
     "execution_count": 201,
     "metadata": {},
     "output_type": "execute_result"
    }
   ],
   "source": [
    "# Generate training text and image average prototypes\n",
    "\n",
    "# image \n",
    "\n",
    "image_prototypes = np.zeros((1000, 1024))\n",
    "c = np.zeros(1000)\n",
    "\n",
    "for i,l in tqdm(enumerate(labels_train)):\n",
    "    image_prototypes[l,:] =  image_prototypes[l,:] + image_embeddings_train[i,:].numpy()\n",
    "    c[l] +=1\n",
    "    \n",
    "for i in range(1000):\n",
    "    image_prototypes[i,:] /= c[i]\n",
    "image_prototypes.shape"
   ]
  },
  {
   "cell_type": "code",
   "execution_count": 202,
   "id": "aa131ef5",
   "metadata": {},
   "outputs": [
    {
     "data": {
      "text/plain": [
       "torch.Size([1000, 1024])"
      ]
     },
     "execution_count": 202,
     "metadata": {},
     "output_type": "execute_result"
    }
   ],
   "source": [
    "text_embs.shape"
   ]
  },
  {
   "cell_type": "code",
   "execution_count": 218,
   "id": "5ebe6a57",
   "metadata": {},
   "outputs": [
    {
     "data": {
      "text/plain": [
       "(1, 1000)"
      ]
     },
     "execution_count": 218,
     "metadata": {},
     "output_type": "execute_result"
    }
   ],
   "source": [
    "import sklearn\n",
    "out = sklearn.metrics.pairwise.cosine_similarity(x[0].unsqueeze(0).cpu().detach().numpy(), image_prototypes, dense_output=True)\n",
    "out.shape"
   ]
  },
  {
   "cell_type": "code",
   "execution_count": 221,
   "id": "990c60ac",
   "metadata": {},
   "outputs": [
    {
     "data": {
      "text/plain": [
       "array([6, 2, 3, 4])"
      ]
     },
     "execution_count": 221,
     "metadata": {},
     "output_type": "execute_result"
    }
   ],
   "source": [
    "np.argpartition(out[0], -4)[-4:]"
   ]
  },
  {
   "cell_type": "code",
   "execution_count": 225,
   "id": "4634421e",
   "metadata": {},
   "outputs": [
    {
     "data": {
      "text/plain": [
       "array([0.82806292, 0.8853344 , 0.89792031, 0.9042871 ])"
      ]
     },
     "execution_count": 225,
     "metadata": {},
     "output_type": "execute_result"
    }
   ],
   "source": [
    "out[0][np.array([6, 2, 3, 4])]"
   ]
  },
  {
   "cell_type": "code",
   "execution_count": 227,
   "id": "28ef0dca",
   "metadata": {},
   "outputs": [
    {
     "data": {
      "text/plain": [
       "(1, 1000)"
      ]
     },
     "execution_count": 227,
     "metadata": {},
     "output_type": "execute_result"
    }
   ],
   "source": [
    "out = sklearn.metrics.pairwise.cosine_similarity(x[0].unsqueeze(0).cpu().detach().numpy(), text_embs.cpu().detach().numpy(), dense_output=True)\n",
    "out.shape"
   ]
  },
  {
   "cell_type": "code",
   "execution_count": 228,
   "id": "a121f9df",
   "metadata": {},
   "outputs": [
    {
     "data": {
      "text/plain": [
       "array([389, 394,   3,   4])"
      ]
     },
     "execution_count": 228,
     "metadata": {},
     "output_type": "execute_result"
    }
   ],
   "source": [
    "np.argpartition(out[0], -4)[-4:]"
   ]
  },
  {
   "cell_type": "code",
   "execution_count": 229,
   "id": "34bab5b0",
   "metadata": {},
   "outputs": [
    {
     "data": {
      "text/plain": [
       "array([0.19264835, 0.23104969, 0.24819319, 0.25063   ], dtype=float32)"
      ]
     },
     "execution_count": 229,
     "metadata": {},
     "output_type": "execute_result"
    }
   ],
   "source": [
    "out[0][np.array([6, 2, 3, 4])]"
   ]
  },
  {
   "cell_type": "code",
   "execution_count": 232,
   "id": "351ae82d",
   "metadata": {},
   "outputs": [
    {
     "data": {
      "text/plain": [
       "array([0.24061828, 0.25003806, 0.25436154, 0.25498212])"
      ]
     },
     "execution_count": 232,
     "metadata": {},
     "output_type": "execute_result"
    }
   ],
   "source": [
    "import scipy\n",
    "scipy.special.softmax([0.19264835, 0.23104969, 0.24819319, 0.25063   ])"
   ]
  },
  {
   "cell_type": "code",
   "execution_count": 233,
   "id": "0eb775bb",
   "metadata": {},
   "outputs": [
    {
     "data": {
      "text/plain": [
       "array([0.23750132, 0.25150042, 0.25468578, 0.25631249])"
      ]
     },
     "execution_count": 233,
     "metadata": {},
     "output_type": "execute_result"
    }
   ],
   "source": [
    "scipy.special.softmax([0.82806292, 0.8853344 , 0.89792031, 0.9042871 ])"
   ]
  },
  {
   "cell_type": "code",
   "execution_count": 240,
   "id": "b2eec033",
   "metadata": {},
   "outputs": [
    {
     "data": {
      "text/plain": [
       "(array([  7,  32,  35,  36,  41,  46,  54,  55,  58,  59,  60,  62,  65,\n",
       "         66,  68,  73, 110, 120, 124, 125, 151, 152, 155, 158, 163, 165,\n",
       "        166, 167, 170, 171, 175, 180, 184, 187, 189, 192, 193, 196, 197,\n",
       "        199, 200, 202, 204, 210, 211, 212, 217, 223, 226, 229, 231, 233,\n",
       "        234, 235, 236, 237, 238, 241, 246, 248, 256, 257, 265, 266, 267,\n",
       "        269, 271, 272, 277, 282, 302, 303, 312, 328, 345, 349, 356, 358,\n",
       "        360, 374, 380, 381, 384, 385, 389, 409, 431, 434, 436, 438, 445,\n",
       "        446, 455, 459, 461, 463, 469, 479, 482, 488, 489, 491, 493, 494,\n",
       "        499, 501, 504, 505, 507, 513, 516, 523, 527, 538, 541, 542, 544,\n",
       "        556, 558, 567, 572, 579, 584, 587, 590, 596, 600, 606, 615, 618,\n",
       "        620, 623, 632, 633, 638, 648, 650, 651, 653, 656, 657, 664, 670,\n",
       "        673, 676, 677, 680, 681, 689, 691, 696, 700, 702, 705, 708, 710,\n",
       "        718, 725, 726, 728, 729, 730, 731, 733, 735, 740, 741, 742, 744,\n",
       "        747, 748, 749, 750, 759, 764, 767, 771, 772, 776, 778, 782, 784,\n",
       "        790, 792, 799, 804, 810, 813, 818, 823, 824, 828, 836, 837, 838,\n",
       "        840, 842, 845, 848, 859, 860, 861, 865, 866, 868, 869, 876, 883,\n",
       "        885, 887, 899, 902, 905, 906, 908, 909, 911, 923, 947, 961, 968,\n",
       "        970, 998, 999]),)"
      ]
     },
     "execution_count": 240,
     "metadata": {},
     "output_type": "execute_result"
    }
   ],
   "source": [
    "np.where(cwa < .50)"
   ]
  },
  {
   "cell_type": "code",
   "execution_count": 237,
   "id": "723ddf3e",
   "metadata": {},
   "outputs": [
    {
     "data": {
      "text/plain": [
       "0.0"
      ]
     },
     "execution_count": 237,
     "metadata": {},
     "output_type": "execute_result"
    }
   ],
   "source": [
    "cwa[155]"
   ]
  },
  {
   "cell_type": "markdown",
   "id": "323bf6d2",
   "metadata": {},
   "source": [
    "Zero Shot K"
   ]
  },
  {
   "cell_type": "code",
   "execution_count": 248,
   "id": "d81833cb",
   "metadata": {},
   "outputs": [],
   "source": [
    "import sklearn \n",
    "pairwise_cs_train = sklearn.metrics.pairwise.cosine_similarity(image_embeddings_train.cpu(), text_embs.cpu())"
   ]
  },
  {
   "cell_type": "code",
   "execution_count": 249,
   "id": "a201d33b",
   "metadata": {},
   "outputs": [],
   "source": [
    "pairwise_cs_val = sklearn.metrics.pairwise.cosine_similarity(image_embeddings_val.cpu(), text_embs.cpu())"
   ]
  },
  {
   "cell_type": "code",
   "execution_count": 250,
   "id": "2bda8b8e",
   "metadata": {},
   "outputs": [
    {
     "data": {
      "text/plain": [
       "0.5874"
      ]
     },
     "execution_count": 250,
     "metadata": {},
     "output_type": "execute_result"
    }
   ],
   "source": [
    "def top_k_acc(pairwise_cs, k, labels):\n",
    "    indices = (-torch.tensor(pairwise_cs).softmax(dim=-1).numpy()).argsort(axis=-1)[:, :k]\n",
    "    acc = 0\n",
    "    for i in range(indices.shape[0]):\n",
    "        if labels[i].item() in indices[i]:\n",
    "            acc +=1.0\n",
    "    acc/= indices.shape[0]\n",
    "    return acc\n",
    "top_k_acc(pairwise_cs_val, 1, labels_val)"
   ]
  },
  {
   "cell_type": "code",
   "execution_count": 393,
   "id": "11155bd9",
   "metadata": {},
   "outputs": [],
   "source": [
    "lams_val = np.zeros(1000)\n",
    "indices = (-torch.tensor(pairwise_cs_val).softmax(dim=-1).numpy()).argsort(axis=-1)[:, :1]\n",
    "for i in range(indices.shape[0]):\n",
    "    if labels_val[i].item() in indices[i]:\n",
    "        lams_val[labels_val[i].item()] +=1"
   ]
  },
  {
   "cell_type": "code",
   "execution_count": 395,
   "id": "8c353052",
   "metadata": {},
   "outputs": [
    {
     "data": {
      "text/plain": [
       "array([0.  , 0.  , 0.75, 0.  , 0.75, 0.75, 0.75, 0.  , 0.  , 0.  , 0.  ,\n",
       "       0.  , 0.  , 0.  , 0.  , 0.  , 0.  , 0.  , 0.  , 0.  , 0.  , 0.  ,\n",
       "       0.  , 0.75, 0.  , 0.  , 0.75, 0.  , 0.  , 0.  , 0.  , 0.  , 0.  ,\n",
       "       0.  , 0.  , 0.  , 0.75, 0.  , 0.75, 0.  , 0.  , 0.75, 0.  , 0.  ,\n",
       "       0.  , 0.  , 0.75, 0.75, 0.  , 0.  , 0.  , 0.  , 0.75, 0.75, 0.75,\n",
       "       0.75, 0.  , 0.  , 0.  , 0.75, 0.75, 0.  , 0.75, 0.75, 0.  , 0.75,\n",
       "       0.75, 0.75, 0.75, 0.  , 0.  , 0.  , 0.75, 0.75, 0.  , 0.  , 0.  ,\n",
       "       0.  , 0.  , 0.  , 0.  , 0.  , 0.75, 0.75, 0.  , 0.  , 0.  , 0.  ,\n",
       "       0.  , 0.  , 0.  , 0.  , 0.  , 0.  , 0.  , 0.  , 0.  , 0.  , 0.  ,\n",
       "       0.  , 0.  , 0.75, 0.  , 0.75, 0.  , 0.  , 0.  , 0.  , 0.  , 0.  ,\n",
       "       0.  , 0.75, 0.75, 0.75, 0.75, 0.  , 0.  , 0.  , 0.  , 0.75, 0.  ,\n",
       "       0.75, 0.75, 0.  , 0.  , 0.  , 0.75, 0.  , 0.  , 0.  , 0.  , 0.  ,\n",
       "       0.  , 0.  , 0.75, 0.  , 0.  , 0.  , 0.  , 0.  , 0.  , 0.  , 0.  ,\n",
       "       0.  , 0.  , 0.  , 0.  , 0.  , 0.  , 0.  , 0.  , 0.  , 0.  , 0.  ,\n",
       "       0.75, 0.75, 0.75, 0.  , 0.75, 0.  , 0.75, 0.75, 0.75, 0.75, 0.  ,\n",
       "       0.75, 0.  , 0.75, 0.75, 0.75, 0.75, 0.75, 0.75, 0.75, 0.  , 0.75,\n",
       "       0.  , 0.75, 0.  , 0.75, 0.  , 0.  , 0.  , 0.  , 0.75, 0.75, 0.75,\n",
       "       0.75, 0.  , 0.75, 0.  , 0.  , 0.75, 0.75, 0.  , 0.  , 0.75, 0.75,\n",
       "       0.75, 0.  , 0.75, 0.75, 0.75, 0.  , 0.  , 0.  , 0.75, 0.75, 0.  ,\n",
       "       0.  , 0.  , 0.75, 0.  , 0.  , 0.  , 0.75, 0.75, 0.  , 0.  , 0.75,\n",
       "       0.75, 0.75, 0.  , 0.  , 0.75, 0.  , 0.75, 0.75, 0.75, 0.75, 0.  ,\n",
       "       0.75, 0.  , 0.75, 0.75, 0.75, 0.75, 0.  , 0.75, 0.  , 0.75, 0.75,\n",
       "       0.75, 0.  , 0.75, 0.  , 0.75, 0.  , 0.75, 0.  , 0.75, 0.  , 0.  ,\n",
       "       0.  , 0.  , 0.  , 0.75, 0.75, 0.  , 0.  , 0.  , 0.  , 0.75, 0.  ,\n",
       "       0.  , 0.75, 0.75, 0.75, 0.75, 0.75, 0.75, 0.75, 0.  , 0.  , 0.  ,\n",
       "       0.  , 0.  , 0.  , 0.75, 0.75, 0.  , 0.  , 0.75, 0.  , 0.  , 0.75,\n",
       "       0.  , 0.75, 0.75, 0.  , 0.  , 0.  , 0.  , 0.  , 0.  , 0.  , 0.  ,\n",
       "       0.  , 0.  , 0.  , 0.75, 0.  , 0.75, 0.  , 0.75, 0.  , 0.75, 0.  ,\n",
       "       0.  , 0.  , 0.75, 0.75, 0.75, 0.  , 0.  , 0.75, 0.  , 0.  , 0.  ,\n",
       "       0.  , 0.  , 0.  , 0.  , 0.  , 0.  , 0.  , 0.75, 0.  , 0.  , 0.  ,\n",
       "       0.  , 0.75, 0.  , 0.  , 0.  , 0.  , 0.  , 0.75, 0.  , 0.  , 0.  ,\n",
       "       0.75, 0.75, 0.  , 0.  , 0.75, 0.  , 0.  , 0.  , 0.  , 0.  , 0.  ,\n",
       "       0.75, 0.  , 0.  , 0.  , 0.75, 0.  , 0.  , 0.75, 0.75, 0.  , 0.  ,\n",
       "       0.  , 0.  , 0.  , 0.  , 0.  , 0.75, 0.  , 0.75, 0.75, 0.75, 0.  ,\n",
       "       0.75, 0.75, 0.  , 0.  , 0.  , 0.75, 0.75, 0.75, 0.  , 0.  , 0.75,\n",
       "       0.75, 0.75, 0.  , 0.  , 0.75, 0.75, 0.  , 0.75, 0.  , 0.75, 0.75,\n",
       "       0.  , 0.  , 0.  , 0.  , 0.  , 0.  , 0.  , 0.  , 0.  , 0.  , 0.  ,\n",
       "       0.  , 0.  , 0.75, 0.  , 0.  , 0.75, 0.  , 0.  , 0.  , 0.75, 0.75,\n",
       "       0.75, 0.75, 0.  , 0.75, 0.  , 0.  , 0.  , 0.  , 0.  , 0.  , 0.75,\n",
       "       0.  , 0.  , 0.  , 0.75, 0.  , 0.75, 0.75, 0.  , 0.  , 0.75, 0.  ,\n",
       "       0.  , 0.  , 0.  , 0.  , 0.  , 0.75, 0.75, 0.75, 0.  , 0.  , 0.  ,\n",
       "       0.75, 0.  , 0.  , 0.  , 0.75, 0.75, 0.75, 0.  , 0.75, 0.  , 0.75,\n",
       "       0.75, 0.75, 0.75, 0.  , 0.  , 0.  , 0.  , 0.75, 0.75, 0.75, 0.  ,\n",
       "       0.75, 0.  , 0.  , 0.  , 0.  , 0.  , 0.  , 0.  , 0.75, 0.75, 0.  ,\n",
       "       0.  , 0.  , 0.  , 0.  , 0.75, 0.  , 0.75, 0.75, 0.  , 0.  , 0.75,\n",
       "       0.75, 0.  , 0.  , 0.75, 0.75, 0.  , 0.75, 0.75, 0.  , 0.  , 0.75,\n",
       "       0.75, 0.75, 0.  , 0.  , 0.  , 0.  , 0.75, 0.  , 0.  , 0.  , 0.75,\n",
       "       0.75, 0.  , 0.75, 0.  , 0.  , 0.  , 0.75, 0.  , 0.  , 0.75, 0.75,\n",
       "       0.  , 0.75, 0.  , 0.  , 0.  , 0.  , 0.75, 0.  , 0.75, 0.  , 0.  ,\n",
       "       0.  , 0.  , 0.75, 0.75, 0.75, 0.  , 0.75, 0.  , 0.  , 0.  , 0.75,\n",
       "       0.75, 0.  , 0.  , 0.75, 0.  , 0.  , 0.75, 0.  , 0.75, 0.75, 0.  ,\n",
       "       0.  , 0.  , 0.  , 0.  , 0.  , 0.  , 0.75, 0.  , 0.75, 0.  , 0.  ,\n",
       "       0.  , 0.  , 0.  , 0.  , 0.  , 0.75, 0.75, 0.  , 0.  , 0.75, 0.  ,\n",
       "       0.75, 0.75, 0.  , 0.  , 0.75, 0.75, 0.  , 0.75, 0.  , 0.75, 0.  ,\n",
       "       0.  , 0.75, 0.75, 0.  , 0.  , 0.  , 0.75, 0.75, 0.  , 0.  , 0.75,\n",
       "       0.  , 0.75, 0.  , 0.  , 0.75, 0.  , 0.  , 0.75, 0.  , 0.  , 0.75,\n",
       "       0.75, 0.  , 0.75, 0.75, 0.75, 0.  , 0.  , 0.75, 0.  , 0.  , 0.75,\n",
       "       0.  , 0.  , 0.  , 0.  , 0.75, 0.75, 0.75, 0.  , 0.75, 0.75, 0.75,\n",
       "       0.75, 0.  , 0.  , 0.75, 0.  , 0.  , 0.75, 0.  , 0.  , 0.75, 0.75,\n",
       "       0.  , 0.75, 0.75, 0.  , 0.75, 0.  , 0.  , 0.75, 0.75, 0.75, 0.75,\n",
       "       0.  , 0.  , 0.75, 0.75, 0.75, 0.  , 0.75, 0.75, 0.  , 0.  , 0.75,\n",
       "       0.  , 0.  , 0.75, 0.  , 0.75, 0.75, 0.75, 0.  , 0.  , 0.75, 0.75,\n",
       "       0.  , 0.75, 0.75, 0.  , 0.75, 0.  , 0.  , 0.75, 0.  , 0.75, 0.  ,\n",
       "       0.75, 0.  , 0.  , 0.75, 0.  , 0.  , 0.  , 0.75, 0.  , 0.75, 0.  ,\n",
       "       0.  , 0.75, 0.  , 0.  , 0.  , 0.75, 0.75, 0.  , 0.  , 0.  , 0.  ,\n",
       "       0.  , 0.  , 0.  , 0.75, 0.  , 0.75, 0.75, 0.75, 0.75, 0.  , 0.75,\n",
       "       0.  , 0.  , 0.  , 0.75, 0.75, 0.75, 0.  , 0.75, 0.  , 0.  , 0.  ,\n",
       "       0.75, 0.75, 0.  , 0.  , 0.  , 0.75, 0.  , 0.75, 0.75, 0.  , 0.  ,\n",
       "       0.75, 0.75, 0.75, 0.  , 0.  , 0.75, 0.75, 0.  , 0.75, 0.  , 0.  ,\n",
       "       0.  , 0.  , 0.75, 0.  , 0.  , 0.75, 0.  , 0.75, 0.75, 0.  , 0.75,\n",
       "       0.  , 0.75, 0.75, 0.75, 0.75, 0.  , 0.75, 0.75, 0.75, 0.  , 0.  ,\n",
       "       0.  , 0.75, 0.75, 0.75, 0.75, 0.  , 0.75, 0.  , 0.  , 0.75, 0.  ,\n",
       "       0.75, 0.  , 0.75, 0.  , 0.  , 0.  , 0.  , 0.75, 0.  , 0.  , 0.  ,\n",
       "       0.  , 0.  , 0.  , 0.75, 0.  , 0.  , 0.75, 0.75, 0.75, 0.  , 0.75,\n",
       "       0.75, 0.  , 0.75, 0.75, 0.75, 0.  , 0.  , 0.75, 0.  , 0.  , 0.75,\n",
       "       0.  , 0.75, 0.  , 0.75, 0.  , 0.  , 0.75, 0.  , 0.  , 0.75, 0.  ,\n",
       "       0.75, 0.75, 0.75, 0.  , 0.75, 0.  , 0.  , 0.  , 0.75, 0.  , 0.75,\n",
       "       0.  , 0.75, 0.  , 0.  , 0.75, 0.  , 0.  , 0.75, 0.75, 0.  , 0.  ,\n",
       "       0.  , 0.75, 0.  , 0.  , 0.  , 0.  , 0.75, 0.  , 0.75, 0.  , 0.75,\n",
       "       0.  , 0.75, 0.  , 0.  , 0.  , 0.  , 0.75, 0.75, 0.75, 0.  , 0.75,\n",
       "       0.  , 0.  , 0.  , 0.  , 0.  , 0.75, 0.  , 0.  , 0.  , 0.75, 0.  ,\n",
       "       0.75, 0.  , 0.75, 0.75, 0.  , 0.75, 0.  , 0.75, 0.75, 0.  , 0.  ,\n",
       "       0.75, 0.  , 0.75, 0.75, 0.  , 0.  , 0.  , 0.75, 0.75, 0.75, 0.75,\n",
       "       0.  , 0.75, 0.  , 0.  , 0.  , 0.  , 0.  , 0.  , 0.  , 0.  , 0.75,\n",
       "       0.  , 0.  , 0.  , 0.  , 0.75, 0.75, 0.75, 0.  , 0.  , 0.  , 0.  ,\n",
       "       0.  , 0.  , 0.  , 0.  , 0.75, 0.75, 0.75, 0.75, 0.75, 0.  , 0.  ,\n",
       "       0.  , 0.75, 0.  , 0.  , 0.  , 0.  , 0.  , 0.  , 0.  , 0.  , 0.  ,\n",
       "       0.  , 0.  , 0.  , 0.  , 0.  , 0.  , 0.  , 0.  , 0.  , 0.  , 0.  ,\n",
       "       0.75, 0.  , 0.75, 0.  , 0.75, 0.  , 0.  , 0.  , 0.  , 0.  , 0.75,\n",
       "       0.  , 0.  , 0.  , 0.  , 0.  , 0.  , 0.  , 0.  , 0.75, 0.75, 0.  ,\n",
       "       0.75, 0.  , 0.  , 0.  , 0.  , 0.  , 0.  , 0.  , 0.75, 0.75])"
      ]
     },
     "execution_count": 395,
     "metadata": {},
     "output_type": "execute_result"
    }
   ],
   "source": [
    "inv_lams_val= (1- lams_val/20)*0.75\n",
    "inv_lams_val = (lams_val<11) *0.75\n",
    "inv_lams_val"
   ]
  },
  {
   "cell_type": "code",
   "execution_count": 406,
   "id": "32f3404d",
   "metadata": {},
   "outputs": [
    {
     "name": "stdout",
     "output_type": "stream",
     "text": [
      "['0.45370', '0.51200', '0.46115', '0.38591', '0.47511', '0.41215', '0.44190', '0.41109', '0.43438', '0.47784', '0.50174']\n"
     ]
    }
   ],
   "source": [
    "mixed_clf = pickle.load(open(\"results_sklearn/config_convex_comb_1/13-Sep-2022-00-50-56/final_model.sav\", 'rb'))\n",
    "i = 1\n",
    "mixed_clf.coef_ = i*t_norm + (1-i)*i_norm\n",
    "mixed_clf.intercept_ = i*text_only_balanced_clf.intercept_/text_only_balanced_clf.intercept_.max() \n",
    "+ (1-i)*image_only_clf_oversampled.intercept_/image_only_clf_oversampled.intercept_.max()\n",
    "preds = mixed_clf.predict(image_embeddings)\n",
    "temp_acc = all_accs_fg(preds, labels.numpy(), fg_indices)\n",
    "all_accs_val.append(temp_acc)"
   ]
  },
  {
   "cell_type": "code",
   "execution_count": 405,
   "id": "e295c1fa",
   "metadata": {},
   "outputs": [
    {
     "name": "stdout",
     "output_type": "stream",
     "text": [
      "['0.54418', '0.33600', '0.50962', '0.50727', '0.54089', '0.53620', '0.56143', '0.54078', '0.53225', '0.55186', '0.56743']\n"
     ]
    }
   ],
   "source": [
    "mixed_clf = pickle.load(open(\"results_sklearn/config_convex_comb_1/13-Sep-2022-00-50-56/final_model.sav\", 'rb'))\n",
    "i = 1\n",
    "mixed_clf.coef_ = i*text_only_balanced_clf.coef_ + (1-i)*image_only_clf_oversampled.coef_\n",
    "mixed_clf.intercept_ = i*text_only_balanced_clf.intercept_\n",
    "+ (1-i)*image_only_clf_oversampled.intercept_\n",
    "preds = mixed_clf.predict(image_embeddings)\n",
    "temp_acc = all_accs_fg(preds, labels.numpy(), fg_indices)\n",
    "all_accs_val.append(temp_acc)"
   ]
  },
  {
   "cell_type": "code",
   "execution_count": 398,
   "id": "22b63a4f",
   "metadata": {},
   "outputs": [],
   "source": [
    "t_norm = text_only_balanced_clf.coef_/text_only_balanced_clf.coef_.max(axis=0)\n",
    "i_norm = image_only_clf_oversampled.coef_/image_only_clf_oversampled.coef_.max(axis=0)"
   ]
  },
  {
   "cell_type": "code",
   "execution_count": 383,
   "id": "a47a17f3",
   "metadata": {},
   "outputs": [
    {
     "data": {
      "text/plain": [
       "492.3570421989682"
      ]
     },
     "execution_count": 383,
     "metadata": {},
     "output_type": "execute_result"
    }
   ],
   "source": [
    "mixed_clf.coef_"
   ]
  },
  {
   "cell_type": "code",
   "execution_count": 384,
   "id": "aa46931a",
   "metadata": {},
   "outputs": [
    {
     "data": {
      "text/plain": [
       "1073.2520928872243"
      ]
     },
     "execution_count": 384,
     "metadata": {},
     "output_type": "execute_result"
    }
   ],
   "source": [
    "np.linalg.norm(image_only_clf_oversampled.coef_)"
   ]
  },
  {
   "cell_type": "code",
   "execution_count": 385,
   "id": "7b81debf",
   "metadata": {},
   "outputs": [
    {
     "data": {
      "text/plain": [
       "94.34817983660311"
      ]
     },
     "execution_count": 385,
     "metadata": {},
     "output_type": "execute_result"
    }
   ],
   "source": [
    "np.linalg.norm(t_norm)"
   ]
  },
  {
   "cell_type": "code",
   "execution_count": 386,
   "id": "0cec38ce",
   "metadata": {},
   "outputs": [
    {
     "data": {
      "text/plain": [
       "108.45128097811237"
      ]
     },
     "execution_count": 386,
     "metadata": {},
     "output_type": "execute_result"
    }
   ],
   "source": [
    "np.linalg.norm(i_norm)"
   ]
  },
  {
   "cell_type": "code",
   "execution_count": 380,
   "id": "37a4b225",
   "metadata": {},
   "outputs": [
    {
     "data": {
      "text/plain": [
       "(1000, 1024)"
      ]
     },
     "execution_count": 380,
     "metadata": {},
     "output_type": "execute_result"
    }
   ],
   "source": [
    "text_only_balanced_clf.coef_.shape"
   ]
  },
  {
   "cell_type": "code",
   "execution_count": 489,
   "id": "1237a9a7",
   "metadata": {},
   "outputs": [],
   "source": [
    "image_only_clf_oversampled = pickle.load(open(\"results_sklearn/config_image_linear_probe_0/c_10/13-Nov-2022-20-07-26/final_model.sav\", 'rb'))"
   ]
  },
  {
   "cell_type": "code",
   "execution_count": 28,
   "id": "85652e62",
   "metadata": {},
   "outputs": [],
   "source": [
    "import torchvision.transforms as T\n",
    "from torchvision.transforms import InterpolationMode\n",
    "\n",
    "BICUBIC = InterpolationMode.BICUBIC\n",
    "rc = T.RandomResizedCrop(size=224, scale=(0.8, 1), interpolation=BICUBIC)\n",
    "rg = T.RandomGrayscale()\n",
    "cj = T.ColorJitter(brightness=0.6, contrast=0.6, saturation=0.6, hue=0)\n",
    "# t4 = T.GaussianBlur(kernel_size=(3, 5), sigma=(0.1, 2))\n",
    "gb = T.GaussianBlur(kernel_size=(5, 5), sigma=(2))\n",
    "# t4 = T.GaussianBlur(kernel_size=(3, 3), sigma=(0.1, 2))"
   ]
  },
  {
   "cell_type": "code",
   "execution_count": 29,
   "id": "12242cbe",
   "metadata": {
    "scrolled": true
   },
   "outputs": [
    {
     "data": {
      "application/vnd.jupyter.widget-view+json": {
       "model_id": "4de68c99ec264304ad0a267d6615a40a",
       "version_major": 2,
       "version_minor": 0
      },
      "text/plain": [
       "  0%|          | 0/50 [00:00<?, ?it/s]"
      ]
     },
     "metadata": {},
     "output_type": "display_data"
    },
    {
     "name": "stdout",
     "output_type": "stream",
     "text": [
      "Found 2 - freq 516\n",
      "2 2 0.9502709503365389 0.05\n",
      "great white shark great white shark\n",
      "Found 2 - freq 516\n",
      "2 2 0.8856829849710576 0.95\n",
      "great white shark great white shark\n",
      "Found 2 - freq 516\n",
      "921 921 0.9423902656332848 0.95\n",
      "dust jacket dust jacket\n",
      "Found 2 - freq 516\n",
      "2 2 0.86227508554837 0.95\n",
      "great white shark great white shark\n",
      "Found 2 - freq 516\n",
      "2 2 0.7802713484927523 0.95\n",
      "great white shark great white shark\n",
      "Found 2 - freq 516\n",
      "148 148 0.9289819907710446 0.95\n",
      "killer whale killer whale\n",
      "Found 2 - freq 516\n",
      "3 3 0.9271258767774206 0.95\n",
      "tiger shark tiger shark\n",
      "Found 2 - freq 516\n",
      "3 3 0.8477640238278562 0.95\n",
      "tiger shark tiger shark\n",
      "Found 2 - freq 516\n",
      "3 3 0.9520554633667632 0.7\n",
      "tiger shark tiger shark\n",
      "Found 2 - freq 516\n",
      "2 3 0.9049691776641001 0.95\n",
      "great white shark tiger shark\n",
      "xxxxxxxx\n",
      "[array([2, 2, 4, 4]), array([2, 2, 4, 4]), array([2, 2, 4, 4]), array([2, 2, 4, 4]), array([2, 2, 4, 4]), array([2, 2, 4, 4]), array([2, 2, 4, 4]), array([2, 2, 4, 4]), array([2, 2, 4, 4]), array([2, 2, 4, 4]), array([2, 2, 4, 4]), array([2, 2, 4, 4]), array([2, 2, 4, 4]), array([2, 2, 4, 4]), array([2, 2, 4, 4]), array([2, 2, 4, 4]), array([  2,   2, 149,   4]), array([  3,   3, 149,   4]), array([  3,   3, 149,   4]), array([  3,   3, 394,   2]), array([  3,   3, 394,   2])]\n",
      "[0.8150793725439595, 0.8231776918882695, 0.8308256942563957, 0.8379385143437847, 0.8444210741723178, 0.8501673529111188, 0.8550602901142496, 0.8589731952869101, 0.8617743577074014, 0.8633379616343851, 0.8635666206346261, 0.8624338075797668, 0.860057347570477, 0.8568155857360943, 0.8535114266798627, 0.8515693760189066, 0.8532007586324215, 0.8613303045704793, 0.8786851644571652, 0.9049691776641001, 0.9330815469568615]\n",
      "Found 2 - freq 516\n",
      "2 2 0.9932393684125637 0.05\n",
      "great white shark great white shark\n",
      "Found 2 - freq 516\n",
      "148 148 0.9483770816812226 0.95\n",
      "killer whale killer whale\n",
      "Found 2 - freq 516\n",
      "2 3 0.8229773133942753 0.95\n",
      "great white shark tiger shark\n",
      "xxxxxxxx\n",
      "[array([  2,   2, 111,   3]), array([  2,   2, 111,   3]), array([  2,   2, 111,   3]), array([  2,   2, 111,   3]), array([  2,   2, 111,   3]), array([  2,   2, 111,   3]), array([  2,   2, 111,   3]), array([  2,   2, 405,   3]), array([  2,   2, 405,   3]), array([  2,   2, 812,   3]), array([  2,   2, 812,   3]), array([  2,   2, 812,   4]), array([  2,   2, 812,   4]), array([  2,   2, 812,   4]), array([  2,   2, 812,   4]), array([  2,   2, 812,   4]), array([  3,   3, 812,   4]), array([  3,   3, 812,   4]), array([  3,   3, 812,   4]), array([  3,   3, 812,   4]), array([  3,   3, 812,   4])]\n",
      "[0.5806948998709159, 0.5873530375928181, 0.5935409144903322, 0.5991588170354593, 0.6041037678818754, 0.6082741278330039, 0.6115771357213218, 0.6139413010352133, 0.6153368785672613, 0.6158097331950477, 0.615537001986136, 0.6149171155066998, 0.6147110475685708, 0.6162522301227406, 0.6217267730439276, 0.634456434288187, 0.6588974240776692, 0.699529124444403, 0.757154749422258, 0.8229773133942753, 0.8788716349161771]\n",
      "Found 2 - freq 516\n",
      "2 2 0.9002171827482934 0.95\n",
      "great white shark great white shark\n",
      "Found 2 - freq 516\n",
      "2 2 0.9914394598994565 0.1\n",
      "great white shark great white shark\n",
      "Found 2 - freq 516\n",
      "4 3 0.9716110308717951 0.95\n",
      "hammerhead shark tiger shark\n",
      "Found 2 - freq 516\n",
      "2 2 0.957088969327387 0.95\n",
      "great white shark great white shark\n",
      "Found 2 - freq 516\n",
      "4 4 0.9584976978522519 0.05\n",
      "hammerhead shark hammerhead shark\n",
      "Found 2 - freq 516\n",
      "3 3 0.975664748343633 0.95\n",
      "tiger shark tiger shark\n",
      "Found 2 - freq 516\n",
      "2 2 0.9220919276104054 0.95\n",
      "great white shark great white shark\n",
      "Found 2 - freq 516\n",
      "394 394 0.837021377979958 0.95\n",
      "sturgeon sturgeon\n",
      "Found 2 - freq 516\n",
      "2 150 0.9512964732715119 0.95\n",
      "great white shark sea lion\n",
      "xxxxxxxx\n",
      "[array([  2,   2, 147, 147]), array([  2,   2, 147, 147]), array([  2,   2, 147, 147]), array([  2,   2, 147, 147]), array([  2,   2, 147, 147]), array([  2,   2, 147, 147]), array([  2,   2, 147, 147]), array([  2,   2, 147, 147]), array([  2,   2, 147, 147]), array([  2,   2, 147, 147]), array([  2,   2, 147, 147]), array([  2,   2, 147, 147]), array([  2,   2, 147, 147]), array([  2,   2, 147, 147]), array([  2,   2, 147, 147]), array([  2,   2, 147, 147]), array([  2,   2, 147, 147]), array([150, 150, 147, 147]), array([150, 150, 147, 147]), array([150, 150, 147, 147]), array([150, 150, 147, 147])]\n",
      "[0.6651899619300544, 0.6780537468224198, 0.69139765611165, 0.7052107629710865, 0.7194743928340245, 0.7341613125246337, 0.7492352510088346, 0.7646509048188177, 0.7803545645522574, 0.7962854352595401, 0.8123775899890319, 0.8285622690253266, 0.8447699093797642, 0.8609309158373343, 0.87697399366388, 0.892821270373583, 0.9083798141299145, 0.9235219797630485, 0.9380118925113082, 0.9512964732715119, 0.9622667431311149]\n",
      "Found 2 - freq 516\n",
      "2 2 0.9838543853572724 0.4\n",
      "great white shark great white shark\n",
      "Found 2 - freq 516\n",
      "2 2 0.7892034932670325 0.95\n",
      "great white shark great white shark\n",
      "Found 2 - freq 516\n",
      "2 2 0.8602449967684752 0.95\n",
      "great white shark great white shark\n",
      "Found 2 - freq 516\n",
      "2 2 0.8150673409590756 0.95\n",
      "great white shark great white shark\n",
      "Found 2 - freq 516\n",
      "2 2 0.9079748690211336 0.95\n",
      "great white shark great white shark\n",
      "Found 2 - freq 516\n",
      "2 2 0.9679590141118259 0.95\n",
      "great white shark great white shark\n",
      "Found 2 - freq 516\n",
      "2 2 0.7618970445425001 0.95\n",
      "great white shark great white shark\n",
      "Found 2 - freq 516\n",
      "2 2 0.90638623625102 0.05\n",
      "great white shark great white shark\n",
      "Found 2 - freq 516\n",
      "2 2 0.8935159467486496 0.95\n",
      "great white shark great white shark\n",
      "Found 2 - freq 516\n",
      "2 2 0.8291034553672452 0.95\n",
      "great white shark great white shark\n",
      "Found 2 - freq 516\n",
      "3 3 0.7626604634865246 0.95\n",
      "tiger shark tiger shark\n",
      "Found 2 - freq 516\n",
      "2 2 0.8700279030322292 0.05\n",
      "great white shark great white shark\n",
      "Found 2 - freq 516\n",
      "148 148 0.9779102204405046 0.95\n",
      "killer whale killer whale\n",
      "Found 2 - freq 516\n",
      "2 2 0.7624720415706508 0.95\n",
      "great white shark great white shark\n",
      "Found 2 - freq 516\n",
      "3 3 0.922345351988016 0.95\n",
      "tiger shark tiger shark\n",
      "Found 2 - freq 516\n",
      "2 2 0.7659572093869224 0.05\n",
      "great white shark great white shark\n",
      "Found 2 - freq 516\n",
      "2 2 0.9870765411450547 0.4\n",
      "great white shark great white shark\n",
      "Found 2 - freq 516\n",
      "2 2 0.9476967267309014 0.95\n",
      "great white shark great white shark\n",
      "Found 2 - freq 516\n",
      "2 2 0.8346454292653839 0.95\n",
      "great white shark great white shark\n",
      "Found 2 - freq 516\n",
      "2 2 0.7778579416546819 0.95\n",
      "great white shark great white shark\n",
      "Found 2 - freq 516\n",
      "4 4 0.9423961143126846 0.95\n",
      "hammerhead shark hammerhead shark\n",
      "Found 2 - freq 516\n",
      "2 2 0.8974825683422848 0.05\n",
      "great white shark great white shark\n",
      "Found 2 - freq 516\n",
      "2 2 0.7878532235329821 0.95\n",
      "great white shark great white shark\n",
      "Found 2 - freq 516\n",
      "2 3 0.85688795013671 0.95\n",
      "great white shark tiger shark\n",
      "xxxxxxxx\n",
      "[array([  2,   2, 103,   2]), array([  2,   2, 103,   2]), array([  2,   2, 103,   2]), array([  2,   2, 103,   2]), array([  2,   2, 103,   2]), array([  2,   2, 103,   2]), array([  2,   2, 103,   2]), array([  2,   2, 103,   2]), array([  2,   2, 103,   2]), array([  2,   2, 103,   2]), array([  2,   2, 103,   2]), array([  2,   2, 103,   2]), array([  2,   2, 103,   2]), array([  2,   2, 103,   2]), array([  2,   2, 103,   2]), array([  2,   2, 103,   2]), array([  2,   2, 103,   2]), array([2, 2, 0, 3]), array([2, 2, 0, 3]), array([3, 3, 0, 3]), array([  3,   3, 684,   3])]\n",
      "[0.7116409414794819, 0.7164461028892618, 0.721204905238494, 0.7258170175042168, 0.7301701960828858, 0.7341495779026954, 0.7376522967467037, 0.7406069854050816, 0.7429963637747193, 0.7448802560440674, 0.7464169772064396, 0.7478835836130647, 0.7496995212032119, 0.7524623170508328, 0.7570059970827295, 0.7644883703596858, 0.7764871381678916, 0.7949864781438764, 0.8218457547928123, 0.85688795013671, 0.8946414700751784]\n",
      "Found 2 - freq 516\n",
      "2 2 0.8680675775632101 0.95\n",
      "great white shark great white shark\n",
      "Found 2 - freq 516\n",
      "2 2 0.8748823944822398 0.95\n",
      "great white shark great white shark\n",
      "Found 2 - freq 516\n",
      "2 2 0.9626557607172771 0.3\n",
      "great white shark great white shark\n",
      "Found 2 - freq 516\n",
      "2 2 0.8751283190447884 0.95\n",
      "great white shark great white shark\n"
     ]
    },
    {
     "ename": "NameError",
     "evalue": "name 'cwa' is not defined",
     "output_type": "error",
     "traceback": [
      "\u001b[0;31m---------------------------------------------------------------------------\u001b[0m",
      "\u001b[0;31mNameError\u001b[0m                                 Traceback (most recent call last)",
      "Input \u001b[0;32mIn [29]\u001b[0m, in \u001b[0;36m<cell line: 83>\u001b[0;34m()\u001b[0m\n\u001b[1;32m     76\u001b[0m                     \u001b[38;5;28mprint\u001b[39m(all_agreements)\n\u001b[1;32m     77\u001b[0m \u001b[38;5;66;03m#             if default_pred != label[k].item():\u001b[39;00m\n\u001b[1;32m     78\u001b[0m \u001b[38;5;66;03m#                 print(\"xxxxxxxx\")\u001b[39;00m\n\u001b[1;32m     79\u001b[0m \u001b[38;5;66;03m#                 print(all_coef_preds)\u001b[39;00m\n\u001b[1;32m     80\u001b[0m \u001b[38;5;66;03m#                 print(np.round(all_coef_pred_probas,6))\u001b[39;00m\n\u001b[0;32m---> 83\u001b[0m \u001b[38;5;28mprint\u001b[39m(\u001b[43mcwa\u001b[49m[l], total_acc[l]\u001b[38;5;241m*\u001b[39m\u001b[38;5;241m2\u001b[39m)\n",
      "\u001b[0;31mNameError\u001b[0m: name 'cwa' is not defined"
     ]
    }
   ],
   "source": [
    "from scipy import spatial\n",
    "\n",
    "l = 2\n",
    "\n",
    "cropped_ims = []\n",
    "cropped_im_labels = []\n",
    "cropped_im_ind_labels = []\n",
    "mixed_clf = pickle.load(open(\"results_sklearn/config_convex_comb_1/13-Sep-2022-00-50-56/final_model.sav\", 'rb'))\n",
    "from scipy import stats\n",
    "\n",
    "total_acc = np.zeros(1000)\n",
    "for im, label, _, path in tqdm(dataset_test):\n",
    "    for k in range(len(im)):\n",
    "        cropped_ims = []\n",
    "        cropped_im_labels = []\n",
    "        if label[k].item() == l:\n",
    "            print(f\"Found {l} - freq {freqs[l]}\")\n",
    "            curr_im = im[k]\n",
    "            cropped_ims.append(curr_im)\n",
    "            cropped_im_labels.append(label[k].item())\n",
    "#             cropped_ims.append(t1(curr_im))\n",
    "#             cropped_im_labels.append(label[k].item())\n",
    "            cropped_ims.append(rg(curr_im))\n",
    "            cropped_im_labels.append(label[k].item())\n",
    "#             cropped_ims.append(t2(curr_im))\n",
    "#             cropped_im_labels.append(label[k].item())\n",
    "            cropped_ims.append(cj(curr_im))\n",
    "            cropped_im_labels.append(label[k].item())\n",
    "#             cropped_ims.append(t4(curr_im))\n",
    "#             cropped_im_labels.append(label[k].item())\n",
    "            cropped_ims.append(gb(curr_im))\n",
    "            cropped_im_labels.append(label[k].item())\n",
    "            cropped_ims = torch.stack(cropped_ims)\n",
    "            with torch.no_grad():\n",
    "                x = visual_model(cropped_ims.half()).float()\n",
    "                x = x / x.norm(dim=-1, keepdim=True)\n",
    "            final_pred = []\n",
    "            best_agreement = 0\n",
    "            default_pred = 0\n",
    "            all_coef_preds = []\n",
    "            all_coef_pred_probas = []\n",
    "            all_agreements = []\n",
    "            best_mixer = 0\n",
    "            for ii in range(0, 21):\n",
    "                i = ii/20.0\n",
    "                mixed_clf.coef_ = i*text_only_balanced_clf.coef_ + (1-i)*image_only_clf_oversampled.coef_\n",
    "                mixed_clf.intercept_ = i*text_only_balanced_clf.intercept_ + (1-i)*image_only_clf_oversampled.intercept_\n",
    "                probas = mixed_clf.predict_proba(x.cpu().detach().numpy())\n",
    "                preds = mixed_clf.predict(x.cpu().detach().numpy())\n",
    "                all_coef_preds.append(preds)\n",
    "                all_coef_pred_probas.append(np.var(probas))\n",
    "                agreement = 0\n",
    "                if i == 0.65:\n",
    "                    default_pred = preds[0]\n",
    "                for n in range(1,len(cropped_im_labels)):\n",
    "                    agreement+= 1 - spatial.distance.cosine(probas[0], probas[n])\n",
    "                agreement /= (len(cropped_im_labels)-1)\n",
    "                all_agreements.append(agreement)\n",
    "                if agreement > best_agreement and ii >0 and ii < 20:\n",
    "                    final_pred = [ii]\n",
    "                    best_agreement = agreement\n",
    "                    best_mixer = i\n",
    "            final_pred = all_coef_preds[final_pred[0]][0]\n",
    "            print(default_pred, final_pred, best_agreement, best_mixer)\n",
    "            print(CLASSES[default_pred], CLASSES[final_pred])\n",
    "            if final_pred == label[k].item():\n",
    "                total_acc[label[k].item()] +=1\n",
    "                if default_pred != label[k].item():\n",
    "                    print(\"*********\")\n",
    "                    print(all_coef_preds)\n",
    "                    print(all_agreements)\n",
    "            elif default_pred == label[k].item():\n",
    "                if final_pred != label[k].item():\n",
    "                    print(\"xxxxxxxx\")\n",
    "                    print(all_coef_preds)\n",
    "                    print(all_agreements)\n",
    "#             if default_pred != label[k].item():\n",
    "#                 print(\"xxxxxxxx\")\n",
    "#                 print(all_coef_preds)\n",
    "#                 print(np.round(all_coef_pred_probas,6))\n",
    "                \n",
    "\n",
    "print(cwa[l], total_acc[l]*2)"
   ]
  },
  {
   "cell_type": "code",
   "execution_count": 130,
   "id": "5648e0ea",
   "metadata": {},
   "outputs": [
    {
     "data": {
      "text/plain": [
       "<module 'data_loader.dataloaders' from '/coc/testnvme/bdevnani3/long_tail_lang/data_loader/dataloaders.py'>"
      ]
     },
     "execution_count": 130,
     "metadata": {},
     "output_type": "execute_result"
    }
   ],
   "source": [
    "# Find augmentations for which entropy of text and image classifiers are similar\n",
    "import importlib\n",
    "from data_loader import dataloaders as dataloader\n",
    "importlib.reload(dataloader)"
   ]
  },
  {
   "cell_type": "code",
   "execution_count": 43,
   "id": "0b7a1a37",
   "metadata": {},
   "outputs": [
    {
     "name": "stdout",
     "output_type": "stream",
     "text": [
      "0.624/0.724/0.608/0.388\n",
      "0.544/0.558/0.542/0.512\n"
     ]
    },
    {
     "data": {
      "text/plain": [
       "[0.54414, 0.5579539641943734, 0.5419450317124735, 0.5120588235294118]"
      ]
     },
     "execution_count": 43,
     "metadata": {},
     "output_type": "execute_result"
    }
   ],
   "source": [
    "# Image Embeddings\n",
    "og_proba = image_only_clf_oversampled.predict_proba(image_embeddings)\n",
    "og_preds = image_only_clf_oversampled.predict(image_embeddings)\n",
    "all_accs_p(og_preds)\n",
    "\n",
    "og_text_proba = text_only_balanced_clf.predict_proba(image_embeddings)\n",
    "og_text_preds = text_only_balanced_clf.predict(image_embeddings)\n",
    "all_accs_p(og_text_preds)"
   ]
  },
  {
   "cell_type": "code",
   "execution_count": 58,
   "id": "5c9ec111",
   "metadata": {},
   "outputs": [],
   "source": [
    "def pw_cosine_sim(a,b):\n",
    "    \"\"\"a and b are the same dimensions\"\"\"\n",
    "    \n",
    "    sim = 0\n",
    "    for i in range(a.shape[0]):\n",
    "        sim+= 1 - spatial.distance.cosine(a[i], b[i])\n",
    "        \n",
    "    sim /= a.shape[0]\n",
    "    return sim"
   ]
  },
  {
   "cell_type": "code",
   "execution_count": 70,
   "id": "d758ca2c",
   "metadata": {},
   "outputs": [],
   "source": [
    "def vis_enc(im):\n",
    "    x = visual_model(im.half()).float()\n",
    "    x = x / x.norm(dim=-1, keepdim=True)\n",
    "    return x"
   ]
  },
  {
   "cell_type": "code",
   "execution_count": null,
   "id": "89ed6740",
   "metadata": {},
   "outputs": [
    {
     "name": "stdout",
     "output_type": "stream",
     "text": [
      "Loading data from /nethome/bdevnani3/flash1/long_tail_lang/data/ImageNet_LT/ImageNet_LT_test.txt\n",
      "Use data transformation: Compose(\n",
      "    Resize(size=224, interpolation=bicubic, max_size=None, antialias=None)\n",
      "    CenterCrop(size=(224, 224))\n",
      "    ToTensor()\n",
      "    Normalize(mean=[0.48145466, 0.4578275, 0.40821073], std=[0.26862954, 0.26130258, 0.27577711])\n",
      ")\n",
      "***********************DATASET: test LT_Dataset_transform_mix\n",
      "test 50000\n",
      "No sampler.\n",
      "Shuffle is True.\n"
     ]
    },
    {
     "data": {
      "application/vnd.jupyter.widget-view+json": {
       "model_id": "275f50fa094541fea89f43137df6deb8",
       "version_major": 2,
       "version_minor": 0
      },
      "text/plain": [
       "  0%|          | 0/50 [00:00<?, ?it/s]"
      ]
     },
     "metadata": {},
     "output_type": "display_data"
    }
   ],
   "source": [
    "d = dataloader.load_data(\n",
    "    data_root=\"./datasets/ImageNet/\",\n",
    "    dataset=\"ImageNet_LT\",\n",
    "    phase=\"test\",\n",
    "    batch_size=1000,\n",
    "    sampler_dic=None,\n",
    "    num_workers=10,\n",
    "    type=\"LT_Dataset_transform_mix\",\n",
    "    prompt_set=\"Imagenet\",\n",
    "#     override_transform = [T.RandomGrayscale(p=0.5)]\n",
    ")\n",
    "\n",
    "dataset_test = d[0]\n",
    "\n",
    "all_og = []\n",
    "all_cj = []\n",
    "all_hf = []\n",
    "all_rc = []\n",
    "all_gb = []\n",
    "all_gs = []\n",
    "ls = []\n",
    "for im_cj, im_hf, im_rc, im_gb, im_gs, im_og, label, _, _ in tqdm(dataset_test):\n",
    "    with torch.no_grad():\n",
    "        all_cj.append(vis_enc(im_cj))\n",
    "        all_hf.append(vis_enc(im_hf))\n",
    "        all_rc.append(vis_enc(im_rc))\n",
    "        all_gb.append(vis_enc(im_gb))\n",
    "        all_gs.append(vis_enc(im_gs))\n",
    "        all_og.append(vis_enc(im_og))\n",
    "        ls.append(label)\n",
    "        \n",
    "all_cj = torch.cat(all_cj,0).cpu().numpy()\n",
    "all_hf = torch.cat(all_hf,0).cpu().numpy()\n",
    "all_rc = torch.cat(all_rc,0).cpu().numpy()\n",
    "all_gb = torch.cat(all_gb,0).cpu().numpy()\n",
    "all_gs = torch.cat(all_gs,0).cpu().numpy()\n",
    "all_og = torch.cat(all_og,0).cpu().numpy()\n",
    "ls = torch.cat(ls,0).cpu().numpy()\n",
    "\n",
    "print(all_cj.shape, ls.shape)"
   ]
  },
  {
   "cell_type": "code",
   "execution_count": null,
   "id": "8d0e23e8",
   "metadata": {},
   "outputs": [],
   "source": [
    "preds = image_only_clf_oversampled.predict(all_cj)\n",
    "print(np.sum(preds == ls)/500)\n",
    "\n",
    "preds = image_only_clf_oversampled.predict(all_hf)\n",
    "print(np.sum(preds == ls)/500)\n",
    "\n",
    "preds = image_only_clf_oversampled.predict(all_rc)\n",
    "print(np.sum(preds == ls)/500)\n",
    "\n",
    "preds = image_only_clf_oversampled.predict(all_gb)\n",
    "print(np.sum(preds == ls)/500)\n",
    "\n",
    "preds = image_only_clf_oversampled.predict(all_gs)\n",
    "print(np.sum(preds == ls)/500)\n",
    "\n",
    "preds = image_only_clf_oversampled.predict(all_og)\n",
    "print(np.sum(preds == ls)/500)"
   ]
  },
  {
   "cell_type": "code",
   "execution_count": null,
   "id": "b340a642",
   "metadata": {},
   "outputs": [],
   "source": [
    "preds = text_only_balanced_clf.predict(all_cj)\n",
    "print(np.sum(preds == ls)/500)\n",
    "\n",
    "preds = text_only_balanced_clf.predict(all_hf)\n",
    "print(np.sum(preds == ls)/500)\n",
    "\n",
    "preds = text_only_balanced_clf.predict(all_rc)\n",
    "print(np.sum(preds == ls)/500)\n",
    "\n",
    "preds = text_only_balanced_clf.predict(all_gb)\n",
    "print(np.sum(preds == ls)/500)\n",
    "\n",
    "preds = text_only_balanced_clf.predict(all_gs)\n",
    "print(np.sum(preds == ls)/500)\n",
    "\n",
    "preds = text_only_balanced_clf.predict(all_og)\n",
    "print(np.sum(preds == ls)/500)"
   ]
  },
  {
   "cell_type": "code",
   "execution_count": 133,
   "id": "6246cebc",
   "metadata": {
    "scrolled": true
   },
   "outputs": [
    {
     "ename": "IndexError",
     "evalue": "list index out of range",
     "output_type": "error",
     "traceback": [
      "\u001b[0;31m---------------------------------------------------------------------------\u001b[0m",
      "\u001b[0;31mIndexError\u001b[0m                                Traceback (most recent call last)",
      "Input \u001b[0;32mIn [133]\u001b[0m, in \u001b[0;36m<cell line: 11>\u001b[0;34m()\u001b[0m\n\u001b[1;32m     10\u001b[0m def_acc \u001b[38;5;241m=\u001b[39m np\u001b[38;5;241m.\u001b[39mzeros(\u001b[38;5;241m1000\u001b[39m)\n\u001b[1;32m     11\u001b[0m \u001b[38;5;28;01mfor\u001b[39;00m z \u001b[38;5;129;01min\u001b[39;00m \u001b[38;5;28mrange\u001b[39m(\u001b[38;5;241m50000\u001b[39m):\n\u001b[0;32m---> 12\u001b[0m     \u001b[38;5;28;01mif\u001b[39;00m \u001b[43mls\u001b[49m\u001b[43m[\u001b[49m\u001b[43mz\u001b[49m\u001b[43m]\u001b[49m \u001b[38;5;241m==\u001b[39m l:\n\u001b[1;32m     13\u001b[0m         final_pred \u001b[38;5;241m=\u001b[39m []\n\u001b[1;32m     14\u001b[0m         best_agreement \u001b[38;5;241m=\u001b[39m \u001b[38;5;241m0\u001b[39m\n",
      "\u001b[0;31mIndexError\u001b[0m: list index out of range"
     ]
    }
   ],
   "source": [
    "from scipy import spatial\n",
    "\n",
    "l = 1\n",
    "\n",
    "mixed_clf = pickle.load(open(\"results_sklearn/config_convex_comb_1/13-Sep-2022-00-50-56/final_model.sav\", 'rb'))\n",
    "from scipy import stats\n",
    "\n",
    "total_acc = np.zeros(1000)\n",
    "best_acc = np.zeros(1000)\n",
    "def_acc = np.zeros(1000)\n",
    "for z in range(50000):\n",
    "    if ls[z] == l:\n",
    "        final_pred = []\n",
    "        best_agreement = 0\n",
    "        default_pred = 0\n",
    "        all_coef_preds = []\n",
    "        all_coef_pred_probas = []\n",
    "        all_agreements = []\n",
    "        best_mixer = 0\n",
    "        x = np.vstack([all_og[z], all_cj[z], all_hf[z], all_rc[z], all_gb[z], all_gs[z]])\n",
    "        best_acc_temp = 0\n",
    "        for ii in range(0, 21):\n",
    "            i = ii/20.0\n",
    "            mixed_clf.coef_ = i*text_only_balanced_clf.coef_ + (1-i)*image_only_clf_oversampled.coef_\n",
    "            mixed_clf.intercept_ = i*text_only_balanced_clf.intercept_ + (1-i)*image_only_clf_oversampled.intercept_\n",
    "            probas = mixed_clf.predict_proba(x)\n",
    "            preds = mixed_clf.predict(x)\n",
    "            all_coef_preds.append(preds)\n",
    "            all_coef_pred_probas.append(probas)\n",
    "            agreement = 0\n",
    "            if i == 0.65:\n",
    "                default_pred = preds[0]\n",
    "#             for n in range(1,probas.shape[0]):\n",
    "#                 agreement+= 1 - spatial.distance.cosine(probas[0], probas[n])\n",
    "            agreement+= 1 - spatial.distance.cosine(probas[1], probas[2])\n",
    "            agreement /= (probas.shape[0]-1)\n",
    "            all_agreements.append(agreement)\n",
    "            if agreement > best_agreement and ii < 20:\n",
    "                final_pred = [ii]\n",
    "                best_agreement = agreement\n",
    "                best_mixer = i\n",
    "            if preds[0] == ls[z]:\n",
    "                best_acc_temp = 1\n",
    "        final_pred = all_coef_preds[final_pred[0]][0]\n",
    "        print(default_pred, final_pred, best_agreement, best_mixer)\n",
    "        print(CLASSES[default_pred], CLASSES[final_pred])\n",
    "        best_acc[ls[z]] += best_acc_temp\n",
    "        \n",
    "        if final_pred == ls[z]:\n",
    "            total_acc[ls[z]] +=1\n",
    "            if default_pred != ls[z]:\n",
    "                print(\"*********\")\n",
    "                print(all_coef_preds)\n",
    "                print(all_agreements)\n",
    "                \n",
    "        if default_pred == ls[z]:\n",
    "            def_acc[ls[z]] +=1\n",
    "            if final_pred != ls[z]:\n",
    "                print(\"xxxxxxxx\")\n",
    "                print(all_coef_preds)\n",
    "                print(all_agreements)\n",
    "\n",
    "\n",
    "print(best_acc[l]*2, def_acc[l]*2, total_acc[l]*2)"
   ]
  },
  {
   "cell_type": "code",
   "execution_count": 7,
   "id": "b80545a3",
   "metadata": {},
   "outputs": [],
   "source": [
    "from classes import CLASSES, GENERIC_PROMPT_COLLECTIONS\n",
    "import json\n",
    "cupl = json.load(open(\"data_loader/cupl_image_prompts.json\"))"
   ]
  },
  {
   "cell_type": "code",
   "execution_count": 17,
   "id": "143cb5aa",
   "metadata": {},
   "outputs": [],
   "source": [
    "all_prompts = {}\n",
    "for i in range(1000):\n",
    "    label = CLASSES[i]\n",
    "    all_prompts[i] = []\n",
    "    temp = cupl[label]\n",
    "    temp = [x[:77] for x in temp]\n",
    "    all_prompts[i].extend(temp)\n",
    "    all_prompts[i].extend([t.format(label) for t in GENERIC_PROMPT_COLLECTIONS[\"ImageNet\"]])"
   ]
  },
  {
   "cell_type": "code",
   "execution_count": null,
   "id": "4fdc508f",
   "metadata": {},
   "outputs": [],
   "source": []
  },
  {
   "cell_type": "code",
   "execution_count": 19,
   "id": "26b7af8d",
   "metadata": {},
   "outputs": [],
   "source": [
    "json.dump(all_prompts, open(\"data_loader/clip_cupl.json\", \"w\"))"
   ]
  },
  {
   "cell_type": "code",
   "execution_count": null,
   "id": "cfe4c4f3",
   "metadata": {},
   "outputs": [],
   "source": []
  }
 ],
 "metadata": {
  "kernelspec": {
   "display_name": "Python 3 (ipykernel)",
   "language": "python",
   "name": "python3"
  },
  "language_info": {
   "codemirror_mode": {
    "name": "ipython",
    "version": 3
   },
   "file_extension": ".py",
   "mimetype": "text/x-python",
   "name": "python",
   "nbconvert_exporter": "python",
   "pygments_lexer": "ipython3",
   "version": "3.9.12"
  }
 },
 "nbformat": 4,
 "nbformat_minor": 5
}
